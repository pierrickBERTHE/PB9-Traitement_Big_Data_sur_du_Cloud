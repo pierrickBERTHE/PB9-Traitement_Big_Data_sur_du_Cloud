{
  "cells": [
    {
      "cell_type": "markdown",
      "metadata": {
        "colab_type": "text",
        "id": "view-in-github"
      },
      "source": [
        "<a href=\"https://colab.research.google.com/github/pierrickBERTHE/Projet9_OCR_DataScientist/blob/main/Berthe_Pierrick_1_notebook_052024.ipynb\" target=\"_parent\"><img src=\"https://colab.research.google.com/assets/colab-badge.svg\" alt=\"Open In Colab\"/></a>"
      ]
    },
    {
      "cell_type": "markdown",
      "metadata": {
        "id": "AOMEXQFnOwa3"
      },
      "source": [
        "# <span style='color:SteelBlue'>P9 - Réalisez un traitement dans un environnement Big Data sur le Cloud</span>"
      ]
    },
    {
      "cell_type": "markdown",
      "metadata": {
        "id": "cVW_0XjDOwa6"
      },
      "source": [
        "![Logo Fruits]()"
      ]
    },
    {
      "cell_type": "markdown",
      "metadata": {
        "id": "_iPc7Q41Owa9"
      },
      "source": [
        "# <span style='background:red; color:black'>MAJ à faire</span>\n",
        "\n",
        "# <span style='background:white; color:black'>Sommaire</span>\n",
        "\n",
        "Importations des librairies<br>\n",
        "\n",
        "Paramètres d'affichage<br>\n",
        "\n",
        "Fonctions <br>\n",
        "\n",
        "**Etape 1 : Importation des données**\n",
        "\n",
        "Conclusion"
      ]
    },
    {
      "cell_type": "markdown",
      "metadata": {
        "id": "qnauLiJiOwa_"
      },
      "source": [
        "# <span style='background:blue'>Introduction</span>\n",
        "\n",
        "L'entreprise \"Fruits!\" est une jeune entreprise qui a la volonté de préserver la biodiversité des fruits en permettant des traitements spécifiques pour chaque espèce de fruit en développant des robots cueilleurs intelligents.\n",
        "\n",
        "Pour cela, l'entreprise souhaite se faire connaitre en mettant à disposition du grand public une application mobile qui permettrait aux utilisateurs de prendre en photo un fruit et d'obtenir des informations sur ce fruit. Le developpement de cette application nécessite un traitement Big Data pour la reconnaissance d'image.\n",
        "___\n",
        "**Missions**\n",
        "\n",
        "1/ Expliquer pas-à-pas le script PySpark implémenté avec :\n",
        "- Un traitement de diffusion des poids du modèle Tensorflow sur les clusters (broadcast des « weights » du modèle)\n",
        "\n",
        "- Une étape d’une réduction de dimension de type ACP en PySpark\n",
        "\n",
        "2/ Faire une démonstration de la mise en place d’une instance EMR opérationnelle.\n",
        "\n",
        "3/ Démontrer le respect des contraintes RGPD (serveurs situés sur le territoire européen).\n",
        "\n",
        "4/ Donner mon retour critique sur cette solution (utile avant de la généraliser).\n",
        "___\n",
        "\n",
        "**Source des datasets**<br>\n",
        "Ce jeux de données comporte des images de fruits pour train et test un modèle de reconnaissance d'image.\n",
        "\n",
        "Nombre d'images : 90_483<br>\n",
        "Nombre de classes : 131<br>\n",
        "Taille des images : 100x100 pixels<br>\n",
        "\n",
        "3 dossiers :\n",
        "- Training (67_692 images)\n",
        "- Test (22_688 images)\n",
        "- test-multiple_fruits\n",
        "\n",
        "\n",
        "Source : [Fruits-360 dataset](https://www.kaggle.com/datasets/moltean/fruits) sur Kaggle.com<br>"
      ]
    },
    {
      "cell_type": "markdown",
      "metadata": {
        "id": "2Q9tTc_QOwbA"
      },
      "source": [
        "# <span style='background:grey'>Importations des librairies</span>"
      ]
    },
    {
      "cell_type": "markdown",
      "metadata": {
        "id": "mlqcu7RKOwbC"
      },
      "source": [
        "Liste des imports généraux :"
      ]
    },
    {
      "cell_type": "code",
      "execution_count": 96,
      "metadata": {
        "colab": {
          "base_uri": "https://localhost:8080/"
        },
        "id": "_F_r51L-OwbD",
        "outputId": "f089726f-42d4-45a7-f22b-2e838069f2fc"
      },
      "outputs": [
        {
          "name": "stdout",
          "output_type": "stream",
          "text": [
            "Requirement already satisfied: Pandas in /usr/local/lib/python3.10/dist-packages (2.0.3)\n",
            "Requirement already satisfied: pillow in /usr/local/lib/python3.10/dist-packages (9.4.0)\n",
            "Requirement already satisfied: tensorflow in /usr/local/lib/python3.10/dist-packages (2.15.0)\n",
            "Requirement already satisfied: pyspark in /usr/local/lib/python3.10/dist-packages (3.5.1)\n",
            "Requirement already satisfied: pyarrow in /usr/local/lib/python3.10/dist-packages (14.0.2)\n",
            "Requirement already satisfied: python-dateutil>=2.8.2 in /usr/local/lib/python3.10/dist-packages (from Pandas) (2.8.2)\n",
            "Requirement already satisfied: pytz>=2020.1 in /usr/local/lib/python3.10/dist-packages (from Pandas) (2023.4)\n",
            "Requirement already satisfied: tzdata>=2022.1 in /usr/local/lib/python3.10/dist-packages (from Pandas) (2024.1)\n",
            "Requirement already satisfied: numpy>=1.21.0 in /usr/local/lib/python3.10/dist-packages (from Pandas) (1.25.2)\n",
            "Requirement already satisfied: absl-py>=1.0.0 in /usr/local/lib/python3.10/dist-packages (from tensorflow) (1.4.0)\n",
            "Requirement already satisfied: astunparse>=1.6.0 in /usr/local/lib/python3.10/dist-packages (from tensorflow) (1.6.3)\n",
            "Requirement already satisfied: flatbuffers>=23.5.26 in /usr/local/lib/python3.10/dist-packages (from tensorflow) (24.3.25)\n",
            "Requirement already satisfied: gast!=0.5.0,!=0.5.1,!=0.5.2,>=0.2.1 in /usr/local/lib/python3.10/dist-packages (from tensorflow) (0.5.4)\n",
            "Requirement already satisfied: google-pasta>=0.1.1 in /usr/local/lib/python3.10/dist-packages (from tensorflow) (0.2.0)\n",
            "Requirement already satisfied: h5py>=2.9.0 in /usr/local/lib/python3.10/dist-packages (from tensorflow) (3.9.0)\n",
            "Requirement already satisfied: libclang>=13.0.0 in /usr/local/lib/python3.10/dist-packages (from tensorflow) (18.1.1)\n",
            "Requirement already satisfied: ml-dtypes~=0.2.0 in /usr/local/lib/python3.10/dist-packages (from tensorflow) (0.2.0)\n",
            "Requirement already satisfied: opt-einsum>=2.3.2 in /usr/local/lib/python3.10/dist-packages (from tensorflow) (3.3.0)\n",
            "Requirement already satisfied: packaging in /usr/local/lib/python3.10/dist-packages (from tensorflow) (24.0)\n",
            "Requirement already satisfied: protobuf!=4.21.0,!=4.21.1,!=4.21.2,!=4.21.3,!=4.21.4,!=4.21.5,<5.0.0dev,>=3.20.3 in /usr/local/lib/python3.10/dist-packages (from tensorflow) (3.20.3)\n",
            "Requirement already satisfied: setuptools in /usr/local/lib/python3.10/dist-packages (from tensorflow) (67.7.2)\n",
            "Requirement already satisfied: six>=1.12.0 in /usr/local/lib/python3.10/dist-packages (from tensorflow) (1.16.0)\n",
            "Requirement already satisfied: termcolor>=1.1.0 in /usr/local/lib/python3.10/dist-packages (from tensorflow) (2.4.0)\n",
            "Requirement already satisfied: typing-extensions>=3.6.6 in /usr/local/lib/python3.10/dist-packages (from tensorflow) (4.11.0)\n",
            "Requirement already satisfied: wrapt<1.15,>=1.11.0 in /usr/local/lib/python3.10/dist-packages (from tensorflow) (1.14.1)\n",
            "Requirement already satisfied: tensorflow-io-gcs-filesystem>=0.23.1 in /usr/local/lib/python3.10/dist-packages (from tensorflow) (0.37.0)\n",
            "Requirement already satisfied: grpcio<2.0,>=1.24.3 in /usr/local/lib/python3.10/dist-packages (from tensorflow) (1.64.0)\n",
            "Requirement already satisfied: tensorboard<2.16,>=2.15 in /usr/local/lib/python3.10/dist-packages (from tensorflow) (2.15.2)\n",
            "Requirement already satisfied: tensorflow-estimator<2.16,>=2.15.0 in /usr/local/lib/python3.10/dist-packages (from tensorflow) (2.15.0)\n",
            "Requirement already satisfied: keras<2.16,>=2.15.0 in /usr/local/lib/python3.10/dist-packages (from tensorflow) (2.15.0)\n",
            "Requirement already satisfied: py4j==0.10.9.7 in /usr/local/lib/python3.10/dist-packages (from pyspark) (0.10.9.7)\n",
            "Requirement already satisfied: wheel<1.0,>=0.23.0 in /usr/local/lib/python3.10/dist-packages (from astunparse>=1.6.0->tensorflow) (0.43.0)\n",
            "Requirement already satisfied: google-auth<3,>=1.6.3 in /usr/local/lib/python3.10/dist-packages (from tensorboard<2.16,>=2.15->tensorflow) (2.27.0)\n",
            "Requirement already satisfied: google-auth-oauthlib<2,>=0.5 in /usr/local/lib/python3.10/dist-packages (from tensorboard<2.16,>=2.15->tensorflow) (1.2.0)\n",
            "Requirement already satisfied: markdown>=2.6.8 in /usr/local/lib/python3.10/dist-packages (from tensorboard<2.16,>=2.15->tensorflow) (3.6)\n",
            "Requirement already satisfied: requests<3,>=2.21.0 in /usr/local/lib/python3.10/dist-packages (from tensorboard<2.16,>=2.15->tensorflow) (2.31.0)\n",
            "Requirement already satisfied: tensorboard-data-server<0.8.0,>=0.7.0 in /usr/local/lib/python3.10/dist-packages (from tensorboard<2.16,>=2.15->tensorflow) (0.7.2)\n",
            "Requirement already satisfied: werkzeug>=1.0.1 in /usr/local/lib/python3.10/dist-packages (from tensorboard<2.16,>=2.15->tensorflow) (3.0.3)\n",
            "Requirement already satisfied: cachetools<6.0,>=2.0.0 in /usr/local/lib/python3.10/dist-packages (from google-auth<3,>=1.6.3->tensorboard<2.16,>=2.15->tensorflow) (5.3.3)\n",
            "Requirement already satisfied: pyasn1-modules>=0.2.1 in /usr/local/lib/python3.10/dist-packages (from google-auth<3,>=1.6.3->tensorboard<2.16,>=2.15->tensorflow) (0.4.0)\n",
            "Requirement already satisfied: rsa<5,>=3.1.4 in /usr/local/lib/python3.10/dist-packages (from google-auth<3,>=1.6.3->tensorboard<2.16,>=2.15->tensorflow) (4.9)\n",
            "Requirement already satisfied: requests-oauthlib>=0.7.0 in /usr/local/lib/python3.10/dist-packages (from google-auth-oauthlib<2,>=0.5->tensorboard<2.16,>=2.15->tensorflow) (1.3.1)\n",
            "Requirement already satisfied: charset-normalizer<4,>=2 in /usr/local/lib/python3.10/dist-packages (from requests<3,>=2.21.0->tensorboard<2.16,>=2.15->tensorflow) (3.3.2)\n",
            "Requirement already satisfied: idna<4,>=2.5 in /usr/local/lib/python3.10/dist-packages (from requests<3,>=2.21.0->tensorboard<2.16,>=2.15->tensorflow) (3.7)\n",
            "Requirement already satisfied: urllib3<3,>=1.21.1 in /usr/local/lib/python3.10/dist-packages (from requests<3,>=2.21.0->tensorboard<2.16,>=2.15->tensorflow) (2.0.7)\n",
            "Requirement already satisfied: certifi>=2017.4.17 in /usr/local/lib/python3.10/dist-packages (from requests<3,>=2.21.0->tensorboard<2.16,>=2.15->tensorflow) (2024.2.2)\n",
            "Requirement already satisfied: MarkupSafe>=2.1.1 in /usr/local/lib/python3.10/dist-packages (from werkzeug>=1.0.1->tensorboard<2.16,>=2.15->tensorflow) (2.1.5)\n",
            "Requirement already satisfied: pyasn1<0.7.0,>=0.4.6 in /usr/local/lib/python3.10/dist-packages (from pyasn1-modules>=0.2.1->google-auth<3,>=1.6.3->tensorboard<2.16,>=2.15->tensorflow) (0.6.0)\n",
            "Requirement already satisfied: oauthlib>=3.0.0 in /usr/local/lib/python3.10/dist-packages (from requests-oauthlib>=0.7.0->google-auth-oauthlib<2,>=0.5->tensorboard<2.16,>=2.15->tensorflow) (3.2.2)\n"
          ]
        }
      ],
      "source": [
        "!pip install Pandas pillow tensorflow pyspark pyarrow pyngrok"
      ]
    },
    {
      "cell_type": "code",
      "execution_count": 98,
      "metadata": {
        "colab": {
          "base_uri": "https://localhost:8080/"
        },
        "id": "-t6pB3_qOwbF",
        "outputId": "ac349be4-215c-42a7-e7b8-a131c5474d18"
      },
      "outputs": [
        {
          "name": "stdout",
          "output_type": "stream",
          "text": [
            "Drive already mounted at /content/drive; to attempt to forcibly remount, call drive.mount(\"/content/drive\", force_remount=True).\n",
            "\n",
            "Connecté à Google Drive\n",
            "\n",
            "Interpréteur python :\n",
            "Python        : 3.10.12 (main, Nov 20 2023, 15:14:05) [GCC 11.4.0]\n",
            "\n",
            "Version des librairies utilisées :\n",
            "Pyngrok       : 7.1.6\n",
            "NumPy         : 1.25.2\n",
            "Pandas        : 2.0.3\n",
            "Pillow (Image): 9.4.0\n",
            "Tensorflow    : 2.15.0\n",
            "PySpark       : 3.5.1\n",
            "\n",
            "Code lance le : 2024-05-24T13:48:00.171886\n"
          ]
        }
      ],
      "source": [
        "# Librairies generales\n",
        "import os\n",
        "import os.path\n",
        "import sys\n",
        "import time\n",
        "from datetime import datetime\n",
        "\n",
        "# Librairies data science\n",
        "import pandas as pd\n",
        "from PIL import Image\n",
        "import numpy as np\n",
        "import io\n",
        "import matplotlib as mpl\n",
        "import matplotlib.pyplot as plt\n",
        "\n",
        "# Librairies TensorFlow\n",
        "import tensorflow as tf\n",
        "from tensorflow.keras.applications.mobilenet_v2 import MobileNetV2, preprocess_input\n",
        "from tensorflow.keras.preprocessing.image import img_to_array\n",
        "from tensorflow.keras import Model\n",
        "\n",
        "# Librairies Spark\n",
        "from pyspark import SparkConf\n",
        "from pyspark.sql.functions import col, pandas_udf, PandasUDFType, element_at, split\n",
        "from pyspark.sql import SparkSession\n",
        "from pyspark.ml.feature import PCA\n",
        "from pyspark.sql.functions import udf\n",
        "from pyspark.ml.linalg import Vectors, VectorUDT\n",
        "\n",
        "# Pour Google Colab\n",
        "from google.colab import drive\n",
        "drive.mount('/content/drive')\n",
        "print(\"\\nConnecté à Google Drive\\n\")\n",
        "\n",
        "# pyngrok pour SparkUI\n",
        "import getpass\n",
        "import pyngrok\n",
        "from pyngrok import ngrok, conf\n",
        "\n",
        "# Versions\n",
        "print(\"Interpréteur python :\")\n",
        "print(\"Python        : \" + sys.version + \"\\n\")\n",
        "\n",
        "print(\"Version des librairies utilisées :\")\n",
        "print(\"Pyngrok       : \" + pyngrok.__version__)\n",
        "print(\"Matplotlib    : \" + mpl.__version__)\n",
        "print(\"NumPy         : \" + np.__version__)\n",
        "print(\"Pandas        : \" + pd.__version__)\n",
        "print(\"Pillow (Image): \" + Image.__version__)\n",
        "print(\"Tensorflow    : \" + tf.__version__)\n",
        "print(\"PySpark       : \" + SparkSession.builder.getOrCreate().version)\n",
        "\n",
        "# Afficher heure lancement\n",
        "maintenant = datetime.now().isoformat()\n",
        "print(\"\\nCode lance le : \" + maintenant)\n",
        "\n",
        "# Enregistrer l'heure de debut\n",
        "start_time = time.time()"
      ]
    },
    {
      "cell_type": "markdown",
      "metadata": {
        "id": "-8Np99AmOwbH"
      },
      "source": [
        "# <span style='background:red'>supprimer si Colab validé jusqu'au bout</span>\n",
        "\n",
        "\n",
        "J'ai également copié le fichier \"hadoop.dll\" dans le dossier \"*C:\\Windows\\System32*\" pour éviter une erreur lors de l'importation des données. Ce fichier est issue du git de winutils : [git winutils/hadoop-3.4.0-win10-x64/bin](https://github.com/kontext-tech/winutils/tree/master/hadoop-3.4.0-win10-x64/bin)\n",
        "\n",
        "Il faut ensuite définir la variable d'environnement \"HADOOP_HOME\" qui pointe vers le dossier contenant le fichier \"hadoop.dll\"."
      ]
    },
    {
      "cell_type": "code",
      "execution_count": 99,
      "metadata": {
        "id": "CRwRONMqOwbJ"
      },
      "outputs": [],
      "source": [
        "# os.environ['PYSPARK_PYTHON'] = sys.executable\n",
        "# os.environ['HADOOP_HOME'] = \"C:\\\\Program Files\\\\Hadoop\\\\\""
      ]
    },
    {
      "cell_type": "markdown",
      "metadata": {
        "id": "sv_-v1cTOwbJ"
      },
      "source": [
        "# <span style='background:grey'>Paramètres Spark UI</span>\n",
        "\n",
        "Pour pouvoir visualiser l'interface utilisateur de Spark, il faut définir les paramètres de ngrok."
      ]
    },
    {
      "cell_type": "code",
      "execution_count": 100,
      "metadata": {
        "id": "G3x9eZW9OwbJ"
      },
      "outputs": [],
      "source": [
        "get_ipython().system_raw('./ngrok http 4040 &')"
      ]
    },
    {
      "cell_type": "markdown",
      "metadata": {
        "id": "EPVEsZuqOwbK"
      },
      "source": [
        "# <span style='background:grey'>Fonctions</span>\n"
      ]
    },
    {
      "cell_type": "code",
      "execution_count": 101,
      "metadata": {
        "id": "qB5vTv0NOwbK"
      },
      "outputs": [],
      "source": [
        "def calculer_duree_notebook(start_time):\n",
        "    \"\"\"\n",
        "    Cette procédure calcule et affiche la durée d'éxécution du notebook.\n",
        "\n",
        "    Args:\n",
        "        start_time (float): Le temps de début en secondes depuis l'époque.\n",
        "\n",
        "    Returns:\n",
        "        None\n",
        "    \"\"\"\n",
        "    # Calculer la durée totale et convertir en minutes et secondes\n",
        "    minutes, seconds = divmod(time.time() - start_time, 60)\n",
        "\n",
        "    # Afficher la durée totale\n",
        "    print(f\"Durée execution notebook : {int(minutes)} min {int(seconds)} sec\")"
      ]
    },
    {
      "cell_type": "code",
      "execution_count": null,
      "metadata": {},
      "outputs": [],
      "source": [
        "def calculer_variance_expliquee(model_fitted, nbr_composante):\n",
        "    \"\"\"\n",
        "    Cette fonction calcule la variance totale et la variance cumulative\n",
        "    expliquée par chaque composante principale.\n",
        "    Elle imprime la variance expliquée pour chaque multiple de 50 composantes.\n",
        "\n",
        "    :param model_fitted: Le modèle PCA ajusté.\n",
        "    :param nbr_composante: Le nombre total de composantes principales.\n",
        "    :return: Une liste de tuples, où chaque tuple contient le nombre de\n",
        "    composantes et la variance cumulative expliquée.\n",
        "    \"\"\"\n",
        "    # Calculer la variance totale\n",
        "    total_variance = sum(model_fitted.explainedVariance)\n",
        "    print(\"Variance Totale: \", total_variance)\n",
        "\n",
        "    # Calculer la somme cumulative des variances expliquées\n",
        "    cumulative_variance = np.cumsum(model_fitted.explainedVariance)\n",
        "\n",
        "    # Créer table de la variance expliquée pour chaque ensemble de composantes\n",
        "    explained_variance_table = []\n",
        "    for i in range(0, nbr_composante, 1):\n",
        "        explained_variance = cumulative_variance[i] / total_variance\n",
        "        explained_variance_table.append((i, explained_variance))\n",
        "\n",
        "        # print que les multiples de 50\n",
        "        if i % 50 == 0:\n",
        "            print(\n",
        "                f\"Variance expliquée avec {i} composantes: {explained_variance}\"\n",
        "            )\n",
        "\n",
        "    return explained_variance_table"
      ]
    },
    {
      "cell_type": "markdown",
      "metadata": {
        "id": "jq4Nx_F_OwbL"
      },
      "source": [
        "# <span style='background:blue'>Etape 1 : Déploiement de la solution en local</span>\n",
        "\n",
        "## <span style='background:green'>1/Importation des données</span>\n",
        "\n",
        "### <span style='background:black'>a/Images</span>\n",
        "\n",
        "Echantillon de 3 type de pommes (1_400 images)"
      ]
    },
    {
      "cell_type": "code",
      "execution_count": 102,
      "metadata": {
        "colab": {
          "base_uri": "https://localhost:8080/"
        },
        "id": "Z_nKQLelOwbL",
        "outputId": "cf7b7948-9ca2-4a01-b725-918b034d0553"
      },
      "outputs": [
        {
          "name": "stdout",
          "output_type": "stream",
          "text": [
            "Current directory avant chdir : /content/drive/My Drive/Colab Notebooks/P9\n",
            "Execution in Google Colab :  True \n",
            "\n",
            "Current directory apres chdir : /content/drive/MyDrive/Colab Notebooks/P9\n",
            "PATH:        /content/drive/MyDrive/Colab Notebooks/P9\n",
            "PATH_Data:   /content/drive/MyDrive/Colab Notebooks/P9/data/source/dataset_sample\n",
            "PATH_Result_features: /content/drive/MyDrive/Colab Notebooks/P9/results/features_parquet\n",
            "PATH_Result_pca_parquet: /content/drive/MyDrive/Colab Notebooks/P9/results/pca_parquet\n",
            "PATH_Result_pca_csv: /content/drive/MyDrive/Colab Notebooks/P9/results/pca_csv\n"
          ]
        }
      ],
      "source": [
        "# Afficher le répertoire de travail actuel\n",
        "print(\"Current directory avant chdir :\", os.getcwd())\n",
        "\n",
        "# Vérifier si le code est exécuté dans Google Colab\n",
        "is_google_colab = 'COLAB_GPU' in os.environ\n",
        "print(\"Execution in Google Colab : \", is_google_colab, \"\\n\")\n",
        "\n",
        "# Definir le chemin d'import des fichiers sur Google Colab ou PC local\n",
        "if is_google_colab:\n",
        "\n",
        "    # Changer le répertoire courant\n",
        "    PATH = \"/content/drive/MyDrive/Colab Notebooks/P9\"\n",
        "    os.chdir(PATH)\n",
        "    print(\"Current directory apres chdir :\", os.getcwd())\n",
        "\n",
        "else:\n",
        "\n",
        "    # Conserver repertoire PC local\n",
        "    PATH = \".\"\n",
        "    print(\"Current directory ne doit pas avoir changé :\", os.getcwd(), '\\n')\n",
        "\n",
        "# Création des noms des répertoires\n",
        "PATH_Data = PATH + '/data/source/dataset_sample'\n",
        "PATH_Result_features = PATH + '/results/features_parquet'\n",
        "PATH_Result_pca_parquet = PATH + '/results/pca_parquet'\n",
        "PATH_Result_pca_csv = PATH + '/results/pca_csv'\n",
        "\n",
        "# Liste des répertoires\n",
        "paths = [\n",
        "    PATH_Data,\n",
        "    PATH_Result_features,\n",
        "    PATH_Result_pca_parquet,\n",
        "    PATH_Result_pca_csv\n",
        "]\n",
        "\n",
        "# Création des répertoires s'ils n'existent pas\n",
        "for path in paths:\n",
        "    if not os.path.exists(path):\n",
        "        os.makedirs(path)\n",
        "\n",
        "# Afficher les répertoires créés\n",
        "print(\n",
        "    'PATH:        ' + PATH +\\\n",
        "    '\\nPATH_Data:   ' + PATH_Data +\\\n",
        "    '\\nPATH_Result_features: '+ PATH_Result_features +\\\n",
        "    '\\nPATH_Result_pca_parquet: '+ PATH_Result_pca_parquet +\\\n",
        "    '\\nPATH_Result_pca_csv: '+ PATH_Result_pca_csv\n",
        ")"
      ]
    },
    {
      "cell_type": "markdown",
      "metadata": {},
      "source": [
        "### <span style='background:black'>b/Features</span>\n",
        "\n",
        "Si les calculs des features ont déjà été effectués, on peut charger les données depuis des fichiers parquet."
      ]
    },
    {
      "cell_type": "code",
      "execution_count": null,
      "metadata": {},
      "outputs": [],
      "source": [
        "# Afficher si les features ont déjà été calculées\n",
        "if not os.path.exists(PATH_Result_features):\n",
        "    is_result_features_calculed = False\n",
        "    print(\"\\nLes features n'ont pas encore été calculées\")\n",
        "else:\n",
        "    is_result_features_calculed = True\n",
        "    print(\"\\nLes features ont déjà été calculées\")"
      ]
    },
    {
      "cell_type": "markdown",
      "metadata": {},
      "source": [
        "### <span style='background:black'>c/ACP</span>\n",
        "\n",
        "Si les calculs  de l'ACP ont déjà été effectués, on peut charger les données depuis des fichiers parquets."
      ]
    },
    {
      "cell_type": "code",
      "execution_count": null,
      "metadata": {},
      "outputs": [],
      "source": [
        "# Afficher si l'ACP a déjà été calculée\n",
        "if not os.path.exists(PATH_Result_pca_parquet):\n",
        "    is_result_pca_calculed = False\n",
        "    print(\"\\nL'ACP n'a pas encore été calculée\")\n",
        "else:\n",
        "    is_result_pca_calculed = True\n",
        "    print(\"\\nL'ACP a déjà été calculée\")"
      ]
    },
    {
      "cell_type": "markdown",
      "metadata": {
        "id": "6b98uWgXOwbM"
      },
      "source": [
        "## <span style='background:green'>2/Création de la SparkSession</span>\n"
      ]
    },
    {
      "cell_type": "code",
      "execution_count": 103,
      "metadata": {
        "id": "HVX4GI5gOwbM"
      },
      "outputs": [],
      "source": [
        "# Arrête la session Spark existante, si elle existe\n",
        "SparkSession.builder.getOrCreate().stop()\n",
        "\n",
        "# Créer une session Spark\n",
        "spark = (SparkSession\n",
        "                    .builder\n",
        "                    .appName('P9')\n",
        "                    .master('local')\n",
        "                    .config(\"spark.sql.parquet.writeLegacyFormat\", 'true')\n",
        "                    .getOrCreate()\n",
        ")\n",
        "# \n",
        "sc = spark.sparkContext\n",
        "\n",
        "spark"
      ]
    },
    {
      "cell_type": "code",
      "execution_count": 104,
      "metadata": {
        "id": "nQfFUWWcOwbN"
      },
      "outputs": [],
      "source": [
        "# sc = spark.sparkContext"
      ]
    },
    {
      "cell_type": "code",
      "execution_count": 105,
      "metadata": {
        "colab": {
          "base_uri": "https://localhost:8080/",
          "height": 221
        },
        "id": "v2quwi2-OwbN",
        "outputId": "88768df8-32aa-43ba-e8fe-3df82fcfde67"
      },
      "outputs": [
        {
          "data": {
            "text/html": [
              "\n",
              "            <div>\n",
              "                <p><b>SparkSession - in-memory</b></p>\n",
              "                \n",
              "        <div>\n",
              "            <p><b>SparkContext</b></p>\n",
              "\n",
              "            <p><a href=\"http://888955ff62c5:4040\">Spark UI</a></p>\n",
              "\n",
              "            <dl>\n",
              "              <dt>Version</dt>\n",
              "                <dd><code>v3.5.1</code></dd>\n",
              "              <dt>Master</dt>\n",
              "                <dd><code>local</code></dd>\n",
              "              <dt>AppName</dt>\n",
              "                <dd><code>P9</code></dd>\n",
              "            </dl>\n",
              "        </div>\n",
              "        \n",
              "            </div>\n",
              "        "
            ],
            "text/plain": [
              "<pyspark.sql.session.SparkSession at 0x7d0ef1344f40>"
            ]
          },
          "execution_count": 105,
          "metadata": {},
          "output_type": "execute_result"
        }
      ],
      "source": [
        "# spark"
      ]
    },
    {
      "cell_type": "markdown",
      "metadata": {
        "id": "8tVWi-zGOwbO"
      },
      "source": [
        "## <span style='background:green'>3/Traitement des données</span>\n",
        "\n",
        "### <span style='background:black'>a/Chargement des données</span>\n",
        "\n",
        "Nous chargeons les données dans un DataFrame Spark. Nous ajoutons une colonne \"label\" qui correspond au nom de la classe du fruit (basé sur le nom du dossier)."
      ]
    },
    {
      "cell_type": "code",
      "execution_count": 107,
      "metadata": {
        "colab": {
          "base_uri": "https://localhost:8080/"
        },
        "id": "T6-6Gq-BOwbP",
        "outputId": "b82c31ba-4616-4245-dfb7-a770a71c5e04"
      },
      "outputs": [
        {
          "name": "stdout",
          "output_type": "stream",
          "text": [
            "root\n",
            " |-- path: string (nullable = true)\n",
            " |-- modificationTime: timestamp (nullable = true)\n",
            " |-- length: long (nullable = true)\n",
            " |-- content: binary (nullable = true)\n",
            " |-- label: string (nullable = true)\n",
            "\n",
            "None\n",
            "+--------------------+-------------------+------+--------------------+--------------+\n",
            "|                path|   modificationTime|length|             content|         label|\n",
            "+--------------------+-------------------+------+--------------------+--------------+\n",
            "|file:/content/dri...|2021-09-12 17:25:44|  5879|[FF D8 FF E0 00 1...|Apple Golden 1|\n",
            "|file:/content/dri...|2021-09-12 17:25:44|  5865|[FF D8 FF E0 00 1...|Apple Golden 1|\n",
            "|file:/content/dri...|2021-09-12 17:25:44|  5861|[FF D8 FF E0 00 1...|Apple Golden 1|\n",
            "|file:/content/dri...|2021-09-12 17:25:44|  5856|[FF D8 FF E0 00 1...|Apple Golden 1|\n",
            "|file:/content/dri...|2021-09-12 17:25:44|  5856|[FF D8 FF E0 00 1...|Apple Golden 1|\n",
            "+--------------------+-------------------+------+--------------------+--------------+\n",
            "only showing top 5 rows\n",
            "\n",
            "None\n",
            "Nombre de lignes dans le DataFrame :  1400\n"
          ]
        }
      ],
      "source": [
        "# Charger les images dans un DataFrame Spark\n",
        "images = spark.read.format(\"binaryFile\") \\\n",
        "    .option(\"pathGlobFilter\", \"*.jpg\") \\\n",
        "    .option(\"recursiveFileLookup\", \"true\") \\\n",
        "    .load(PATH_Data)\n",
        "\n",
        "# Ajout de la col label à partir du nom du dernier dossier contenant l'image\n",
        "images = images.withColumn('label', element_at(split(images['path'], '/'), -2))\n",
        "\n",
        "# Afficher le schema et les 5 premières lignes\n",
        "print(\"Voici le schema du DataFrame :\")\n",
        "print(images.printSchema())\n",
        "\n",
        "print(\"Voici les 5 premières lignes du DataFrame :\")\n",
        "print(images.show(5))\n",
        "\n",
        "print(\"Nombre de lignes/image dans le DataFrame : \", images.count())"
      ]
    },
    {
      "cell_type": "markdown",
      "metadata": {
        "id": "Rj_E7MvLOwbQ"
      },
      "source": [
        "### <span style='background:black'>b/Préparation du modèle</span>\n",
        "\n",
        "Nous utilisons le modèle MobileNetV2 pré-entrainé sur ImageNet."
      ]
    },
    {
      "cell_type": "code",
      "execution_count": 108,
      "metadata": {
        "id": "NAwfklClOwbQ"
      },
      "outputs": [],
      "source": [
        "model = MobileNetV2(\n",
        "    weights='imagenet',\n",
        "    include_top=True,\n",
        "    input_shape=(224, 224, 3)\n",
        ")"
      ]
    },
    {
      "cell_type": "markdown",
      "metadata": {},
      "source": [
        "Nous retirons la dernière couche du modèle. "
      ]
    },
    {
      "cell_type": "code",
      "execution_count": 109,
      "metadata": {
        "id": "pmKROpisOwbR"
      },
      "outputs": [],
      "source": [
        "new_model = Model(\n",
        "    inputs=model.input,\n",
        "    outputs=model.layers[-2].output\n",
        ")"
      ]
    },
    {
      "cell_type": "markdown",
      "metadata": {
        "id": "AvLocKyTOwbR"
      },
      "source": [
        "### <span style='background:red'>a decommenter à la fin</span>\n"
      ]
    },
    {
      "cell_type": "code",
      "execution_count": 1,
      "metadata": {
        "colab": {
          "base_uri": "https://localhost:8080/"
        },
        "id": "9b9Br0bVOwbS",
        "outputId": "dc8da441-5346-4039-b7f5-cf94c693a135"
      },
      "outputs": [],
      "source": [
        "# new_model.summary()"
      ]
    },
    {
      "cell_type": "markdown",
      "metadata": {},
      "source": [
        "Nous diffusons les poids du modèle sur les clusters Spark dans la variable \"**broadcast_weights**\"."
      ]
    },
    {
      "cell_type": "code",
      "execution_count": 111,
      "metadata": {
        "id": "fNTjHkONOwbS"
      },
      "outputs": [],
      "source": [
        "broadcast_weights = sc.broadcast(new_model.get_weights())"
      ]
    },
    {
      "cell_type": "markdown",
      "metadata": {},
      "source": [
        "Nous encapsulons la méthode de préparation du modèle dans une fonction \"model_fn\" pour pouvoir l'utiliser dans le script PySpark."
      ]
    },
    {
      "cell_type": "code",
      "execution_count": null,
      "metadata": {},
      "outputs": [],
      "source": [
        "def model_fn(broadcast_weights):\n",
        "    \"\"\"\n",
        "    Cette fonction crée un modèle MobileNetV2 avec des poids pré-entraînés à partir d'ImageNet, retire la couche supérieure du modèle, rend toutes les couches non entraînables (c'est-à-dire, leurs poids ne seront pas mis à jour pendant l'entraînement), puis définit les poids du nouveau modèle à partir d'une valeur diffusée.\n",
        "\n",
        "    :return: Le nouveau modèle avec les poids pré-entraînés diffusés.\n",
        "    \"\"\"\n",
        "    # Créer modèle MobileNetV2 avec des poids pré-entraînés à partir d'ImageNet\n",
        "    model = MobileNetV2(\n",
        "        weights='imagenet',\n",
        "        include_top=True,\n",
        "        input_shape=(224, 224, 3)\n",
        "    )\n",
        "\n",
        "    # Rendre les couches non entraînables\n",
        "    for layer in model.layers:\n",
        "        layer.trainable = False\n",
        "\n",
        "    # création nouveau modèle sans la dernière couche\n",
        "    new_model = Model(\n",
        "        inputs=model.input,\n",
        "        outputs=model.layers[-2].output\n",
        "    )\n",
        "\n",
        "    # transmettre les poids du modèle\n",
        "    new_model.set_weights(broadcast_weights.value)\n",
        "    print(\"Broadcast des poids du modèle effectué\")\n",
        "\n",
        "    return new_model"
      ]
    },
    {
      "cell_type": "markdown",
      "metadata": {
        "id": "V_9lBGGZOwbT"
      },
      "source": [
        "### <span style='background:black'>c/Chargement des images et featurisation avec pandas UDF</span>\n",
        "\n",
        "Nous créons une fonction \"preprocess\" qui permet de charger les images, de les redimensionner et de les preprocesser pour les passer dans le modèle."
      ]
    },
    {
      "cell_type": "code",
      "execution_count": 113,
      "metadata": {
        "id": "Mf7mKunnOwbT"
      },
      "outputs": [],
      "source": [
        "def preprocess(content):\n",
        "    \"\"\"\n",
        "    Cette fonction charge une image à partir des données brutes, redimensionne\n",
        "    l'image à une taille de 224x224 pixels, la convertit en un tableau numpy,\n",
        "    puis applique la fonction de prétraitement de MobileNetV2.\n",
        "\n",
        "    :param content: Les données brutes de l'image à prétraiter.\n",
        "\n",
        "    :return: Le tableau numpy de l'image prétraitée.\n",
        "    \"\"\"\n",
        "    # Chargement de l'image et redimensionnement à 224x224\n",
        "    img = Image.open(io.BytesIO(content)).resize([224, 224])\n",
        "\n",
        "    # Conversion en tableau numpy\n",
        "    arr = img_to_array(img)\n",
        "\n",
        "    # Application de la fonction preprocess_input de MobileNetV2\n",
        "    return preprocess_input(arr)"
      ]
    },
    {
      "cell_type": "markdown",
      "metadata": {},
      "source": [
        "Nous créons une fonction \"featurize_series\" qui permet de passer les images dans le modèle et de récupérer les features."
      ]
    },
    {
      "cell_type": "code",
      "execution_count": 114,
      "metadata": {
        "id": "4rLmFp_OOwbU"
      },
      "outputs": [],
      "source": [
        "def featurize_series(model, content_series):\n",
        "    \"\"\"\n",
        "    Effectue une caractérisation (featurization) d'une pd.Series d'images\n",
        "    brutes en utilisant le modèle en entrée.\n",
        "\n",
        "    :param model: Un modèle de deep learning pré-entraîné pour la\n",
        "    caractérisation des images.\n",
        "    :param content_series: Une pd.Series contenant des images brutes à\n",
        "    caractériser.\n",
        "\n",
        "    :return: Une pd.Series où chaque élément est un vecteur unidimensionnel\n",
        "    de caractéristiques d'image.\n",
        "    \"\"\"\n",
        "    # Application prétraitement à chaque image brute et empilement dans array\n",
        "    input = np.stack(content_series.map(preprocess))\n",
        "\n",
        "    # Utilisation du modèle pour prédire les caractéristiques de l'image\n",
        "    preds = model.predict(input)\n",
        "\n",
        "    # Applatissement des caractéristiques en 1 vecteur 1D (besoin pour Spark)\n",
        "    output = [p.flatten() for p in preds]\n",
        "\n",
        "    # Conversion en pd.Series\n",
        "    return pd.Series(output)"
      ]
    },
    {
      "cell_type": "markdown",
      "metadata": {},
      "source": [
        "Nous créons une fonction \"featurize_udf\" qui encapsule la fonction \"featurize_series\" pour pouvoir l'utiliser dans un pandas UDF."
      ]
    },
    {
      "cell_type": "code",
      "execution_count": 115,
      "metadata": {
        "colab": {
          "base_uri": "https://localhost:8080/"
        },
        "id": "ubfDoshAOwbU",
        "outputId": "0a604fdf-190b-4b1e-eaab-e9ac9114f5ea"
      },
      "outputs": [
        {
          "name": "stderr",
          "output_type": "stream",
          "text": [
            "/usr/local/lib/python3.10/dist-packages/pyspark/sql/pandas/functions.py:407: UserWarning: In Python 3.6+ and Spark 3.0+, it is preferred to specify type hints for pandas UDF instead of specifying pandas UDF type which will be deprecated in the future releases. See SPARK-28264 for more details.\n",
            "  warnings.warn(\n"
          ]
        }
      ],
      "source": [
        "# Decorateur pour définir une UDF pandas de type Scalar Iterator\n",
        "@pandas_udf('array<float>', PandasUDFType.SCALAR_ITER)\n",
        "\n",
        "def featurize_udf(content_series_iter, broadcast_weights=broadcast_weights):\n",
        "    '''\n",
        "    Cette méthode est une UDF pandas de type Scalar Iterator qui enveloppe\n",
        "    notre fonction de featurisation. Le décorateur spécifie qu'elle renvoie\n",
        "    une colonne de DataFrame Spark de type ArrayType(FloatType).\n",
        "\n",
        "    :param content_series_iter: Cet argument est un itérateur sur des lots de\n",
        "    données, où chaque lot est une série pandas de données d'image.\n",
        "    '''\n",
        "    # Charger le modèle une fois  (réutiliser pour plusieurs lots de données)\n",
        "    model = model_fn(broadcast_weights=broadcast_weights)\n",
        "\n",
        "    # POUR chaque lot de données\n",
        "    for content_series in content_series_iter:\n",
        "        print(\"Lot de données de taille : \", content_series.shape)\n",
        "\n",
        "        # Application de la fonction de featurisation (du modele sur le lot)\n",
        "        yield featurize_series(model, content_series)"
      ]
    },
    {
      "cell_type": "markdown",
      "metadata": {
        "id": "dGavTZi0OwbV"
      },
      "source": [
        "### <span style='background:black'>d/Extraction de features</span>\n",
        "\n",
        "Nous appliquons la fonction \"featurize_udf\" sur le DataFrame pour extraire les features des images."
      ]
    },
    {
      "cell_type": "code",
      "execution_count": null,
      "metadata": {},
      "outputs": [],
      "source": [
        "# Si les parquets existent, ne rien faire SINON créer les features\n",
        "if is_result_features_calculed:\n",
        "    print(\"\\nLes features existent déjà\")\n",
        "\n",
        "else:\n",
        "    # 20 partitions + select col path & label + featurize & rename col content\n",
        "    features_df = images.repartition(20).select(\n",
        "        col(\"path\"),\n",
        "        col(\"label\"),\n",
        "        featurize_udf(\"content\").alias(\"features\")\n",
        "    )\n",
        "    print(\"\\nFeatures calculées\")"
      ]
    },
    {
      "cell_type": "markdown",
      "metadata": {},
      "source": [
        "Nous enregistrons le DataFrame dans des fichiers Parquet pour pouvoir le réutiliser."
      ]
    },
    {
      "cell_type": "code",
      "execution_count": 120,
      "metadata": {
        "id": "mcwm_KuEOwbY"
      },
      "outputs": [],
      "source": [
        "# Si les parquets existent, les charger, SINON effectuer les calculs et save\n",
        "if is_result_features_calculed:\n",
        "    features_df = spark.read.parquet(PATH_Result_features)\n",
        "    print(\"Chargement des features effectué\")\n",
        "\n",
        "else:\n",
        "    features_df.write.mode(\"overwrite\").parquet(PATH_Result_features)\n",
        "    print(\"Sauvegarde des features effectuée\")"
      ]
    },
    {
      "cell_type": "markdown",
      "metadata": {
        "id": "N6nGPofTVZVM"
      },
      "source": [
        "Nous visualisons les features enregistrées sous forme de DataFrame."
      ]
    },
    {
      "cell_type": "code",
      "execution_count": 121,
      "metadata": {
        "id": "NjTyD-gsVa_n"
      },
      "outputs": [],
      "source": [
        "features_df = pd.read_parquet(PATH_Result_features, engine='pyarrow')\n",
        "display(features_df)"
      ]
    },
    {
      "cell_type": "markdown",
      "metadata": {},
      "source": [
        "Nous vérifions qu'il a a bien 1_280 features pour chaque image (output de la dernière couche du modèle)."
      ]
    },
    {
      "cell_type": "code",
      "execution_count": 124,
      "metadata": {
        "colab": {
          "base_uri": "https://localhost:8080/"
        },
        "id": "OR6ArE6aViAd",
        "outputId": "fe84194e-bd29-44f2-ae63-f7802b6d7d79"
      },
      "outputs": [
        {
          "data": {
            "text/plain": [
              "(1280,)"
            ]
          },
          "execution_count": 124,
          "metadata": {},
          "output_type": "execute_result"
        }
      ],
      "source": [
        "features_df.loc[0,'features'].shape"
      ]
    },
    {
      "cell_type": "markdown",
      "metadata": {
        "id": "smCtpoNnlS4a"
      },
      "source": [
        "## <span style='background:green'>4/Réduction de dimension ACP</span>\n",
        "\n",
        "### <span style='background:black'>a/Encapsulation des features dans un array</span>\n",
        "\n",
        "Nous ajoutons une colonne \"features_array\" qui encapsule les valeurs de la colonne \"features\" dans un array."
      ]
    },
    {
      "cell_type": "code",
      "execution_count": 127,
      "metadata": {
        "colab": {
          "base_uri": "https://localhost:8080/"
        },
        "id": "DTQ2lkWAr_8a",
        "outputId": "81daa902-6f96-402b-8708-26cf17300c42"
      },
      "outputs": [
        {
          "name": "stdout",
          "output_type": "stream",
          "text": [
            "+--------------------+--------------+--------------------+--------------------+\n",
            "|                path|         label|            features|      features_array|\n",
            "+--------------------+--------------+--------------------+--------------------+\n",
            "|file:/content/dri...|Apple Golden 1|[0.0, 0.0, 0.8536...|[0.0,0.0,0.853630...|\n",
            "|file:/content/dri...|Apple Golden 1|[0.0, 0.027579853...|[0.0,0.0275798533...|\n",
            "|file:/content/dri...|Apple Golden 1|[0.0, 0.07077724,...|[0.0,0.0707772374...|\n",
            "|file:/content/dri...|Apple Golden 1|[0.0, 0.0, 0.0, 0...|[0.0,0.0,0.0,0.0,...|\n",
            "|file:/content/dri...|Apple Golden 1|[0.0, 0.07511413,...|[0.0,0.0751141309...|\n",
            "|file:/content/dri...|Apple Golden 1|[0.0, 0.23927934,...|[0.0,0.2392793446...|\n",
            "|file:/content/dri...|Apple Golden 1|[0.0, 0.2569102, ...|[0.0,0.2569102048...|\n",
            "|file:/content/dri...|Apple Golden 1|[0.0, 0.46014333,...|[0.0,0.4601433277...|\n",
            "|file:/content/dri...|Apple Braeburn|[0.39683127, 0.16...|[0.39683127403259...|\n",
            "|file:/content/dri...|Apple Golden 1|[0.0, 0.07337851,...|[0.0,0.0733785107...|\n",
            "|file:/content/dri...|Apple Golden 1|[0.0, 0.05509322,...|[0.0,0.0550932213...|\n",
            "|file:/content/dri...|Apple Golden 1|[0.0, 0.09985515,...|[0.0,0.0998551473...|\n",
            "|file:/content/dri...|Apple Golden 1|[0.0, 0.06474347,...|[0.0,0.0647434666...|\n",
            "|file:/content/dri...|Apple Braeburn|[0.009587492, 0.0...|[0.00958749186247...|\n",
            "|file:/content/dri...|Apple Golden 1|[0.0, 0.44123003,...|[0.0,0.4412300288...|\n",
            "|file:/content/dri...|Apple Golden 1|[0.0, 0.115924194...|[0.0,0.1159241944...|\n",
            "|file:/content/dri...|Apple Golden 1|[0.0, 0.07103371,...|[0.0,0.0710337087...|\n",
            "|file:/content/dri...|Apple Braeburn|[0.06878051, 0.0,...|[0.06878051161766...|\n",
            "|file:/content/dri...|Apple Braeburn|[0.1289024, 0.0, ...|[0.12890240550041...|\n",
            "|file:/content/dri...|Apple Braeburn|[0.0, 0.005329142...|[0.0,0.0053291418...|\n",
            "+--------------------+--------------+--------------------+--------------------+\n",
            "only showing top 20 rows\n",
            "\n"
          ]
        }
      ],
      "source": [
        "# Fonction udf pour transformer un array en VectorUDT \n",
        "array_to_vector_udf = udf(lambda arr: Vectors.dense(arr), VectorUDT())\n",
        "\n",
        "# Ajouter une colonne de features_array\n",
        "features_df = features_df.withColumn(\n",
        "    \"features_array\", array_to_vector_udf(col(\"features\"))\n",
        ")\n",
        "\n",
        "# Afficher le VectorUDT\n",
        "features_df.show()"
      ]
    },
    {
      "cell_type": "markdown",
      "metadata": {},
      "source": [
        "### <span style='background:black'>b/ACP</span>\n",
        "\n",
        "Nous réalisons une Analyse en Composantes Principales (ACP) sur les features pour réduire la dimension. Nous conservons **600** composantes principales."
      ]
    },
    {
      "cell_type": "code",
      "execution_count": 1,
      "metadata": {
        "colab": {
          "base_uri": "https://localhost:8080/"
        },
        "id": "U7yZl-92le83",
        "outputId": "11ccbd12-0652-47d7-f111-701178c47728"
      },
      "outputs": [],
      "source": [
        "# Nombre de composantes de l'ACP\n",
        "nbr_composante = 600\n",
        "\n",
        "# Si les parquets existent, les charger SINON réaliser l'ACP et save\n",
        "if is_result_pca_calculed:\n",
        "    pca_result_df = spark.read.parquet(PATH_Result_pca_parquet)\n",
        "    print(\"\\nLes résultats de l'ACP existent déjà\")\n",
        "\n",
        "else:\n",
        "    # Créer un objet PCA, entrainement et transformation\n",
        "    pca = PCA(\n",
        "        k=nbr_composante,\n",
        "        inputCol=\"features_array\",\n",
        "        outputCol=\"pca_features\"\n",
        "    )\n",
        "    model_fitted = pca.fit(features_df)\n",
        "    pca_result_df = model_fitted.transform(features_df)\n",
        "\n",
        "    # # Calculate the total variance\n",
        "    # total_variance = sum(model_fitted.explainedVariance)\n",
        "    # print(\"Total Variance: \", total_variance)\n",
        "\n",
        "    # # Calculate the cumulative sum of explained variances\n",
        "    # cumulative_variance = np.cumsum(model_fitted.explainedVariance)\n",
        "\n",
        "    # # Create a table to show the explained variance for each set of 100 components\n",
        "    # explained_variance_table = []\n",
        "    # for i in range(0, nbr_composante, 1):\n",
        "    #     explained_variance = cumulative_variance[i] / total_variance\n",
        "    #     explained_variance_table.append((i, explained_variance))\n",
        "\n",
        "    #     # Print que les multiple de 50\n",
        "    #     if i % 50 == 0:\n",
        "    #         print(f\"Explained variance with {i} components: {explained_variance}\")\n",
        "\n",
        "    # Calculer la variance totale et la variance cumulative expliquée\n",
        "    explained_variance_table = calculer_variance_expliquee(\n",
        "        model_fitted,\n",
        "        nbr_composante\n",
        "    )\n",
        "\n",
        "    # Enregistrer les résultats de l'ACP en format parquet\n",
        "    pca_result_df.write.mode('overwrite').parquet(PATH_Result_pca_parquet)\n",
        "    print(\"\\nLes résultats de l'ACP ont été sauvegardés\")\n",
        "\n",
        "# Afficher les dimensions du dataframe des résultats de l'ACP\n",
        "print(\"Number of rows: \", pca_result_df.count())\n",
        "print(\"Number of columns: \", len(pca_result_df.columns))\n",
        "print(pca_result_df.columns)"
      ]
    },
    {
      "cell_type": "markdown",
      "metadata": {},
      "source": [
        "### <span style='background:black'>c/Plot évolution de la variance selon le nombre de composantes</span>\n",
        "\n",
        "Nous affichons le pourcentage de variance expliquée par le nombre de composantes."
      ]
    },
    {
      "cell_type": "code",
      "execution_count": 130,
      "metadata": {
        "colab": {
          "base_uri": "https://localhost:8080/",
          "height": 564
        },
        "id": "0AKjWZikI7wm",
        "outputId": "aa17f354-35a2-499a-f3ae-cff7249cbd41"
      },
      "outputs": [
        {
          "data": {
            "image/png": "[encoded data removed]",
            "text/plain": [
              "<Figure size 1000x600 with 1 Axes>"
            ]
          },
          "metadata": {},
          "output_type": "display_data"
        }
      ],
      "source": [
        "# Création tuple (composantes, variances) selon la table de variance expliquée\n",
        "components, variances = zip(*explained_variance_table)\n",
        "\n",
        "# Création du graphique de la variance expliquée\n",
        "plt.figure(figsize=(10, 6))\n",
        "plt.plot(components, variances, marker='o')\n",
        "\n",
        "# Titres et labels\n",
        "plt.xlabel('Nombre de composantes principales')\n",
        "plt.ylabel('Variance expliquée (%)')\n",
        "plt.title('Evolution de la variance expliquée par composante principale')\n",
        "plt.show()"
      ]
    },
    {
      "cell_type": "markdown",
      "metadata": {
        "id": "7cB_6EWAGdW0"
      },
      "source": [
        "chargement des resultats PCA pour voir"
      ]
    },
    {
      "cell_type": "code",
      "execution_count": 132,
      "metadata": {
        "id": "KQN5IsWIGgJH"
      },
      "outputs": [],
      "source": [
        "df_result_pca = pd.read_parquet(PATH_Result_pca_parquet, engine='pyarrow')"
      ]
    },
    {
      "cell_type": "code",
      "execution_count": 133,
      "metadata": {
        "colab": {
          "base_uri": "https://localhost:8080/",
          "height": 424
        },
        "id": "8yVqioDQJ_8e",
        "outputId": "5782ee83-c644-4ca0-f822-3d36a2f7530c"
      },
      "outputs": [
        {
          "data": {
            "application/vnd.google.colaboratory.intrinsic+json": {
              "summary": "{\n  \"name\": \"df_result_pca\",\n  \"rows\": 1400,\n  \"fields\": [\n    {\n      \"column\": \"path\",\n      \"properties\": {\n        \"dtype\": \"string\",\n        \"num_unique_values\": 1400,\n        \"samples\": [\n          \"file:/content/drive/MyDrive/Colab Notebooks/P9/data/source/dataset_sample/Apple Braeburn/310_100.jpg\",\n          \"file:/content/drive/MyDrive/Colab Notebooks/P9/data/source/dataset_sample/Apple Golden 1/r_204_100.jpg\",\n          \"file:/content/drive/MyDrive/Colab Notebooks/P9/data/source/dataset_sample/Apple Braeburn/r_193_100.jpg\"\n        ],\n        \"semantic_type\": \"\",\n        \"description\": \"\"\n      }\n    },\n    {\n      \"column\": \"label\",\n      \"properties\": {\n        \"dtype\": \"category\",\n        \"num_unique_values\": 3,\n        \"samples\": [\n          \"Apple Golden 1\",\n          \"Apple Braeburn\",\n          \"Apple Crimson Snow\"\n        ],\n        \"semantic_type\": \"\",\n        \"description\": \"\"\n      }\n    },\n    {\n      \"column\": \"features\",\n      \"properties\": {\n        \"dtype\": \"object\",\n        \"semantic_type\": \"\",\n        \"description\": \"\"\n      }\n    },\n    {\n      \"column\": \"features_array\",\n      \"properties\": {\n        \"dtype\": \"object\",\n        \"semantic_type\": \"\",\n        \"description\": \"\"\n      }\n    },\n    {\n      \"column\": \"pca_features\",\n      \"properties\": {\n        \"dtype\": \"object\",\n        \"semantic_type\": \"\",\n        \"description\": \"\"\n      }\n    }\n  ]\n}",
              "type": "dataframe",
              "variable_name": "df_result_pca"
            },
            "text/html": [
              "\n",
              "  <div id=\"df-6e3be537-3cf5-4277-bb84-bea4155c4632\" class=\"colab-df-container\">\n",
              "    <div>\n",
              "<style scoped>\n",
              "    .dataframe tbody tr th:only-of-type {\n",
              "        vertical-align: middle;\n",
              "    }\n",
              "\n",
              "    .dataframe tbody tr th {\n",
              "        vertical-align: top;\n",
              "    }\n",
              "\n",
              "    .dataframe thead th {\n",
              "        text-align: right;\n",
              "    }\n",
              "</style>\n",
              "<table border=\"1\" class=\"dataframe\">\n",
              "  <thead>\n",
              "    <tr style=\"text-align: right;\">\n",
              "      <th></th>\n",
              "      <th>path</th>\n",
              "      <th>label</th>\n",
              "      <th>features</th>\n",
              "      <th>features_array</th>\n",
              "      <th>pca_features</th>\n",
              "    </tr>\n",
              "  </thead>\n",
              "  <tbody>\n",
              "    <tr>\n",
              "      <th>0</th>\n",
              "      <td>file:/content/drive/MyDrive/Colab Notebooks/P9...</td>\n",
              "      <td>Apple Golden 1</td>\n",
              "      <td>[0.0, 0.0, 0.8536301, 0.0, 0.0, 0.013514129, 0...</td>\n",
              "      <td>{'type': 1, 'size': None, 'indices': None, 'va...</td>\n",
              "      <td>{'type': 1, 'size': None, 'indices': None, 'va...</td>\n",
              "    </tr>\n",
              "    <tr>\n",
              "      <th>1</th>\n",
              "      <td>file:/content/drive/MyDrive/Colab Notebooks/P9...</td>\n",
              "      <td>Apple Golden 1</td>\n",
              "      <td>[0.0, 0.027579853, 0.0, 0.0, 0.0, 0.022468586,...</td>\n",
              "      <td>{'type': 1, 'size': None, 'indices': None, 'va...</td>\n",
              "      <td>{'type': 1, 'size': None, 'indices': None, 'va...</td>\n",
              "    </tr>\n",
              "    <tr>\n",
              "      <th>2</th>\n",
              "      <td>file:/content/drive/MyDrive/Colab Notebooks/P9...</td>\n",
              "      <td>Apple Golden 1</td>\n",
              "      <td>[0.0, 0.07077724, 1.4807837, 0.0, 0.60484815, ...</td>\n",
              "      <td>{'type': 1, 'size': None, 'indices': None, 'va...</td>\n",
              "      <td>{'type': 1, 'size': None, 'indices': None, 'va...</td>\n",
              "    </tr>\n",
              "    <tr>\n",
              "      <th>3</th>\n",
              "      <td>file:/content/drive/MyDrive/Colab Notebooks/P9...</td>\n",
              "      <td>Apple Golden 1</td>\n",
              "      <td>[0.0, 0.0, 0.0, 0.0, 0.0, 0.0, 0.85552526, 0.0...</td>\n",
              "      <td>{'type': 1, 'size': None, 'indices': None, 'va...</td>\n",
              "      <td>{'type': 1, 'size': None, 'indices': None, 'va...</td>\n",
              "    </tr>\n",
              "    <tr>\n",
              "      <th>4</th>\n",
              "      <td>file:/content/drive/MyDrive/Colab Notebooks/P9...</td>\n",
              "      <td>Apple Golden 1</td>\n",
              "      <td>[0.0, 0.07511413, 1.1581838, 0.0, 0.15176162, ...</td>\n",
              "      <td>{'type': 1, 'size': None, 'indices': None, 'va...</td>\n",
              "      <td>{'type': 1, 'size': None, 'indices': None, 'va...</td>\n",
              "    </tr>\n",
              "    <tr>\n",
              "      <th>...</th>\n",
              "      <td>...</td>\n",
              "      <td>...</td>\n",
              "      <td>...</td>\n",
              "      <td>...</td>\n",
              "      <td>...</td>\n",
              "    </tr>\n",
              "    <tr>\n",
              "      <th>1395</th>\n",
              "      <td>file:/content/drive/MyDrive/Colab Notebooks/P9...</td>\n",
              "      <td>Apple Crimson Snow</td>\n",
              "      <td>[0.0007490431, 0.0, 0.0, 0.0, 0.0, 1.1925205, ...</td>\n",
              "      <td>{'type': 1, 'size': None, 'indices': None, 'va...</td>\n",
              "      <td>{'type': 1, 'size': None, 'indices': None, 'va...</td>\n",
              "    </tr>\n",
              "    <tr>\n",
              "      <th>1396</th>\n",
              "      <td>file:/content/drive/MyDrive/Colab Notebooks/P9...</td>\n",
              "      <td>Apple Crimson Snow</td>\n",
              "      <td>[0.12012962, 0.034390878, 0.0, 0.0, 0.0, 0.115...</td>\n",
              "      <td>{'type': 1, 'size': None, 'indices': None, 'va...</td>\n",
              "      <td>{'type': 1, 'size': None, 'indices': None, 'va...</td>\n",
              "    </tr>\n",
              "    <tr>\n",
              "      <th>1397</th>\n",
              "      <td>file:/content/drive/MyDrive/Colab Notebooks/P9...</td>\n",
              "      <td>Apple Crimson Snow</td>\n",
              "      <td>[0.08103858, 0.016659036, 0.0, 0.0, 0.0, 0.061...</td>\n",
              "      <td>{'type': 1, 'size': None, 'indices': None, 'va...</td>\n",
              "      <td>{'type': 1, 'size': None, 'indices': None, 'va...</td>\n",
              "    </tr>\n",
              "    <tr>\n",
              "      <th>1398</th>\n",
              "      <td>file:/content/drive/MyDrive/Colab Notebooks/P9...</td>\n",
              "      <td>Apple Crimson Snow</td>\n",
              "      <td>[0.10410906, 0.0, 0.0, 0.0, 0.0, 0.0, 1.191049...</td>\n",
              "      <td>{'type': 1, 'size': None, 'indices': None, 'va...</td>\n",
              "      <td>{'type': 1, 'size': None, 'indices': None, 'va...</td>\n",
              "    </tr>\n",
              "    <tr>\n",
              "      <th>1399</th>\n",
              "      <td>file:/content/drive/MyDrive/Colab Notebooks/P9...</td>\n",
              "      <td>Apple Crimson Snow</td>\n",
              "      <td>[0.08059602, 0.0, 0.0, 0.0, 0.0, 0.004480946, ...</td>\n",
              "      <td>{'type': 1, 'size': None, 'indices': None, 'va...</td>\n",
              "      <td>{'type': 1, 'size': None, 'indices': None, 'va...</td>\n",
              "    </tr>\n",
              "  </tbody>\n",
              "</table>\n",
              "<p>1400 rows × 5 columns</p>\n",
              "</div>\n",
              "    <div class=\"colab-df-buttons\">\n",
              "\n",
              "  <div class=\"colab-df-container\">\n",
              "    <button class=\"colab-df-convert\" onclick=\"convertToInteractive('df-6e3be537-3cf5-4277-bb84-bea4155c4632')\"\n",
              "            title=\"Convert this dataframe to an interactive table.\"\n",
              "            style=\"display:none;\">\n",
              "\n",
              "  <svg xmlns=\"http://www.w3.org/2000/svg\" height=\"24px\" viewBox=\"0 -960 960 960\">\n",
              "    <path d=\"M120-120v-720h720v720H120Zm60-500h600v-160H180v160Zm220 220h160v-160H400v160Zm0 220h160v-160H400v160ZM180-400h160v-160H180v160Zm440 0h160v-160H620v160ZM180-180h160v-160H180v160Zm440 0h160v-160H620v160Z\"/>\n",
              "  </svg>\n",
              "    </button>\n",
              "\n",
              "  <style>\n",
              "    .colab-df-container {\n",
              "      display:flex;\n",
              "      gap: 12px;\n",
              "    }\n",
              "\n",
              "    .colab-df-convert {\n",
              "      background-color: #E8F0FE;\n",
              "      border: none;\n",
              "      border-radius: 50%;\n",
              "      cursor: pointer;\n",
              "      display: none;\n",
              "      fill: #1967D2;\n",
              "      height: 32px;\n",
              "      padding: 0 0 0 0;\n",
              "      width: 32px;\n",
              "    }\n",
              "\n",
              "    .colab-df-convert:hover {\n",
              "      background-color: #E2EBFA;\n",
              "      box-shadow: 0px 1px 2px rgba(60, 64, 67, 0.3), 0px 1px 3px 1px rgba(60, 64, 67, 0.15);\n",
              "      fill: #174EA6;\n",
              "    }\n",
              "\n",
              "    .colab-df-buttons div {\n",
              "      margin-bottom: 4px;\n",
              "    }\n",
              "\n",
              "    [theme=dark] .colab-df-convert {\n",
              "      background-color: #3B4455;\n",
              "      fill: #D2E3FC;\n",
              "    }\n",
              "\n",
              "    [theme=dark] .colab-df-convert:hover {\n",
              "      background-color: #434B5C;\n",
              "      box-shadow: 0px 1px 3px 1px rgba(0, 0, 0, 0.15);\n",
              "      filter: drop-shadow(0px 1px 2px rgba(0, 0, 0, 0.3));\n",
              "      fill: #FFFFFF;\n",
              "    }\n",
              "  </style>\n",
              "\n",
              "    <script>\n",
              "      const buttonEl =\n",
              "        document.querySelector('#df-6e3be537-3cf5-4277-bb84-bea4155c4632 button.colab-df-convert');\n",
              "      buttonEl.style.display =\n",
              "        google.colab.kernel.accessAllowed ? 'block' : 'none';\n",
              "\n",
              "      async function convertToInteractive(key) {\n",
              "        const element = document.querySelector('#df-6e3be537-3cf5-4277-bb84-bea4155c4632');\n",
              "        const dataTable =\n",
              "          await google.colab.kernel.invokeFunction('convertToInteractive',\n",
              "                                                    [key], {});\n",
              "        if (!dataTable) return;\n",
              "\n",
              "        const docLinkHtml = 'Like what you see? Visit the ' +\n",
              "          '<a target=\"_blank\" href=https://colab.research.google.com/notebooks/data_table.ipynb>data table notebook</a>'\n",
              "          + ' to learn more about interactive tables.';\n",
              "        element.innerHTML = '';\n",
              "        dataTable['output_type'] = 'display_data';\n",
              "        await google.colab.output.renderOutput(dataTable, element);\n",
              "        const docLink = document.createElement('div');\n",
              "        docLink.innerHTML = docLinkHtml;\n",
              "        element.appendChild(docLink);\n",
              "      }\n",
              "    </script>\n",
              "  </div>\n",
              "\n",
              "\n",
              "<div id=\"df-71add9aa-b301-4c75-889f-4c7605bfe80a\">\n",
              "  <button class=\"colab-df-quickchart\" onclick=\"quickchart('df-71add9aa-b301-4c75-889f-4c7605bfe80a')\"\n",
              "            title=\"Suggest charts\"\n",
              "            style=\"display:none;\">\n",
              "\n",
              "<svg xmlns=\"http://www.w3.org/2000/svg\" height=\"24px\"viewBox=\"0 0 24 24\"\n",
              "     width=\"24px\">\n",
              "    <g>\n",
              "        <path d=\"M19 3H5c-1.1 0-2 .9-2 2v14c0 1.1.9 2 2 2h14c1.1 0 2-.9 2-2V5c0-1.1-.9-2-2-2zM9 17H7v-7h2v7zm4 0h-2V7h2v10zm4 0h-2v-4h2v4z\"/>\n",
              "    </g>\n",
              "</svg>\n",
              "  </button>\n",
              "\n",
              "<style>\n",
              "  .colab-df-quickchart {\n",
              "      --bg-color: #E8F0FE;\n",
              "      --fill-color: #1967D2;\n",
              "      --hover-bg-color: #E2EBFA;\n",
              "      --hover-fill-color: #174EA6;\n",
              "      --disabled-fill-color: #AAA;\n",
              "      --disabled-bg-color: #DDD;\n",
              "  }\n",
              "\n",
              "  [theme=dark] .colab-df-quickchart {\n",
              "      --bg-color: #3B4455;\n",
              "      --fill-color: #D2E3FC;\n",
              "      --hover-bg-color: #434B5C;\n",
              "      --hover-fill-color: #FFFFFF;\n",
              "      --disabled-bg-color: #3B4455;\n",
              "      --disabled-fill-color: #666;\n",
              "  }\n",
              "\n",
              "  .colab-df-quickchart {\n",
              "    background-color: var(--bg-color);\n",
              "    border: none;\n",
              "    border-radius: 50%;\n",
              "    cursor: pointer;\n",
              "    display: none;\n",
              "    fill: var(--fill-color);\n",
              "    height: 32px;\n",
              "    padding: 0;\n",
              "    width: 32px;\n",
              "  }\n",
              "\n",
              "  .colab-df-quickchart:hover {\n",
              "    background-color: var(--hover-bg-color);\n",
              "    box-shadow: 0 1px 2px rgba(60, 64, 67, 0.3), 0 1px 3px 1px rgba(60, 64, 67, 0.15);\n",
              "    fill: var(--button-hover-fill-color);\n",
              "  }\n",
              "\n",
              "  .colab-df-quickchart-complete:disabled,\n",
              "  .colab-df-quickchart-complete:disabled:hover {\n",
              "    background-color: var(--disabled-bg-color);\n",
              "    fill: var(--disabled-fill-color);\n",
              "    box-shadow: none;\n",
              "  }\n",
              "\n",
              "  .colab-df-spinner {\n",
              "    border: 2px solid var(--fill-color);\n",
              "    border-color: transparent;\n",
              "    border-bottom-color: var(--fill-color);\n",
              "    animation:\n",
              "      spin 1s steps(1) infinite;\n",
              "  }\n",
              "\n",
              "  @keyframes spin {\n",
              "    0% {\n",
              "      border-color: transparent;\n",
              "      border-bottom-color: var(--fill-color);\n",
              "      border-left-color: var(--fill-color);\n",
              "    }\n",
              "    20% {\n",
              "      border-color: transparent;\n",
              "      border-left-color: var(--fill-color);\n",
              "      border-top-color: var(--fill-color);\n",
              "    }\n",
              "    30% {\n",
              "      border-color: transparent;\n",
              "      border-left-color: var(--fill-color);\n",
              "      border-top-color: var(--fill-color);\n",
              "      border-right-color: var(--fill-color);\n",
              "    }\n",
              "    40% {\n",
              "      border-color: transparent;\n",
              "      border-right-color: var(--fill-color);\n",
              "      border-top-color: var(--fill-color);\n",
              "    }\n",
              "    60% {\n",
              "      border-color: transparent;\n",
              "      border-right-color: var(--fill-color);\n",
              "    }\n",
              "    80% {\n",
              "      border-color: transparent;\n",
              "      border-right-color: var(--fill-color);\n",
              "      border-bottom-color: var(--fill-color);\n",
              "    }\n",
              "    90% {\n",
              "      border-color: transparent;\n",
              "      border-bottom-color: var(--fill-color);\n",
              "    }\n",
              "  }\n",
              "</style>\n",
              "\n",
              "  <script>\n",
              "    async function quickchart(key) {\n",
              "      const quickchartButtonEl =\n",
              "        document.querySelector('#' + key + ' button');\n",
              "      quickchartButtonEl.disabled = true;  // To prevent multiple clicks.\n",
              "      quickchartButtonEl.classList.add('colab-df-spinner');\n",
              "      try {\n",
              "        const charts = await google.colab.kernel.invokeFunction(\n",
              "            'suggestCharts', [key], {});\n",
              "      } catch (error) {\n",
              "        console.error('Error during call to suggestCharts:', error);\n",
              "      }\n",
              "      quickchartButtonEl.classList.remove('colab-df-spinner');\n",
              "      quickchartButtonEl.classList.add('colab-df-quickchart-complete');\n",
              "    }\n",
              "    (() => {\n",
              "      let quickchartButtonEl =\n",
              "        document.querySelector('#df-71add9aa-b301-4c75-889f-4c7605bfe80a button');\n",
              "      quickchartButtonEl.style.display =\n",
              "        google.colab.kernel.accessAllowed ? 'block' : 'none';\n",
              "    })();\n",
              "  </script>\n",
              "</div>\n",
              "    </div>\n",
              "  </div>\n"
            ],
            "text/plain": [
              "                                                   path               label  \\\n",
              "0     file:/content/drive/MyDrive/Colab Notebooks/P9...      Apple Golden 1   \n",
              "1     file:/content/drive/MyDrive/Colab Notebooks/P9...      Apple Golden 1   \n",
              "2     file:/content/drive/MyDrive/Colab Notebooks/P9...      Apple Golden 1   \n",
              "3     file:/content/drive/MyDrive/Colab Notebooks/P9...      Apple Golden 1   \n",
              "4     file:/content/drive/MyDrive/Colab Notebooks/P9...      Apple Golden 1   \n",
              "...                                                 ...                 ...   \n",
              "1395  file:/content/drive/MyDrive/Colab Notebooks/P9...  Apple Crimson Snow   \n",
              "1396  file:/content/drive/MyDrive/Colab Notebooks/P9...  Apple Crimson Snow   \n",
              "1397  file:/content/drive/MyDrive/Colab Notebooks/P9...  Apple Crimson Snow   \n",
              "1398  file:/content/drive/MyDrive/Colab Notebooks/P9...  Apple Crimson Snow   \n",
              "1399  file:/content/drive/MyDrive/Colab Notebooks/P9...  Apple Crimson Snow   \n",
              "\n",
              "                                               features  \\\n",
              "0     [0.0, 0.0, 0.8536301, 0.0, 0.0, 0.013514129, 0...   \n",
              "1     [0.0, 0.027579853, 0.0, 0.0, 0.0, 0.022468586,...   \n",
              "2     [0.0, 0.07077724, 1.4807837, 0.0, 0.60484815, ...   \n",
              "3     [0.0, 0.0, 0.0, 0.0, 0.0, 0.0, 0.85552526, 0.0...   \n",
              "4     [0.0, 0.07511413, 1.1581838, 0.0, 0.15176162, ...   \n",
              "...                                                 ...   \n",
              "1395  [0.0007490431, 0.0, 0.0, 0.0, 0.0, 1.1925205, ...   \n",
              "1396  [0.12012962, 0.034390878, 0.0, 0.0, 0.0, 0.115...   \n",
              "1397  [0.08103858, 0.016659036, 0.0, 0.0, 0.0, 0.061...   \n",
              "1398  [0.10410906, 0.0, 0.0, 0.0, 0.0, 0.0, 1.191049...   \n",
              "1399  [0.08059602, 0.0, 0.0, 0.0, 0.0, 0.004480946, ...   \n",
              "\n",
              "                                         features_array  \\\n",
              "0     {'type': 1, 'size': None, 'indices': None, 'va...   \n",
              "1     {'type': 1, 'size': None, 'indices': None, 'va...   \n",
              "2     {'type': 1, 'size': None, 'indices': None, 'va...   \n",
              "3     {'type': 1, 'size': None, 'indices': None, 'va...   \n",
              "4     {'type': 1, 'size': None, 'indices': None, 'va...   \n",
              "...                                                 ...   \n",
              "1395  {'type': 1, 'size': None, 'indices': None, 'va...   \n",
              "1396  {'type': 1, 'size': None, 'indices': None, 'va...   \n",
              "1397  {'type': 1, 'size': None, 'indices': None, 'va...   \n",
              "1398  {'type': 1, 'size': None, 'indices': None, 'va...   \n",
              "1399  {'type': 1, 'size': None, 'indices': None, 'va...   \n",
              "\n",
              "                                           pca_features  \n",
              "0     {'type': 1, 'size': None, 'indices': None, 'va...  \n",
              "1     {'type': 1, 'size': None, 'indices': None, 'va...  \n",
              "2     {'type': 1, 'size': None, 'indices': None, 'va...  \n",
              "3     {'type': 1, 'size': None, 'indices': None, 'va...  \n",
              "4     {'type': 1, 'size': None, 'indices': None, 'va...  \n",
              "...                                                 ...  \n",
              "1395  {'type': 1, 'size': None, 'indices': None, 'va...  \n",
              "1396  {'type': 1, 'size': None, 'indices': None, 'va...  \n",
              "1397  {'type': 1, 'size': None, 'indices': None, 'va...  \n",
              "1398  {'type': 1, 'size': None, 'indices': None, 'va...  \n",
              "1399  {'type': 1, 'size': None, 'indices': None, 'va...  \n",
              "\n",
              "[1400 rows x 5 columns]"
            ]
          },
          "execution_count": 133,
          "metadata": {},
          "output_type": "execute_result"
        }
      ],
      "source": [
        "df_result_pca"
      ]
    },
    {
      "cell_type": "code",
      "execution_count": 134,
      "metadata": {
        "colab": {
          "base_uri": "https://localhost:8080/"
        },
        "id": "WBL6eShVio6n",
        "outputId": "8adac670-a50d-41ea-f618-06da72a31d2e"
      },
      "outputs": [
        {
          "data": {
            "text/plain": [
              "array([ 5.94842890e+00,  1.93730939e+00,  1.95208140e+00, -4.18399428e+00,\n",
              "        2.99981380e-01,  4.03388666e+00, -2.40883569e+00,  1.91680731e+00,\n",
              "       -3.03545557e-01, -1.25226712e+00, -1.54774769e+00,  2.72994711e-01,\n",
              "        4.45999908e+00,  5.63274152e-01, -6.25238933e+00,  2.11286170e+00,\n",
              "        1.33074264e+00, -4.19921691e+00,  2.54999802e+00,  1.88672703e+00,\n",
              "       -2.16434051e+00, -1.17371349e+00, -2.37491330e+00, -1.04921603e+00,\n",
              "        2.21702054e+00,  3.36510477e-01, -2.25433813e-01,  1.18994516e+00,\n",
              "       -4.65251479e+00,  2.03955229e+00,  1.05333279e+00, -1.49565236e+00,\n",
              "       -1.56418592e+00, -1.29141852e+00,  2.74836080e+00,  1.35902627e+00,\n",
              "       -1.46856712e+00,  2.53021692e-01,  1.26749778e+00, -1.64438751e+00,\n",
              "       -1.08649661e+00,  4.45900947e-01,  1.01932050e+00, -4.33148452e+00,\n",
              "        1.87471508e+00,  7.92730441e-01, -2.05093746e+00,  1.83163572e+00,\n",
              "       -5.92640726e-01, -1.39597013e+00, -6.11413835e-01, -5.90610589e-04,\n",
              "        2.45515645e+00, -1.53859387e+00, -2.08498155e+00,  1.29664983e+00,\n",
              "        1.20773485e+00, -3.21447715e-01, -2.24494303e-02,  1.67265208e+00,\n",
              "        3.72918169e-01,  4.33223602e-01,  1.53391687e+00, -1.05359191e-01,\n",
              "       -9.61298287e-01,  1.12208929e+00,  4.88626811e-01,  7.64550819e-01,\n",
              "       -1.10107001e+00, -1.88437361e+00, -3.92403252e-01, -6.26625804e-01,\n",
              "       -1.09878003e+00,  1.81095624e+00,  2.31787787e+00,  1.39362775e+00,\n",
              "        6.51829786e-03, -8.28205340e-01, -1.79669375e+00, -5.81496382e-01,\n",
              "        5.84227329e-01,  2.18025573e-02,  2.22357711e-01, -5.49521496e-01,\n",
              "        8.11693982e-01,  1.25107262e+00, -1.56289658e+00, -1.57423920e+00,\n",
              "       -4.46477141e-01, -1.09925829e+00,  6.28616153e-01,  6.31776978e-01,\n",
              "        1.92176415e+00, -1.04894290e+00, -8.02992994e-01,  1.00058527e-01,\n",
              "       -5.53324389e-02,  8.89598507e-01,  8.05970948e-01,  2.54395749e-01,\n",
              "       -1.20001669e+00, -3.04446989e-01, -3.71667881e-01, -1.89949066e-01,\n",
              "        1.08768821e+00,  2.62070673e-01,  2.12775359e-01, -1.12983368e-01,\n",
              "       -1.63603992e+00,  7.11695808e-02,  7.12575896e-01,  8.19409650e-01,\n",
              "        1.91337375e-01, -1.49104367e-01,  9.14530529e-01,  1.26774155e-01,\n",
              "       -1.41316092e-01, -8.61092086e-01, -8.07305351e-01, -2.14242023e-01,\n",
              "       -3.68738040e-01, -2.91442439e-01, -7.92330556e-01, -5.45529304e-02,\n",
              "        9.51116136e-02, -3.91031512e-01, -3.89809803e-01, -1.46558901e-01,\n",
              "       -1.27386232e-01,  1.05765836e-01,  3.03163962e-01, -1.55018180e-01,\n",
              "        8.17164995e-01, -1.01089979e-01, -6.16425305e-01, -4.27871478e-01,\n",
              "        7.33832819e-01,  7.77396240e-01,  3.16872898e-02, -1.68884491e-01,\n",
              "       -3.02356472e-01,  3.27221547e-01, -4.54107494e-01, -9.47525704e-01,\n",
              "        4.08772055e-01, -3.01522515e-01,  1.31376567e-01,  1.45522443e-01,\n",
              "        3.31230708e-02, -7.68083112e-01, -1.14549502e+00,  2.50906756e-01,\n",
              "        1.55446568e-01, -2.41837550e-01, -4.34447218e-01,  2.20383009e-01,\n",
              "       -3.41408998e-01,  1.02551887e+00,  1.75079911e-01,  6.13675335e-01,\n",
              "        1.13797740e+00,  1.13976829e-01, -9.72191082e-01,  1.16889503e-02,\n",
              "       -5.35170723e-01,  4.96675169e-01, -9.03520890e-01,  2.91452044e-01,\n",
              "       -1.16135087e-01,  6.08829426e-02, -6.21615537e-01, -8.93104686e-01,\n",
              "        6.70323994e-01,  7.84649737e-01,  2.83572154e-01,  5.88797753e-01,\n",
              "        5.33963427e-01,  9.55400375e-01, -3.11181047e-01,  4.56429147e-02,\n",
              "       -2.49649105e-01, -5.26654482e-01, -6.88614327e-01, -4.05511759e-01,\n",
              "       -1.01332447e+00, -5.00920152e-01, -4.68217212e-01, -4.78593864e-01,\n",
              "       -2.98079514e-01, -1.36478970e-01,  6.12794836e-01, -9.81499693e-01,\n",
              "        3.04569366e-01, -2.21349523e-01,  1.19716988e-01,  7.09401396e-01,\n",
              "       -8.91610469e-01,  2.92099878e-01,  5.11533223e-01, -5.87354313e-01,\n",
              "        3.61115535e-01,  2.09333785e-01, -2.61225030e-01, -3.01472093e-01,\n",
              "        4.56835886e-01, -7.19268063e-01, -6.00335833e-02, -1.97258986e-01,\n",
              "        1.55516317e-02,  2.58865219e-01,  6.62688018e-02,  7.03644519e-02,\n",
              "       -1.09149503e-01, -2.07539098e-02, -7.55460275e-01, -4.00425170e-01,\n",
              "       -1.77949960e-01,  5.23019327e-01, -4.65404103e-02, -3.81165893e-01,\n",
              "        1.70734924e-01,  1.28341893e-01,  9.95228425e-01,  3.31052070e-01,\n",
              "       -2.44162685e-01, -4.86334874e-01,  3.53142189e-01, -2.24788904e-01,\n",
              "        3.49759423e-01, -1.67995496e-01, -1.75211151e-01, -1.04984260e-02,\n",
              "       -4.43774053e-01, -2.81717044e-02,  9.61220624e-01, -3.91013672e-01,\n",
              "        2.57374468e-01,  4.07968785e-01,  3.28154925e-01,  2.07918587e-02,\n",
              "       -1.95510327e-01, -1.93741286e-01,  4.11976097e-01,  1.93983012e-02,\n",
              "       -3.96038305e-01, -5.39531071e-01,  1.15121138e-01, -5.69066932e-01,\n",
              "        7.17807717e-02,  1.73744197e-01, -5.65407867e-01,  3.86043188e-02,\n",
              "       -9.96116983e-03, -5.63456943e-02,  5.97781675e-01, -2.09347429e-01,\n",
              "       -5.90118660e-01, -3.36537952e-01,  2.23434339e-02, -1.46476202e-01,\n",
              "        8.92915261e-02, -3.15239432e-02, -6.91340169e-02,  2.75511623e-01,\n",
              "       -5.54198081e-01, -1.04708930e-01, -2.18526112e-01, -9.89655290e-03,\n",
              "        7.97006512e-02,  5.78311812e-01, -2.65092949e-01,  4.32911992e-01,\n",
              "       -3.56646846e-01,  3.37132368e-01, -2.59373671e-01,  1.85027840e-01,\n",
              "       -2.58722000e-01,  7.84967216e-01,  2.33262549e-01,  2.68213105e-01,\n",
              "       -8.28891208e-01, -5.20135723e-02,  2.87368560e-01, -2.90341661e-01,\n",
              "        5.48895433e-02, -1.31967982e-01,  1.91519999e-01, -3.78623101e-01,\n",
              "        4.41566502e-01,  2.15638982e-01,  1.81403687e-01, -2.08309825e-02,\n",
              "       -2.68144449e-01,  1.29350760e-01,  5.15330034e-02,  5.19313009e-01,\n",
              "       -5.51871501e-01,  4.24120470e-02,  3.03941058e-01,  2.62400428e-01,\n",
              "        1.99149076e-01,  1.10439701e-01,  1.22377331e-02, -6.98727446e-01,\n",
              "        2.27247150e-01, -1.48720146e-01,  2.09140209e-01, -6.89503458e-02,\n",
              "        3.02142099e-01,  4.75740965e-01, -4.12920735e-01,  2.99182510e-01,\n",
              "        1.91694148e-01, -2.49566346e-01, -9.43718837e-02, -2.36968291e-01,\n",
              "        5.79082173e-02,  1.59152490e-01,  1.54075886e-01, -1.90036016e-03,\n",
              "       -3.26378164e-01,  5.25867049e-01, -3.63259164e-01,  4.62898204e-01,\n",
              "        7.42172536e-02,  2.14565505e-01, -2.19499045e-01,  1.14021960e-01,\n",
              "       -3.18349028e-01,  4.50229385e-01,  5.04956503e-02,  1.80257114e-01,\n",
              "        8.77591798e-02,  7.06520169e-02,  4.23826155e-01, -1.87659974e-01,\n",
              "        5.57458686e-01,  1.20103848e-01, -1.70417049e-01, -5.34078919e-01,\n",
              "       -1.16935056e-02,  4.06000137e-02,  8.82155933e-02,  3.43046344e-01,\n",
              "       -8.54600580e-02,  5.37742428e-02,  1.70950312e-01, -4.83870617e-01,\n",
              "        5.38659917e-02,  2.22253556e-01,  1.34043608e-01, -1.23380892e-01,\n",
              "       -2.75723940e-01,  1.91185482e-01, -3.28119829e-01,  1.35912492e-01,\n",
              "       -1.38377012e-01, -3.26936568e-02,  6.80718641e-02,  3.59019076e-01,\n",
              "        1.06000932e-01, -2.34034484e-01,  5.54436835e-02,  1.65742520e-01,\n",
              "        2.78660801e-01, -1.28221341e-01, -2.47606249e-01,  1.89418819e-01,\n",
              "        1.13727740e-01, -5.65445024e-02, -1.68706955e-01,  3.90694124e-01,\n",
              "        1.93782496e-02,  4.37497225e-02,  2.92808286e-01, -2.89040406e-01,\n",
              "        1.69532665e-01,  3.35893158e-01, -5.82636452e-02,  1.27687469e-01,\n",
              "       -3.63109151e-01,  4.29440690e-01, -5.11054154e-01, -2.97596696e-01,\n",
              "        1.45536720e-01, -1.58676135e-01, -6.77279791e-02,  1.47871992e-01,\n",
              "       -1.02068729e-01,  5.31222234e-02, -3.10279381e-02,  1.93675095e-01,\n",
              "       -3.08065637e-01,  3.06717212e-01,  4.48093113e-02,  2.12079374e-01,\n",
              "       -1.71245549e-01,  2.26433031e-01, -3.67710121e-03,  1.90611120e-01,\n",
              "       -5.51083816e-01,  4.48825373e-01, -6.36189214e-03, -3.15784903e-01,\n",
              "        2.53871124e-01, -5.66418429e-02,  3.74415836e-02,  2.89446749e-01,\n",
              "        8.16602587e-02, -5.15524737e-02,  5.82707022e-01,  2.12516298e-01,\n",
              "        2.62047990e-01, -1.95605585e-01,  3.21453139e-01,  3.72972930e-02,\n",
              "       -2.20718235e-01,  5.98469550e-02, -3.17883644e-01, -1.31539028e-01,\n",
              "        1.79779611e-01,  2.00518519e-01,  2.39191224e-01,  4.84983758e-02,\n",
              "        3.39808861e-01, -1.59307251e-02,  1.28851212e-01,  5.75922625e-02,\n",
              "        2.19981235e-01,  4.41481411e-02,  5.96627375e-02, -5.96470047e-02,\n",
              "        1.09143103e-01, -5.89819250e-02,  1.89847668e-01, -6.70374851e-02,\n",
              "       -7.98053756e-03, -1.45500787e-01,  2.86151171e-01, -4.76600875e-02,\n",
              "        7.81478041e-02, -3.70648360e-01, -9.50829030e-02,  8.82927830e-02,\n",
              "       -1.19513505e-01,  1.02575110e-01,  4.57690844e-02, -3.26001801e-01,\n",
              "       -9.78890321e-02,  1.14725533e-01,  2.02870108e-01,  8.32342202e-02,\n",
              "        3.64527159e-01, -2.85834484e-02,  4.31496051e-01, -1.69914756e-01,\n",
              "       -1.96011747e-01, -1.78286121e-01, -7.64828999e-02, -4.80470973e-03,\n",
              "       -7.32143688e-02, -4.19387853e-01, -6.43580541e-02,  4.37990751e-02,\n",
              "        2.24436151e-01, -9.49642561e-02, -1.76462814e-02, -2.16567826e-02,\n",
              "        2.64342212e-01, -6.24048545e-02, -1.82883825e-01, -2.43755871e-01,\n",
              "        3.77203411e-01, -8.29427360e-02,  1.30318900e-01,  8.98303550e-02,\n",
              "        1.45330634e-01,  5.65714387e-05,  2.02981607e-01,  2.01074037e-01,\n",
              "        1.28231575e-01,  1.58840148e-01, -5.44087124e-02, -8.23058015e-02,\n",
              "       -5.56458852e-02,  2.35888103e-01,  2.97932996e-01, -1.26289677e-01,\n",
              "        7.47130460e-03,  5.17139935e-02,  3.03499549e-01,  1.54359319e-01,\n",
              "       -3.20877983e-01, -1.85859737e-01,  3.40336764e-02,  1.07291554e-01,\n",
              "        1.10112351e-01, -2.75603524e-02,  5.68856259e-02,  1.18490978e-01,\n",
              "        4.76518044e-02,  9.28705282e-02,  2.03068625e-01,  1.52228448e-01,\n",
              "        1.64745611e-01,  2.01311391e-01,  8.51633684e-03,  2.12475043e-01,\n",
              "       -4.01182773e-01,  1.22402217e-01, -2.78997386e-02,  1.78672228e-02,\n",
              "       -7.42612659e-02,  2.27305578e-01,  5.72916100e-02, -2.60694482e-01,\n",
              "       -1.93932112e-01,  6.47096176e-02, -1.37662548e-01, -1.86494010e-02,\n",
              "        2.06252663e-01,  2.70493605e-01,  3.97750696e-02,  6.96306089e-02,\n",
              "       -1.47434774e-01, -1.16686334e-01,  1.16298669e-01,  4.64573239e-02,\n",
              "       -6.26238154e-02,  1.32750476e-01, -2.35760974e-01, -1.29949315e-01,\n",
              "       -2.32071973e-01, -1.13734782e-02, -1.51378156e-01, -2.50699836e-01,\n",
              "        1.57661197e-01,  3.07838503e-01, -1.15371709e-01,  3.55196073e-01,\n",
              "       -6.86679829e-02,  1.26249927e-02, -9.92905865e-02, -7.19144656e-03,\n",
              "        2.00628665e-01,  1.27056747e-01, -6.77493792e-02, -5.56957794e-02,\n",
              "       -6.81530475e-03, -6.44145491e-02,  1.73532398e-01,  2.60452207e-02,\n",
              "        1.91911205e-01,  2.18189273e-01,  2.07550730e-01, -4.57252829e-02,\n",
              "       -1.07706203e-01,  2.49230713e-01,  8.39384868e-02,  1.37976719e-02,\n",
              "        1.06114047e-01,  6.00320700e-02, -1.59957801e-01,  6.13267035e-02,\n",
              "       -3.55500002e-02,  9.71804034e-02, -1.23397002e-01,  2.27576726e-01,\n",
              "       -2.02323690e-02, -9.17415647e-02,  1.89282424e-01, -2.71043418e-01,\n",
              "        3.43199560e-01,  2.40774309e-02,  1.14568302e-02,  1.71822962e-01,\n",
              "        1.13838756e-01,  9.86709677e-02,  2.45478398e-02,  1.97371981e-01,\n",
              "       -2.02994337e-01, -1.69450725e-01,  1.89129947e-01,  6.00652754e-03,\n",
              "       -9.73249046e-02,  6.01517143e-02, -2.18167456e-02, -2.73783112e-01,\n",
              "        5.40120421e-03, -2.24786557e-01, -2.15988703e-01, -1.28971603e-01,\n",
              "        1.15314175e-01,  1.70495099e-01,  1.45842562e-02,  2.96696240e-01,\n",
              "        6.47423398e-02,  1.07677968e-01, -6.68759556e-02,  1.58300331e-02])"
            ]
          },
          "execution_count": 134,
          "metadata": {},
          "output_type": "execute_result"
        }
      ],
      "source": [
        "df_result_pca.loc[0, 'pca_features']['values']"
      ]
    },
    {
      "cell_type": "markdown",
      "metadata": {},
      "source": [
        "### <span style='background:black'>d/Création du fichier csv</span>\n",
        "\n",
        "Nous chargeons les données dans un DataFrame Pandas."
      ]
    },
    {
      "cell_type": "code",
      "execution_count": null,
      "metadata": {},
      "outputs": [],
      "source": [
        "# Charger les résultats de l'ACP dans un DataFrame Pandas\n",
        "df_result_pca = pd.read_parquet(PATH_Result_pca_parquet, engine='pyarrow')\n",
        "display(df_result_pca.head())"
      ]
    },
    {
      "cell_type": "markdown",
      "metadata": {},
      "source": [
        "Nous remarquons que les valeurs issues de l'ACP sont présentes dans un array qui est lui-même au sein du dictionnaire de la colonne 'pca_features'."
      ]
    },
    {
      "cell_type": "code",
      "execution_count": null,
      "metadata": {},
      "outputs": [],
      "source": [
        "# Afficher les valeurs de la première ligne de la colonne pca_features\n",
        "df_result_pca.loc[0, 'pca_features']['values']"
      ]
    },
    {
      "cell_type": "markdown",
      "metadata": {},
      "source": [
        "Nous créons une nouvelle colonne \"values\" qui contient ces valeurs et nous exportons le DataFrame en fichier csv."
      ]
    },
    {
      "cell_type": "code",
      "execution_count": 135,
      "metadata": {
        "id": "f0J9aiHnkUkD"
      },
      "outputs": [],
      "source": [
        "# Creation d'une colonne 'values' contenant les valeurs des composantes\n",
        "df_result_pca['values'] = df_result_pca['pca_features'].apply(\n",
        "    lambda x: x['values']\n",
        ")\n",
        "\n",
        "# Convertion de la colonne 'values' en DataFrame\n",
        "values_df = df_result_pca['values'].apply(pd.DataFrame).reset_index(drop=True)\n",
        "\n",
        "# Création du chemin du fichier CSV\n",
        "csv_path = os.path.join(PATH_Result_pca_csv, 'values_pca.csv')\n",
        "\n",
        "# Export du dataframe en fichier CSV\n",
        "values_df.to_csv(csv_path, index=False)"
      ]
    },
    {
      "cell_type": "markdown",
      "metadata": {},
      "source": [
        "Nous importons le fichier csv pour vérifier son contenu."
      ]
    },
    {
      "cell_type": "code",
      "execution_count": 136,
      "metadata": {
        "colab": {
          "base_uri": "https://localhost:8080/",
          "height": 424
        },
        "id": "Zrl7kdV_kbyA",
        "outputId": "14f6cf1a-6517-4cbe-cf81-e16cc8184391"
      },
      "outputs": [
        {
          "data": {
            "application/vnd.google.colaboratory.intrinsic+json": {
              "type": "dataframe",
              "variable_name": "values_pca_df"
            },
            "text/html": [
              "\n",
              "  <div id=\"df-bedee2a8-5af6-45b3-9a8a-b3e597a55b85\" class=\"colab-df-container\">\n",
              "    <div>\n",
              "<style scoped>\n",
              "    .dataframe tbody tr th:only-of-type {\n",
              "        vertical-align: middle;\n",
              "    }\n",
              "\n",
              "    .dataframe tbody tr th {\n",
              "        vertical-align: top;\n",
              "    }\n",
              "\n",
              "    .dataframe thead th {\n",
              "        text-align: right;\n",
              "    }\n",
              "</style>\n",
              "<table border=\"1\" class=\"dataframe\">\n",
              "  <thead>\n",
              "    <tr style=\"text-align: right;\">\n",
              "      <th></th>\n",
              "      <th>0</th>\n",
              "      <th>1</th>\n",
              "      <th>2</th>\n",
              "      <th>3</th>\n",
              "      <th>4</th>\n",
              "      <th>5</th>\n",
              "      <th>6</th>\n",
              "      <th>7</th>\n",
              "      <th>8</th>\n",
              "      <th>9</th>\n",
              "      <th>...</th>\n",
              "      <th>590</th>\n",
              "      <th>591</th>\n",
              "      <th>592</th>\n",
              "      <th>593</th>\n",
              "      <th>594</th>\n",
              "      <th>595</th>\n",
              "      <th>596</th>\n",
              "      <th>597</th>\n",
              "      <th>598</th>\n",
              "      <th>599</th>\n",
              "    </tr>\n",
              "  </thead>\n",
              "  <tbody>\n",
              "    <tr>\n",
              "      <th>0</th>\n",
              "      <td>5.948429</td>\n",
              "      <td>1.937309</td>\n",
              "      <td>1.952081</td>\n",
              "      <td>-4.183994</td>\n",
              "      <td>0.299981</td>\n",
              "      <td>4.033887</td>\n",
              "      <td>-2.408836</td>\n",
              "      <td>1.916807</td>\n",
              "      <td>-0.303546</td>\n",
              "      <td>-1.252267</td>\n",
              "      <td>...</td>\n",
              "      <td>-0.215989</td>\n",
              "      <td>-0.128972</td>\n",
              "      <td>0.115314</td>\n",
              "      <td>0.170495</td>\n",
              "      <td>0.014584</td>\n",
              "      <td>0.296696</td>\n",
              "      <td>0.064742</td>\n",
              "      <td>0.107678</td>\n",
              "      <td>-0.066876</td>\n",
              "      <td>0.015830</td>\n",
              "    </tr>\n",
              "    <tr>\n",
              "      <th>1</th>\n",
              "      <td>6.889809</td>\n",
              "      <td>-2.938019</td>\n",
              "      <td>2.774483</td>\n",
              "      <td>-4.523400</td>\n",
              "      <td>-3.493311</td>\n",
              "      <td>1.903702</td>\n",
              "      <td>-1.926287</td>\n",
              "      <td>1.203354</td>\n",
              "      <td>-1.895595</td>\n",
              "      <td>2.843713</td>\n",
              "      <td>...</td>\n",
              "      <td>-0.261677</td>\n",
              "      <td>-0.103547</td>\n",
              "      <td>0.118430</td>\n",
              "      <td>0.138473</td>\n",
              "      <td>-0.028621</td>\n",
              "      <td>0.386584</td>\n",
              "      <td>-0.005697</td>\n",
              "      <td>0.122754</td>\n",
              "      <td>-0.007066</td>\n",
              "      <td>-0.010394</td>\n",
              "    </tr>\n",
              "    <tr>\n",
              "      <th>2</th>\n",
              "      <td>5.838759</td>\n",
              "      <td>-3.107685</td>\n",
              "      <td>3.698646</td>\n",
              "      <td>0.781711</td>\n",
              "      <td>-2.671348</td>\n",
              "      <td>0.915284</td>\n",
              "      <td>-4.814949</td>\n",
              "      <td>7.917868</td>\n",
              "      <td>-1.628783</td>\n",
              "      <td>2.176560</td>\n",
              "      <td>...</td>\n",
              "      <td>-0.222094</td>\n",
              "      <td>-0.138797</td>\n",
              "      <td>0.095794</td>\n",
              "      <td>0.116335</td>\n",
              "      <td>0.037951</td>\n",
              "      <td>0.327183</td>\n",
              "      <td>-0.088494</td>\n",
              "      <td>0.140816</td>\n",
              "      <td>0.099443</td>\n",
              "      <td>-0.029745</td>\n",
              "    </tr>\n",
              "    <tr>\n",
              "      <th>3</th>\n",
              "      <td>4.372832</td>\n",
              "      <td>2.648204</td>\n",
              "      <td>-0.312655</td>\n",
              "      <td>-4.697692</td>\n",
              "      <td>1.977012</td>\n",
              "      <td>2.872878</td>\n",
              "      <td>-1.773569</td>\n",
              "      <td>1.250132</td>\n",
              "      <td>-0.173296</td>\n",
              "      <td>-1.097293</td>\n",
              "      <td>...</td>\n",
              "      <td>-0.248120</td>\n",
              "      <td>-0.186935</td>\n",
              "      <td>0.054312</td>\n",
              "      <td>0.067535</td>\n",
              "      <td>0.007694</td>\n",
              "      <td>0.390491</td>\n",
              "      <td>-0.062608</td>\n",
              "      <td>0.127580</td>\n",
              "      <td>0.028567</td>\n",
              "      <td>0.107765</td>\n",
              "    </tr>\n",
              "    <tr>\n",
              "      <th>4</th>\n",
              "      <td>5.515549</td>\n",
              "      <td>-3.018862</td>\n",
              "      <td>3.212358</td>\n",
              "      <td>-0.487114</td>\n",
              "      <td>-2.756908</td>\n",
              "      <td>1.653326</td>\n",
              "      <td>-4.000674</td>\n",
              "      <td>7.620791</td>\n",
              "      <td>-0.980776</td>\n",
              "      <td>1.569827</td>\n",
              "      <td>...</td>\n",
              "      <td>-0.254655</td>\n",
              "      <td>-0.236305</td>\n",
              "      <td>0.120466</td>\n",
              "      <td>0.060611</td>\n",
              "      <td>-0.018757</td>\n",
              "      <td>0.322143</td>\n",
              "      <td>-0.017612</td>\n",
              "      <td>0.003245</td>\n",
              "      <td>-0.010141</td>\n",
              "      <td>0.126969</td>\n",
              "    </tr>\n",
              "    <tr>\n",
              "      <th>...</th>\n",
              "      <td>...</td>\n",
              "      <td>...</td>\n",
              "      <td>...</td>\n",
              "      <td>...</td>\n",
              "      <td>...</td>\n",
              "      <td>...</td>\n",
              "      <td>...</td>\n",
              "      <td>...</td>\n",
              "      <td>...</td>\n",
              "      <td>...</td>\n",
              "      <td>...</td>\n",
              "      <td>...</td>\n",
              "      <td>...</td>\n",
              "      <td>...</td>\n",
              "      <td>...</td>\n",
              "      <td>...</td>\n",
              "      <td>...</td>\n",
              "      <td>...</td>\n",
              "      <td>...</td>\n",
              "      <td>...</td>\n",
              "      <td>...</td>\n",
              "    </tr>\n",
              "    <tr>\n",
              "      <th>1395</th>\n",
              "      <td>-11.585309</td>\n",
              "      <td>1.094714</td>\n",
              "      <td>-4.552549</td>\n",
              "      <td>-3.807686</td>\n",
              "      <td>-6.870581</td>\n",
              "      <td>4.503956</td>\n",
              "      <td>-3.396808</td>\n",
              "      <td>3.226688</td>\n",
              "      <td>-0.056828</td>\n",
              "      <td>-0.965089</td>\n",
              "      <td>...</td>\n",
              "      <td>-0.213265</td>\n",
              "      <td>-0.181111</td>\n",
              "      <td>0.105717</td>\n",
              "      <td>0.170985</td>\n",
              "      <td>-0.033977</td>\n",
              "      <td>0.321151</td>\n",
              "      <td>-0.009939</td>\n",
              "      <td>0.122030</td>\n",
              "      <td>-0.049573</td>\n",
              "      <td>0.049639</td>\n",
              "    </tr>\n",
              "    <tr>\n",
              "      <th>1396</th>\n",
              "      <td>-10.182073</td>\n",
              "      <td>-3.217230</td>\n",
              "      <td>-4.730994</td>\n",
              "      <td>-4.635062</td>\n",
              "      <td>-5.114321</td>\n",
              "      <td>3.907801</td>\n",
              "      <td>-4.411277</td>\n",
              "      <td>0.804976</td>\n",
              "      <td>0.115435</td>\n",
              "      <td>-1.152460</td>\n",
              "      <td>...</td>\n",
              "      <td>-0.264234</td>\n",
              "      <td>-0.186431</td>\n",
              "      <td>0.067893</td>\n",
              "      <td>0.064008</td>\n",
              "      <td>-0.016387</td>\n",
              "      <td>0.341005</td>\n",
              "      <td>0.018724</td>\n",
              "      <td>0.075961</td>\n",
              "      <td>0.015518</td>\n",
              "      <td>0.159089</td>\n",
              "    </tr>\n",
              "    <tr>\n",
              "      <th>1397</th>\n",
              "      <td>-12.341293</td>\n",
              "      <td>-4.365907</td>\n",
              "      <td>-4.191993</td>\n",
              "      <td>-4.611495</td>\n",
              "      <td>-4.141735</td>\n",
              "      <td>2.971214</td>\n",
              "      <td>-4.216890</td>\n",
              "      <td>1.506206</td>\n",
              "      <td>-1.758828</td>\n",
              "      <td>-1.527339</td>\n",
              "      <td>...</td>\n",
              "      <td>-0.174072</td>\n",
              "      <td>-0.116946</td>\n",
              "      <td>0.049944</td>\n",
              "      <td>0.195685</td>\n",
              "      <td>-0.085467</td>\n",
              "      <td>0.311641</td>\n",
              "      <td>0.009083</td>\n",
              "      <td>0.080613</td>\n",
              "      <td>-0.058103</td>\n",
              "      <td>0.059098</td>\n",
              "    </tr>\n",
              "    <tr>\n",
              "      <th>1398</th>\n",
              "      <td>-10.818610</td>\n",
              "      <td>-3.599150</td>\n",
              "      <td>-4.356753</td>\n",
              "      <td>-4.427259</td>\n",
              "      <td>-4.224480</td>\n",
              "      <td>2.776603</td>\n",
              "      <td>-4.886380</td>\n",
              "      <td>2.310269</td>\n",
              "      <td>-0.612646</td>\n",
              "      <td>-1.345814</td>\n",
              "      <td>...</td>\n",
              "      <td>-0.295866</td>\n",
              "      <td>-0.219334</td>\n",
              "      <td>0.128831</td>\n",
              "      <td>0.125541</td>\n",
              "      <td>-0.030002</td>\n",
              "      <td>0.352455</td>\n",
              "      <td>-0.002257</td>\n",
              "      <td>0.159777</td>\n",
              "      <td>-0.009020</td>\n",
              "      <td>0.034139</td>\n",
              "    </tr>\n",
              "    <tr>\n",
              "      <th>1399</th>\n",
              "      <td>-13.362220</td>\n",
              "      <td>-4.913422</td>\n",
              "      <td>-3.089937</td>\n",
              "      <td>-4.410479</td>\n",
              "      <td>-4.623518</td>\n",
              "      <td>2.418628</td>\n",
              "      <td>-3.477663</td>\n",
              "      <td>1.890140</td>\n",
              "      <td>-2.951386</td>\n",
              "      <td>-2.071631</td>\n",
              "      <td>...</td>\n",
              "      <td>-0.283257</td>\n",
              "      <td>-0.125882</td>\n",
              "      <td>0.155235</td>\n",
              "      <td>0.143325</td>\n",
              "      <td>-0.037390</td>\n",
              "      <td>0.355366</td>\n",
              "      <td>-0.026347</td>\n",
              "      <td>0.164889</td>\n",
              "      <td>-0.012223</td>\n",
              "      <td>0.074221</td>\n",
              "    </tr>\n",
              "  </tbody>\n",
              "</table>\n",
              "<p>1400 rows × 600 columns</p>\n",
              "</div>\n",
              "    <div class=\"colab-df-buttons\">\n",
              "\n",
              "  <div class=\"colab-df-container\">\n",
              "    <button class=\"colab-df-convert\" onclick=\"convertToInteractive('df-bedee2a8-5af6-45b3-9a8a-b3e597a55b85')\"\n",
              "            title=\"Convert this dataframe to an interactive table.\"\n",
              "            style=\"display:none;\">\n",
              "\n",
              "  <svg xmlns=\"http://www.w3.org/2000/svg\" height=\"24px\" viewBox=\"0 -960 960 960\">\n",
              "    <path d=\"M120-120v-720h720v720H120Zm60-500h600v-160H180v160Zm220 220h160v-160H400v160Zm0 220h160v-160H400v160ZM180-400h160v-160H180v160Zm440 0h160v-160H620v160ZM180-180h160v-160H180v160Zm440 0h160v-160H620v160Z\"/>\n",
              "  </svg>\n",
              "    </button>\n",
              "\n",
              "  <style>\n",
              "    .colab-df-container {\n",
              "      display:flex;\n",
              "      gap: 12px;\n",
              "    }\n",
              "\n",
              "    .colab-df-convert {\n",
              "      background-color: #E8F0FE;\n",
              "      border: none;\n",
              "      border-radius: 50%;\n",
              "      cursor: pointer;\n",
              "      display: none;\n",
              "      fill: #1967D2;\n",
              "      height: 32px;\n",
              "      padding: 0 0 0 0;\n",
              "      width: 32px;\n",
              "    }\n",
              "\n",
              "    .colab-df-convert:hover {\n",
              "      background-color: #E2EBFA;\n",
              "      box-shadow: 0px 1px 2px rgba(60, 64, 67, 0.3), 0px 1px 3px 1px rgba(60, 64, 67, 0.15);\n",
              "      fill: #174EA6;\n",
              "    }\n",
              "\n",
              "    .colab-df-buttons div {\n",
              "      margin-bottom: 4px;\n",
              "    }\n",
              "\n",
              "    [theme=dark] .colab-df-convert {\n",
              "      background-color: #3B4455;\n",
              "      fill: #D2E3FC;\n",
              "    }\n",
              "\n",
              "    [theme=dark] .colab-df-convert:hover {\n",
              "      background-color: #434B5C;\n",
              "      box-shadow: 0px 1px 3px 1px rgba(0, 0, 0, 0.15);\n",
              "      filter: drop-shadow(0px 1px 2px rgba(0, 0, 0, 0.3));\n",
              "      fill: #FFFFFF;\n",
              "    }\n",
              "  </style>\n",
              "\n",
              "    <script>\n",
              "      const buttonEl =\n",
              "        document.querySelector('#df-bedee2a8-5af6-45b3-9a8a-b3e597a55b85 button.colab-df-convert');\n",
              "      buttonEl.style.display =\n",
              "        google.colab.kernel.accessAllowed ? 'block' : 'none';\n",
              "\n",
              "      async function convertToInteractive(key) {\n",
              "        const element = document.querySelector('#df-bedee2a8-5af6-45b3-9a8a-b3e597a55b85');\n",
              "        const dataTable =\n",
              "          await google.colab.kernel.invokeFunction('convertToInteractive',\n",
              "                                                    [key], {});\n",
              "        if (!dataTable) return;\n",
              "\n",
              "        const docLinkHtml = 'Like what you see? Visit the ' +\n",
              "          '<a target=\"_blank\" href=https://colab.research.google.com/notebooks/data_table.ipynb>data table notebook</a>'\n",
              "          + ' to learn more about interactive tables.';\n",
              "        element.innerHTML = '';\n",
              "        dataTable['output_type'] = 'display_data';\n",
              "        await google.colab.output.renderOutput(dataTable, element);\n",
              "        const docLink = document.createElement('div');\n",
              "        docLink.innerHTML = docLinkHtml;\n",
              "        element.appendChild(docLink);\n",
              "      }\n",
              "    </script>\n",
              "  </div>\n",
              "\n",
              "\n",
              "<div id=\"df-22ce69a0-d06a-428c-99fe-7fcceb33d5fb\">\n",
              "  <button class=\"colab-df-quickchart\" onclick=\"quickchart('df-22ce69a0-d06a-428c-99fe-7fcceb33d5fb')\"\n",
              "            title=\"Suggest charts\"\n",
              "            style=\"display:none;\">\n",
              "\n",
              "<svg xmlns=\"http://www.w3.org/2000/svg\" height=\"24px\"viewBox=\"0 0 24 24\"\n",
              "     width=\"24px\">\n",
              "    <g>\n",
              "        <path d=\"M19 3H5c-1.1 0-2 .9-2 2v14c0 1.1.9 2 2 2h14c1.1 0 2-.9 2-2V5c0-1.1-.9-2-2-2zM9 17H7v-7h2v7zm4 0h-2V7h2v10zm4 0h-2v-4h2v4z\"/>\n",
              "    </g>\n",
              "</svg>\n",
              "  </button>\n",
              "\n",
              "<style>\n",
              "  .colab-df-quickchart {\n",
              "      --bg-color: #E8F0FE;\n",
              "      --fill-color: #1967D2;\n",
              "      --hover-bg-color: #E2EBFA;\n",
              "      --hover-fill-color: #174EA6;\n",
              "      --disabled-fill-color: #AAA;\n",
              "      --disabled-bg-color: #DDD;\n",
              "  }\n",
              "\n",
              "  [theme=dark] .colab-df-quickchart {\n",
              "      --bg-color: #3B4455;\n",
              "      --fill-color: #D2E3FC;\n",
              "      --hover-bg-color: #434B5C;\n",
              "      --hover-fill-color: #FFFFFF;\n",
              "      --disabled-bg-color: #3B4455;\n",
              "      --disabled-fill-color: #666;\n",
              "  }\n",
              "\n",
              "  .colab-df-quickchart {\n",
              "    background-color: var(--bg-color);\n",
              "    border: none;\n",
              "    border-radius: 50%;\n",
              "    cursor: pointer;\n",
              "    display: none;\n",
              "    fill: var(--fill-color);\n",
              "    height: 32px;\n",
              "    padding: 0;\n",
              "    width: 32px;\n",
              "  }\n",
              "\n",
              "  .colab-df-quickchart:hover {\n",
              "    background-color: var(--hover-bg-color);\n",
              "    box-shadow: 0 1px 2px rgba(60, 64, 67, 0.3), 0 1px 3px 1px rgba(60, 64, 67, 0.15);\n",
              "    fill: var(--button-hover-fill-color);\n",
              "  }\n",
              "\n",
              "  .colab-df-quickchart-complete:disabled,\n",
              "  .colab-df-quickchart-complete:disabled:hover {\n",
              "    background-color: var(--disabled-bg-color);\n",
              "    fill: var(--disabled-fill-color);\n",
              "    box-shadow: none;\n",
              "  }\n",
              "\n",
              "  .colab-df-spinner {\n",
              "    border: 2px solid var(--fill-color);\n",
              "    border-color: transparent;\n",
              "    border-bottom-color: var(--fill-color);\n",
              "    animation:\n",
              "      spin 1s steps(1) infinite;\n",
              "  }\n",
              "\n",
              "  @keyframes spin {\n",
              "    0% {\n",
              "      border-color: transparent;\n",
              "      border-bottom-color: var(--fill-color);\n",
              "      border-left-color: var(--fill-color);\n",
              "    }\n",
              "    20% {\n",
              "      border-color: transparent;\n",
              "      border-left-color: var(--fill-color);\n",
              "      border-top-color: var(--fill-color);\n",
              "    }\n",
              "    30% {\n",
              "      border-color: transparent;\n",
              "      border-left-color: var(--fill-color);\n",
              "      border-top-color: var(--fill-color);\n",
              "      border-right-color: var(--fill-color);\n",
              "    }\n",
              "    40% {\n",
              "      border-color: transparent;\n",
              "      border-right-color: var(--fill-color);\n",
              "      border-top-color: var(--fill-color);\n",
              "    }\n",
              "    60% {\n",
              "      border-color: transparent;\n",
              "      border-right-color: var(--fill-color);\n",
              "    }\n",
              "    80% {\n",
              "      border-color: transparent;\n",
              "      border-right-color: var(--fill-color);\n",
              "      border-bottom-color: var(--fill-color);\n",
              "    }\n",
              "    90% {\n",
              "      border-color: transparent;\n",
              "      border-bottom-color: var(--fill-color);\n",
              "    }\n",
              "  }\n",
              "</style>\n",
              "\n",
              "  <script>\n",
              "    async function quickchart(key) {\n",
              "      const quickchartButtonEl =\n",
              "        document.querySelector('#' + key + ' button');\n",
              "      quickchartButtonEl.disabled = true;  // To prevent multiple clicks.\n",
              "      quickchartButtonEl.classList.add('colab-df-spinner');\n",
              "      try {\n",
              "        const charts = await google.colab.kernel.invokeFunction(\n",
              "            'suggestCharts', [key], {});\n",
              "      } catch (error) {\n",
              "        console.error('Error during call to suggestCharts:', error);\n",
              "      }\n",
              "      quickchartButtonEl.classList.remove('colab-df-spinner');\n",
              "      quickchartButtonEl.classList.add('colab-df-quickchart-complete');\n",
              "    }\n",
              "    (() => {\n",
              "      let quickchartButtonEl =\n",
              "        document.querySelector('#df-22ce69a0-d06a-428c-99fe-7fcceb33d5fb button');\n",
              "      quickchartButtonEl.style.display =\n",
              "        google.colab.kernel.accessAllowed ? 'block' : 'none';\n",
              "    })();\n",
              "  </script>\n",
              "</div>\n",
              "    </div>\n",
              "  </div>\n"
            ],
            "text/plain": [
              "              0         1         2         3         4         5         6  \\\n",
              "0      5.948429  1.937309  1.952081 -4.183994  0.299981  4.033887 -2.408836   \n",
              "1      6.889809 -2.938019  2.774483 -4.523400 -3.493311  1.903702 -1.926287   \n",
              "2      5.838759 -3.107685  3.698646  0.781711 -2.671348  0.915284 -4.814949   \n",
              "3      4.372832  2.648204 -0.312655 -4.697692  1.977012  2.872878 -1.773569   \n",
              "4      5.515549 -3.018862  3.212358 -0.487114 -2.756908  1.653326 -4.000674   \n",
              "...         ...       ...       ...       ...       ...       ...       ...   \n",
              "1395 -11.585309  1.094714 -4.552549 -3.807686 -6.870581  4.503956 -3.396808   \n",
              "1396 -10.182073 -3.217230 -4.730994 -4.635062 -5.114321  3.907801 -4.411277   \n",
              "1397 -12.341293 -4.365907 -4.191993 -4.611495 -4.141735  2.971214 -4.216890   \n",
              "1398 -10.818610 -3.599150 -4.356753 -4.427259 -4.224480  2.776603 -4.886380   \n",
              "1399 -13.362220 -4.913422 -3.089937 -4.410479 -4.623518  2.418628 -3.477663   \n",
              "\n",
              "             7         8         9  ...       590       591       592  \\\n",
              "0     1.916807 -0.303546 -1.252267  ... -0.215989 -0.128972  0.115314   \n",
              "1     1.203354 -1.895595  2.843713  ... -0.261677 -0.103547  0.118430   \n",
              "2     7.917868 -1.628783  2.176560  ... -0.222094 -0.138797  0.095794   \n",
              "3     1.250132 -0.173296 -1.097293  ... -0.248120 -0.186935  0.054312   \n",
              "4     7.620791 -0.980776  1.569827  ... -0.254655 -0.236305  0.120466   \n",
              "...        ...       ...       ...  ...       ...       ...       ...   \n",
              "1395  3.226688 -0.056828 -0.965089  ... -0.213265 -0.181111  0.105717   \n",
              "1396  0.804976  0.115435 -1.152460  ... -0.264234 -0.186431  0.067893   \n",
              "1397  1.506206 -1.758828 -1.527339  ... -0.174072 -0.116946  0.049944   \n",
              "1398  2.310269 -0.612646 -1.345814  ... -0.295866 -0.219334  0.128831   \n",
              "1399  1.890140 -2.951386 -2.071631  ... -0.283257 -0.125882  0.155235   \n",
              "\n",
              "           593       594       595       596       597       598       599  \n",
              "0     0.170495  0.014584  0.296696  0.064742  0.107678 -0.066876  0.015830  \n",
              "1     0.138473 -0.028621  0.386584 -0.005697  0.122754 -0.007066 -0.010394  \n",
              "2     0.116335  0.037951  0.327183 -0.088494  0.140816  0.099443 -0.029745  \n",
              "3     0.067535  0.007694  0.390491 -0.062608  0.127580  0.028567  0.107765  \n",
              "4     0.060611 -0.018757  0.322143 -0.017612  0.003245 -0.010141  0.126969  \n",
              "...        ...       ...       ...       ...       ...       ...       ...  \n",
              "1395  0.170985 -0.033977  0.321151 -0.009939  0.122030 -0.049573  0.049639  \n",
              "1396  0.064008 -0.016387  0.341005  0.018724  0.075961  0.015518  0.159089  \n",
              "1397  0.195685 -0.085467  0.311641  0.009083  0.080613 -0.058103  0.059098  \n",
              "1398  0.125541 -0.030002  0.352455 -0.002257  0.159777 -0.009020  0.034139  \n",
              "1399  0.143325 -0.037390  0.355366 -0.026347  0.164889 -0.012223  0.074221  \n",
              "\n",
              "[1400 rows x 600 columns]"
            ]
          },
          "execution_count": 136,
          "metadata": {},
          "output_type": "execute_result"
        }
      ],
      "source": [
        "values_pca_df = pd.read_csv(csv_path)\n",
        "display(values_pca_df)"
      ]
    },
    {
      "cell_type": "markdown",
      "metadata": {
        "id": "bVRXs5gXr0QK"
      },
      "source": [
        "## <span style='background:green'>5/Visualisation SaprkUI</span>\n",
        "\n",
        "Nous visualisons l'interface utilisateur de SparkUI pour vérifier les différentes étapes du traitement. Pour cela, nous utilisons la librairie \"ngrok\" pour exposer l'interface utilisateur de SparkUI sur un serveur distant."
      ]
    },
    {
      "cell_type": "code",
      "execution_count": 139,
      "metadata": {
        "colab": {
          "base_uri": "https://localhost:8080/"
        },
        "id": "y8_-LNvir5Lh",
        "outputId": "b45536e0-8cc3-4861-aec2-82b82dbd5ee5"
      },
      "outputs": [
        {
          "name": "stdout",
          "output_type": "stream",
          "text": [
            "Enter your authtoken, which can be copied from https://dashboard.ngrok.com/auth\n",
            "··········\n"
          ]
        },
        {
          "name": "stderr",
          "output_type": "stream",
          "text": [
            "WARNING:pyngrok.process.ngrok:t=2024-05-24T14:02:38+0000 lvl=warn msg=\"can't bind default web address, trying alternatives\" obj=web addr=127.0.0.1:4040\n"
          ]
        },
        {
          "name": "stdout",
          "output_type": "stream",
          "text": [
            " * ngrok tunnel \"https://24f8-34-30-176-64.ngrok-free.app\" -> \"http://888955ff62c5:4040\"\n"
          ]
        }
      ],
      "source": [
        "print(\"Enter your authtoken, which can be copied from https://dashboard.ngrok.com/auth\")\n",
        "conf.get_default().auth_token = getpass.getpass()\n",
        "port=4040\n",
        "public_url = ngrok.connect(port).public_url\n",
        "print(f' * ngrok tunnel \\\"{public_url}\\\" -> \\\"http://888955ff62c5:{port}\\\"')"
      ]
    },
    {
      "cell_type": "markdown",
      "metadata": {
        "id": "x-2rctABOwbZ"
      },
      "source": [
        "<div class=\"alert alert-block alert-success\"><b>Bilan: </b>\n",
        "\n",
        "Le fichier....<br>"
      ]
    },
    {
      "cell_type": "markdown",
      "metadata": {
        "id": "LGaU0dnBOwbZ"
      },
      "source": [
        "# <span style='background:blue'>Conclusion</span>\n",
        "\n",
        "Ici"
      ]
    },
    {
      "cell_type": "code",
      "execution_count": 138,
      "metadata": {
        "colab": {
          "base_uri": "https://localhost:8080/"
        },
        "id": "iVaGNJktOwbZ",
        "outputId": "5480ce12-db73-48e4-c4f2-b39b4bf6887c"
      },
      "outputs": [
        {
          "name": "stdout",
          "output_type": "stream",
          "text": [
            "Durée execution notebook : 13 min 29 sec\n"
          ]
        }
      ],
      "source": [
        "# Afficher temps d'exécution du notebook\n",
        "calculer_duree_notebook(start_time)"
      ]
    }
  ],
  "metadata": {
    "accelerator": "GPU",
    "colab": {
      "gpuType": "T4",
      "include_colab_link": true,
      "provenance": []
    },
    "kernelspec": {
      "display_name": "Python 3",
      "name": "python3"
    },
    "language_info": {
      "codemirror_mode": {
        "name": "ipython",
        "version": 3
      },
      "file_extension": ".py",
      "mimetype": "text/x-python",
      "name": "python",
      "nbconvert_exporter": "python",
      "pygments_lexer": "ipython3",
      "version": "3.11.5"
    }
  },
  "nbformat": 4,
  "nbformat_minor": 0
}
