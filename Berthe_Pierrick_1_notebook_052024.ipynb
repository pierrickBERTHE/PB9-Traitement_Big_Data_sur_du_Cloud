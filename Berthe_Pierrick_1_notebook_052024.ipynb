{
  "cells": [
    {
      "cell_type": "markdown",
      "metadata": {
        "colab_type": "text",
        "id": "view-in-github"
      },
      "source": [
        "<a href=\"https://colab.research.google.com/github/pierrickBERTHE/Projet9_OCR_DataScientist/blob/main/Berthe_Pierrick_1_notebook_052024.ipynb\" target=\"_parent\"><img src=\"https://colab.research.google.com/assets/colab-badge.svg\" alt=\"Open In Colab\"/></a>"
      ]
    },
    {
      "cell_type": "markdown",
      "metadata": {
        "id": "AOMEXQFnOwa3"
      },
      "source": [
        "# <span style='color:SteelBlue'>P9 - Réalisez un traitement dans un environnement Big Data sur le Cloud</span>"
      ]
    },
    {
      "cell_type": "markdown",
      "metadata": {
        "id": "cVW_0XjDOwa6"
      },
      "source": [
        "![Logo Fruits]()"
      ]
    },
    {
      "cell_type": "markdown",
      "metadata": {
        "id": "_iPc7Q41Owa9"
      },
      "source": [
        "# <span style='background:red; color:black'>MAJ à faire</span>\n",
        "\n",
        "# <span style='background:white; color:black'>Sommaire</span>\n",
        "\n",
        "Importations des librairies<br>\n",
        "\n",
        "Paramètres d'affichage<br>\n",
        "\n",
        "Fonctions <br>\n",
        "\n",
        "**Etape 1 : Importation des données**\n",
        "\n",
        "Conclusion"
      ]
    },
    {
      "cell_type": "markdown",
      "metadata": {
        "id": "qnauLiJiOwa_"
      },
      "source": [
        "# <span style='background:blue'>Introduction</span>\n",
        "\n",
        "L'entreprise \"Fruits!\" est une jeune entreprise qui a la volonté de préserver la biodiversité des fruits en permettant des traitements spécifiques pour chaque espèce de fruit en développant des robots cueilleurs intelligents.\n",
        "\n",
        "Pour cela, l'entreprise souhaite se faire connaitre en mettant à disposition du grand public une application mobile qui permettrait aux utilisateurs de prendre en photo un fruit et d'obtenir des informations sur ce fruit. Le developpement de cette application nécessite un traitement Big Data pour la reconnaissance d'image.\n",
        "___\n",
        "**Missions**\n",
        "\n",
        "1/ Expliquer pas-à-pas le script PySpark implémenté avec :\n",
        "- Un traitement de diffusion des poids du modèle Tensorflow sur les clusters (broadcast des « weights » du modèle)\n",
        "\n",
        "- Une étape d’une réduction de dimension de type ACP en PySpark\n",
        "\n",
        "2/ Faire une démonstration de la mise en place d’une instance EMR opérationnelle.\n",
        "\n",
        "3/ Démontrer le respect des contraintes RGPD (serveurs situés sur le territoire européen).\n",
        "\n",
        "4/ Donner mon retour critique sur cette solution (utile avant de la généraliser).\n",
        "___\n",
        "\n",
        "**Source des datasets**<br>\n",
        "Ce jeux de données comporte des images de fruits pour train et test un modèle de reconnaissance d'image.\n",
        "\n",
        "Nombre d'images : 90_483<br>\n",
        "Nombre de classes : 131<br>\n",
        "Taille des images : 100x100 pixels<br>\n",
        "\n",
        "3 dossiers :\n",
        "- Training (67_692 images)\n",
        "- Test (22_688 images)\n",
        "- test-multiple_fruits\n",
        "\n",
        "\n",
        "Source : [Fruits-360 dataset](https://www.kaggle.com/datasets/moltean/fruits) sur Kaggle.com<br>"
      ]
    },
    {
      "cell_type": "markdown",
      "metadata": {
        "id": "2Q9tTc_QOwbA"
      },
      "source": [
        "# <span style='background:grey'>Importations des librairies</span>"
      ]
    },
    {
      "cell_type": "markdown",
      "metadata": {
        "id": "mlqcu7RKOwbC"
      },
      "source": [
        "Liste des imports généraux :"
      ]
    },
    {
      "cell_type": "code",
      "execution_count": 27,
      "metadata": {
        "colab": {
          "base_uri": "https://localhost:8080/"
        },
        "id": "_F_r51L-OwbD",
        "outputId": "71aa846c-a916-4d8b-b77c-8e005a473439"
      },
      "outputs": [
        {
          "name": "stdout",
          "output_type": "stream",
          "text": [
            "Requirement already satisfied: Pandas in /usr/local/lib/python3.10/dist-packages (2.0.3)\n",
            "Requirement already satisfied: pillow in /usr/local/lib/python3.10/dist-packages (9.4.0)\n",
            "Requirement already satisfied: tensorflow in /usr/local/lib/python3.10/dist-packages (2.15.0)\n",
            "Requirement already satisfied: pyspark in /usr/local/lib/python3.10/dist-packages (3.5.1)\n",
            "Requirement already satisfied: pyarrow in /usr/local/lib/python3.10/dist-packages (14.0.2)\n",
            "Requirement already satisfied: pyngrok in /usr/local/lib/python3.10/dist-packages (7.1.6)\n",
            "Requirement already satisfied: python-dateutil>=2.8.2 in /usr/local/lib/python3.10/dist-packages (from Pandas) (2.8.2)\n",
            "Requirement already satisfied: pytz>=2020.1 in /usr/local/lib/python3.10/dist-packages (from Pandas) (2023.4)\n",
            "Requirement already satisfied: tzdata>=2022.1 in /usr/local/lib/python3.10/dist-packages (from Pandas) (2024.1)\n",
            "Requirement already satisfied: numpy>=1.21.0 in /usr/local/lib/python3.10/dist-packages (from Pandas) (1.25.2)\n",
            "Requirement already satisfied: absl-py>=1.0.0 in /usr/local/lib/python3.10/dist-packages (from tensorflow) (1.4.0)\n",
            "Requirement already satisfied: astunparse>=1.6.0 in /usr/local/lib/python3.10/dist-packages (from tensorflow) (1.6.3)\n",
            "Requirement already satisfied: flatbuffers>=23.5.26 in /usr/local/lib/python3.10/dist-packages (from tensorflow) (24.3.25)\n",
            "Requirement already satisfied: gast!=0.5.0,!=0.5.1,!=0.5.2,>=0.2.1 in /usr/local/lib/python3.10/dist-packages (from tensorflow) (0.5.4)\n",
            "Requirement already satisfied: google-pasta>=0.1.1 in /usr/local/lib/python3.10/dist-packages (from tensorflow) (0.2.0)\n",
            "Requirement already satisfied: h5py>=2.9.0 in /usr/local/lib/python3.10/dist-packages (from tensorflow) (3.9.0)\n",
            "Requirement already satisfied: libclang>=13.0.0 in /usr/local/lib/python3.10/dist-packages (from tensorflow) (18.1.1)\n",
            "Requirement already satisfied: ml-dtypes~=0.2.0 in /usr/local/lib/python3.10/dist-packages (from tensorflow) (0.2.0)\n",
            "Requirement already satisfied: opt-einsum>=2.3.2 in /usr/local/lib/python3.10/dist-packages (from tensorflow) (3.3.0)\n",
            "Requirement already satisfied: packaging in /usr/local/lib/python3.10/dist-packages (from tensorflow) (24.0)\n",
            "Requirement already satisfied: protobuf!=4.21.0,!=4.21.1,!=4.21.2,!=4.21.3,!=4.21.4,!=4.21.5,<5.0.0dev,>=3.20.3 in /usr/local/lib/python3.10/dist-packages (from tensorflow) (3.20.3)\n",
            "Requirement already satisfied: setuptools in /usr/local/lib/python3.10/dist-packages (from tensorflow) (67.7.2)\n",
            "Requirement already satisfied: six>=1.12.0 in /usr/local/lib/python3.10/dist-packages (from tensorflow) (1.16.0)\n",
            "Requirement already satisfied: termcolor>=1.1.0 in /usr/local/lib/python3.10/dist-packages (from tensorflow) (2.4.0)\n",
            "Requirement already satisfied: typing-extensions>=3.6.6 in /usr/local/lib/python3.10/dist-packages (from tensorflow) (4.11.0)\n",
            "Requirement already satisfied: wrapt<1.15,>=1.11.0 in /usr/local/lib/python3.10/dist-packages (from tensorflow) (1.14.1)\n",
            "Requirement already satisfied: tensorflow-io-gcs-filesystem>=0.23.1 in /usr/local/lib/python3.10/dist-packages (from tensorflow) (0.37.0)\n",
            "Requirement already satisfied: grpcio<2.0,>=1.24.3 in /usr/local/lib/python3.10/dist-packages (from tensorflow) (1.64.0)\n",
            "Requirement already satisfied: tensorboard<2.16,>=2.15 in /usr/local/lib/python3.10/dist-packages (from tensorflow) (2.15.2)\n",
            "Requirement already satisfied: tensorflow-estimator<2.16,>=2.15.0 in /usr/local/lib/python3.10/dist-packages (from tensorflow) (2.15.0)\n",
            "Requirement already satisfied: keras<2.16,>=2.15.0 in /usr/local/lib/python3.10/dist-packages (from tensorflow) (2.15.0)\n",
            "Requirement already satisfied: py4j==0.10.9.7 in /usr/local/lib/python3.10/dist-packages (from pyspark) (0.10.9.7)\n",
            "Requirement already satisfied: PyYAML>=5.1 in /usr/local/lib/python3.10/dist-packages (from pyngrok) (6.0.1)\n",
            "Requirement already satisfied: wheel<1.0,>=0.23.0 in /usr/local/lib/python3.10/dist-packages (from astunparse>=1.6.0->tensorflow) (0.43.0)\n",
            "Requirement already satisfied: google-auth<3,>=1.6.3 in /usr/local/lib/python3.10/dist-packages (from tensorboard<2.16,>=2.15->tensorflow) (2.27.0)\n",
            "Requirement already satisfied: google-auth-oauthlib<2,>=0.5 in /usr/local/lib/python3.10/dist-packages (from tensorboard<2.16,>=2.15->tensorflow) (1.2.0)\n",
            "Requirement already satisfied: markdown>=2.6.8 in /usr/local/lib/python3.10/dist-packages (from tensorboard<2.16,>=2.15->tensorflow) (3.6)\n",
            "Requirement already satisfied: requests<3,>=2.21.0 in /usr/local/lib/python3.10/dist-packages (from tensorboard<2.16,>=2.15->tensorflow) (2.31.0)\n",
            "Requirement already satisfied: tensorboard-data-server<0.8.0,>=0.7.0 in /usr/local/lib/python3.10/dist-packages (from tensorboard<2.16,>=2.15->tensorflow) (0.7.2)\n",
            "Requirement already satisfied: werkzeug>=1.0.1 in /usr/local/lib/python3.10/dist-packages (from tensorboard<2.16,>=2.15->tensorflow) (3.0.3)\n",
            "Requirement already satisfied: cachetools<6.0,>=2.0.0 in /usr/local/lib/python3.10/dist-packages (from google-auth<3,>=1.6.3->tensorboard<2.16,>=2.15->tensorflow) (5.3.3)\n",
            "Requirement already satisfied: pyasn1-modules>=0.2.1 in /usr/local/lib/python3.10/dist-packages (from google-auth<3,>=1.6.3->tensorboard<2.16,>=2.15->tensorflow) (0.4.0)\n",
            "Requirement already satisfied: rsa<5,>=3.1.4 in /usr/local/lib/python3.10/dist-packages (from google-auth<3,>=1.6.3->tensorboard<2.16,>=2.15->tensorflow) (4.9)\n",
            "Requirement already satisfied: requests-oauthlib>=0.7.0 in /usr/local/lib/python3.10/dist-packages (from google-auth-oauthlib<2,>=0.5->tensorboard<2.16,>=2.15->tensorflow) (1.3.1)\n",
            "Requirement already satisfied: charset-normalizer<4,>=2 in /usr/local/lib/python3.10/dist-packages (from requests<3,>=2.21.0->tensorboard<2.16,>=2.15->tensorflow) (3.3.2)\n",
            "Requirement already satisfied: idna<4,>=2.5 in /usr/local/lib/python3.10/dist-packages (from requests<3,>=2.21.0->tensorboard<2.16,>=2.15->tensorflow) (3.7)\n",
            "Requirement already satisfied: urllib3<3,>=1.21.1 in /usr/local/lib/python3.10/dist-packages (from requests<3,>=2.21.0->tensorboard<2.16,>=2.15->tensorflow) (2.0.7)\n",
            "Requirement already satisfied: certifi>=2017.4.17 in /usr/local/lib/python3.10/dist-packages (from requests<3,>=2.21.0->tensorboard<2.16,>=2.15->tensorflow) (2024.2.2)\n",
            "Requirement already satisfied: MarkupSafe>=2.1.1 in /usr/local/lib/python3.10/dist-packages (from werkzeug>=1.0.1->tensorboard<2.16,>=2.15->tensorflow) (2.1.5)\n",
            "Requirement already satisfied: pyasn1<0.7.0,>=0.4.6 in /usr/local/lib/python3.10/dist-packages (from pyasn1-modules>=0.2.1->google-auth<3,>=1.6.3->tensorboard<2.16,>=2.15->tensorflow) (0.6.0)\n",
            "Requirement already satisfied: oauthlib>=3.0.0 in /usr/local/lib/python3.10/dist-packages (from requests-oauthlib>=0.7.0->google-auth-oauthlib<2,>=0.5->tensorboard<2.16,>=2.15->tensorflow) (3.2.2)\n"
          ]
        }
      ],
      "source": [
        "!pip install Pandas pillow tensorflow pyspark pyarrow pyngrok"
      ]
    },
    {
      "cell_type": "code",
      "execution_count": 28,
      "metadata": {
        "colab": {
          "base_uri": "https://localhost:8080/"
        },
        "id": "-t6pB3_qOwbF",
        "outputId": "3c0f3dae-15e7-4cb3-b374-7d878d34eb1c"
      },
      "outputs": [
        {
          "name": "stdout",
          "output_type": "stream",
          "text": [
            "Drive already mounted at /content/drive; to attempt to forcibly remount, call drive.mount(\"/content/drive\", force_remount=True).\n",
            "\n",
            "Connecté à Google Drive\n",
            "\n",
            "Interpréteur python :\n",
            "Python        : 3.10.12 (main, Nov 20 2023, 15:14:05) [GCC 11.4.0]\n",
            "\n",
            "Version des librairies utilisées :\n",
            "Pyngrok       : 7.1.6\n",
            "Matplotlib    : 3.7.1\n",
            "NumPy         : 1.25.2\n",
            "Pandas        : 2.0.3\n",
            "Pillow (Image): 9.4.0\n",
            "Tensorflow    : 2.15.0\n",
            "PySpark       : 3.5.1\n",
            "\n",
            "Code lance le : 2024-05-28T13:11:56.381628\n"
          ]
        }
      ],
      "source": [
        "# Librairies generales\n",
        "import os\n",
        "import os.path\n",
        "import sys\n",
        "import time\n",
        "from datetime import datetime\n",
        "import glob\n",
        "\n",
        "# Librairies data science\n",
        "import pandas as pd\n",
        "from PIL import Image\n",
        "import numpy as np\n",
        "import io\n",
        "import matplotlib as mpl\n",
        "import matplotlib.pyplot as plt\n",
        "\n",
        "# Librairies TensorFlow\n",
        "import tensorflow as tf\n",
        "from tensorflow.keras.applications.mobilenet_v2 import MobileNetV2, preprocess_input\n",
        "from tensorflow.keras.preprocessing.image import img_to_array\n",
        "from tensorflow.keras import Model\n",
        "\n",
        "# Librairies Spark\n",
        "from pyspark import SparkConf\n",
        "from pyspark.sql.functions import col, pandas_udf, PandasUDFType, element_at, split\n",
        "from pyspark.sql import SparkSession\n",
        "from pyspark.ml.feature import PCA\n",
        "from pyspark.sql.functions import udf\n",
        "from pyspark.ml.linalg import Vectors, VectorUDT\n",
        "\n",
        "# Pour Google Colab\n",
        "from google.colab import drive\n",
        "drive.mount('/content/drive')\n",
        "print(\"\\nConnecté à Google Drive\\n\")\n",
        "\n",
        "# pyngrok pour SparkUI\n",
        "import getpass\n",
        "import pyngrok\n",
        "from pyngrok import ngrok, conf\n",
        "\n",
        "# Versions\n",
        "print(\"Interpréteur python :\")\n",
        "print(\"Python        : \" + sys.version + \"\\n\")\n",
        "\n",
        "print(\"Version des librairies utilisées :\")\n",
        "print(\"Pyngrok       : \" + pyngrok.__version__)\n",
        "print(\"Matplotlib    : \" + mpl.__version__)\n",
        "print(\"NumPy         : \" + np.__version__)\n",
        "print(\"Pandas        : \" + pd.__version__)\n",
        "print(\"Pillow (Image): \" + Image.__version__)\n",
        "print(\"Tensorflow    : \" + tf.__version__)\n",
        "print(\"PySpark       : \" + SparkSession.builder.getOrCreate().version)\n",
        "\n",
        "# Afficher heure lancement\n",
        "maintenant = datetime.now().isoformat()\n",
        "print(\"\\nCode lance le : \" + maintenant)\n",
        "\n",
        "# Enregistrer l'heure de debut\n",
        "start_time = time.time()"
      ]
    },
    {
      "cell_type": "markdown",
      "metadata": {
        "id": "-8Np99AmOwbH"
      },
      "source": [
        "# <span style='background:red'>supprimer si Colab validé jusqu'au bout</span>\n",
        "\n",
        "\n",
        "J'ai également copié le fichier \"hadoop.dll\" dans le dossier \"*C:\\Windows\\System32*\" pour éviter une erreur lors de l'importation des données. Ce fichier est issue du git de winutils : [git winutils/hadoop-3.4.0-win10-x64/bin](https://github.com/kontext-tech/winutils/tree/master/hadoop-3.4.0-win10-x64/bin)\n",
        "\n",
        "Il faut ensuite définir la variable d'environnement \"HADOOP_HOME\" qui pointe vers le dossier contenant le fichier \"hadoop.dll\"."
      ]
    },
    {
      "cell_type": "code",
      "execution_count": 29,
      "metadata": {
        "id": "CRwRONMqOwbJ"
      },
      "outputs": [],
      "source": [
        "# os.environ['PYSPARK_PYTHON'] = sys.executable\n",
        "# os.environ['HADOOP_HOME'] = \"C:\\\\Program Files\\\\Hadoop\\\\\""
      ]
    },
    {
      "cell_type": "markdown",
      "metadata": {
        "id": "sv_-v1cTOwbJ"
      },
      "source": [
        "# <span style='background:grey'>Paramètres Spark UI</span>\n",
        "\n",
        "Pour pouvoir visualiser l'interface utilisateur de Spark, il faut définir les paramètres de ngrok."
      ]
    },
    {
      "cell_type": "code",
      "execution_count": 30,
      "metadata": {
        "id": "G3x9eZW9OwbJ"
      },
      "outputs": [],
      "source": [
        "get_ipython().system_raw('./ngrok http 4040 &')"
      ]
    },
    {
      "cell_type": "markdown",
      "metadata": {
        "id": "EPVEsZuqOwbK"
      },
      "source": [
        "# <span style='background:grey'>Fonctions</span>\n"
      ]
    },
    {
      "cell_type": "code",
      "execution_count": 31,
      "metadata": {
        "id": "qB5vTv0NOwbK"
      },
      "outputs": [],
      "source": [
        "def calculer_duree_notebook(start_time):\n",
        "    \"\"\"\n",
        "    Cette procédure calcule et affiche la durée d'éxécution du notebook.\n",
        "\n",
        "    Args:\n",
        "        start_time (float): Le temps de début en secondes depuis l'époque.\n",
        "\n",
        "    Returns:\n",
        "        None\n",
        "    \"\"\"\n",
        "    # Calculer la durée totale et convertir en minutes et secondes\n",
        "    minutes, seconds = divmod(time.time() - start_time, 60)\n",
        "\n",
        "    # Afficher la durée totale\n",
        "    print(f\"Durée execution notebook : {int(minutes)} min {int(seconds)} sec\")"
      ]
    },
    {
      "cell_type": "code",
      "execution_count": 32,
      "metadata": {
        "id": "W07uC5yTKslu"
      },
      "outputs": [],
      "source": [
        "def calculer_variance_expliquee(model_fitted, nbr_composante, modulo=20):\n",
        "    \"\"\"\n",
        "    Cette fonction calcule la variance totale et la variance cumulative\n",
        "    expliquée par chaque composante principale.\n",
        "    Elle imprime la variance expliquée pour chaque multiple de x composantes.\n",
        "\n",
        "    :param model_fitted: Le modèle PCA ajusté.\n",
        "    :param nbr_composante: Le nombre total de composantes principales.\n",
        "    :param modulo : le nombre du modulo pour print les variances expliquées\n",
        "    :return: Une liste de tuples, où chaque tuple contient le nombre de\n",
        "    composantes et la variance cumulative expliquée.\n",
        "    \"\"\"\n",
        "    # Calculer la variance totale\n",
        "    total_variance = sum(model_fitted.explainedVariance)\n",
        "    print(\"Variance Totale: \", round(total_variance, 3))\n",
        "\n",
        "    # Calculer la somme cumulative des variances expliquées\n",
        "    cumulative_variance = np.cumsum(model_fitted.explainedVariance)\n",
        "\n",
        "    # Créer table de la variance expliquée pour chaque ensemble de composantes\n",
        "    explained_variance_table = []\n",
        "    for i in range(1, nbr_composante, 1):\n",
        "        explained_variance = cumulative_variance[i] / total_variance\n",
        "        explained_variance_table.append((i, explained_variance))\n",
        "\n",
        "        # print que les multiples du modulo\n",
        "        if i % modulo == 0:\n",
        "            print(\n",
        "                f\"Variance expliquée avec {i} composantes: {explained_variance:.3f}\"\n",
        "            )\n",
        "\n",
        "    return explained_variance_table"
      ]
    },
    {
      "cell_type": "markdown",
      "metadata": {
        "id": "jq4Nx_F_OwbL"
      },
      "source": [
        "# <span style='background:blue'>Etape 1 : Déploiement de la solution en local</span>\n",
        "\n",
        "## <span style='background:green'>1/Importation des données</span>\n",
        "\n",
        "### <span style='background:black'>a/Images</span>\n",
        "\n",
        "Pour le développement du code, nous avons téléchargé un échantillon de 3 types de pommes pour un total de 1_400 images que nous avons regroupé dans un dossier \"dataset_sample\".\n",
        "\n",
        "Pour le comparatif de la solution entre la version locale et la version cloud, nous utiliserons l'ensemble des images de fruits du dossier \"Test\" du dataset initial pour un total de 22_688 images."
      ]
    },
    {
      "cell_type": "code",
      "execution_count": 33,
      "metadata": {
        "colab": {
          "base_uri": "https://localhost:8080/"
        },
        "id": "Z_nKQLelOwbL",
        "outputId": "c8357a55-fe73-4ece-89ac-cb07496dfd24"
      },
      "outputs": [
        {
          "name": "stdout",
          "output_type": "stream",
          "text": [
            "Current directory avant chdir : /content/drive/My Drive/Colab Notebooks/P9\n",
            "Execution in Google Colab :  True \n",
            "\n",
            "Current directory apres chdir : /content/drive/MyDrive/Colab Notebooks/P9\n",
            "PATH:        /content/drive/MyDrive/Colab Notebooks/P9\n",
            "PATH_Data:   /content/drive/MyDrive/Colab Notebooks/P9/data/source/dataset_sample\n",
            "PATH_Result_features: /content/drive/MyDrive/Colab Notebooks/P9/results/features_parquet\n",
            "PATH_Result_pca_parquet: /content/drive/MyDrive/Colab Notebooks/P9/results/pca_parquet\n",
            "PATH_Result_pca_csv: /content/drive/MyDrive/Colab Notebooks/P9/results/pca_csv\n"
          ]
        }
      ],
      "source": [
        "# Déterminer si c'est le dossier d'image test (1_400) ou complet (22_688)\n",
        "is_dossier_image_test = True\n",
        "\n",
        "# Afficher le répertoire de travail actuel\n",
        "print(\"Current directory avant chdir :\", os.getcwd())\n",
        "\n",
        "# Vérifier si le code est exécuté dans Google Colab\n",
        "is_google_colab = 'COLAB_GPU' in os.environ\n",
        "print(\"Execution in Google Colab : \", is_google_colab, \"\\n\")\n",
        "\n",
        "# Definir le chemin d'import des fichiers sur Google Colab ou PC local\n",
        "if is_google_colab:\n",
        "\n",
        "    # Changer le répertoire courant\n",
        "    PATH = \"/content/drive/MyDrive/Colab Notebooks/P9\"\n",
        "    os.chdir(PATH)\n",
        "    print(\"Current directory apres chdir :\", os.getcwd())\n",
        "\n",
        "else:\n",
        "\n",
        "    # Conserver repertoire PC local\n",
        "    PATH = \".\"\n",
        "    print(\"Current directory ne doit pas avoir changé :\", os.getcwd(), '\\n')\n",
        "\n",
        "# Création des noms des répertoires\n",
        "if is_dossier_image_test:\n",
        "    PATH_Data = PATH + '/data/source/dataset_sample'\n",
        "else:\n",
        "    PATH_Data = PATH + '/data/source/fruits-360_dataset/fruits-360/Test'\n",
        "PATH_Result_features = PATH + '/results/features_parquet'\n",
        "PATH_Result_pca_parquet = PATH + '/results/pca_parquet'\n",
        "PATH_Result_pca_csv = PATH + '/results/pca_csv'\n",
        "\n",
        "# Liste des répertoires\n",
        "paths = [\n",
        "    PATH_Data,\n",
        "    PATH_Result_features,\n",
        "    PATH_Result_pca_parquet,\n",
        "    PATH_Result_pca_csv\n",
        "]\n",
        "\n",
        "# Création des répertoires s'ils n'existent pas\n",
        "for path in paths:\n",
        "    if not os.path.exists(path):\n",
        "        os.makedirs(path)\n",
        "\n",
        "# Afficher les répertoires créés\n",
        "print(\n",
        "    'PATH:        ' + PATH +\\\n",
        "    '\\nPATH_Data:   ' + PATH_Data +\\\n",
        "    '\\nPATH_Result_features: '+ PATH_Result_features +\\\n",
        "    '\\nPATH_Result_pca_parquet: '+ PATH_Result_pca_parquet +\\\n",
        "    '\\nPATH_Result_pca_csv: '+ PATH_Result_pca_csv\n",
        ")"
      ]
    },
    {
      "cell_type": "markdown",
      "metadata": {
        "id": "fsGXn_DjKslx"
      },
      "source": [
        "### <span style='background:black'>b/Features</span>\n",
        "\n",
        "Si les calculs des features ont déjà été effectués, on peut charger les données depuis des fichiers parquet."
      ]
    },
    {
      "cell_type": "code",
      "execution_count": 34,
      "metadata": {
        "colab": {
          "base_uri": "https://localhost:8080/"
        },
        "id": "9sBNeRohMBY0",
        "outputId": "1fdc8b33-1559-4e79-b709-90e008fe8936"
      },
      "outputs": [
        {
          "name": "stdout",
          "output_type": "stream",
          "text": [
            "\n",
            "Les features n'ont pas encore été calculées\n"
          ]
        }
      ],
      "source": [
        "# Vérifier si le dossier contient des fichiers Parquet\n",
        "parquet_files = glob.glob(os.path.join(PATH_Result_features, \"*.parquet\"))\n",
        "if not parquet_files:\n",
        "    is_result_features_calculed = False\n",
        "    print(\"\\nLes features n'ont pas encore été calculées\")\n",
        "else:\n",
        "    is_result_features_calculed = True\n",
        "    print(\"\\nLes features ont déjà été calculées\")"
      ]
    },
    {
      "cell_type": "markdown",
      "metadata": {
        "id": "D5hsX0eXKsly"
      },
      "source": [
        "### <span style='background:black'>c/ACP</span>\n",
        "\n",
        "Si les calculs  de l'ACP ont déjà été effectués, on peut charger les données depuis des fichiers parquets."
      ]
    },
    {
      "cell_type": "code",
      "execution_count": 35,
      "metadata": {
        "colab": {
          "base_uri": "https://localhost:8080/"
        },
        "id": "PeYd2ABPMUl9",
        "outputId": "609a417b-94b0-43de-aced-d5717190bb4f"
      },
      "outputs": [
        {
          "name": "stdout",
          "output_type": "stream",
          "text": [
            "\n",
            "L'ACP n'a pas encore été calculée\n"
          ]
        }
      ],
      "source": [
        "# Vérifier si le dossier contient des fichiers Parquet\n",
        "parquet_files = glob.glob(os.path.join(PATH_Result_pca_parquet, \"*.parquet\"))\n",
        "if not parquet_files:\n",
        "    is_result_pca_calculed = False\n",
        "    print(\"\\nL'ACP n'a pas encore été calculée\")\n",
        "else:\n",
        "    is_result_pca_calculed = True\n",
        "    print(\"\\nL'ACP a déjà été calculée\")"
      ]
    },
    {
      "cell_type": "markdown",
      "metadata": {
        "id": "6b98uWgXOwbM"
      },
      "source": [
        "## <span style='background:green'>2/Création de la SparkSession</span>\n"
      ]
    },
    {
      "cell_type": "code",
      "execution_count": 36,
      "metadata": {
        "colab": {
          "base_uri": "https://localhost:8080/",
          "height": 221
        },
        "id": "HVX4GI5gOwbM",
        "outputId": "cd940738-af43-4c96-d963-17b7f4d25931"
      },
      "outputs": [
        {
          "data": {
            "text/html": [
              "\n",
              "            <div>\n",
              "                <p><b>SparkSession - in-memory</b></p>\n",
              "                \n",
              "        <div>\n",
              "            <p><b>SparkContext</b></p>\n",
              "\n",
              "            <p><a href=\"http://8cdb391f5779:4040\">Spark UI</a></p>\n",
              "\n",
              "            <dl>\n",
              "              <dt>Version</dt>\n",
              "                <dd><code>v3.5.1</code></dd>\n",
              "              <dt>Master</dt>\n",
              "                <dd><code>local</code></dd>\n",
              "              <dt>AppName</dt>\n",
              "                <dd><code>P9</code></dd>\n",
              "            </dl>\n",
              "        </div>\n",
              "        \n",
              "            </div>\n",
              "        "
            ],
            "text/plain": [
              "<pyspark.sql.session.SparkSession at 0x7fd410075450>"
            ]
          },
          "execution_count": 36,
          "metadata": {},
          "output_type": "execute_result"
        }
      ],
      "source": [
        "# Arrêter la session Spark existante, si elle existe\n",
        "SparkSession.builder.getOrCreate().stop()\n",
        "\n",
        "# Créer une session Spark\n",
        "spark = (SparkSession\n",
        "                    .builder\n",
        "                    .appName('P9')\n",
        "                    .master('local')\n",
        "                    .config(\"spark.sql.parquet.writeLegacyFormat\", 'true')\n",
        "                    .getOrCreate()\n",
        ")\n",
        "\n",
        "# Création de la variable SparkContext\n",
        "sc = spark.sparkContext\n",
        "\n",
        "# Affichage infos de la Spark session en cours\n",
        "spark"
      ]
    },
    {
      "cell_type": "markdown",
      "metadata": {
        "id": "8tVWi-zGOwbO"
      },
      "source": [
        "## <span style='background:green'>3/Traitement des données</span>\n",
        "\n",
        "### <span style='background:black'>a/Chargement des données</span>\n",
        "\n",
        "Nous chargeons les données dans un DataFrame Spark. Nous ajoutons une colonne \"label\" qui correspond au nom de la classe du fruit (basé sur le nom du dossier)."
      ]
    },
    {
      "cell_type": "code",
      "execution_count": 37,
      "metadata": {
        "colab": {
          "base_uri": "https://localhost:8080/"
        },
        "id": "T6-6Gq-BOwbP",
        "outputId": "105417ff-32fa-45c1-d5b6-2e47c192b882"
      },
      "outputs": [
        {
          "name": "stdout",
          "output_type": "stream",
          "text": [
            "Voici le schema du DataFrame :\n",
            "root\n",
            " |-- path: string (nullable = true)\n",
            " |-- modificationTime: timestamp (nullable = true)\n",
            " |-- length: long (nullable = true)\n",
            " |-- content: binary (nullable = true)\n",
            " |-- label: string (nullable = true)\n",
            "\n",
            "None\n",
            "Voici les 5 premières lignes du DataFrame :\n",
            "+--------------------+-------------------+------+--------------------+--------------+\n",
            "|                path|   modificationTime|length|             content|         label|\n",
            "+--------------------+-------------------+------+--------------------+--------------+\n",
            "|file:/content/dri...|2021-09-12 17:25:44|  5879|[FF D8 FF E0 00 1...|Apple Golden 1|\n",
            "|file:/content/dri...|2021-09-12 17:25:44|  5865|[FF D8 FF E0 00 1...|Apple Golden 1|\n",
            "|file:/content/dri...|2021-09-12 17:25:44|  5861|[FF D8 FF E0 00 1...|Apple Golden 1|\n",
            "|file:/content/dri...|2021-09-12 17:25:44|  5856|[FF D8 FF E0 00 1...|Apple Golden 1|\n",
            "|file:/content/dri...|2021-09-12 17:25:44|  5856|[FF D8 FF E0 00 1...|Apple Golden 1|\n",
            "+--------------------+-------------------+------+--------------------+--------------+\n",
            "only showing top 5 rows\n",
            "\n",
            "None\n",
            "Nombre de lignes/image dans le DataFrame :  1400\n"
          ]
        }
      ],
      "source": [
        "# Charger les images dans un DataFrame Spark\n",
        "images = spark.read.format(\"binaryFile\") \\\n",
        "    .option(\"pathGlobFilter\", \"*.jpg\") \\\n",
        "    .option(\"recursiveFileLookup\", \"true\") \\\n",
        "    .load(PATH_Data)\n",
        "\n",
        "# Ajout de la col label à partir du nom du dernier dossier contenant l'image\n",
        "images = images.withColumn('label', element_at(split(images['path'], '/'), -2))\n",
        "\n",
        "# Afficher le schema et les 5 premières lignes\n",
        "print(\"Voici le schema du DataFrame :\")\n",
        "print(images.printSchema())\n",
        "\n",
        "print(\"Voici les 5 premières lignes du DataFrame :\")\n",
        "print(images.show(5))\n",
        "\n",
        "print(\"Nombre de lignes/image dans le DataFrame : \", images.count())"
      ]
    },
    {
      "cell_type": "markdown",
      "metadata": {
        "id": "Rj_E7MvLOwbQ"
      },
      "source": [
        "### <span style='background:black'>b/Préparation du modèle</span>\n",
        "\n",
        "Nous utilisons le modèle MobileNetV2 pré-entrainé sur ImageNet."
      ]
    },
    {
      "cell_type": "code",
      "execution_count": 38,
      "metadata": {
        "id": "NAwfklClOwbQ"
      },
      "outputs": [],
      "source": [
        "model = MobileNetV2(\n",
        "    weights='imagenet',\n",
        "    include_top=True,\n",
        "    input_shape=(224, 224, 3)\n",
        ")"
      ]
    },
    {
      "cell_type": "markdown",
      "metadata": {
        "id": "1biDcnHjKsl7"
      },
      "source": [
        "Nous retirons la dernière couche du modèle."
      ]
    },
    {
      "cell_type": "code",
      "execution_count": 39,
      "metadata": {
        "id": "pmKROpisOwbR"
      },
      "outputs": [],
      "source": [
        "new_model = Model(\n",
        "    inputs=model.input,\n",
        "    outputs=model.layers[-2].output\n",
        ")"
      ]
    },
    {
      "cell_type": "markdown",
      "metadata": {
        "id": "AvLocKyTOwbR"
      },
      "source": [
        "### <span style='background:red'>a decommenter à la fin</span>\n"
      ]
    },
    {
      "cell_type": "code",
      "execution_count": 40,
      "metadata": {
        "id": "9b9Br0bVOwbS"
      },
      "outputs": [],
      "source": [
        "new_model.summary()"
      ]
    },
    {
      "cell_type": "markdown",
      "metadata": {
        "id": "1FL0eAQPKsl9"
      },
      "source": [
        "Nous diffusons les poids du modèle sur les clusters Spark dans la variable \"**broadcast_weights**\"."
      ]
    },
    {
      "cell_type": "code",
      "execution_count": 41,
      "metadata": {
        "id": "fNTjHkONOwbS"
      },
      "outputs": [],
      "source": [
        "broadcast_weights = sc.broadcast(new_model.get_weights())"
      ]
    },
    {
      "cell_type": "markdown",
      "metadata": {
        "id": "hRE0_Tj8Ksl-"
      },
      "source": [
        "Nous encapsulons la méthode de préparation du modèle dans une fonction \"model_fn\" pour pouvoir l'utiliser dans le script PySpark."
      ]
    },
    {
      "cell_type": "code",
      "execution_count": 42,
      "metadata": {
        "id": "Y1hQnDlzKsl_"
      },
      "outputs": [],
      "source": [
        "def model_fn():\n",
        "    \"\"\"\n",
        "    Cette fonction crée un modèle MobileNetV2 avec des poids pré-entraînés à partir d'ImageNet, retire la couche supérieure du modèle, rend toutes les couches non entraînables (c'est-à-dire, leurs poids ne seront pas mis à jour pendant l'entraînement), puis définit les poids du nouveau modèle à partir d'une valeur diffusée.\n",
        "\n",
        "    :return: Le nouveau modèle avec les poids pré-entraînés diffusés.\n",
        "    \"\"\"\n",
        "    # Créer modèle MobileNetV2 avec des poids pré-entraînés à partir d'ImageNet\n",
        "    model = MobileNetV2(\n",
        "        weights='imagenet',\n",
        "        include_top=True,\n",
        "        input_shape=(224, 224, 3)\n",
        "    )\n",
        "\n",
        "    # Rendre les couches non entraînables\n",
        "    for layer in model.layers:\n",
        "        layer.trainable = False\n",
        "\n",
        "    # création nouveau modèle sans la dernière couche\n",
        "    new_model = Model(\n",
        "        inputs=model.input,\n",
        "        outputs=model.layers[-2].output\n",
        "    )\n",
        "\n",
        "    # transmettre les poids du modèle\n",
        "    new_model.set_weights(broadcast_weights.value)\n",
        "    print(\"Broadcast des poids du modèle effectué\")\n",
        "\n",
        "    return new_model"
      ]
    },
    {
      "cell_type": "markdown",
      "metadata": {
        "id": "V_9lBGGZOwbT"
      },
      "source": [
        "### <span style='background:black'>c/Chargement des images et featurisation avec pandas UDF</span>\n",
        "\n",
        "Nous créons une fonction \"preprocess\" qui permet de charger les images, de les redimensionner et de les preprocesser pour les passer dans le modèle."
      ]
    },
    {
      "cell_type": "code",
      "execution_count": 43,
      "metadata": {
        "id": "Mf7mKunnOwbT"
      },
      "outputs": [],
      "source": [
        "def preprocess(content):\n",
        "    \"\"\"\n",
        "    Cette fonction charge une image à partir des données brutes, redimensionne\n",
        "    l'image à une taille de 224x224 pixels, la convertit en un tableau numpy,\n",
        "    puis applique la fonction de prétraitement de MobileNetV2.\n",
        "\n",
        "    :param content: Les données brutes de l'image à prétraiter.\n",
        "\n",
        "    :return: Le tableau numpy de l'image prétraitée.\n",
        "    \"\"\"\n",
        "    # Chargement de l'image et redimensionnement à 224x224\n",
        "    img = Image.open(io.BytesIO(content)).resize([224, 224])\n",
        "\n",
        "    # Conversion en tableau numpy\n",
        "    arr = img_to_array(img)\n",
        "\n",
        "    # Application de la fonction preprocess_input de MobileNetV2\n",
        "    return preprocess_input(arr)"
      ]
    },
    {
      "cell_type": "markdown",
      "metadata": {
        "id": "p95jfHBTKsmB"
      },
      "source": [
        "Nous créons une fonction \"featurize_series\" qui permet de passer les images dans le modèle et de récupérer les features."
      ]
    },
    {
      "cell_type": "code",
      "execution_count": 44,
      "metadata": {
        "id": "4rLmFp_OOwbU"
      },
      "outputs": [],
      "source": [
        "def featurize_series(model, content_series):\n",
        "    \"\"\"\n",
        "    Effectue une caractérisation (featurization) d'une pd.Series d'images\n",
        "    brutes en utilisant le modèle en entrée.\n",
        "\n",
        "    :param model: Un modèle de deep learning pré-entraîné pour la\n",
        "    caractérisation des images.\n",
        "    :param content_series: Une pd.Series contenant des images brutes à\n",
        "    caractériser.\n",
        "\n",
        "    :return: Une pd.Series où chaque élément est un vecteur unidimensionnel\n",
        "    de caractéristiques d'image.\n",
        "    \"\"\"\n",
        "    # Application prétraitement à chaque image brute et empilement dans array\n",
        "    input = np.stack(content_series.map(preprocess))\n",
        "\n",
        "    # Utilisation du modèle pour prédire les caractéristiques de l'image\n",
        "    preds = model.predict(input)\n",
        "\n",
        "    # Applatissement des caractéristiques en 1 vecteur 1D (besoin pour Spark)\n",
        "    output = [p.flatten() for p in preds]\n",
        "\n",
        "    # Conversion en pd.Series\n",
        "    return pd.Series(output)"
      ]
    },
    {
      "cell_type": "markdown",
      "metadata": {
        "id": "bedkS_WmKsmC"
      },
      "source": [
        "Nous créons une fonction \"featurize_udf\" qui encapsule la fonction \"featurize_series\" pour pouvoir l'utiliser dans un pandas UDF."
      ]
    },
    {
      "cell_type": "code",
      "execution_count": 45,
      "metadata": {
        "colab": {
          "base_uri": "https://localhost:8080/"
        },
        "id": "ubfDoshAOwbU",
        "outputId": "51ec5c3b-b3fe-4008-d392-5cc27565adc8"
      },
      "outputs": [
        {
          "name": "stderr",
          "output_type": "stream",
          "text": [
            "/usr/local/lib/python3.10/dist-packages/pyspark/sql/pandas/functions.py:407: UserWarning: In Python 3.6+ and Spark 3.0+, it is preferred to specify type hints for pandas UDF instead of specifying pandas UDF type which will be deprecated in the future releases. See SPARK-28264 for more details.\n",
            "  warnings.warn(\n"
          ]
        }
      ],
      "source": [
        "# Decorateur pour définir une UDF pandas de type Scalar Iterator\n",
        "@pandas_udf('array<float>', PandasUDFType.SCALAR_ITER)\n",
        "\n",
        "def featurize_udf(content_series_iter):\n",
        "    '''\n",
        "    Cette méthode est une UDF pandas de type Scalar Iterator qui enveloppe\n",
        "    notre fonction de featurisation. Le décorateur spécifie qu'elle renvoie\n",
        "    une colonne de DataFrame Spark de type ArrayType(FloatType).\n",
        "\n",
        "    :param content_series_iter: Cet argument est un itérateur sur des lots de\n",
        "    données, où chaque lot est une série pandas de données d'image.\n",
        "    '''\n",
        "    # Charger le modèle une fois  (réutiliser pour plusieurs lots de données)\n",
        "    model = model_fn()\n",
        "\n",
        "    # POUR chaque lot de données\n",
        "    for content_series in content_series_iter:\n",
        "        print(\"Lot de données de taille : \", content_series.shape)\n",
        "\n",
        "        # Application de la fonction de featurisation (du modele sur le lot)\n",
        "        yield featurize_series(model, content_series)"
      ]
    },
    {
      "cell_type": "markdown",
      "metadata": {
        "id": "dGavTZi0OwbV"
      },
      "source": [
        "### <span style='background:black'>d/Extraction de features</span>\n",
        "\n",
        "Nous appliquons la fonction \"featurize_udf\" sur le DataFrame pour extraire les features des images."
      ]
    },
    {
      "cell_type": "code",
      "execution_count": 46,
      "metadata": {
        "colab": {
          "base_uri": "https://localhost:8080/"
        },
        "id": "SYMUF2rLKsmE",
        "outputId": "6f349fb7-bc6d-4328-fde3-0aa9a3f1c078"
      },
      "outputs": [
        {
          "name": "stdout",
          "output_type": "stream",
          "text": [
            "\n",
            "Features calculées\n"
          ]
        }
      ],
      "source": [
        "# Si les parquets existent, ne rien faire SINON créer les features\n",
        "if is_result_features_calculed:\n",
        "    print(\"\\nLes features existent déjà\")\n",
        "\n",
        "else:\n",
        "    # 20 partitions + select col path & label + featurize & rename col content\n",
        "    features_df = images.repartition(20).select(\n",
        "        col(\"path\"),\n",
        "        col(\"label\"),\n",
        "        featurize_udf(\"content\").alias(\"features\")\n",
        "    )\n",
        "    print(\"\\nFeatures calculées\")"
      ]
    },
    {
      "cell_type": "markdown",
      "metadata": {
        "id": "zp9TXpoVKsmG"
      },
      "source": [
        "Nous enregistrons le DataFrame dans des fichiers Parquet pour pouvoir le réutiliser."
      ]
    },
    {
      "cell_type": "code",
      "execution_count": 47,
      "metadata": {
        "colab": {
          "base_uri": "https://localhost:8080/"
        },
        "id": "mcwm_KuEOwbY",
        "outputId": "a29727ad-4801-4ff5-e3d7-128c728a6b7b"
      },
      "outputs": [
        {
          "name": "stdout",
          "output_type": "stream",
          "text": [
            "Sauvegarde des features effectuée\n"
          ]
        }
      ],
      "source": [
        "# Si les parquets existent, les charger, SINON effectuer les calculs et save\n",
        "if is_result_features_calculed:\n",
        "    features_df = spark.read.parquet(PATH_Result_features)\n",
        "    print(\"Chargement des features effectué\")\n",
        "\n",
        "else:\n",
        "    features_df.write.mode(\"overwrite\").parquet(PATH_Result_features)\n",
        "    print(\"Sauvegarde des features effectuée\")"
      ]
    },
    {
      "cell_type": "markdown",
      "metadata": {
        "id": "N6nGPofTVZVM"
      },
      "source": [
        "Nous visualisons les features enregistrées sous forme de DataFrame de Pandas."
      ]
    },
    {
      "cell_type": "code",
      "execution_count": 48,
      "metadata": {
        "colab": {
          "base_uri": "https://localhost:8080/",
          "height": 424
        },
        "id": "NjTyD-gsVa_n",
        "outputId": "60917cce-f371-4d6a-f391-30ad3027a9ad"
      },
      "outputs": [
        {
          "data": {
            "application/vnd.google.colaboratory.intrinsic+json": {
              "summary": "{\n  \"name\": \"features_pandas_df\",\n  \"rows\": 1400,\n  \"fields\": [\n    {\n      \"column\": \"path\",\n      \"properties\": {\n        \"dtype\": \"string\",\n        \"num_unique_values\": 1400,\n        \"samples\": [\n          \"file:/content/drive/MyDrive/Colab Notebooks/P9/data/source/dataset_sample/Apple Braeburn/310_100.jpg\",\n          \"file:/content/drive/MyDrive/Colab Notebooks/P9/data/source/dataset_sample/Apple Golden 1/r_204_100.jpg\",\n          \"file:/content/drive/MyDrive/Colab Notebooks/P9/data/source/dataset_sample/Apple Braeburn/r_193_100.jpg\"\n        ],\n        \"semantic_type\": \"\",\n        \"description\": \"\"\n      }\n    },\n    {\n      \"column\": \"label\",\n      \"properties\": {\n        \"dtype\": \"category\",\n        \"num_unique_values\": 3,\n        \"samples\": [\n          \"Apple Golden 1\",\n          \"Apple Braeburn\",\n          \"Apple Crimson Snow\"\n        ],\n        \"semantic_type\": \"\",\n        \"description\": \"\"\n      }\n    },\n    {\n      \"column\": \"features\",\n      \"properties\": {\n        \"dtype\": \"object\",\n        \"semantic_type\": \"\",\n        \"description\": \"\"\n      }\n    }\n  ]\n}",
              "type": "dataframe",
              "variable_name": "features_pandas_df"
            },
            "text/html": [
              "\n",
              "  <div id=\"df-3e4935f5-06d4-4d6b-8f4d-6ff87065be40\" class=\"colab-df-container\">\n",
              "    <div>\n",
              "<style scoped>\n",
              "    .dataframe tbody tr th:only-of-type {\n",
              "        vertical-align: middle;\n",
              "    }\n",
              "\n",
              "    .dataframe tbody tr th {\n",
              "        vertical-align: top;\n",
              "    }\n",
              "\n",
              "    .dataframe thead th {\n",
              "        text-align: right;\n",
              "    }\n",
              "</style>\n",
              "<table border=\"1\" class=\"dataframe\">\n",
              "  <thead>\n",
              "    <tr style=\"text-align: right;\">\n",
              "      <th></th>\n",
              "      <th>path</th>\n",
              "      <th>label</th>\n",
              "      <th>features</th>\n",
              "    </tr>\n",
              "  </thead>\n",
              "  <tbody>\n",
              "    <tr>\n",
              "      <th>0</th>\n",
              "      <td>file:/content/drive/MyDrive/Colab Notebooks/P9...</td>\n",
              "      <td>Apple Golden 1</td>\n",
              "      <td>[0.0, 0.0, 0.85363054, 0.0, 0.0, 0.013514177, ...</td>\n",
              "    </tr>\n",
              "    <tr>\n",
              "      <th>1</th>\n",
              "      <td>file:/content/drive/MyDrive/Colab Notebooks/P9...</td>\n",
              "      <td>Apple Golden 1</td>\n",
              "      <td>[0.0, 0.027579768, 0.0, 0.0, 0.0, 0.022468781,...</td>\n",
              "    </tr>\n",
              "    <tr>\n",
              "      <th>2</th>\n",
              "      <td>file:/content/drive/MyDrive/Colab Notebooks/P9...</td>\n",
              "      <td>Apple Golden 1</td>\n",
              "      <td>[0.0, 0.070777185, 1.4807836, 0.0, 0.6048448, ...</td>\n",
              "    </tr>\n",
              "    <tr>\n",
              "      <th>3</th>\n",
              "      <td>file:/content/drive/MyDrive/Colab Notebooks/P9...</td>\n",
              "      <td>Apple Golden 1</td>\n",
              "      <td>[0.0, 0.0, 0.0, 0.0, 0.0, 0.0, 0.85552573, 0.0...</td>\n",
              "    </tr>\n",
              "    <tr>\n",
              "      <th>4</th>\n",
              "      <td>file:/content/drive/MyDrive/Colab Notebooks/P9...</td>\n",
              "      <td>Apple Golden 1</td>\n",
              "      <td>[0.0, 0.075113416, 1.1581831, 0.0, 0.15176116,...</td>\n",
              "    </tr>\n",
              "    <tr>\n",
              "      <th>...</th>\n",
              "      <td>...</td>\n",
              "      <td>...</td>\n",
              "      <td>...</td>\n",
              "    </tr>\n",
              "    <tr>\n",
              "      <th>1395</th>\n",
              "      <td>file:/content/drive/MyDrive/Colab Notebooks/P9...</td>\n",
              "      <td>Apple Crimson Snow</td>\n",
              "      <td>[0.0007490252, 0.0, 0.0, 0.0, 0.0, 1.1925156, ...</td>\n",
              "    </tr>\n",
              "    <tr>\n",
              "      <th>1396</th>\n",
              "      <td>file:/content/drive/MyDrive/Colab Notebooks/P9...</td>\n",
              "      <td>Apple Crimson Snow</td>\n",
              "      <td>[0.1201307, 0.034390334, 0.0, 0.0, 0.0, 0.1155...</td>\n",
              "    </tr>\n",
              "    <tr>\n",
              "      <th>1397</th>\n",
              "      <td>file:/content/drive/MyDrive/Colab Notebooks/P9...</td>\n",
              "      <td>Apple Crimson Snow</td>\n",
              "      <td>[0.08103813, 0.01665891, 0.0, 0.0, 0.0, 0.0614...</td>\n",
              "    </tr>\n",
              "    <tr>\n",
              "      <th>1398</th>\n",
              "      <td>file:/content/drive/MyDrive/Colab Notebooks/P9...</td>\n",
              "      <td>Apple Crimson Snow</td>\n",
              "      <td>[0.10411088, 0.0, 0.0, 0.0, 0.0, 0.0, 1.191050...</td>\n",
              "    </tr>\n",
              "    <tr>\n",
              "      <th>1399</th>\n",
              "      <td>file:/content/drive/MyDrive/Colab Notebooks/P9...</td>\n",
              "      <td>Apple Crimson Snow</td>\n",
              "      <td>[0.0805963, 0.0, 0.0, 0.0, 0.0, 0.0044813524, ...</td>\n",
              "    </tr>\n",
              "  </tbody>\n",
              "</table>\n",
              "<p>1400 rows × 3 columns</p>\n",
              "</div>\n",
              "    <div class=\"colab-df-buttons\">\n",
              "\n",
              "  <div class=\"colab-df-container\">\n",
              "    <button class=\"colab-df-convert\" onclick=\"convertToInteractive('df-3e4935f5-06d4-4d6b-8f4d-6ff87065be40')\"\n",
              "            title=\"Convert this dataframe to an interactive table.\"\n",
              "            style=\"display:none;\">\n",
              "\n",
              "  <svg xmlns=\"http://www.w3.org/2000/svg\" height=\"24px\" viewBox=\"0 -960 960 960\">\n",
              "    <path d=\"M120-120v-720h720v720H120Zm60-500h600v-160H180v160Zm220 220h160v-160H400v160Zm0 220h160v-160H400v160ZM180-400h160v-160H180v160Zm440 0h160v-160H620v160ZM180-180h160v-160H180v160Zm440 0h160v-160H620v160Z\"/>\n",
              "  </svg>\n",
              "    </button>\n",
              "\n",
              "  <style>\n",
              "    .colab-df-container {\n",
              "      display:flex;\n",
              "      gap: 12px;\n",
              "    }\n",
              "\n",
              "    .colab-df-convert {\n",
              "      background-color: #E8F0FE;\n",
              "      border: none;\n",
              "      border-radius: 50%;\n",
              "      cursor: pointer;\n",
              "      display: none;\n",
              "      fill: #1967D2;\n",
              "      height: 32px;\n",
              "      padding: 0 0 0 0;\n",
              "      width: 32px;\n",
              "    }\n",
              "\n",
              "    .colab-df-convert:hover {\n",
              "      background-color: #E2EBFA;\n",
              "      box-shadow: 0px 1px 2px rgba(60, 64, 67, 0.3), 0px 1px 3px 1px rgba(60, 64, 67, 0.15);\n",
              "      fill: #174EA6;\n",
              "    }\n",
              "\n",
              "    .colab-df-buttons div {\n",
              "      margin-bottom: 4px;\n",
              "    }\n",
              "\n",
              "    [theme=dark] .colab-df-convert {\n",
              "      background-color: #3B4455;\n",
              "      fill: #D2E3FC;\n",
              "    }\n",
              "\n",
              "    [theme=dark] .colab-df-convert:hover {\n",
              "      background-color: #434B5C;\n",
              "      box-shadow: 0px 1px 3px 1px rgba(0, 0, 0, 0.15);\n",
              "      filter: drop-shadow(0px 1px 2px rgba(0, 0, 0, 0.3));\n",
              "      fill: #FFFFFF;\n",
              "    }\n",
              "  </style>\n",
              "\n",
              "    <script>\n",
              "      const buttonEl =\n",
              "        document.querySelector('#df-3e4935f5-06d4-4d6b-8f4d-6ff87065be40 button.colab-df-convert');\n",
              "      buttonEl.style.display =\n",
              "        google.colab.kernel.accessAllowed ? 'block' : 'none';\n",
              "\n",
              "      async function convertToInteractive(key) {\n",
              "        const element = document.querySelector('#df-3e4935f5-06d4-4d6b-8f4d-6ff87065be40');\n",
              "        const dataTable =\n",
              "          await google.colab.kernel.invokeFunction('convertToInteractive',\n",
              "                                                    [key], {});\n",
              "        if (!dataTable) return;\n",
              "\n",
              "        const docLinkHtml = 'Like what you see? Visit the ' +\n",
              "          '<a target=\"_blank\" href=https://colab.research.google.com/notebooks/data_table.ipynb>data table notebook</a>'\n",
              "          + ' to learn more about interactive tables.';\n",
              "        element.innerHTML = '';\n",
              "        dataTable['output_type'] = 'display_data';\n",
              "        await google.colab.output.renderOutput(dataTable, element);\n",
              "        const docLink = document.createElement('div');\n",
              "        docLink.innerHTML = docLinkHtml;\n",
              "        element.appendChild(docLink);\n",
              "      }\n",
              "    </script>\n",
              "  </div>\n",
              "\n",
              "\n",
              "<div id=\"df-39f27509-7327-4d07-bf66-5250019e5c15\">\n",
              "  <button class=\"colab-df-quickchart\" onclick=\"quickchart('df-39f27509-7327-4d07-bf66-5250019e5c15')\"\n",
              "            title=\"Suggest charts\"\n",
              "            style=\"display:none;\">\n",
              "\n",
              "<svg xmlns=\"http://www.w3.org/2000/svg\" height=\"24px\"viewBox=\"0 0 24 24\"\n",
              "     width=\"24px\">\n",
              "    <g>\n",
              "        <path d=\"M19 3H5c-1.1 0-2 .9-2 2v14c0 1.1.9 2 2 2h14c1.1 0 2-.9 2-2V5c0-1.1-.9-2-2-2zM9 17H7v-7h2v7zm4 0h-2V7h2v10zm4 0h-2v-4h2v4z\"/>\n",
              "    </g>\n",
              "</svg>\n",
              "  </button>\n",
              "\n",
              "<style>\n",
              "  .colab-df-quickchart {\n",
              "      --bg-color: #E8F0FE;\n",
              "      --fill-color: #1967D2;\n",
              "      --hover-bg-color: #E2EBFA;\n",
              "      --hover-fill-color: #174EA6;\n",
              "      --disabled-fill-color: #AAA;\n",
              "      --disabled-bg-color: #DDD;\n",
              "  }\n",
              "\n",
              "  [theme=dark] .colab-df-quickchart {\n",
              "      --bg-color: #3B4455;\n",
              "      --fill-color: #D2E3FC;\n",
              "      --hover-bg-color: #434B5C;\n",
              "      --hover-fill-color: #FFFFFF;\n",
              "      --disabled-bg-color: #3B4455;\n",
              "      --disabled-fill-color: #666;\n",
              "  }\n",
              "\n",
              "  .colab-df-quickchart {\n",
              "    background-color: var(--bg-color);\n",
              "    border: none;\n",
              "    border-radius: 50%;\n",
              "    cursor: pointer;\n",
              "    display: none;\n",
              "    fill: var(--fill-color);\n",
              "    height: 32px;\n",
              "    padding: 0;\n",
              "    width: 32px;\n",
              "  }\n",
              "\n",
              "  .colab-df-quickchart:hover {\n",
              "    background-color: var(--hover-bg-color);\n",
              "    box-shadow: 0 1px 2px rgba(60, 64, 67, 0.3), 0 1px 3px 1px rgba(60, 64, 67, 0.15);\n",
              "    fill: var(--button-hover-fill-color);\n",
              "  }\n",
              "\n",
              "  .colab-df-quickchart-complete:disabled,\n",
              "  .colab-df-quickchart-complete:disabled:hover {\n",
              "    background-color: var(--disabled-bg-color);\n",
              "    fill: var(--disabled-fill-color);\n",
              "    box-shadow: none;\n",
              "  }\n",
              "\n",
              "  .colab-df-spinner {\n",
              "    border: 2px solid var(--fill-color);\n",
              "    border-color: transparent;\n",
              "    border-bottom-color: var(--fill-color);\n",
              "    animation:\n",
              "      spin 1s steps(1) infinite;\n",
              "  }\n",
              "\n",
              "  @keyframes spin {\n",
              "    0% {\n",
              "      border-color: transparent;\n",
              "      border-bottom-color: var(--fill-color);\n",
              "      border-left-color: var(--fill-color);\n",
              "    }\n",
              "    20% {\n",
              "      border-color: transparent;\n",
              "      border-left-color: var(--fill-color);\n",
              "      border-top-color: var(--fill-color);\n",
              "    }\n",
              "    30% {\n",
              "      border-color: transparent;\n",
              "      border-left-color: var(--fill-color);\n",
              "      border-top-color: var(--fill-color);\n",
              "      border-right-color: var(--fill-color);\n",
              "    }\n",
              "    40% {\n",
              "      border-color: transparent;\n",
              "      border-right-color: var(--fill-color);\n",
              "      border-top-color: var(--fill-color);\n",
              "    }\n",
              "    60% {\n",
              "      border-color: transparent;\n",
              "      border-right-color: var(--fill-color);\n",
              "    }\n",
              "    80% {\n",
              "      border-color: transparent;\n",
              "      border-right-color: var(--fill-color);\n",
              "      border-bottom-color: var(--fill-color);\n",
              "    }\n",
              "    90% {\n",
              "      border-color: transparent;\n",
              "      border-bottom-color: var(--fill-color);\n",
              "    }\n",
              "  }\n",
              "</style>\n",
              "\n",
              "  <script>\n",
              "    async function quickchart(key) {\n",
              "      const quickchartButtonEl =\n",
              "        document.querySelector('#' + key + ' button');\n",
              "      quickchartButtonEl.disabled = true;  // To prevent multiple clicks.\n",
              "      quickchartButtonEl.classList.add('colab-df-spinner');\n",
              "      try {\n",
              "        const charts = await google.colab.kernel.invokeFunction(\n",
              "            'suggestCharts', [key], {});\n",
              "      } catch (error) {\n",
              "        console.error('Error during call to suggestCharts:', error);\n",
              "      }\n",
              "      quickchartButtonEl.classList.remove('colab-df-spinner');\n",
              "      quickchartButtonEl.classList.add('colab-df-quickchart-complete');\n",
              "    }\n",
              "    (() => {\n",
              "      let quickchartButtonEl =\n",
              "        document.querySelector('#df-39f27509-7327-4d07-bf66-5250019e5c15 button');\n",
              "      quickchartButtonEl.style.display =\n",
              "        google.colab.kernel.accessAllowed ? 'block' : 'none';\n",
              "    })();\n",
              "  </script>\n",
              "</div>\n",
              "    </div>\n",
              "  </div>\n"
            ],
            "text/plain": [
              "                                                   path               label  \\\n",
              "0     file:/content/drive/MyDrive/Colab Notebooks/P9...      Apple Golden 1   \n",
              "1     file:/content/drive/MyDrive/Colab Notebooks/P9...      Apple Golden 1   \n",
              "2     file:/content/drive/MyDrive/Colab Notebooks/P9...      Apple Golden 1   \n",
              "3     file:/content/drive/MyDrive/Colab Notebooks/P9...      Apple Golden 1   \n",
              "4     file:/content/drive/MyDrive/Colab Notebooks/P9...      Apple Golden 1   \n",
              "...                                                 ...                 ...   \n",
              "1395  file:/content/drive/MyDrive/Colab Notebooks/P9...  Apple Crimson Snow   \n",
              "1396  file:/content/drive/MyDrive/Colab Notebooks/P9...  Apple Crimson Snow   \n",
              "1397  file:/content/drive/MyDrive/Colab Notebooks/P9...  Apple Crimson Snow   \n",
              "1398  file:/content/drive/MyDrive/Colab Notebooks/P9...  Apple Crimson Snow   \n",
              "1399  file:/content/drive/MyDrive/Colab Notebooks/P9...  Apple Crimson Snow   \n",
              "\n",
              "                                               features  \n",
              "0     [0.0, 0.0, 0.85363054, 0.0, 0.0, 0.013514177, ...  \n",
              "1     [0.0, 0.027579768, 0.0, 0.0, 0.0, 0.022468781,...  \n",
              "2     [0.0, 0.070777185, 1.4807836, 0.0, 0.6048448, ...  \n",
              "3     [0.0, 0.0, 0.0, 0.0, 0.0, 0.0, 0.85552573, 0.0...  \n",
              "4     [0.0, 0.075113416, 1.1581831, 0.0, 0.15176116,...  \n",
              "...                                                 ...  \n",
              "1395  [0.0007490252, 0.0, 0.0, 0.0, 0.0, 1.1925156, ...  \n",
              "1396  [0.1201307, 0.034390334, 0.0, 0.0, 0.0, 0.1155...  \n",
              "1397  [0.08103813, 0.01665891, 0.0, 0.0, 0.0, 0.0614...  \n",
              "1398  [0.10411088, 0.0, 0.0, 0.0, 0.0, 0.0, 1.191050...  \n",
              "1399  [0.0805963, 0.0, 0.0, 0.0, 0.0, 0.0044813524, ...  \n",
              "\n",
              "[1400 rows x 3 columns]"
            ]
          },
          "metadata": {},
          "output_type": "display_data"
        }
      ],
      "source": [
        "features_pandas_df = pd.read_parquet(PATH_Result_features, engine='pyarrow')\n",
        "display(features_pandas_df)"
      ]
    },
    {
      "cell_type": "markdown",
      "metadata": {
        "id": "LKiMMUO1KsmI"
      },
      "source": [
        "Nous vérifions qu'il a a bien 1_280 features pour chaque image (output de la dernière couche du modèle)."
      ]
    },
    {
      "cell_type": "code",
      "execution_count": 49,
      "metadata": {
        "colab": {
          "base_uri": "https://localhost:8080/"
        },
        "id": "OR6ArE6aViAd",
        "outputId": "ae05e19e-3203-486b-e19b-902366561e85"
      },
      "outputs": [
        {
          "data": {
            "text/plain": [
              "(1280,)"
            ]
          },
          "execution_count": 49,
          "metadata": {},
          "output_type": "execute_result"
        }
      ],
      "source": [
        "features_pandas_df.loc[0,'features'].shape"
      ]
    },
    {
      "cell_type": "markdown",
      "metadata": {
        "id": "smCtpoNnlS4a"
      },
      "source": [
        "### <span style='background:black'>e/Réduction de dimension ACP</span>\n",
        "\n",
        "#### <span style='background:purple'>Encapsulation des features dans un array</span>\n",
        "\n",
        "Nous ajoutons une colonne \"features_array\" qui encapsule les valeurs de la colonne \"features\" dans un array."
      ]
    },
    {
      "cell_type": "code",
      "execution_count": 50,
      "metadata": {
        "colab": {
          "base_uri": "https://localhost:8080/"
        },
        "id": "DTQ2lkWAr_8a",
        "outputId": "cb9a6f06-5c9e-45d0-b273-17dd02023977"
      },
      "outputs": [
        {
          "name": "stdout",
          "output_type": "stream",
          "text": [
            "+--------------------+--------------+--------------------+--------------------+\n",
            "|                path|         label|            features|      features_array|\n",
            "+--------------------+--------------+--------------------+--------------------+\n",
            "|file:/content/dri...|Apple Golden 1|[0.0, 0.0, 0.8536...|[0.0,0.0,0.853630...|\n",
            "|file:/content/dri...|Apple Golden 1|[0.0, 0.027579768...|[0.0,0.0275797676...|\n",
            "|file:/content/dri...|Apple Golden 1|[0.0, 0.070777185...|[0.0,0.0707771852...|\n",
            "|file:/content/dri...|Apple Golden 1|[0.0, 0.0, 0.0, 0...|[0.0,0.0,0.0,0.0,...|\n",
            "|file:/content/dri...|Apple Golden 1|[0.0, 0.075113416...|[0.0,0.0751134157...|\n",
            "|file:/content/dri...|Apple Golden 1|[0.0, 0.23927855,...|[0.0,0.2392785549...|\n",
            "|file:/content/dri...|Apple Golden 1|[0.0, 0.25691164,...|[0.0,0.2569116353...|\n",
            "|file:/content/dri...|Apple Golden 1|[0.0, 0.4601411, ...|[0.0,0.4601410925...|\n",
            "|file:/content/dri...|Apple Braeburn|[0.3968301, 0.169...|[0.39683011174201...|\n",
            "|file:/content/dri...|Apple Golden 1|[0.0, 0.07337871,...|[0.0,0.0733787119...|\n",
            "|file:/content/dri...|Apple Golden 1|[0.0, 0.05509289,...|[0.0,0.0550928898...|\n",
            "|file:/content/dri...|Apple Golden 1|[0.0, 0.099854395...|[0.0,0.0998543947...|\n",
            "|file:/content/dri...|Apple Golden 1|[0.0, 0.0647441, ...|[0.0,0.0647440999...|\n",
            "|file:/content/dri...|Apple Braeburn|[0.009587438, 0.0...|[0.00958743784576...|\n",
            "|file:/content/dri...|Apple Golden 1|[0.0, 0.4412299, ...|[0.0,0.4412299096...|\n",
            "|file:/content/dri...|Apple Golden 1|[0.0, 0.11592292,...|[0.0,0.1159229204...|\n",
            "|file:/content/dri...|Apple Golden 1|[0.0, 0.07103399,...|[0.0,0.0710339918...|\n",
            "|file:/content/dri...|Apple Braeburn|[0.068781376, 0.0...|[0.06878137588500...|\n",
            "|file:/content/dri...|Apple Braeburn|[0.12890251, 0.0,...|[0.12890250980854...|\n",
            "|file:/content/dri...|Apple Braeburn|[0.0, 0.005328903...|[0.0,0.0053289034...|\n",
            "+--------------------+--------------+--------------------+--------------------+\n",
            "only showing top 20 rows\n",
            "\n"
          ]
        }
      ],
      "source": [
        "# Fonction udf pour transformer un array en VectorUDT\n",
        "array_to_vector_udf = udf(lambda arr: Vectors.dense(arr), VectorUDT())\n",
        "\n",
        "# Ajouter une colonne de features_array\n",
        "features_df = features_df.withColumn(\n",
        "    \"features_array\", array_to_vector_udf(col(\"features\"))\n",
        ")\n",
        "\n",
        "# Afficher le dataframe\n",
        "features_df.show()"
      ]
    },
    {
      "cell_type": "markdown",
      "metadata": {
        "id": "KVIfSlj8KsmM"
      },
      "source": [
        "#### <span style='background:purple'>ACP</span>\n",
        "\n",
        "Nous réalisons une Analyse en Composantes Principales (ACP) sur les features pour réduire la dimension. Nous conservons les **200** premières composantes principales."
      ]
    },
    {
      "cell_type": "code",
      "execution_count": 51,
      "metadata": {
        "colab": {
          "base_uri": "https://localhost:8080/"
        },
        "id": "U7yZl-92le83",
        "outputId": "fc56c3e4-6907-4d2c-e92c-bc47150f188a"
      },
      "outputs": [
        {
          "name": "stdout",
          "output_type": "stream",
          "text": [
            "Variance Totale:  0.985\n",
            "Variance expliquée avec 20 composantes: 0.862\n",
            "Variance expliquée avec 40 composantes: 0.930\n",
            "Variance expliquée avec 60 composantes: 0.957\n",
            "Variance expliquée avec 80 composantes: 0.972\n",
            "Variance expliquée avec 100 composantes: 0.981\n",
            "Variance expliquée avec 120 composantes: 0.987\n",
            "Variance expliquée avec 140 composantes: 0.991\n",
            "Variance expliquée avec 160 composantes: 0.995\n",
            "Variance expliquée avec 180 composantes: 0.998\n",
            "\n",
            "Les résultats de l'ACP ont été sauvegardés\n",
            "Number of rows:  1400\n",
            "Number of columns:  5\n",
            "['path', 'label', 'features', 'features_array', 'pca_features']\n"
          ]
        }
      ],
      "source": [
        "# Nombre de composantes de l'ACP\n",
        "nbr_composante = 200\n",
        "\n",
        "# Si les parquets existent, les charger SINON réaliser l'ACP et save\n",
        "if is_result_pca_calculed:\n",
        "    pca_result_df = spark.read.parquet(PATH_Result_pca_parquet)\n",
        "    print(\"\\nLes résultats de l'ACP existent déjà\")\n",
        "\n",
        "else:\n",
        "    # Créer un objet PCA, entrainement et transformation\n",
        "    pca = PCA(\n",
        "        k=nbr_composante,\n",
        "        inputCol=\"features_array\",\n",
        "        outputCol=\"pca_features\"\n",
        "    )\n",
        "    model_fitted = pca.fit(features_df)\n",
        "    pca_result_df = model_fitted.transform(features_df)\n",
        "\n",
        "    # Calculer la variance totale et la variance cumulative expliquée\n",
        "    explained_variance_table = calculer_variance_expliquee(\n",
        "        model_fitted,\n",
        "        nbr_composante\n",
        "    )\n",
        "\n",
        "    # Enregistrer les résultats de l'ACP en format parquet\n",
        "    pca_result_df.write.mode('overwrite').parquet(PATH_Result_pca_parquet)\n",
        "    print(\"\\nLes résultats de l'ACP ont été sauvegardés\")\n",
        "\n",
        "# Afficher les dimensions du dataframe des résultats de l'ACP\n",
        "print(\"Number of rows: \", pca_result_df.count())\n",
        "print(\"Number of columns: \", len(pca_result_df.columns))\n",
        "print(pca_result_df.columns)"
      ]
    },
    {
      "cell_type": "markdown",
      "metadata": {},
      "source": [
        "Plus de 99,8% de la variance est expliquée par ces 200 composantes."
      ]
    },
    {
      "cell_type": "markdown",
      "metadata": {
        "id": "BiZCpMbXKsmN"
      },
      "source": [
        "#### <span style='background:purple'>Plot évolution de la variance selon le nombre de composantes</span>\n",
        "\n",
        "Nous affichons le pourcentage de variance expliquée par le nombre de composantes."
      ]
    },
    {
      "cell_type": "code",
      "execution_count": 52,
      "metadata": {
        "colab": {
          "base_uri": "https://localhost:8080/",
          "height": 565
        },
        "id": "0AKjWZikI7wm",
        "outputId": "d2d96cc5-fcf6-4ea8-ac06-35691c42171e"
      },
      "outputs": [
        {
          "data": {
            "image/png": "[encoded data removed]",
            "text/plain": [
              "<Figure size 1000x600 with 1 Axes>"
            ]
          },
          "metadata": {},
          "output_type": "display_data"
        }
      ],
      "source": [
        "# Création tuple (composantes, variances) selon la table de variance expliquée\n",
        "components, variances = zip(*explained_variance_table)\n",
        "\n",
        "# Création du graphique de la variance expliquée\n",
        "plt.figure(figsize=(10, 6))\n",
        "plt.plot(components, variances, marker='o')\n",
        "\n",
        "# Titres et labels\n",
        "plt.xlabel('Nombre de composantes principales')\n",
        "plt.ylabel('Variance expliquée (%)')\n",
        "plt.title('Evolution de la variance expliquée par composante principale')\n",
        "plt.show()"
      ]
    },
    {
      "cell_type": "markdown",
      "metadata": {
        "id": "SpktspCLKsmR"
      },
      "source": [
        "### <span style='background:black'>d/Création du fichier csv</span>\n",
        "\n",
        "Nous chargeons les données dans un DataFrame Pandas pour la visualiser plus facilement."
      ]
    },
    {
      "cell_type": "code",
      "execution_count": 56,
      "metadata": {
        "colab": {
          "base_uri": "https://localhost:8080/",
          "height": 206
        },
        "id": "fTcszd4wKsmR",
        "outputId": "25ddbcf8-16eb-482e-9036-c8b4cef7838b"
      },
      "outputs": [
        {
          "data": {
            "application/vnd.google.colaboratory.intrinsic+json": {
              "summary": "{\n  \"name\": \"display(df_result_pca\",\n  \"rows\": 5,\n  \"fields\": [\n    {\n      \"column\": \"path\",\n      \"properties\": {\n        \"dtype\": \"string\",\n        \"num_unique_values\": 5,\n        \"samples\": [\n          \"file:/content/drive/MyDrive/Colab Notebooks/P9/data/source/dataset_sample/Apple Golden 1/64_100.jpg\",\n          \"file:/content/drive/MyDrive/Colab Notebooks/P9/data/source/dataset_sample/Apple Golden 1/r_195_100.jpg\",\n          \"file:/content/drive/MyDrive/Colab Notebooks/P9/data/source/dataset_sample/Apple Golden 1/r_201_100.jpg\"\n        ],\n        \"semantic_type\": \"\",\n        \"description\": \"\"\n      }\n    },\n    {\n      \"column\": \"label\",\n      \"properties\": {\n        \"dtype\": \"category\",\n        \"num_unique_values\": 1,\n        \"samples\": [\n          \"Apple Golden 1\"\n        ],\n        \"semantic_type\": \"\",\n        \"description\": \"\"\n      }\n    },\n    {\n      \"column\": \"features\",\n      \"properties\": {\n        \"dtype\": \"object\",\n        \"semantic_type\": \"\",\n        \"description\": \"\"\n      }\n    },\n    {\n      \"column\": \"features_array\",\n      \"properties\": {\n        \"dtype\": \"object\",\n        \"semantic_type\": \"\",\n        \"description\": \"\"\n      }\n    },\n    {\n      \"column\": \"pca_features\",\n      \"properties\": {\n        \"dtype\": \"object\",\n        \"semantic_type\": \"\",\n        \"description\": \"\"\n      }\n    }\n  ]\n}",
              "type": "dataframe"
            },
            "text/html": [
              "\n",
              "  <div id=\"df-6775c53c-98c0-4312-b181-49e869803a40\" class=\"colab-df-container\">\n",
              "    <div>\n",
              "<style scoped>\n",
              "    .dataframe tbody tr th:only-of-type {\n",
              "        vertical-align: middle;\n",
              "    }\n",
              "\n",
              "    .dataframe tbody tr th {\n",
              "        vertical-align: top;\n",
              "    }\n",
              "\n",
              "    .dataframe thead th {\n",
              "        text-align: right;\n",
              "    }\n",
              "</style>\n",
              "<table border=\"1\" class=\"dataframe\">\n",
              "  <thead>\n",
              "    <tr style=\"text-align: right;\">\n",
              "      <th></th>\n",
              "      <th>path</th>\n",
              "      <th>label</th>\n",
              "      <th>features</th>\n",
              "      <th>features_array</th>\n",
              "      <th>pca_features</th>\n",
              "    </tr>\n",
              "  </thead>\n",
              "  <tbody>\n",
              "    <tr>\n",
              "      <th>0</th>\n",
              "      <td>file:/content/drive/MyDrive/Colab Notebooks/P9...</td>\n",
              "      <td>Apple Golden 1</td>\n",
              "      <td>[0.0, 0.0, 0.85363054, 0.0, 0.0, 0.013514177, ...</td>\n",
              "      <td>{'type': 1, 'size': None, 'indices': None, 'va...</td>\n",
              "      <td>{'type': 1, 'size': None, 'indices': None, 'va...</td>\n",
              "    </tr>\n",
              "    <tr>\n",
              "      <th>1</th>\n",
              "      <td>file:/content/drive/MyDrive/Colab Notebooks/P9...</td>\n",
              "      <td>Apple Golden 1</td>\n",
              "      <td>[0.0, 0.027579768, 0.0, 0.0, 0.0, 0.022468781,...</td>\n",
              "      <td>{'type': 1, 'size': None, 'indices': None, 'va...</td>\n",
              "      <td>{'type': 1, 'size': None, 'indices': None, 'va...</td>\n",
              "    </tr>\n",
              "    <tr>\n",
              "      <th>2</th>\n",
              "      <td>file:/content/drive/MyDrive/Colab Notebooks/P9...</td>\n",
              "      <td>Apple Golden 1</td>\n",
              "      <td>[0.0, 0.070777185, 1.4807836, 0.0, 0.6048448, ...</td>\n",
              "      <td>{'type': 1, 'size': None, 'indices': None, 'va...</td>\n",
              "      <td>{'type': 1, 'size': None, 'indices': None, 'va...</td>\n",
              "    </tr>\n",
              "    <tr>\n",
              "      <th>3</th>\n",
              "      <td>file:/content/drive/MyDrive/Colab Notebooks/P9...</td>\n",
              "      <td>Apple Golden 1</td>\n",
              "      <td>[0.0, 0.0, 0.0, 0.0, 0.0, 0.0, 0.85552573, 0.0...</td>\n",
              "      <td>{'type': 1, 'size': None, 'indices': None, 'va...</td>\n",
              "      <td>{'type': 1, 'size': None, 'indices': None, 'va...</td>\n",
              "    </tr>\n",
              "    <tr>\n",
              "      <th>4</th>\n",
              "      <td>file:/content/drive/MyDrive/Colab Notebooks/P9...</td>\n",
              "      <td>Apple Golden 1</td>\n",
              "      <td>[0.0, 0.075113416, 1.1581831, 0.0, 0.15176116,...</td>\n",
              "      <td>{'type': 1, 'size': None, 'indices': None, 'va...</td>\n",
              "      <td>{'type': 1, 'size': None, 'indices': None, 'va...</td>\n",
              "    </tr>\n",
              "  </tbody>\n",
              "</table>\n",
              "</div>\n",
              "    <div class=\"colab-df-buttons\">\n",
              "\n",
              "  <div class=\"colab-df-container\">\n",
              "    <button class=\"colab-df-convert\" onclick=\"convertToInteractive('df-6775c53c-98c0-4312-b181-49e869803a40')\"\n",
              "            title=\"Convert this dataframe to an interactive table.\"\n",
              "            style=\"display:none;\">\n",
              "\n",
              "  <svg xmlns=\"http://www.w3.org/2000/svg\" height=\"24px\" viewBox=\"0 -960 960 960\">\n",
              "    <path d=\"M120-120v-720h720v720H120Zm60-500h600v-160H180v160Zm220 220h160v-160H400v160Zm0 220h160v-160H400v160ZM180-400h160v-160H180v160Zm440 0h160v-160H620v160ZM180-180h160v-160H180v160Zm440 0h160v-160H620v160Z\"/>\n",
              "  </svg>\n",
              "    </button>\n",
              "\n",
              "  <style>\n",
              "    .colab-df-container {\n",
              "      display:flex;\n",
              "      gap: 12px;\n",
              "    }\n",
              "\n",
              "    .colab-df-convert {\n",
              "      background-color: #E8F0FE;\n",
              "      border: none;\n",
              "      border-radius: 50%;\n",
              "      cursor: pointer;\n",
              "      display: none;\n",
              "      fill: #1967D2;\n",
              "      height: 32px;\n",
              "      padding: 0 0 0 0;\n",
              "      width: 32px;\n",
              "    }\n",
              "\n",
              "    .colab-df-convert:hover {\n",
              "      background-color: #E2EBFA;\n",
              "      box-shadow: 0px 1px 2px rgba(60, 64, 67, 0.3), 0px 1px 3px 1px rgba(60, 64, 67, 0.15);\n",
              "      fill: #174EA6;\n",
              "    }\n",
              "\n",
              "    .colab-df-buttons div {\n",
              "      margin-bottom: 4px;\n",
              "    }\n",
              "\n",
              "    [theme=dark] .colab-df-convert {\n",
              "      background-color: #3B4455;\n",
              "      fill: #D2E3FC;\n",
              "    }\n",
              "\n",
              "    [theme=dark] .colab-df-convert:hover {\n",
              "      background-color: #434B5C;\n",
              "      box-shadow: 0px 1px 3px 1px rgba(0, 0, 0, 0.15);\n",
              "      filter: drop-shadow(0px 1px 2px rgba(0, 0, 0, 0.3));\n",
              "      fill: #FFFFFF;\n",
              "    }\n",
              "  </style>\n",
              "\n",
              "    <script>\n",
              "      const buttonEl =\n",
              "        document.querySelector('#df-6775c53c-98c0-4312-b181-49e869803a40 button.colab-df-convert');\n",
              "      buttonEl.style.display =\n",
              "        google.colab.kernel.accessAllowed ? 'block' : 'none';\n",
              "\n",
              "      async function convertToInteractive(key) {\n",
              "        const element = document.querySelector('#df-6775c53c-98c0-4312-b181-49e869803a40');\n",
              "        const dataTable =\n",
              "          await google.colab.kernel.invokeFunction('convertToInteractive',\n",
              "                                                    [key], {});\n",
              "        if (!dataTable) return;\n",
              "\n",
              "        const docLinkHtml = 'Like what you see? Visit the ' +\n",
              "          '<a target=\"_blank\" href=https://colab.research.google.com/notebooks/data_table.ipynb>data table notebook</a>'\n",
              "          + ' to learn more about interactive tables.';\n",
              "        element.innerHTML = '';\n",
              "        dataTable['output_type'] = 'display_data';\n",
              "        await google.colab.output.renderOutput(dataTable, element);\n",
              "        const docLink = document.createElement('div');\n",
              "        docLink.innerHTML = docLinkHtml;\n",
              "        element.appendChild(docLink);\n",
              "      }\n",
              "    </script>\n",
              "  </div>\n",
              "\n",
              "\n",
              "<div id=\"df-a336723d-0505-4563-8836-ac00076a04d1\">\n",
              "  <button class=\"colab-df-quickchart\" onclick=\"quickchart('df-a336723d-0505-4563-8836-ac00076a04d1')\"\n",
              "            title=\"Suggest charts\"\n",
              "            style=\"display:none;\">\n",
              "\n",
              "<svg xmlns=\"http://www.w3.org/2000/svg\" height=\"24px\"viewBox=\"0 0 24 24\"\n",
              "     width=\"24px\">\n",
              "    <g>\n",
              "        <path d=\"M19 3H5c-1.1 0-2 .9-2 2v14c0 1.1.9 2 2 2h14c1.1 0 2-.9 2-2V5c0-1.1-.9-2-2-2zM9 17H7v-7h2v7zm4 0h-2V7h2v10zm4 0h-2v-4h2v4z\"/>\n",
              "    </g>\n",
              "</svg>\n",
              "  </button>\n",
              "\n",
              "<style>\n",
              "  .colab-df-quickchart {\n",
              "      --bg-color: #E8F0FE;\n",
              "      --fill-color: #1967D2;\n",
              "      --hover-bg-color: #E2EBFA;\n",
              "      --hover-fill-color: #174EA6;\n",
              "      --disabled-fill-color: #AAA;\n",
              "      --disabled-bg-color: #DDD;\n",
              "  }\n",
              "\n",
              "  [theme=dark] .colab-df-quickchart {\n",
              "      --bg-color: #3B4455;\n",
              "      --fill-color: #D2E3FC;\n",
              "      --hover-bg-color: #434B5C;\n",
              "      --hover-fill-color: #FFFFFF;\n",
              "      --disabled-bg-color: #3B4455;\n",
              "      --disabled-fill-color: #666;\n",
              "  }\n",
              "\n",
              "  .colab-df-quickchart {\n",
              "    background-color: var(--bg-color);\n",
              "    border: none;\n",
              "    border-radius: 50%;\n",
              "    cursor: pointer;\n",
              "    display: none;\n",
              "    fill: var(--fill-color);\n",
              "    height: 32px;\n",
              "    padding: 0;\n",
              "    width: 32px;\n",
              "  }\n",
              "\n",
              "  .colab-df-quickchart:hover {\n",
              "    background-color: var(--hover-bg-color);\n",
              "    box-shadow: 0 1px 2px rgba(60, 64, 67, 0.3), 0 1px 3px 1px rgba(60, 64, 67, 0.15);\n",
              "    fill: var(--button-hover-fill-color);\n",
              "  }\n",
              "\n",
              "  .colab-df-quickchart-complete:disabled,\n",
              "  .colab-df-quickchart-complete:disabled:hover {\n",
              "    background-color: var(--disabled-bg-color);\n",
              "    fill: var(--disabled-fill-color);\n",
              "    box-shadow: none;\n",
              "  }\n",
              "\n",
              "  .colab-df-spinner {\n",
              "    border: 2px solid var(--fill-color);\n",
              "    border-color: transparent;\n",
              "    border-bottom-color: var(--fill-color);\n",
              "    animation:\n",
              "      spin 1s steps(1) infinite;\n",
              "  }\n",
              "\n",
              "  @keyframes spin {\n",
              "    0% {\n",
              "      border-color: transparent;\n",
              "      border-bottom-color: var(--fill-color);\n",
              "      border-left-color: var(--fill-color);\n",
              "    }\n",
              "    20% {\n",
              "      border-color: transparent;\n",
              "      border-left-color: var(--fill-color);\n",
              "      border-top-color: var(--fill-color);\n",
              "    }\n",
              "    30% {\n",
              "      border-color: transparent;\n",
              "      border-left-color: var(--fill-color);\n",
              "      border-top-color: var(--fill-color);\n",
              "      border-right-color: var(--fill-color);\n",
              "    }\n",
              "    40% {\n",
              "      border-color: transparent;\n",
              "      border-right-color: var(--fill-color);\n",
              "      border-top-color: var(--fill-color);\n",
              "    }\n",
              "    60% {\n",
              "      border-color: transparent;\n",
              "      border-right-color: var(--fill-color);\n",
              "    }\n",
              "    80% {\n",
              "      border-color: transparent;\n",
              "      border-right-color: var(--fill-color);\n",
              "      border-bottom-color: var(--fill-color);\n",
              "    }\n",
              "    90% {\n",
              "      border-color: transparent;\n",
              "      border-bottom-color: var(--fill-color);\n",
              "    }\n",
              "  }\n",
              "</style>\n",
              "\n",
              "  <script>\n",
              "    async function quickchart(key) {\n",
              "      const quickchartButtonEl =\n",
              "        document.querySelector('#' + key + ' button');\n",
              "      quickchartButtonEl.disabled = true;  // To prevent multiple clicks.\n",
              "      quickchartButtonEl.classList.add('colab-df-spinner');\n",
              "      try {\n",
              "        const charts = await google.colab.kernel.invokeFunction(\n",
              "            'suggestCharts', [key], {});\n",
              "      } catch (error) {\n",
              "        console.error('Error during call to suggestCharts:', error);\n",
              "      }\n",
              "      quickchartButtonEl.classList.remove('colab-df-spinner');\n",
              "      quickchartButtonEl.classList.add('colab-df-quickchart-complete');\n",
              "    }\n",
              "    (() => {\n",
              "      let quickchartButtonEl =\n",
              "        document.querySelector('#df-a336723d-0505-4563-8836-ac00076a04d1 button');\n",
              "      quickchartButtonEl.style.display =\n",
              "        google.colab.kernel.accessAllowed ? 'block' : 'none';\n",
              "    })();\n",
              "  </script>\n",
              "</div>\n",
              "    </div>\n",
              "  </div>\n"
            ],
            "text/plain": [
              "                                                path           label  \\\n",
              "0  file:/content/drive/MyDrive/Colab Notebooks/P9...  Apple Golden 1   \n",
              "1  file:/content/drive/MyDrive/Colab Notebooks/P9...  Apple Golden 1   \n",
              "2  file:/content/drive/MyDrive/Colab Notebooks/P9...  Apple Golden 1   \n",
              "3  file:/content/drive/MyDrive/Colab Notebooks/P9...  Apple Golden 1   \n",
              "4  file:/content/drive/MyDrive/Colab Notebooks/P9...  Apple Golden 1   \n",
              "\n",
              "                                            features  \\\n",
              "0  [0.0, 0.0, 0.85363054, 0.0, 0.0, 0.013514177, ...   \n",
              "1  [0.0, 0.027579768, 0.0, 0.0, 0.0, 0.022468781,...   \n",
              "2  [0.0, 0.070777185, 1.4807836, 0.0, 0.6048448, ...   \n",
              "3  [0.0, 0.0, 0.0, 0.0, 0.0, 0.0, 0.85552573, 0.0...   \n",
              "4  [0.0, 0.075113416, 1.1581831, 0.0, 0.15176116,...   \n",
              "\n",
              "                                      features_array  \\\n",
              "0  {'type': 1, 'size': None, 'indices': None, 'va...   \n",
              "1  {'type': 1, 'size': None, 'indices': None, 'va...   \n",
              "2  {'type': 1, 'size': None, 'indices': None, 'va...   \n",
              "3  {'type': 1, 'size': None, 'indices': None, 'va...   \n",
              "4  {'type': 1, 'size': None, 'indices': None, 'va...   \n",
              "\n",
              "                                        pca_features  \n",
              "0  {'type': 1, 'size': None, 'indices': None, 'va...  \n",
              "1  {'type': 1, 'size': None, 'indices': None, 'va...  \n",
              "2  {'type': 1, 'size': None, 'indices': None, 'va...  \n",
              "3  {'type': 1, 'size': None, 'indices': None, 'va...  \n",
              "4  {'type': 1, 'size': None, 'indices': None, 'va...  "
            ]
          },
          "metadata": {},
          "output_type": "display_data"
        }
      ],
      "source": [
        "# Charger les résultats de l'ACP dans un DataFrame Pandas\n",
        "df_result_pca = pd.read_parquet(PATH_Result_pca_parquet, engine='pyarrow')\n",
        "display(df_result_pca.head())"
      ]
    },
    {
      "cell_type": "markdown",
      "metadata": {
        "id": "YBewqhc5KsmS"
      },
      "source": [
        "Nous remarquons que les valeurs issues de l'ACP sont présentes dans un array qui est lui-même au sein du dictionnaire de la colonne 'pca_features'."
      ]
    },
    {
      "cell_type": "code",
      "execution_count": 57,
      "metadata": {
        "colab": {
          "base_uri": "https://localhost:8080/"
        },
        "id": "nJPnPLXMKsmS",
        "outputId": "90e452f6-a989-4a8a-b1d5-3c8ed5c25bf6"
      },
      "outputs": [
        {
          "data": {
            "text/plain": [
              "array([ 5.94842616e+00,  1.93730400e+00,  1.95207803e+00, -4.18399155e+00,\n",
              "        2.99983380e-01,  4.03392314e+00, -2.40879423e+00,  1.91679718e+00,\n",
              "       -3.03547764e-01, -1.25225495e+00, -1.54774332e+00,  2.72998839e-01,\n",
              "        4.46000853e+00,  5.63239320e-01, -6.25239668e+00,  2.11286351e+00,\n",
              "        1.33078775e+00, -4.19919419e+00,  2.55003438e+00,  1.88669614e+00,\n",
              "       -2.16435005e+00, -1.17374050e+00, -2.37491050e+00, -1.04921947e+00,\n",
              "        2.21700736e+00,  3.36524623e-01, -2.25443226e-01,  1.18995294e+00,\n",
              "       -4.65246418e+00,  2.03964266e+00,  1.05333989e+00, -1.49569465e+00,\n",
              "       -1.56418393e+00, -1.29140163e+00,  2.74836515e+00,  1.35903584e+00,\n",
              "       -1.46857731e+00,  2.52973474e-01,  1.26750373e+00, -1.64437292e+00,\n",
              "       -1.08650115e+00,  4.45922892e-01,  1.01926113e+00, -4.33151906e+00,\n",
              "        1.87468676e+00,  7.92763974e-01, -2.05090511e+00,  1.83165392e+00,\n",
              "       -5.92647993e-01, -1.39596467e+00, -6.11443731e-01, -5.30946511e-04,\n",
              "        2.45514661e+00, -1.53855622e+00, -2.08502701e+00,  1.29657928e+00,\n",
              "        1.20775862e+00, -3.21433009e-01, -2.24633167e-02,  1.67264731e+00,\n",
              "        3.72976942e-01,  4.33234769e-01,  1.53392986e+00, -1.05374178e-01,\n",
              "       -9.61252532e-01,  1.12210410e+00,  4.88628233e-01,  7.64570445e-01,\n",
              "       -1.10119538e+00, -1.88428020e+00, -3.92501070e-01, -6.26632466e-01,\n",
              "       -1.09875320e+00,  1.81097770e+00,  2.31788214e+00,  1.39358568e+00,\n",
              "        6.49628830e-03, -8.28217939e-01, -1.79669272e+00, -5.81509329e-01,\n",
              "        5.84214963e-01,  2.17951889e-02,  2.22337416e-01, -5.49477938e-01,\n",
              "        8.11638272e-01,  1.25113834e+00, -1.56288508e+00, -1.57428436e+00,\n",
              "       -4.46304522e-01, -1.09927941e+00,  6.28610460e-01,  6.31760151e-01,\n",
              "        1.92176685e+00, -1.04896301e+00, -8.03008177e-01,  1.00029959e-01,\n",
              "       -5.53471158e-02,  8.89581602e-01,  8.05961653e-01,  2.54359602e-01,\n",
              "       -1.20001441e+00, -3.04455563e-01, -3.71660058e-01, -1.89852580e-01,\n",
              "        1.08771236e+00,  2.62071691e-01,  2.12790054e-01, -1.12937661e-01,\n",
              "       -1.63602183e+00,  7.11886091e-02,  7.12609492e-01,  8.19383911e-01,\n",
              "        1.91353759e-01, -1.49174600e-01,  9.14528641e-01,  1.26732563e-01,\n",
              "       -1.41313425e-01, -8.61065458e-01, -8.07320622e-01, -2.14240801e-01,\n",
              "       -3.68737700e-01, -2.91454292e-01, -7.92336457e-01, -5.45252263e-02,\n",
              "        9.51148404e-02, -3.91004394e-01, -3.89790133e-01, -1.46573763e-01,\n",
              "       -1.27411346e-01,  1.05761777e-01,  3.03180433e-01, -1.54997031e-01,\n",
              "        8.17160314e-01, -1.01141410e-01, -6.16381161e-01, -4.27911177e-01,\n",
              "        7.33844536e-01,  7.77405199e-01,  3.16863219e-02, -1.68890221e-01,\n",
              "       -3.02371239e-01,  3.27189966e-01, -4.54141897e-01, -9.47829371e-01,\n",
              "        4.08001123e-01, -3.01522202e-01,  1.31399112e-01,  1.45525284e-01,\n",
              "        3.31494593e-02, -7.68074838e-01, -1.14550101e+00,  2.50937104e-01,\n",
              "        1.55389341e-01, -2.41867534e-01, -4.34441035e-01,  2.20406682e-01,\n",
              "       -3.41371645e-01,  1.02552738e+00,  1.75118541e-01,  6.13694835e-01,\n",
              "        1.13795124e+00,  1.13941986e-01, -9.72171962e-01,  1.16786780e-02,\n",
              "       -5.35120801e-01,  4.96735513e-01, -9.03609266e-01,  2.91381006e-01,\n",
              "       -1.16098101e-01,  6.08860662e-02, -6.21492087e-01, -8.93201807e-01,\n",
              "        6.70361403e-01,  7.84578765e-01,  2.83747214e-01,  5.88800705e-01,\n",
              "        5.34057785e-01,  9.55325854e-01, -3.11173209e-01,  4.56033477e-02,\n",
              "       -2.49623031e-01, -5.26588594e-01, -6.88634688e-01, -4.05572847e-01,\n",
              "       -1.01330058e+00, -5.00948083e-01, -4.68182497e-01, -4.78596231e-01,\n",
              "       -2.98060132e-01, -1.36500963e-01,  6.12769371e-01, -9.81549310e-01,\n",
              "        3.04578016e-01, -2.21367991e-01,  1.19753320e-01,  7.09364038e-01,\n",
              "       -8.91582075e-01,  2.92178758e-01,  5.11539392e-01, -5.87350744e-01])"
            ]
          },
          "execution_count": 57,
          "metadata": {},
          "output_type": "execute_result"
        }
      ],
      "source": [
        "# Afficher les valeurs de la première ligne de la colonne pca_features\n",
        "df_result_pca.loc[0, 'pca_features']['values']"
      ]
    },
    {
      "cell_type": "markdown",
      "metadata": {
        "id": "jdmZCUy4KsmT"
      },
      "source": [
        "Nous créons une nouvelle colonne \"values\" qui contient ces valeurs et nous exportons le DataFrame en fichier csv."
      ]
    },
    {
      "cell_type": "code",
      "execution_count": 58,
      "metadata": {
        "colab": {
          "base_uri": "https://localhost:8080/"
        },
        "id": "f0J9aiHnkUkD",
        "outputId": "78ea6602-87ba-46ec-be6c-c4f4ca85c546"
      },
      "outputs": [
        {
          "name": "stdout",
          "output_type": "stream",
          "text": [
            "Le DataFrame a été exporté avec succès en fichier CSV à l'emplacement suivant : /content/drive/MyDrive/Colab Notebooks/P9/results/pca_csv/values_pca.csv\n"
          ]
        }
      ],
      "source": [
        "# Creation d'une colonne 'values' contenant les valeurs des composantes\n",
        "df_result_pca['values'] = df_result_pca['pca_features'].apply(\n",
        "    lambda x: x['values']\n",
        ")\n",
        "\n",
        "# Convertion de la colonne 'values' en Series\n",
        "values_df = df_result_pca['values'].apply(pd.Series)\n",
        "\n",
        "# Création du chemin du fichier CSV\n",
        "csv_path = os.path.join(PATH_Result_pca_csv, 'values_pca.csv')\n",
        "\n",
        "# Export du dataframe en fichier CSV\n",
        "values_df.to_csv(csv_path, index=False)\n",
        "\n",
        "# Afficher un message de confirmation\n",
        "print(f\"Le DataFrame a été exporté avec succès en fichier CSV à l'emplacement suivant : {csv_path}\")"
      ]
    },
    {
      "cell_type": "markdown",
      "metadata": {
        "id": "MhbQ7uH9KsmT"
      },
      "source": [
        "Nous importons le fichier csv pour vérifier son contenu."
      ]
    },
    {
      "cell_type": "code",
      "execution_count": 59,
      "metadata": {
        "colab": {
          "base_uri": "https://localhost:8080/",
          "height": 424
        },
        "id": "Zrl7kdV_kbyA",
        "outputId": "0156573b-0703-47b5-f096-8805d82fd47a"
      },
      "outputs": [
        {
          "data": {
            "application/vnd.google.colaboratory.intrinsic+json": {
              "type": "dataframe",
              "variable_name": "values_pca_df"
            },
            "text/html": [
              "\n",
              "  <div id=\"df-e2a69ad5-42c0-45b8-a16d-f1626792f470\" class=\"colab-df-container\">\n",
              "    <div>\n",
              "<style scoped>\n",
              "    .dataframe tbody tr th:only-of-type {\n",
              "        vertical-align: middle;\n",
              "    }\n",
              "\n",
              "    .dataframe tbody tr th {\n",
              "        vertical-align: top;\n",
              "    }\n",
              "\n",
              "    .dataframe thead th {\n",
              "        text-align: right;\n",
              "    }\n",
              "</style>\n",
              "<table border=\"1\" class=\"dataframe\">\n",
              "  <thead>\n",
              "    <tr style=\"text-align: right;\">\n",
              "      <th></th>\n",
              "      <th>0</th>\n",
              "      <th>1</th>\n",
              "      <th>2</th>\n",
              "      <th>3</th>\n",
              "      <th>4</th>\n",
              "      <th>5</th>\n",
              "      <th>6</th>\n",
              "      <th>7</th>\n",
              "      <th>8</th>\n",
              "      <th>9</th>\n",
              "      <th>...</th>\n",
              "      <th>190</th>\n",
              "      <th>191</th>\n",
              "      <th>192</th>\n",
              "      <th>193</th>\n",
              "      <th>194</th>\n",
              "      <th>195</th>\n",
              "      <th>196</th>\n",
              "      <th>197</th>\n",
              "      <th>198</th>\n",
              "      <th>199</th>\n",
              "    </tr>\n",
              "  </thead>\n",
              "  <tbody>\n",
              "    <tr>\n",
              "      <th>0</th>\n",
              "      <td>5.948426</td>\n",
              "      <td>1.937304</td>\n",
              "      <td>1.952078</td>\n",
              "      <td>-4.183992</td>\n",
              "      <td>0.299983</td>\n",
              "      <td>4.033923</td>\n",
              "      <td>-2.408794</td>\n",
              "      <td>1.916797</td>\n",
              "      <td>-0.303548</td>\n",
              "      <td>-1.252255</td>\n",
              "      <td>...</td>\n",
              "      <td>0.612769</td>\n",
              "      <td>-0.981549</td>\n",
              "      <td>0.304578</td>\n",
              "      <td>-0.221368</td>\n",
              "      <td>0.119753</td>\n",
              "      <td>0.709364</td>\n",
              "      <td>-0.891582</td>\n",
              "      <td>0.292179</td>\n",
              "      <td>0.511539</td>\n",
              "      <td>-0.587351</td>\n",
              "    </tr>\n",
              "    <tr>\n",
              "      <th>1</th>\n",
              "      <td>6.889805</td>\n",
              "      <td>-2.938021</td>\n",
              "      <td>2.774479</td>\n",
              "      <td>-4.523394</td>\n",
              "      <td>-3.493313</td>\n",
              "      <td>1.903728</td>\n",
              "      <td>-1.926276</td>\n",
              "      <td>1.203345</td>\n",
              "      <td>-1.895596</td>\n",
              "      <td>2.843716</td>\n",
              "      <td>...</td>\n",
              "      <td>0.495025</td>\n",
              "      <td>-0.872700</td>\n",
              "      <td>0.224073</td>\n",
              "      <td>0.076953</td>\n",
              "      <td>0.178136</td>\n",
              "      <td>0.683762</td>\n",
              "      <td>-0.527353</td>\n",
              "      <td>0.668368</td>\n",
              "      <td>0.292972</td>\n",
              "      <td>-0.726743</td>\n",
              "    </tr>\n",
              "    <tr>\n",
              "      <th>2</th>\n",
              "      <td>5.838755</td>\n",
              "      <td>-3.107682</td>\n",
              "      <td>3.698634</td>\n",
              "      <td>0.781728</td>\n",
              "      <td>-2.671344</td>\n",
              "      <td>0.915347</td>\n",
              "      <td>-4.814944</td>\n",
              "      <td>7.917844</td>\n",
              "      <td>-1.628792</td>\n",
              "      <td>2.176574</td>\n",
              "      <td>...</td>\n",
              "      <td>0.298835</td>\n",
              "      <td>-0.340981</td>\n",
              "      <td>0.203416</td>\n",
              "      <td>0.328447</td>\n",
              "      <td>0.322273</td>\n",
              "      <td>0.587298</td>\n",
              "      <td>-1.124373</td>\n",
              "      <td>0.358936</td>\n",
              "      <td>0.384174</td>\n",
              "      <td>-0.627194</td>\n",
              "    </tr>\n",
              "    <tr>\n",
              "      <th>3</th>\n",
              "      <td>4.372837</td>\n",
              "      <td>2.648197</td>\n",
              "      <td>-0.312655</td>\n",
              "      <td>-4.697694</td>\n",
              "      <td>1.977008</td>\n",
              "      <td>2.872904</td>\n",
              "      <td>-1.773527</td>\n",
              "      <td>1.250125</td>\n",
              "      <td>-0.173299</td>\n",
              "      <td>-1.097276</td>\n",
              "      <td>...</td>\n",
              "      <td>0.514013</td>\n",
              "      <td>-0.918187</td>\n",
              "      <td>0.214423</td>\n",
              "      <td>-0.070810</td>\n",
              "      <td>0.160188</td>\n",
              "      <td>0.486195</td>\n",
              "      <td>-0.853171</td>\n",
              "      <td>0.494484</td>\n",
              "      <td>0.400279</td>\n",
              "      <td>-0.582600</td>\n",
              "    </tr>\n",
              "    <tr>\n",
              "      <th>4</th>\n",
              "      <td>5.515550</td>\n",
              "      <td>-3.018866</td>\n",
              "      <td>3.212352</td>\n",
              "      <td>-0.487102</td>\n",
              "      <td>-2.756911</td>\n",
              "      <td>1.653380</td>\n",
              "      <td>-4.000662</td>\n",
              "      <td>7.620775</td>\n",
              "      <td>-0.980785</td>\n",
              "      <td>1.569843</td>\n",
              "      <td>...</td>\n",
              "      <td>0.449484</td>\n",
              "      <td>-0.820041</td>\n",
              "      <td>0.231595</td>\n",
              "      <td>0.128850</td>\n",
              "      <td>0.160119</td>\n",
              "      <td>0.695770</td>\n",
              "      <td>-0.584099</td>\n",
              "      <td>0.540758</td>\n",
              "      <td>0.370682</td>\n",
              "      <td>-0.842049</td>\n",
              "    </tr>\n",
              "    <tr>\n",
              "      <th>...</th>\n",
              "      <td>...</td>\n",
              "      <td>...</td>\n",
              "      <td>...</td>\n",
              "      <td>...</td>\n",
              "      <td>...</td>\n",
              "      <td>...</td>\n",
              "      <td>...</td>\n",
              "      <td>...</td>\n",
              "      <td>...</td>\n",
              "      <td>...</td>\n",
              "      <td>...</td>\n",
              "      <td>...</td>\n",
              "      <td>...</td>\n",
              "      <td>...</td>\n",
              "      <td>...</td>\n",
              "      <td>...</td>\n",
              "      <td>...</td>\n",
              "      <td>...</td>\n",
              "      <td>...</td>\n",
              "      <td>...</td>\n",
              "      <td>...</td>\n",
              "    </tr>\n",
              "    <tr>\n",
              "      <th>1395</th>\n",
              "      <td>-11.585310</td>\n",
              "      <td>1.094712</td>\n",
              "      <td>-4.552548</td>\n",
              "      <td>-3.807684</td>\n",
              "      <td>-6.870585</td>\n",
              "      <td>4.504005</td>\n",
              "      <td>-3.396758</td>\n",
              "      <td>3.226684</td>\n",
              "      <td>-0.056830</td>\n",
              "      <td>-0.965087</td>\n",
              "      <td>...</td>\n",
              "      <td>0.674135</td>\n",
              "      <td>-0.721349</td>\n",
              "      <td>0.122214</td>\n",
              "      <td>-0.061643</td>\n",
              "      <td>0.234972</td>\n",
              "      <td>0.596847</td>\n",
              "      <td>-0.623292</td>\n",
              "      <td>0.542470</td>\n",
              "      <td>0.270430</td>\n",
              "      <td>-0.832095</td>\n",
              "    </tr>\n",
              "    <tr>\n",
              "      <th>1396</th>\n",
              "      <td>-10.182086</td>\n",
              "      <td>-3.217234</td>\n",
              "      <td>-4.730998</td>\n",
              "      <td>-4.635059</td>\n",
              "      <td>-5.114324</td>\n",
              "      <td>3.907871</td>\n",
              "      <td>-4.411247</td>\n",
              "      <td>0.804968</td>\n",
              "      <td>0.115446</td>\n",
              "      <td>-1.152454</td>\n",
              "      <td>...</td>\n",
              "      <td>0.205178</td>\n",
              "      <td>-0.760680</td>\n",
              "      <td>0.165522</td>\n",
              "      <td>0.224469</td>\n",
              "      <td>0.297103</td>\n",
              "      <td>0.642713</td>\n",
              "      <td>-0.738409</td>\n",
              "      <td>0.762965</td>\n",
              "      <td>0.237550</td>\n",
              "      <td>-0.550547</td>\n",
              "    </tr>\n",
              "    <tr>\n",
              "      <th>1397</th>\n",
              "      <td>-12.341312</td>\n",
              "      <td>-4.365909</td>\n",
              "      <td>-4.191993</td>\n",
              "      <td>-4.611494</td>\n",
              "      <td>-4.141743</td>\n",
              "      <td>2.971279</td>\n",
              "      <td>-4.216865</td>\n",
              "      <td>1.506194</td>\n",
              "      <td>-1.758824</td>\n",
              "      <td>-1.527339</td>\n",
              "      <td>...</td>\n",
              "      <td>0.610879</td>\n",
              "      <td>-0.827471</td>\n",
              "      <td>0.209129</td>\n",
              "      <td>0.160546</td>\n",
              "      <td>0.267083</td>\n",
              "      <td>0.670455</td>\n",
              "      <td>-0.846169</td>\n",
              "      <td>0.695437</td>\n",
              "      <td>0.408120</td>\n",
              "      <td>-0.738311</td>\n",
              "    </tr>\n",
              "    <tr>\n",
              "      <th>1398</th>\n",
              "      <td>-10.818612</td>\n",
              "      <td>-3.599154</td>\n",
              "      <td>-4.356752</td>\n",
              "      <td>-4.427256</td>\n",
              "      <td>-4.224470</td>\n",
              "      <td>2.776668</td>\n",
              "      <td>-4.886353</td>\n",
              "      <td>2.310255</td>\n",
              "      <td>-0.612645</td>\n",
              "      <td>-1.345805</td>\n",
              "      <td>...</td>\n",
              "      <td>0.433490</td>\n",
              "      <td>-0.614106</td>\n",
              "      <td>0.153764</td>\n",
              "      <td>-0.021365</td>\n",
              "      <td>0.529251</td>\n",
              "      <td>0.500703</td>\n",
              "      <td>-0.514203</td>\n",
              "      <td>0.377897</td>\n",
              "      <td>0.566935</td>\n",
              "      <td>-0.645650</td>\n",
              "    </tr>\n",
              "    <tr>\n",
              "      <th>1399</th>\n",
              "      <td>-13.362224</td>\n",
              "      <td>-4.913419</td>\n",
              "      <td>-3.089947</td>\n",
              "      <td>-4.410480</td>\n",
              "      <td>-4.623526</td>\n",
              "      <td>2.418682</td>\n",
              "      <td>-3.477650</td>\n",
              "      <td>1.890122</td>\n",
              "      <td>-2.951377</td>\n",
              "      <td>-2.071625</td>\n",
              "      <td>...</td>\n",
              "      <td>0.513700</td>\n",
              "      <td>-0.959195</td>\n",
              "      <td>0.325603</td>\n",
              "      <td>0.166218</td>\n",
              "      <td>0.260675</td>\n",
              "      <td>0.650558</td>\n",
              "      <td>-0.854928</td>\n",
              "      <td>0.464429</td>\n",
              "      <td>0.463875</td>\n",
              "      <td>-0.757144</td>\n",
              "    </tr>\n",
              "  </tbody>\n",
              "</table>\n",
              "<p>1400 rows × 200 columns</p>\n",
              "</div>\n",
              "    <div class=\"colab-df-buttons\">\n",
              "\n",
              "  <div class=\"colab-df-container\">\n",
              "    <button class=\"colab-df-convert\" onclick=\"convertToInteractive('df-e2a69ad5-42c0-45b8-a16d-f1626792f470')\"\n",
              "            title=\"Convert this dataframe to an interactive table.\"\n",
              "            style=\"display:none;\">\n",
              "\n",
              "  <svg xmlns=\"http://www.w3.org/2000/svg\" height=\"24px\" viewBox=\"0 -960 960 960\">\n",
              "    <path d=\"M120-120v-720h720v720H120Zm60-500h600v-160H180v160Zm220 220h160v-160H400v160Zm0 220h160v-160H400v160ZM180-400h160v-160H180v160Zm440 0h160v-160H620v160ZM180-180h160v-160H180v160Zm440 0h160v-160H620v160Z\"/>\n",
              "  </svg>\n",
              "    </button>\n",
              "\n",
              "  <style>\n",
              "    .colab-df-container {\n",
              "      display:flex;\n",
              "      gap: 12px;\n",
              "    }\n",
              "\n",
              "    .colab-df-convert {\n",
              "      background-color: #E8F0FE;\n",
              "      border: none;\n",
              "      border-radius: 50%;\n",
              "      cursor: pointer;\n",
              "      display: none;\n",
              "      fill: #1967D2;\n",
              "      height: 32px;\n",
              "      padding: 0 0 0 0;\n",
              "      width: 32px;\n",
              "    }\n",
              "\n",
              "    .colab-df-convert:hover {\n",
              "      background-color: #E2EBFA;\n",
              "      box-shadow: 0px 1px 2px rgba(60, 64, 67, 0.3), 0px 1px 3px 1px rgba(60, 64, 67, 0.15);\n",
              "      fill: #174EA6;\n",
              "    }\n",
              "\n",
              "    .colab-df-buttons div {\n",
              "      margin-bottom: 4px;\n",
              "    }\n",
              "\n",
              "    [theme=dark] .colab-df-convert {\n",
              "      background-color: #3B4455;\n",
              "      fill: #D2E3FC;\n",
              "    }\n",
              "\n",
              "    [theme=dark] .colab-df-convert:hover {\n",
              "      background-color: #434B5C;\n",
              "      box-shadow: 0px 1px 3px 1px rgba(0, 0, 0, 0.15);\n",
              "      filter: drop-shadow(0px 1px 2px rgba(0, 0, 0, 0.3));\n",
              "      fill: #FFFFFF;\n",
              "    }\n",
              "  </style>\n",
              "\n",
              "    <script>\n",
              "      const buttonEl =\n",
              "        document.querySelector('#df-e2a69ad5-42c0-45b8-a16d-f1626792f470 button.colab-df-convert');\n",
              "      buttonEl.style.display =\n",
              "        google.colab.kernel.accessAllowed ? 'block' : 'none';\n",
              "\n",
              "      async function convertToInteractive(key) {\n",
              "        const element = document.querySelector('#df-e2a69ad5-42c0-45b8-a16d-f1626792f470');\n",
              "        const dataTable =\n",
              "          await google.colab.kernel.invokeFunction('convertToInteractive',\n",
              "                                                    [key], {});\n",
              "        if (!dataTable) return;\n",
              "\n",
              "        const docLinkHtml = 'Like what you see? Visit the ' +\n",
              "          '<a target=\"_blank\" href=https://colab.research.google.com/notebooks/data_table.ipynb>data table notebook</a>'\n",
              "          + ' to learn more about interactive tables.';\n",
              "        element.innerHTML = '';\n",
              "        dataTable['output_type'] = 'display_data';\n",
              "        await google.colab.output.renderOutput(dataTable, element);\n",
              "        const docLink = document.createElement('div');\n",
              "        docLink.innerHTML = docLinkHtml;\n",
              "        element.appendChild(docLink);\n",
              "      }\n",
              "    </script>\n",
              "  </div>\n",
              "\n",
              "\n",
              "<div id=\"df-b9b36b02-a9b2-49c7-adc8-0999dd93afc2\">\n",
              "  <button class=\"colab-df-quickchart\" onclick=\"quickchart('df-b9b36b02-a9b2-49c7-adc8-0999dd93afc2')\"\n",
              "            title=\"Suggest charts\"\n",
              "            style=\"display:none;\">\n",
              "\n",
              "<svg xmlns=\"http://www.w3.org/2000/svg\" height=\"24px\"viewBox=\"0 0 24 24\"\n",
              "     width=\"24px\">\n",
              "    <g>\n",
              "        <path d=\"M19 3H5c-1.1 0-2 .9-2 2v14c0 1.1.9 2 2 2h14c1.1 0 2-.9 2-2V5c0-1.1-.9-2-2-2zM9 17H7v-7h2v7zm4 0h-2V7h2v10zm4 0h-2v-4h2v4z\"/>\n",
              "    </g>\n",
              "</svg>\n",
              "  </button>\n",
              "\n",
              "<style>\n",
              "  .colab-df-quickchart {\n",
              "      --bg-color: #E8F0FE;\n",
              "      --fill-color: #1967D2;\n",
              "      --hover-bg-color: #E2EBFA;\n",
              "      --hover-fill-color: #174EA6;\n",
              "      --disabled-fill-color: #AAA;\n",
              "      --disabled-bg-color: #DDD;\n",
              "  }\n",
              "\n",
              "  [theme=dark] .colab-df-quickchart {\n",
              "      --bg-color: #3B4455;\n",
              "      --fill-color: #D2E3FC;\n",
              "      --hover-bg-color: #434B5C;\n",
              "      --hover-fill-color: #FFFFFF;\n",
              "      --disabled-bg-color: #3B4455;\n",
              "      --disabled-fill-color: #666;\n",
              "  }\n",
              "\n",
              "  .colab-df-quickchart {\n",
              "    background-color: var(--bg-color);\n",
              "    border: none;\n",
              "    border-radius: 50%;\n",
              "    cursor: pointer;\n",
              "    display: none;\n",
              "    fill: var(--fill-color);\n",
              "    height: 32px;\n",
              "    padding: 0;\n",
              "    width: 32px;\n",
              "  }\n",
              "\n",
              "  .colab-df-quickchart:hover {\n",
              "    background-color: var(--hover-bg-color);\n",
              "    box-shadow: 0 1px 2px rgba(60, 64, 67, 0.3), 0 1px 3px 1px rgba(60, 64, 67, 0.15);\n",
              "    fill: var(--button-hover-fill-color);\n",
              "  }\n",
              "\n",
              "  .colab-df-quickchart-complete:disabled,\n",
              "  .colab-df-quickchart-complete:disabled:hover {\n",
              "    background-color: var(--disabled-bg-color);\n",
              "    fill: var(--disabled-fill-color);\n",
              "    box-shadow: none;\n",
              "  }\n",
              "\n",
              "  .colab-df-spinner {\n",
              "    border: 2px solid var(--fill-color);\n",
              "    border-color: transparent;\n",
              "    border-bottom-color: var(--fill-color);\n",
              "    animation:\n",
              "      spin 1s steps(1) infinite;\n",
              "  }\n",
              "\n",
              "  @keyframes spin {\n",
              "    0% {\n",
              "      border-color: transparent;\n",
              "      border-bottom-color: var(--fill-color);\n",
              "      border-left-color: var(--fill-color);\n",
              "    }\n",
              "    20% {\n",
              "      border-color: transparent;\n",
              "      border-left-color: var(--fill-color);\n",
              "      border-top-color: var(--fill-color);\n",
              "    }\n",
              "    30% {\n",
              "      border-color: transparent;\n",
              "      border-left-color: var(--fill-color);\n",
              "      border-top-color: var(--fill-color);\n",
              "      border-right-color: var(--fill-color);\n",
              "    }\n",
              "    40% {\n",
              "      border-color: transparent;\n",
              "      border-right-color: var(--fill-color);\n",
              "      border-top-color: var(--fill-color);\n",
              "    }\n",
              "    60% {\n",
              "      border-color: transparent;\n",
              "      border-right-color: var(--fill-color);\n",
              "    }\n",
              "    80% {\n",
              "      border-color: transparent;\n",
              "      border-right-color: var(--fill-color);\n",
              "      border-bottom-color: var(--fill-color);\n",
              "    }\n",
              "    90% {\n",
              "      border-color: transparent;\n",
              "      border-bottom-color: var(--fill-color);\n",
              "    }\n",
              "  }\n",
              "</style>\n",
              "\n",
              "  <script>\n",
              "    async function quickchart(key) {\n",
              "      const quickchartButtonEl =\n",
              "        document.querySelector('#' + key + ' button');\n",
              "      quickchartButtonEl.disabled = true;  // To prevent multiple clicks.\n",
              "      quickchartButtonEl.classList.add('colab-df-spinner');\n",
              "      try {\n",
              "        const charts = await google.colab.kernel.invokeFunction(\n",
              "            'suggestCharts', [key], {});\n",
              "      } catch (error) {\n",
              "        console.error('Error during call to suggestCharts:', error);\n",
              "      }\n",
              "      quickchartButtonEl.classList.remove('colab-df-spinner');\n",
              "      quickchartButtonEl.classList.add('colab-df-quickchart-complete');\n",
              "    }\n",
              "    (() => {\n",
              "      let quickchartButtonEl =\n",
              "        document.querySelector('#df-b9b36b02-a9b2-49c7-adc8-0999dd93afc2 button');\n",
              "      quickchartButtonEl.style.display =\n",
              "        google.colab.kernel.accessAllowed ? 'block' : 'none';\n",
              "    })();\n",
              "  </script>\n",
              "</div>\n",
              "    </div>\n",
              "  </div>\n"
            ],
            "text/plain": [
              "              0         1         2         3         4         5         6  \\\n",
              "0      5.948426  1.937304  1.952078 -4.183992  0.299983  4.033923 -2.408794   \n",
              "1      6.889805 -2.938021  2.774479 -4.523394 -3.493313  1.903728 -1.926276   \n",
              "2      5.838755 -3.107682  3.698634  0.781728 -2.671344  0.915347 -4.814944   \n",
              "3      4.372837  2.648197 -0.312655 -4.697694  1.977008  2.872904 -1.773527   \n",
              "4      5.515550 -3.018866  3.212352 -0.487102 -2.756911  1.653380 -4.000662   \n",
              "...         ...       ...       ...       ...       ...       ...       ...   \n",
              "1395 -11.585310  1.094712 -4.552548 -3.807684 -6.870585  4.504005 -3.396758   \n",
              "1396 -10.182086 -3.217234 -4.730998 -4.635059 -5.114324  3.907871 -4.411247   \n",
              "1397 -12.341312 -4.365909 -4.191993 -4.611494 -4.141743  2.971279 -4.216865   \n",
              "1398 -10.818612 -3.599154 -4.356752 -4.427256 -4.224470  2.776668 -4.886353   \n",
              "1399 -13.362224 -4.913419 -3.089947 -4.410480 -4.623526  2.418682 -3.477650   \n",
              "\n",
              "             7         8         9  ...       190       191       192  \\\n",
              "0     1.916797 -0.303548 -1.252255  ...  0.612769 -0.981549  0.304578   \n",
              "1     1.203345 -1.895596  2.843716  ...  0.495025 -0.872700  0.224073   \n",
              "2     7.917844 -1.628792  2.176574  ...  0.298835 -0.340981  0.203416   \n",
              "3     1.250125 -0.173299 -1.097276  ...  0.514013 -0.918187  0.214423   \n",
              "4     7.620775 -0.980785  1.569843  ...  0.449484 -0.820041  0.231595   \n",
              "...        ...       ...       ...  ...       ...       ...       ...   \n",
              "1395  3.226684 -0.056830 -0.965087  ...  0.674135 -0.721349  0.122214   \n",
              "1396  0.804968  0.115446 -1.152454  ...  0.205178 -0.760680  0.165522   \n",
              "1397  1.506194 -1.758824 -1.527339  ...  0.610879 -0.827471  0.209129   \n",
              "1398  2.310255 -0.612645 -1.345805  ...  0.433490 -0.614106  0.153764   \n",
              "1399  1.890122 -2.951377 -2.071625  ...  0.513700 -0.959195  0.325603   \n",
              "\n",
              "           193       194       195       196       197       198       199  \n",
              "0    -0.221368  0.119753  0.709364 -0.891582  0.292179  0.511539 -0.587351  \n",
              "1     0.076953  0.178136  0.683762 -0.527353  0.668368  0.292972 -0.726743  \n",
              "2     0.328447  0.322273  0.587298 -1.124373  0.358936  0.384174 -0.627194  \n",
              "3    -0.070810  0.160188  0.486195 -0.853171  0.494484  0.400279 -0.582600  \n",
              "4     0.128850  0.160119  0.695770 -0.584099  0.540758  0.370682 -0.842049  \n",
              "...        ...       ...       ...       ...       ...       ...       ...  \n",
              "1395 -0.061643  0.234972  0.596847 -0.623292  0.542470  0.270430 -0.832095  \n",
              "1396  0.224469  0.297103  0.642713 -0.738409  0.762965  0.237550 -0.550547  \n",
              "1397  0.160546  0.267083  0.670455 -0.846169  0.695437  0.408120 -0.738311  \n",
              "1398 -0.021365  0.529251  0.500703 -0.514203  0.377897  0.566935 -0.645650  \n",
              "1399  0.166218  0.260675  0.650558 -0.854928  0.464429  0.463875 -0.757144  \n",
              "\n",
              "[1400 rows x 200 columns]"
            ]
          },
          "metadata": {},
          "output_type": "display_data"
        }
      ],
      "source": [
        "values_pca_df = pd.read_csv(csv_path)\n",
        "display(values_pca_df)"
      ]
    },
    {
      "cell_type": "markdown",
      "metadata": {},
      "source": [
        "Ce fichier contient bien les valeurs des 200 premières composantes principales pour chacunes des 1_400 images."
      ]
    },
    {
      "cell_type": "markdown",
      "metadata": {
        "id": "bVRXs5gXr0QK"
      },
      "source": [
        "## <span style='background:green'>4/Visualisation SparkUI</span>\n",
        "\n",
        "Nous visualisons l'interface utilisateur de SparkUI pour vérifier les différentes étapes du traitement. Pour cela, nous utilisons la librairie \"ngrok\" pour exposer l'interface utilisateur de SparkUI sur un serveur distant."
      ]
    },
    {
      "cell_type": "code",
      "execution_count": 60,
      "metadata": {
        "colab": {
          "base_uri": "https://localhost:8080/"
        },
        "id": "y8_-LNvir5Lh",
        "outputId": "3d344790-1d85-4501-9a20-1cc21d96a629"
      },
      "outputs": [
        {
          "name": "stdout",
          "output_type": "stream",
          "text": [
            "Enter your authtoken, which can be copied from https://dashboard.ngrok.com/auth\n",
            "··········\n"
          ]
        },
        {
          "name": "stderr",
          "output_type": "stream",
          "text": [
            "WARNING:pyngrok.process.ngrok:t=2024-05-28T13:24:38+0000 lvl=warn msg=\"can't bind default web address, trying alternatives\" obj=web addr=127.0.0.1:4040\n"
          ]
        },
        {
          "name": "stdout",
          "output_type": "stream",
          "text": [
            " * ngrok tunnel \"https://dace-34-83-159-31.ngrok-free.app\" -> \"http://888955ff62c5:4040\"\n"
          ]
        }
      ],
      "source": [
        "print(\"Enter your authtoken, which can be copied from https://dashboard.ngrok.com/auth\")\n",
        "conf.get_default().auth_token = getpass.getpass()\n",
        "port=4040\n",
        "public_url = ngrok.connect(port).public_url\n",
        "print(f' * ngrok tunnel \\\"{public_url}\\\" -> \\\"http://888955ff62c5:{port}\\\"')"
      ]
    },
    {
      "cell_type": "markdown",
      "metadata": {
        "id": "x-2rctABOwbZ"
      },
      "source": [
        "<div class=\"alert alert-block alert-success\"><b>Bilan: </b>\n",
        "\n",
        "Le fichier....<br>"
      ]
    },
    {
      "cell_type": "markdown",
      "metadata": {},
      "source": [
        "# <span style='background:blue'>Etape 2 : Déploiement de la solution sur le cloud</span>\n",
        "\n",
        "## <span style='background:green'>1/Choix du prestataire cloud : AWS</span>\n",
        "\n",
        "Le prestataire le plus connu et qui offre à ce jour l'offre la plus large dans le cloud computing est **Amazon Web Services** (AWS).\n",
        "\n",
        "Certaines de leurs offres sont parfaitement adaptées à notre problématique et c'est la raison pour laquelle nous utiliserons leurs services.\n",
        "\n",
        "L'objectif premier est de pouvoir, grâce à AWS, <u>louer de la puissance de calcul à la demande</u>.\n",
        "L'idée étant de pouvoir, quel que soit la charge de travail, obtenir suffisamment de puissance de calcul pour pouvoir traiter nos images, même si le volume de données venait à fortement augmenter.\n",
        "\n",
        "De plus, la capacité d'utiliser cette puissance de calcul à la demande permet de diminuer drastiquement les coûts si l'on compare les coûts d'une location de serveur complet sur une durée fixe (1 mois, 1 année par exemple).\n",
        "\n",
        "<img src=\"https://appmaster.io/api/_files/rr4hnsHMxxD3zRBqozjqSC/download/\" width=\"500\" height=\"250\">"
      ]
    },
    {
      "cell_type": "markdown",
      "metadata": {},
      "source": [
        "\n",
        "## <span style='background:green'>2/Choix de la solution technique : EMR</span>\n",
        "\n",
        "<u>Plusieurs solutions s'offre à nous</u> :\n",
        "1. Solution **IAAS** (Infrastructure AS A Service)\n",
        " - Dans cette configuration **AWS** met à notre disposition des serveurs vierges sur lequel nous avons un accès en administrateur, ils sont nommés **instance EC2**.<br />\n",
        "\n",
        "   Nous pouvons avec cette solution reproduire pratiquement à l'identique la solution mis en œuvre en local sur notre machine.<br />\n",
        "   <u>Nous installons nous-même l'intégralité des outils puis nous exécutons notre script</u> :\n",
        "  - Installation de **Spark**, **Java** etc.\n",
        "  - Installation de **Python** (via Anaconda par exemple)\n",
        "  - Installation de **Jupyter Notebook**\n",
        "  - Installation des **librairies complémentaires**\n",
        "  - Il faudra bien évidement veiller à **implémenter les librairies nécessaires à toutes les machines (workers) du cluster**\n",
        "\n",
        "  - <u>Avantages</u> :\n",
        "      - Liberté totale de mise en œuvre de la solution\n",
        "      - Facilité de mise en œuvre à partir d'un modèle qui s'exécute en local sur une machine Linux\n",
        "\n",
        "  - <u>Inconvénients</u> :\n",
        "      - Chronophage : nécessité d'installer et de configurer toute la solution\n",
        "      - Possible problèmes techniques à l'installation des outils (propre aux serveurs EC2)\n",
        "      - Mise à jour des outils et possible réinstallation de Spark, Java etc.\n",
        "\n",
        "2. Solution **PAAS** (Plateforme As A Service)\n",
        " - **AWS** Cette offre permet de louer des **instances EC2**  avec des applications préinstallées et configurées : il s'agit du **service EMR**.\n",
        " - **Spark** y sera déjà installé\n",
        " - Possibilité de demander l'installation de **Tensorflow** ainsi que **JupyterHub**\n",
        " - Possibilité d'indiquer des **packages complémentaires** à installer à l'initialisation du serveur **sur l'ensemble des machines du cluster**.\n",
        "\n",
        " - <u>Avantages</u> :\n",
        "     - Facilité de mise en œuvre : configuration simple pour obtenir un environnement parfaitement fonctionnel\n",
        "     - Rapidité de mise en œuvre : Possibilité de recréer des clusters à l'identique disponibles presque instantanément (Intanciation en 15/20 minutes)\n",
        "     - Solutions matérielles et logiciels optimisées par les ingénieurs d'AWS : versions installées fonctionnelles et architecture déjà optimisée\n",
        "     - Stabilité de la solution\n",
        "    - Solution évolutive : version à jour de chaque package à chaque nouvelle instanciation, compatibilité avec le reste de l’environnement garanti.\n",
        "  - Plus sécurisé\n",
        "\t- Patchs de sécurité mis à jour à chaque nouvelle instanciation du cluster EMR.\n",
        "\n",
        " - <u>Inconvénients</u> :\n",
        "     - Manque de liberté sur la version des packages disponibles\n",
        "   \n",
        "\n",
        "Nous utilisons la solution **PAAS** avec le service **EMR** d'Amazon Web Services qui permet une mise en oeuvre plus rapide et plus efficace que la solution IAAS pour notre problématique.\n",
        "\n",
        "<img src=\"https://datascientest.com/wp-content/uploads/2023/05/amazon-amr-datascientest-1024x512.png\" width=\"500\" height=\"250\">"
      ]
    },
    {
      "cell_type": "markdown",
      "metadata": {},
      "source": [
        "## <span style='background:green'>3/Choix de la solution de stockage des données : Amazon S3</span>\n",
        "\n",
        "### <span style='background:red'>MAJ a faire avec info de mon bucket</span>\n",
        "\n",
        "<u>Amazon propose une solution très efficace pour la gestion du stockage des données</u> : **Amazon S3** (Simple Storage Service).\n",
        "\n",
        "Les données stockées sur le serveur **EC2** <u>seront perdues</u> lorsque le serveur sera résilié pour limiter les coûts (si aucune sauvegarde n'est effectuée avant). Sans compter les problèmes de fonctionnement du serveur qui peuvent survenir si nous saturons son espace disque.\n",
        "\n",
        "<u>Utiliser **Amazon S3** permet de s'affranchir de toutes ces problématiques</u>. L'espace disque disponible est **illimité**, et il est **indépendant de nos serveurs EC2**. L'accès aux données est **très rapide** car nous restons dans l'environnement d'AWS et nous prenons soin de <u>choisir la même région pour nos serveurs **EC2** et **S3**</u>.\n",
        "\n",
        "De plus, <u>il est possible d'accéder aux données sur **S3** de la même manière que l'on **accède aux données sur un disque local**</u>. Nous utiliserons simplement un **PATH au format s3://...** .\n",
        "\n",
        "<img src=\"https://miro.medium.com/v2/resize:fit:1400/0*aJ6BpnaRXbf01pEB.png\" width=\"700\" height=\"300\">"
      ]
    },
    {
      "cell_type": "markdown",
      "metadata": {},
      "source": [
        "## <span style='background:green'>4/Configuration de l'environnement de travail</span>\n",
        "\n",
        "### <span style='background:black'>a/Création configuration IAM</span>\n",
        "\n",
        "<u>La gestion des utilisateurs et de leurs droits s'effectue via le service **AMI**</u> d'AWS.\n",
        "\n",
        "Nous y créons un utilisateur 'Pierrick' avec les droits administrateur (*AdministratorAccess*). Les autorisations minimales à donner sont :\n",
        "- EC2FullAccess\n",
        "- S3FullAccess\n",
        "- EMRFullAccess"
      ]
    },
    {
      "cell_type": "markdown",
      "metadata": {},
      "source": [
        "### <span style='background:black'>b/Configuration awscli</span>\n",
        "\n",
        "### <span style='background:red'>A voir si besoin</span>\n",
        "\n",
        "La première étape est d'installer et de configurer [**AWS Cli**](https://aws.amazon.com/fr/cli/), il s'agit de l'**interface en ligne de commande d'AWS**.<br />\n",
        "Elle nous permet d'**interagir avec les différents services d'AWS**, comme **S3** par exemple.\n",
        "\n",
        "Une fois l'utilisateur créé et ses autorisations configurées nous créons une **paire de clés** qui nous permettra de nous **connecter sans à avoir à devoir saisir systématiquement notre login/mot de passe**.\n",
        "\n",
        "Il faut également configurer l'**accès SSH** à nos futurs serveurs EC2. Ici aussi, via un système de clés qui nous dispense de devoir nous authentifier \"à la main\" à chaque connexion.\n",
        "\n",
        "### <span style='background:black'>c/Choix zone géographique des serveurs</span>\n",
        "\n",
        "Nous choississons la zone géographique de nos serveurs **EC2** et **S3**. Il est important de choisir la même zone pour les deux services pour garantir une **communication rapide et efficace** entre les deux.\n",
        "\n",
        "Nous choisissons la zone **eu-west-3** qui correspond à **Paris** pour être en conformité avec les **règles RGPD**."
      ]
    },
    {
      "cell_type": "markdown",
      "metadata": {},
      "source": [
        "## <span style='background:green'>5/Upload de nos données sur S3</span>\n",
        "\n",
        "Nous n'utilisons que les données contenues dans le dossier **Test** du [jeu de données du projet](https://www.kaggle.com/moltean/fruits/download). Pour cela, nous isolons ce dossier dans un dossier \"dossier_sync_AWS_S3\" sur notre machine locale.\n",
        "\n",
        "La première étape consiste à **créer un bucket sur S3** :\n",
        "- **aws s3 mb s3://pb-ocr-p9**\n",
        "\n",
        "Nous copions ensuite le contenu du dossier \"**dossier_sync_AWS_S3**\" sur notre bucket \"**pb-ocr-p9**\":\n",
        "1. On se place à l'intérieur du répertoire **dossier_sync_AWS_S3**\n",
        "2. **aws sync . s3://pb-ocr-p9**\n",
        "\n",
        "La commande **sync** est utile pour synchroniser deux répertoires. Ainsi, le dossier \"dossier_sync_AWS_S3\" est copié dans le bucket \"pb-ocr-p9\". Nous y trouvons un dossier \"Test\" avec les 22_688 images de fruits.\n",
        "\n",
        "<u>Nos données du projet sont maintenant disponibles sur Amazon S3</u>.\n"
      ]
    },
    {
      "cell_type": "markdown",
      "metadata": {},
      "source": [
        "## <span style='background:green'>6/Configuration du serveur EMR</span>\n",
        "\n",
        "### <span style='background:black'>a/Configuration framework et logiciels</span>\n",
        "\n",
        "<u>Paramétrez la persistance des notebooks créés et ouvert via JupyterHub</u> :\n",
        "- On peut à cette étape effectuer des demandes de paramétrage particulières sur nos applications. L'objectif est, comme pour le reste de nos données de travail, d'éviter toutes les problématiques évoquées précédemment. C'est l'objectif à cette étape, <u>nous allons enregistrer et ouvrir les notebooks</u> non pas sur l'espace disque de  l'instance EC2 (comme ce serait le cas dans la configuration par défaut de JupyterHub) mais <u>directement sur **Amazon S3**</u>. deux solutions sont possibles pour réaliser cela :\n",
        " 1. Créer un **fichier de configuration JSON** que l'on **upload sur S3** et on indique ensuite le chemin d’accès au fichier JSON\n",
        " 2. Rentrez directement la configuration au format JSON\n",
        " \n",
        "Nous optons pour la création d'un fichier JSON lors de la création de notre première instance EMR, puis lorsque nous clonerons notre serveur pour en recréer un facilement à l'identique, la configuration du fichier JSON sera directement copié.\n",
        "\n",
        "<u>Voici le contenu de mon fichier JSON</u> :  [{\"classification\":\"jupyter-s3-conf\",\"properties\":{\"s3.persistence.bucket\":\"pb-ocr-p9\",\"s3.persistence.enabled\":\"true\"}}]"
      ]
    },
    {
      "cell_type": "markdown",
      "metadata": {},
      "source": [
        "### <span style='background:black'>b/Matériel</span>\n",
        "\n",
        "A cette étape, laissez les choix par défaut. <u>L'important ici est la sélection de nos instances</u> :\n",
        "\n",
        "1. je choisi les instances de type **M5** qui sont des **instances de type équilibrés**\n",
        "2. je choisi le type **xlarge** qui est l'instance la **moins onéreuse disponible**\n",
        "3. Je sélectionne **1 instance Maître** (le driver) et **2 instances Principales** (les workeurs) soit **un total de 3 instance EC2**."
      ]
    },
    {
      "cell_type": "markdown",
      "metadata": {},
      "source": [
        "### <span style='background:black'>c/Paramètres de cluster généraux</span>\n",
        "\n",
        "#### <u>Options générales</u>\n",
        "La première chose à faire est de donner un nom au cluster : <u>P9_fruits</u> \n",
        "\n",
        "*Nous avons également décoché \"Protection de la résiliation\" pour des raisons pratiques.*\n",
        "\n",
        "#### <u>Actions d'amorçage</u>\n",
        "\n",
        "Nous allons à cette étape **choisir les packages manquants à installer** et qui \n",
        "nous serons utiles dans l'exécution de notre notebook.<u>L'avantage de réaliser cette étape maintenant est que les packages installés le seront sur l'ensemble des machines du cluster</u>.\n",
        "\n",
        "Nous créons donc un fichier nommé \"**bootstrap-emr.sh**\" que nous <u>uploadons \n",
        "sur S3</u> (à la racine de mon **bucket \"pb-ocr-p9\"**) et nous l'ajoutons à la liste des actions d'amorçage.\n",
        "\n",
        "Voici le contenu du fichier **bootstrap-emr.sh**\n",
        "\n",
        "```bash\t\n",
        "sudo python3 -m pip install -U setuptools\n",
        "sudo python3 -m pip install -U pip\n",
        "sudo python3 -m pip install wheel pillow pandas tensorflow pyarrow boto3 s3fs fsspec\n",
        "```"
      ]
    },
    {
      "cell_type": "markdown",
      "metadata": {},
      "source": [
        "### <span style='background:black'>d/Sécurité</span>\n",
        "\n",
        "A cette étape nous sélectionnons la **paire de clés EC2** créé précédemment. Elle nous permettra de se connecter en **ssh** à nos **instances EC2** sans avoir à entrer nos login/mot de passe.Nous laissons les autres paramètres par défaut.\n"
      ]
    },
    {
      "cell_type": "markdown",
      "metadata": {},
      "source": [
        "## <span style='background:green'>7/Intanciation du serveur</span>\n",
        "\n",
        "Il ne nous reste plus qu'à attendre que le serveur soit prêt. Cette étape peut prendre entre **15 et 20 minutes**."
      ]
    },
    {
      "cell_type": "markdown",
      "metadata": {},
      "source": [
        "## <span style='background:green'>8/Création du tunnel SSH à l'instance EC2 (Maître)</span>\n",
        "\n",
        "### <span style='background:black'>a/Création des autorisations sur les connexions entrantes</span>\n",
        "\n",
        "<u>Nous souhaitons maintenant pouvoir accéder à nos applications</u> :\n",
        " - **JupyterHub** pour l'exécution de notre notebook\n",
        " - **Serveur d'historique Spark** pour le suivi de l'exécution des tâches de notre script lorsqu'il sera lancé\n",
        " \n",
        "Cependant, <u>ces applications ne sont accessibles que depuis le réseau local du driver</u>, et pour y accéder nous devons **créer un tunnel SSH vers le driver**.\n",
        "\n",
        "Par défaut, ce driver se situe derrière un firewall qui bloque l'accès en SSH. <u>Pour ouvrir le port 22 qui correspond au port sur lequel écoute le serveur SSH, il faut modifier le **groupe de sécurité EC2 du driver**</u>."
      ]
    },
    {
      "cell_type": "markdown",
      "metadata": {},
      "source": [
        "### <span style='background:black'>b/Création du tunnel ssh vers le Driver</span>\n",
        "\n",
        "Nous pouvons désormais établir le **tunnel SSH** vers le **Driver**. Pour cela nous récupèrons les informations de connexion fournis par Amazon depuis la page du service EMR / Cluster / onglet Récapitulatif en cliquant sur \"**Activer la connexion Web**\"\n",
        "\n",
        "### <span style='background:red'>MAJ a faire</span>\n",
        "\n",
        "Nous choisissons d'utiliser le port **5555** au lieu du **8157**, même si le choix n'est pas très important.    j'ai également rencontré un <u>problème de compatibilité</u> avec l'argument \"**-N**\". Nous le supprimons.\n",
        "\n",
        "<u>Finalement, j'utilise la commande suivante dans un terminal pour établir mon tunnel ssh (seul l'URL change d'une instance à une autre)</u> : \"**ssh -i ~/.ssh/p8-ec2.pem -D 5555 hadoop@ec2-35-180-91-39.eu-west-3.compute.amazonaws.com**\"\n",
        "\n",
        "<u>On inscrit \"**yes**\" pour valider la connexion et si la connexion est établit on obtient le résultat suivant</u> :\n",
        "\n",
        "Nous avons **correctement établi le tunnel ssh avec le driver** sur le port \"5555\"."
      ]
    },
    {
      "cell_type": "markdown",
      "metadata": {},
      "source": [
        "### <span style='background:black'>c/Configuration de FoxyProxy</span>\n",
        "\n",
        "Une dernière étape est nécessaire pour accéder à nos applications, en demandant à notre navigateur d'emprunter le tunnel ssh. J'utilise pour cela **FoxyProxy**.\n",
        "\n",
        "Sinon, ouvrez la configuration de **FoxyProxy** et <u>cliquez sur **Ajouter**</u> en haut à gauche puis renseigner les éléments comme dans la capture ci-dessous :"
      ]
    },
    {
      "cell_type": "markdown",
      "metadata": {},
      "source": [
        "### <span style='background:black'>d/Accès aux applications du serveur EMR via le tunnel ssh</span>\n",
        "\n",
        "Nous activons le **tunnel ssh** comme vu précédemment puis nous demandons à notre navigateur de l'utiliser avec **FoxyProxy**. Nous pouvons désormais accéder à plusieurs applications."
      ]
    },
    {
      "cell_type": "markdown",
      "metadata": {},
      "source": [
        "## <span style='background:green'>9/Connexion au notebook JupyterHub</span>\n",
        "\n",
        "Pour se connecter à **JupyterHub** en vue d'exécuter notre **notebook**, il faut commencer par <u>cliquer sur l'application **JupyterHub**</u> apparu depuis que nous avons configuré le **tunnel ssh** et **foxyproxy** sur notre navigateur (actualisez la page si ce n’est pas le cas).\n",
        "\n",
        "### <span style='background:red'>MAJ a faire</span>\n",
        "\n",
        "Nous nous connectons avec les informations par défaut :\n",
        " - <u>login</u>: **jovyan**\n",
        " - <u>password</u>: **jupyter**\n",
        "\n",
        "Grace à la **persistance** paramétrée à l'instanciation du cluster nous sommes actuellement dans l'arborescence de notre **bucket S3**\n",
        "\n",
        "Je décide d'**importer un notebook déjà rédigé en local directement sur S3** et je l'ouvre depuis **l'interface JupyterHub**."
      ]
    },
    {
      "cell_type": "markdown",
      "metadata": {},
      "source": [
        "## <span style='background:green'>10/Exécution du code</span>\n",
        "\n",
        "Nous décidons d'exécuter cette partie du code depuis **JupyterHub hébergé sur notre cluster EMR**. Pour ne pas alourdir inutilement les explications du **notebook**, nous ne réexpliquerons pas les étapes communes que nous avons déjà vues dans la première partie lors de l'éxécution locale.\n",
        "\n",
        "<u>Avant de commencer</u>, il faut s'assurer d'utiliser le **kernel pyspark**.\n",
        "\n",
        "**En utilisant ce kernel, une session spark est créé à l'exécution de la première cellule**. Il n'est donc **plus nécessaire d'exécuter le code \"spark = (SparkSession ...\"** comme lors de l'exécution de notre notebook en local sur notre VM Ubuntu."
      ]
    },
    {
      "cell_type": "code",
      "execution_count": null,
      "metadata": {},
      "outputs": [],
      "source": [
        "# L'exécution de cette cellule démarre l'application Spark"
      ]
    },
    {
      "cell_type": "markdown",
      "metadata": {},
      "source": [
        "<u>Affichage des informations sur la session en cours et liens vers Spark UI</u> :"
      ]
    },
    {
      "cell_type": "code",
      "execution_count": null,
      "metadata": {},
      "outputs": [],
      "source": [
        "%%info"
      ]
    },
    {
      "cell_type": "markdown",
      "metadata": {},
      "source": [
        "<u>Installation des packages</u>\n",
        "\n",
        "Les packages nécessaires ont été installé via l'étape de **bootstrap** à l'instanciation du serveur.\n",
        "\n",
        "<u>Import des librairies</u>"
      ]
    },
    {
      "cell_type": "code",
      "execution_count": null,
      "metadata": {},
      "outputs": [],
      "source": [
        "# Librairies generales\n",
        "import os\n",
        "import os.path\n",
        "import sys\n",
        "import time\n",
        "from datetime import datetime\n",
        "\n",
        "# Librairies data science\n",
        "import pandas as pd\n",
        "from PIL import Image\n",
        "import numpy as np\n",
        "import io\n",
        "import matplotlib as mpl\n",
        "import matplotlib.pyplot as plt\n",
        "\n",
        "# Librairies TensorFlow\n",
        "import tensorflow as tf\n",
        "from tensorflow.keras.applications.mobilenet_v2 import MobileNetV2, preprocess_input\n",
        "from tensorflow.keras.preprocessing.image import img_to_array\n",
        "from tensorflow.keras import Model\n",
        "\n",
        "# Librairies Spark\n",
        "from pyspark.sql.functions import col, pandas_udf, PandasUDFType, element_at, split\n",
        "from pyspark.ml.feature import PCA\n",
        "from pyspark.sql.functions import udf\n",
        "from pyspark.ml.linalg import Vectors, VectorUDT\n",
        "\n",
        "# Versions\n",
        "print(\"Interpréteur python :\")\n",
        "print(\"Python        : \" + sys.version + \"\\n\")\n",
        "\n",
        "print(\"Version des librairies utilisées :\")\n",
        "print(\"Matplotlib    : \" + mpl.__version__)\n",
        "print(\"NumPy         : \" + np.__version__)\n",
        "print(\"Pandas        : \" + pd.__version__)\n",
        "print(\"Pillow (Image): \" + Image.__version__)\n",
        "print(\"Tensorflow    : \" + tf.__version__)\n",
        "print(\"PySpark       : \" + SparkSession.builder.getOrCreate().version)\n",
        "\n",
        "# Afficher heure lancement\n",
        "maintenant = datetime.now().isoformat()\n",
        "print(\"\\nCode lance le : \" + maintenant)\n",
        "\n",
        "# Enregistrer l'heure de debut\n",
        "start_time = time.time()"
      ]
    },
    {
      "cell_type": "markdown",
      "metadata": {},
      "source": [
        "<u>Fonction</u>"
      ]
    },
    {
      "cell_type": "code",
      "execution_count": null,
      "metadata": {},
      "outputs": [],
      "source": [
        "def calculer_duree_notebook(start_time):\n",
        "    \"\"\"\n",
        "    Cette procédure calcule et affiche la durée d'éxécution du notebook.\n",
        "\n",
        "    Args:\n",
        "        start_time (float): Le temps de début en secondes depuis l'époque.\n",
        "\n",
        "    Returns:\n",
        "        None\n",
        "    \"\"\"\n",
        "    # Calculer la durée totale et convertir en minutes et secondes\n",
        "    minutes, seconds = divmod(time.time() - start_time, 60)\n",
        "\n",
        "    # Afficher la durée totale\n",
        "    print(f\"Durée execution notebook : {int(minutes)} min {int(seconds)} sec\")"
      ]
    },
    {
      "cell_type": "code",
      "execution_count": null,
      "metadata": {},
      "outputs": [],
      "source": [
        "def calculer_variance_expliquee(model_fitted, nbr_composante, modulo=20):\n",
        "    \"\"\"\n",
        "    Cette fonction calcule la variance totale et la variance cumulative\n",
        "    expliquée par chaque composante principale.\n",
        "    Elle imprime la variance expliquée pour chaque multiple de x composantes.\n",
        "\n",
        "    :param model_fitted: Le modèle PCA ajusté.\n",
        "    :param nbr_composante: Le nombre total de composantes principales.\n",
        "    :param modulo : le nombre du modulo pour print les variances expliquées\n",
        "    :return: Une liste de tuples, où chaque tuple contient le nombre de\n",
        "    composantes et la variance cumulative expliquée.\n",
        "    \"\"\"\n",
        "    # Calculer la variance totale\n",
        "    total_variance = sum(model_fitted.explainedVariance)\n",
        "    print(\"Variance Totale: \", round(total_variance, 3))\n",
        "\n",
        "    # Calculer la somme cumulative des variances expliquées\n",
        "    cumulative_variance = np.cumsum(model_fitted.explainedVariance)\n",
        "\n",
        "    # Créer table de la variance expliquée pour chaque ensemble de composantes\n",
        "    explained_variance_table = []\n",
        "    for i in range(1, nbr_composante, 1):\n",
        "        explained_variance = cumulative_variance[i] / total_variance\n",
        "        explained_variance_table.append((i, explained_variance))\n",
        "\n",
        "        # print que les multiples du modulo\n",
        "        if i % modulo == 0:\n",
        "            print(\n",
        "                f\"Variance expliquée avec {i} composantes: {explained_variance:.3f}\"\n",
        "            )\n",
        "\n",
        "    return explained_variance_table"
      ]
    },
    {
      "cell_type": "markdown",
      "metadata": {},
      "source": [
        "<u>Définition des PATH pour charger les images et enregistrer les résultats</u>\n",
        "\n",
        "Nous accédons directement à nos **données sur S3** comme si elles étaient **stockées localement**."
      ]
    },
    {
      "cell_type": "code",
      "execution_count": null,
      "metadata": {},
      "outputs": [],
      "source": [
        "# Afficher le répertoire de travail actuel\n",
        "print(\"Current directory :\", os.getcwd())\n",
        "\n",
        "# Définir le répertoire de travail\n",
        "PATH = 's3://pb-ocr-p9'\n",
        "\n",
        "# Création des noms des répertoires\n",
        "PATH_Data = PATH + '/Test'\n",
        "PATH_Result = PATH + '/Results'\n",
        "PATH_Result_features = PATH_Result + '/features_parquet'\n",
        "PATH_Result_pca_parquet = PATH_Result + '/pca_parquet'\n",
        "PATH_Result_pca_csv = PATH_Result + '/pca_csv'\n",
        "\n",
        "# Liste des répertoires\n",
        "paths = [\n",
        "    PATH_Data,\n",
        "    PATH_Result,\n",
        "    PATH_Result_features,\n",
        "    PATH_Result_pca_parquet,\n",
        "    PATH_Result_pca_csv\n",
        "]\n",
        "\n",
        "# Création des répertoires s'ils n'existent pas\n",
        "for path in paths:\n",
        "    if not os.path.exists(path):\n",
        "        os.makedirs(path)\n",
        "\n",
        "# Afficher les répertoires\n",
        "print(\n",
        "    'PATH:        ' + PATH +\\\n",
        "    '\\nPATH_Data:   ' + PATH_Data +\\\n",
        "    '\\nPATH_Result:   ' + PATH_Result +\\\n",
        "    '\\nPATH_Result_features: '+ PATH_Result_features +\\\n",
        "    '\\nPATH_Result_pca_parquet: '+ PATH_Result_pca_parquet +\\\n",
        "    '\\nPATH_Result_pca_csv: '+ PATH_Result_pca_csv\n",
        ")"
      ]
    },
    {
      "cell_type": "markdown",
      "metadata": {},
      "source": [
        "<u>Chargement des données</u>"
      ]
    },
    {
      "cell_type": "code",
      "execution_count": null,
      "metadata": {},
      "outputs": [],
      "source": [
        "# Charger les images dans un DataFrame Spark\n",
        "images = spark.read.format(\"binaryFile\") \\\n",
        "    .option(\"pathGlobFilter\", \"*.jpg\") \\\n",
        "    .option(\"recursiveFileLookup\", \"true\") \\\n",
        "    .load(PATH_Data)\n",
        "\n",
        "# Ajout de la col label à partir du nom du dernier dossier contenant l'image\n",
        "images = images.withColumn('label', element_at(split(images['path'], '/'), -2))\n",
        "\n",
        "# Afficher le schema et les 5 premières lignes\n",
        "print(\"Voici le schema du DataFrame :\")\n",
        "print(images.printSchema())\n",
        "\n",
        "print(\"Voici les 5 premières lignes du DataFrame :\")\n",
        "print(images.show(5))\n",
        "\n",
        "print(\"Nombre de lignes/image dans le DataFrame : \", images.count())"
      ]
    },
    {
      "cell_type": "markdown",
      "metadata": {},
      "source": [
        "<u>Préparation du modèle</u>"
      ]
    },
    {
      "cell_type": "code",
      "execution_count": null,
      "metadata": {},
      "outputs": [],
      "source": [
        "model = MobileNetV2(\n",
        "    weights='imagenet',\n",
        "    include_top=True,\n",
        "    input_shape=(224, 224, 3)\n",
        ")"
      ]
    },
    {
      "cell_type": "code",
      "execution_count": null,
      "metadata": {},
      "outputs": [],
      "source": [
        "new_model = Model(\n",
        "    inputs=model.input,\n",
        "    outputs=model.layers[-2].output\n",
        ")"
      ]
    },
    {
      "cell_type": "code",
      "execution_count": null,
      "metadata": {},
      "outputs": [],
      "source": [
        "broadcast_weights = sc.broadcast(new_model.get_weights())"
      ]
    },
    {
      "cell_type": "code",
      "execution_count": null,
      "metadata": {},
      "outputs": [],
      "source": [
        "new_model.summary()"
      ]
    },
    {
      "cell_type": "markdown",
      "metadata": {},
      "source": [
        "<u>Fonctions pour traitement des données</u>"
      ]
    },
    {
      "cell_type": "code",
      "execution_count": null,
      "metadata": {},
      "outputs": [],
      "source": [
        "def model_fn():\n",
        "    \"\"\"\n",
        "    Cette fonction crée un modèle MobileNetV2 avec des poids pré-entraînés à partir d'ImageNet, retire la couche supérieure du modèle, rend toutes les couches non entraînables (c'est-à-dire, leurs poids ne seront pas mis à jour pendant l'entraînement), puis définit les poids du nouveau modèle à partir d'une valeur diffusée.\n",
        "\n",
        "    :return: Le nouveau modèle avec les poids pré-entraînés diffusés.\n",
        "    \"\"\"\n",
        "    # Créer modèle MobileNetV2 avec des poids pré-entraînés à partir d'ImageNet\n",
        "    model = MobileNetV2(\n",
        "        weights='imagenet',\n",
        "        include_top=True,\n",
        "        input_shape=(224, 224, 3)\n",
        "    )\n",
        "\n",
        "    # Rendre les couches non entraînables\n",
        "    for layer in model.layers:\n",
        "        layer.trainable = False\n",
        "\n",
        "    # création nouveau modèle sans la dernière couche\n",
        "    new_model = Model(\n",
        "        inputs=model.input,\n",
        "        outputs=model.layers[-2].output\n",
        "    )\n",
        "\n",
        "    # transmettre les poids du modèle\n",
        "    new_model.set_weights(broadcast_weights.value)\n",
        "    print(\"Broadcast des poids du modèle effectué\")\n",
        "\n",
        "    return new_model"
      ]
    },
    {
      "cell_type": "code",
      "execution_count": null,
      "metadata": {},
      "outputs": [],
      "source": [
        "def preprocess(content):\n",
        "    \"\"\"\n",
        "    Cette fonction charge une image à partir des données brutes, redimensionne\n",
        "    l'image à une taille de 224x224 pixels, la convertit en un tableau numpy,\n",
        "    puis applique la fonction de prétraitement de MobileNetV2.\n",
        "\n",
        "    :param content: Les données brutes de l'image à prétraiter.\n",
        "\n",
        "    :return: Le tableau numpy de l'image prétraitée.\n",
        "    \"\"\"\n",
        "    # Chargement de l'image et redimensionnement à 224x224\n",
        "    img = Image.open(io.BytesIO(content)).resize([224, 224])\n",
        "\n",
        "    # Conversion en tableau numpy\n",
        "    arr = img_to_array(img)\n",
        "\n",
        "    # Application de la fonction preprocess_input de MobileNetV2\n",
        "    return preprocess_input(arr)"
      ]
    },
    {
      "cell_type": "code",
      "execution_count": null,
      "metadata": {},
      "outputs": [],
      "source": [
        "def featurize_series(model, content_series):\n",
        "    \"\"\"\n",
        "    Effectue une caractérisation (featurization) d'une pd.Series d'images\n",
        "    brutes en utilisant le modèle en entrée.\n",
        "\n",
        "    :param model: Un modèle de deep learning pré-entraîné pour la\n",
        "    caractérisation des images.\n",
        "    :param content_series: Une pd.Series contenant des images brutes à\n",
        "    caractériser.\n",
        "\n",
        "    :return: Une pd.Series où chaque élément est un vecteur unidimensionnel\n",
        "    de caractéristiques d'image.\n",
        "    \"\"\"\n",
        "    # Application prétraitement à chaque image brute et empilement dans array\n",
        "    input = np.stack(content_series.map(preprocess))\n",
        "\n",
        "    # Utilisation du modèle pour prédire les caractéristiques de l'image\n",
        "    preds = model.predict(input)\n",
        "\n",
        "    # Applatissement des caractéristiques en 1 vecteur 1D (besoin pour Spark)\n",
        "    output = [p.flatten() for p in preds]\n",
        "\n",
        "    # Conversion en pd.Series\n",
        "    return pd.Series(output)"
      ]
    },
    {
      "cell_type": "code",
      "execution_count": null,
      "metadata": {},
      "outputs": [],
      "source": [
        "# Decorateur pour définir une UDF pandas de type Scalar Iterator\n",
        "@pandas_udf('array<float>', PandasUDFType.SCALAR_ITER)\n",
        "\n",
        "def featurize_udf(content_series_iter):\n",
        "    '''\n",
        "    Cette méthode est une UDF pandas de type Scalar Iterator qui enveloppe\n",
        "    notre fonction de featurisation. Le décorateur spécifie qu'elle renvoie\n",
        "    une colonne de DataFrame Spark de type ArrayType(FloatType).\n",
        "\n",
        "    :param content_series_iter: Cet argument est un itérateur sur des lots de\n",
        "    données, où chaque lot est une série pandas de données d'image.\n",
        "    '''\n",
        "    # Charger le modèle une fois  (réutiliser pour plusieurs lots de données)\n",
        "    model = model_fn()\n",
        "\n",
        "    # POUR chaque lot de données\n",
        "    for content_series in content_series_iter:\n",
        "        print(\"Lot de données de taille : \", content_series.shape)\n",
        "\n",
        "        # Application de la fonction de featurisation (du modele sur le lot)\n",
        "        yield featurize_series(model, content_series)"
      ]
    },
    {
      "cell_type": "markdown",
      "metadata": {},
      "source": [
        "<u>Extraction des features</u>"
      ]
    },
    {
      "cell_type": "code",
      "execution_count": null,
      "metadata": {},
      "outputs": [],
      "source": [
        "# 20 partitions + select col path & label + featurize & rename col content\n",
        "features_df = images.repartition(20).select(\n",
        "    col(\"path\"),\n",
        "    col(\"label\"),\n",
        "    featurize_udf(\"content\").alias(\"features\")\n",
        ")\n",
        "print(\"\\nFeatures calculées\")"
      ]
    },
    {
      "cell_type": "markdown",
      "metadata": {},
      "source": [
        "<u>Sauvegarde des features</u>"
      ]
    },
    {
      "cell_type": "code",
      "execution_count": null,
      "metadata": {},
      "outputs": [],
      "source": [
        "# Sauvegarde des features en format Parquet\n",
        "features_df.write.mode(\"overwrite\").parquet(PATH_Result_features)\n",
        "print(\n",
        "    f\"Save des features effectuée dans le chemin : {PATH_Result_features}\"\n",
        ")"
      ]
    },
    {
      "cell_type": "markdown",
      "metadata": {},
      "source": [
        "<u>Chargement des données enregistrées et validation des résultats</u>"
      ]
    },
    {
      "cell_type": "code",
      "execution_count": null,
      "metadata": {},
      "outputs": [],
      "source": [
        "features_pandas_df = pd.read_parquet(PATH_Result_features, engine='pyarrow')\n",
        "display(features_pandas_df)"
      ]
    },
    {
      "cell_type": "markdown",
      "metadata": {},
      "source": [
        "Nous vérifions qu'il a a bien 1_280 features pour chaque image (output de la dernière couche du modèle)."
      ]
    },
    {
      "cell_type": "code",
      "execution_count": null,
      "metadata": {},
      "outputs": [],
      "source": [
        "features_pandas_df.loc[0,'features'].shape"
      ]
    },
    {
      "cell_type": "code",
      "execution_count": null,
      "metadata": {},
      "outputs": [],
      "source": [
        "features_pandas_df.shape"
      ]
    },
    {
      "cell_type": "markdown",
      "metadata": {},
      "source": [
        "<u>Encapsulation des features dans un array</u>"
      ]
    },
    {
      "cell_type": "code",
      "execution_count": null,
      "metadata": {},
      "outputs": [],
      "source": [
        "# Fonction udf pour transformer un array en VectorUDT\n",
        "array_to_vector_udf = udf(lambda arr: Vectors.dense(arr), VectorUDT())\n",
        "\n",
        "# Ajouter une colonne de features_array\n",
        "features_df = features_df.withColumn(\n",
        "    \"features_array\", array_to_vector_udf(col(\"features\"))\n",
        ")\n",
        "\n",
        "# Afficher le dataframe\n",
        "features_df.show()"
      ]
    },
    {
      "cell_type": "markdown",
      "metadata": {},
      "source": [
        "<u>Réduction de dimension ACP</u>"
      ]
    },
    {
      "cell_type": "code",
      "execution_count": null,
      "metadata": {},
      "outputs": [],
      "source": [
        "# Nombre de composantes de l'ACP\n",
        "nbr_composante = 200\n",
        "\n",
        "# Créer un objet PCA, entrainement et transformation\n",
        "pca = PCA(\n",
        "    k=nbr_composante,\n",
        "    inputCol=\"features_array\",\n",
        "    outputCol=\"pca_features\"\n",
        ")\n",
        "model_fitted = pca.fit(features_df)\n",
        "pca_result_df = model_fitted.transform(features_df)\n",
        "\n",
        "# Calculer la variance totale et la variance cumulative expliquée\n",
        "explained_variance_table = calculer_variance_expliquee(\n",
        "    model_fitted,\n",
        "    nbr_composante\n",
        ")\n",
        "\n",
        "# Enregistrer les résultats de l'ACP en format parquet\n",
        "pca_result_df.write.mode('overwrite').parquet(PATH_Result_pca_parquet)\n",
        "print(\"\\nLes résultats de l'ACP ont été sauvegardés\")\n",
        "\n",
        "# Afficher les dimensions du dataframe des résultats de l'ACP\n",
        "print(\"Number of rows: \", pca_result_df.count())\n",
        "print(\"Number of columns: \", len(pca_result_df.columns))\n",
        "print(pca_result_df.columns)"
      ]
    },
    {
      "cell_type": "markdown",
      "metadata": {},
      "source": [
        "<u>Plot évolution variance selon ACP</u>"
      ]
    },
    {
      "cell_type": "code",
      "execution_count": null,
      "metadata": {},
      "outputs": [],
      "source": [
        "# Création tuple (composantes, variances) selon la table de variance expliquée\n",
        "components, variances = zip(*explained_variance_table)\n",
        "\n",
        "# Création du graphique de la variance expliquée\n",
        "plt.figure(figsize=(10, 6))\n",
        "plt.plot(components, variances, marker='o')\n",
        "\n",
        "# Titres et labels\n",
        "plt.xlabel('Nombre de composantes principales')\n",
        "plt.ylabel('Variance expliquée (%)')\n",
        "plt.title('Evolution de la variance expliquée par composante principale')\n",
        "plt.show()"
      ]
    },
    {
      "cell_type": "markdown",
      "metadata": {},
      "source": [
        "<u>Création fichier csv</u>"
      ]
    },
    {
      "cell_type": "code",
      "execution_count": null,
      "metadata": {},
      "outputs": [],
      "source": [
        "# Charger les résultats de l'ACP dans un DataFrame Pandas\n",
        "df_result_pca = pd.read_parquet(PATH_Result_pca_parquet, engine='pyarrow')\n",
        "display(df_result_pca.head())"
      ]
    },
    {
      "cell_type": "code",
      "execution_count": null,
      "metadata": {},
      "outputs": [],
      "source": [
        "# Afficher les valeurs de la première ligne de la colonne pca_features\n",
        "df_result_pca.loc[0, 'pca_features']['values']"
      ]
    },
    {
      "cell_type": "code",
      "execution_count": null,
      "metadata": {},
      "outputs": [],
      "source": [
        "# Creation d'une colonne 'values' contenant les valeurs des composantes\n",
        "df_result_pca['values'] = df_result_pca['pca_features'].apply(\n",
        "    lambda x: x['values']\n",
        ")\n",
        "\n",
        "# Convertion de la colonne 'values' en Series\n",
        "values_df = df_result_pca['values'].apply(pd.Series)\n",
        "\n",
        "# Création du chemin du fichier CSV\n",
        "csv_path = os.path.join(PATH_Result_pca_csv, 'values_pca.csv')\n",
        "\n",
        "# Export du dataframe en fichier CSV\n",
        "values_df.to_csv(csv_path, index=False)\n",
        "\n",
        "# Afficher un message de confirmation\n",
        "print(\n",
        "    f\"Le df a été exporté en fichier CSV à l'emplacement suivant : {csv_path}\"\n",
        ")"
      ]
    },
    {
      "cell_type": "markdown",
      "metadata": {},
      "source": [
        "<u>Vérification fichier csv</u>"
      ]
    },
    {
      "cell_type": "code",
      "execution_count": null,
      "metadata": {},
      "outputs": [],
      "source": [
        "values_pca_df = pd.read_csv(csv_path)\n",
        "display(values_pca_df)"
      ]
    },
    {
      "cell_type": "markdown",
      "metadata": {},
      "source": [
        "## <span style='background:green'>11/Suivi de l'avancement des tâches avec le Serveur d'Historique Spark</span>\n",
        "\n",
        "Grâce au **tunnel ssh** et à **FoxyProxy**, nous pouvons accéder au **Serveur d'Historique Spark**. Nous pouvons ainsi suivre l'avancement des tâches lancées par notre script.\n",
        "\n",
        "#### <span style='background:red'>MAJ à faire</span>\n",
        "\n",
        "Nous constatons que notre cluster de calcul a mis  **moins de 8 minutes** pour traiter les **22_688 images**."
      ]
    },
    {
      "cell_type": "markdown",
      "metadata": {},
      "source": [
        "## <span style='background:green'>12/Résiliation de l'instance EMR</span>\n",
        "\n",
        "Notre travail est maintenant terminé.\n",
        "\n",
        "Le cluster de machines EMR est **facturé à la demande**, et nous continuons d'être facturé même lorsque <br />\n",
        "les machines sont au repos. Pour **optimiser la facturation**, il nous faut maintenant **résilier le cluster**."
      ]
    },
    {
      "cell_type": "markdown",
      "metadata": {},
      "source": [
        "## <span style='background:green'>13/Cloner le serveur EMR (si besoin)</span>\n",
        "\n",
        "Si nous devons de nouveau exécuter notre notebook dans les mêmes conditions, il nous suffit de **cloner notre cluster** et ainsi en obtenir une copie fonctionnelle sous 15/20 minutes, le temps de son instanciation."
      ]
    },
    {
      "cell_type": "markdown",
      "metadata": {},
      "source": [
        "## <span style='background:green'>14/Arborescence du serveur S3 à la fin du projet</span>\n",
        "\n",
        "<u>Pour information, voici **l'arborescence complète de mon bucket S3 pb-ocr-p9** à la fin du projet</u> : <br />\n",
        "*Par soucis de lisibilité, nous ne listons pas les 131 sous dossiers du répertoire \"Test\"*\n",
        "\n",
        "#### <span style='background:red'>MAJ à faire</span>\n",
        "\n",
        "1. Results/_SUCCESS\n",
        "2. Results/part-00000-2cc36f38-19ef-4d8a-a0d1-5ddb309b3894-c000.snappy.parquet\n",
        "3. Results/part-00001-2cc36f38-19ef-4d8a-a0d1-5ddb309b3894-c000.snappy.parquet\n",
        "4. Results/part-00002-2cc36f38-19ef-4d8a-a0d1-5ddb309b3894-c000.snappy.parquet\n",
        "5. Results/part-00003-2cc36f38-19ef-4d8a-a0d1-5ddb309b3894-c000.snappy.parquet\n",
        "6. Results/part-00004-2cc36f38-19ef-4d8a-a0d1-5ddb309b3894-c000.snappy.parquet\n",
        "7. Results/part-00005-2cc36f38-19ef-4d8a-a0d1-5ddb309b3894-c000.snappy.parquet\n",
        "8. Results/part-00006-2cc36f38-19ef-4d8a-a0d1-5ddb309b3894-c000.snappy.parquet\n",
        "9. Results/part-00007-2cc36f38-19ef-4d8a-a0d1-5ddb309b3894-c000.snappy.parquet\n",
        "10. Results/part-00008-2cc36f38-19ef-4d8a-a0d1-5ddb309b3894-c000.snappy.parquet\n",
        "11. Results/part-00009-2cc36f38-19ef-4d8a-a0d1-5ddb309b3894-c000.snappy.parquet\n",
        "12. Results/part-00010-2cc36f38-19ef-4d8a-a0d1-5ddb309b3894-c000.snappy.parquet\n",
        "1. Results/part-00011-2cc36f38-19ef-4d8a-a0d1-5ddb309b3894-c000.snappy.parquet\n",
        "1. Results/part-00012-2cc36f38-19ef-4d8a-a0d1-5ddb309b3894-c000.snappy.parquet\n",
        "2. Results/part-00013-2cc36f38-19ef-4d8a-a0d1-5ddb309b3894-c000.snappy.parquet\n",
        "3. Results/part-00014-2cc36f38-19ef-4d8a-a0d1-5ddb309b3894-c000.snappy.parquet\n",
        "4. Results/part-00015-2cc36f38-19ef-4d8a-a0d1-5ddb309b3894-c000.snappy.parquet\n",
        "5. Results/part-00016-2cc36f38-19ef-4d8a-a0d1-5ddb309b3894-c000.snappy.parquet\n",
        "6. Results/part-00017-2cc36f38-19ef-4d8a-a0d1-5ddb309b3894-c000.snappy.parquet\n",
        "7. Results/part-00018-2cc36f38-19ef-4d8a-a0d1-5ddb309b3894-c000.snappy.parquet\n",
        "8. Results/part-00019-2cc36f38-19ef-4d8a-a0d1-5ddb309b3894-c000.snappy.parquet\n",
        "9. Results/part-00020-2cc36f38-19ef-4d8a-a0d1-5ddb309b3894-c000.snappy.parquet\n",
        "10. Results/part-00021-2cc36f38-19ef-4d8a-a0d1-5ddb309b3894-c000.snappy.parquet\n",
        "11. Results/part-00022-2cc36f38-19ef-4d8a-a0d1-5ddb309b3894-c000.snappy.parquet\n",
        "12. Results/part-00023-2cc36f38-19ef-4d8a-a0d1-5ddb309b3894-c000.snappy.parquet\n",
        "13. Test/\n",
        "14. bootstrap-emr.sh\n",
        "15. jupyter-s3-conf.json\n",
        "16. jupyter/jovyan/.s3keep\n",
        "17. jupyter/jovyan/P8_01_Notebook.ipynb\n",
        "18. jupyter/jovyan/_metadata\n",
        "19. jupyter/jovyan/e-5OTY4VKPDT21945FF6DN15E35/.aws-editors-workspace-metadata/\n",
        "1. jupyter/jovyan/e-5OTY4VKPDT21945FF6DN15E35/.aws-editors-workspace-metadata/file-perm.sqlite\n",
        "1. jupyter/jovyan/e-5OTY4VKPDT21945FF6DN15E35/.aws-editors-workspace-metadata/nbconvert/\n",
        "2. jupyter/jovyan/e-5OTY4VKPDT21945FF6DN15E35/.aws-editors-workspace-metadata/nbconvert/templates/\n",
        "3. jupyter/jovyan/e-5OTY4VKPDT21945FF6DN15E35/.aws-editors-workspace-metadata/nbconvert/templates/html/\n",
        "4. jupyter/jovyan/e-5OTY4VKPDT21945FF6DN15E35/.aws-editors-workspace-metadata/nbconvert/templates/latex/\n",
        "5. jupyter/jovyan/e-5OTY4VKPDT21945FF6DN15E35/.aws-editors-workspace-metadata/nbsignatures.db\n",
        "6. jupyter/jovyan/e-5OTY4VKPDT21945FF6DN15E35/.aws-editors-workspace-metadata/notebook_secret\n",
        "7. jupyter/jovyan/e-5OTY4VKPDT21945FF6DN15E35/.ipynb_checkpoints/\n",
        "8. jupyter/jovyan/e-5OTY4VKPDT21945FF6DN15E35/.ipynb_checkpoints/Untitled-checkpoint.ipynb\n",
        "9. jupyter/jovyan/e-5OTY4VKPDT21945FF6DN15E35/.ipynb_checkpoints/Untitled1-checkpoint.ipynb\n",
        "10. jupyter/jovyan/e-5OTY4VKPDT21945FF6DN15E35/.ipynb_checkpoints/test3-checkpoint.ipynb\n",
        "11. jupyter/jovyan/e-5OTY4VKPDT21945FF6DN15E35/Untitled.ipynb\n",
        "12. jupyter/jovyan/e-5OTY4VKPDT21945FF6DN15E35/Untitled1.ipynb\n",
        "13. jupyter/jovyan/e-5OTY4VKPDT21945FF6DN15E35/test3.ipynb\n"
      ]
    },
    {
      "cell_type": "markdown",
      "metadata": {
        "id": "LGaU0dnBOwbZ"
      },
      "source": [
        "# <span style='background:blue'>Conclusion</span>\n",
        "\n",
        "Ici"
      ]
    },
    {
      "cell_type": "code",
      "execution_count": 61,
      "metadata": {
        "colab": {
          "base_uri": "https://localhost:8080/"
        },
        "id": "iVaGNJktOwbZ",
        "outputId": "835bb2f9-ce15-49eb-ad10-7181ce8a7a4e"
      },
      "outputs": [
        {
          "name": "stdout",
          "output_type": "stream",
          "text": [
            "Durée execution notebook : 12 min 42 sec\n"
          ]
        }
      ],
      "source": [
        "# Afficher temps d'exécution du notebook\n",
        "calculer_duree_notebook(start_time)"
      ]
    },
    {
      "cell_type": "markdown",
      "metadata": {},
      "source": [
        "**Sélectionner les outils du Cloud permettant de traiter et stocker les données d'un projet Big Data conforme aux normes RGPD en vigueur afin de concevoir une application de qualité supportant le traitement de données massives.**\n",
        "- CE1 Le candidat a identifié les différentes briques d'architecture nécessaires pour la mise en place\n",
        "d'un environnement Big Data.\n",
        "- CE2 Le candidat a identifié les outils du cloud permettant de mettre en place l'environnement Big Data\n",
        "conforme aux normes RGPD en vigueur."
      ]
    },
    {
      "cell_type": "markdown",
      "metadata": {},
      "source": [
        "**Prétraiter, analyser et modéliser des données (en veillant à leur conformité RGPD) dans un environnement Big Data et en utilisant les outils du Cloud afin de concevoir une application sécurisée de qualité supportant le traitement de données massives.**\n",
        "- ~~CE1 Le candidat a chargé les fichiers de départ et ceux après transformation dans un espace de stockage cloud conforme à la réglementation RGPD.~~\n",
        "- CE2 Le candidat a exécuté les scripts en utilisant des machines dans le cloud.\n",
        "- CE3 Le candidat a réalisé un script qui permet d'écrire les sorties du programme directement dans l'espace de stockage cloud."
      ]
    },
    {
      "cell_type": "markdown",
      "metadata": {},
      "source": [
        "**Réaliser des calculs distribués sur des données massives en utilisant les outils adaptés et en prenant en compte le RGPD afin de permettre la mise en oeuvre d’applications à l’échelle.**\n",
        "- CE1 Le candidat a identifié les traitements critiques lors d'un passage à l'échelle en termes de volume de données.\n",
        "- ~~CE2 Le candidat veille à ce que l’exploitation des données soit conforme au RGPD. Dans le cadre de ce projet :~~\n",
        "    - ~~les données sont stockées, et les traitements sont réalisés, sur des serveurs situés sur le territoire européen~~\n",
        "- CE3 Le candidat a développé les scripts s’appuyant sur Spark.\n",
        "- CE4 Le candidat s'est assuré que toute la chaîne de traitement est exécutée dans le cloud."
      ]
    }
  ],
  "metadata": {
    "accelerator": "GPU",
    "colab": {
      "gpuType": "T4",
      "include_colab_link": true,
      "provenance": []
    },
    "kernelspec": {
      "display_name": "Python 3",
      "name": "python3"
    },
    "language_info": {
      "codemirror_mode": {
        "name": "ipython",
        "version": 3
      },
      "file_extension": ".py",
      "mimetype": "text/x-python",
      "name": "python",
      "nbconvert_exporter": "python",
      "pygments_lexer": "ipython3",
      "version": "3.11.5"
    }
  },
  "nbformat": 4,
  "nbformat_minor": 0
}
