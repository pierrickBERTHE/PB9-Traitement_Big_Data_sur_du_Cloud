{
  "cells": [
    {
      "cell_type": "markdown",
      "metadata": {
        "colab_type": "text",
        "id": "view-in-github"
      },
      "source": [
        "<a href=\"https://colab.research.google.com/github/pierrickBERTHE/Projet9_OCR_DataScientist/blob/main/Berthe_Pierrick_1_notebook_052024.ipynb\" target=\"_parent\"><img src=\"https://colab.research.google.com/assets/colab-badge.svg\" alt=\"Open In Colab\"/></a>"
      ]
    },
    {
      "cell_type": "markdown",
      "metadata": {
        "id": "AOMEXQFnOwa3"
      },
      "source": [
        "# <span style='color:SteelBlue'>P9 - Réalisez un traitement dans un environnement Big Data sur le Cloud</span>"
      ]
    },
    {
      "cell_type": "markdown",
      "metadata": {
        "id": "cVW_0XjDOwa6"
      },
      "source": [
        "![Logo Fruits](https://user.oc-static.com/upload/2023/03/09/16783555381729_Data%20Scientist-P9-01-banner.png)"
      ]
    },
    {
      "cell_type": "markdown",
      "metadata": {
        "id": "_iPc7Q41Owa9"
      },
      "source": [
        "# <span style='background:red; color:black'>MAJ à faire</span>\n",
        "\n",
        "# <span style='background:white; color:black'>Sommaire</span>\n",
        "\n",
        "Importations des librairies<br>\n",
        "\n",
        "Paramètres d'affichage<br>\n",
        "\n",
        "Fonctions <br>\n",
        "\n",
        "**Etape 1 : Importation des données**\n",
        "\n",
        "Conclusion"
      ]
    },
    {
      "cell_type": "markdown",
      "metadata": {
        "id": "qnauLiJiOwa_"
      },
      "source": [
        "# <span style='background:blue'>Introduction</span>\n",
        "\n",
        "L'entreprise \"Fruits!\" est une jeune entreprise qui a la volonté de préserver la biodiversité des fruits en permettant des traitements spécifiques pour chaque espèce de fruit en développant des robots cueilleurs intelligents.\n",
        "\n",
        "Pour cela, l'entreprise souhaite se faire connaitre en mettant à disposition du grand public une application mobile qui permettrait aux utilisateurs de prendre en photo un fruit et d'obtenir des informations sur ce fruit. Le developpement de cette application nécessite un traitement Big Data pour la reconnaissance d'image.\n",
        "___\n",
        "**Missions**\n",
        "\n",
        "1/ Expliquer pas-à-pas le script PySpark implémenté avec :\n",
        "- Un traitement de diffusion des poids du modèle Tensorflow sur les clusters (broadcast des « weights » du modèle)\n",
        "\n",
        "- Une étape d’une réduction de dimension de type ACP en PySpark\n",
        "\n",
        "2/ Faire une démonstration de la mise en place d’une instance EMR opérationnelle.\n",
        "\n",
        "3/ Démontrer le respect des contraintes RGPD (serveurs situés sur le territoire européen).\n",
        "\n",
        "4/ Donner mon retour critique sur cette solution (utile avant de la généraliser).\n",
        "___\n",
        "\n",
        "**Source des datasets**<br>\n",
        "Ce jeux de données comporte des images de fruits pour train et test un modèle de reconnaissance d'image.\n",
        "\n",
        "Nombre d'images : 90_483<br>\n",
        "Nombre de classes : 131<br>\n",
        "Taille des images : 100x100 pixels<br>\n",
        "\n",
        "3 dossiers :\n",
        "- Training (67_692 images)\n",
        "- Test (22_688 images)\n",
        "- test-multiple_fruits\n",
        "\n",
        "\n",
        "Source : [Fruits-360 dataset](https://www.kaggle.com/datasets/moltean/fruits) sur Kaggle.com<br>"
      ]
    },
    {
      "cell_type": "markdown",
      "metadata": {
        "id": "2Q9tTc_QOwbA"
      },
      "source": [
        "# <span style='background:grey'>Importations des librairies</span>"
      ]
    },
    {
      "cell_type": "markdown",
      "metadata": {
        "id": "mlqcu7RKOwbC"
      },
      "source": [
        "Liste des imports généraux :"
      ]
    },
    {
      "cell_type": "code",
      "execution_count": 1,
      "metadata": {
        "colab": {
          "base_uri": "https://localhost:8080/"
        },
        "id": "_F_r51L-OwbD",
        "outputId": "6f5957e9-6c04-43f5-879f-c056883a1d29"
      },
      "outputs": [
        {
          "name": "stdout",
          "output_type": "stream",
          "text": [
            "Requirement already satisfied: Pandas in /usr/local/lib/python3.10/dist-packages (2.0.3)\n",
            "Requirement already satisfied: pillow in /usr/local/lib/python3.10/dist-packages (9.4.0)\n",
            "Requirement already satisfied: tensorflow in /usr/local/lib/python3.10/dist-packages (2.15.0)\n",
            "Collecting pyspark\n",
            "  Downloading pyspark-3.5.1.tar.gz (317.0 MB)\n",
            "\u001b[2K     \u001b[90m━━━━━━━━━━━━━━━━━━━━━━━━━━━━━━━━━━━━━━━━\u001b[0m \u001b[32m317.0/317.0 MB\u001b[0m \u001b[31m3.9 MB/s\u001b[0m eta \u001b[36m0:00:00\u001b[0m\n",
            "\u001b[?25h  Preparing metadata (setup.py) ... \u001b[?25l\u001b[?25hdone\n",
            "Requirement already satisfied: pyarrow in /usr/local/lib/python3.10/dist-packages (14.0.2)\n",
            "Collecting pyngrok\n",
            "  Downloading pyngrok-7.1.6-py3-none-any.whl (22 kB)\n",
            "Requirement already satisfied: python-dateutil>=2.8.2 in /usr/local/lib/python3.10/dist-packages (from Pandas) (2.8.2)\n",
            "Requirement already satisfied: pytz>=2020.1 in /usr/local/lib/python3.10/dist-packages (from Pandas) (2023.4)\n",
            "Requirement already satisfied: tzdata>=2022.1 in /usr/local/lib/python3.10/dist-packages (from Pandas) (2024.1)\n",
            "Requirement already satisfied: numpy>=1.21.0 in /usr/local/lib/python3.10/dist-packages (from Pandas) (1.25.2)\n",
            "Requirement already satisfied: absl-py>=1.0.0 in /usr/local/lib/python3.10/dist-packages (from tensorflow) (1.4.0)\n",
            "Requirement already satisfied: astunparse>=1.6.0 in /usr/local/lib/python3.10/dist-packages (from tensorflow) (1.6.3)\n",
            "Requirement already satisfied: flatbuffers>=23.5.26 in /usr/local/lib/python3.10/dist-packages (from tensorflow) (24.3.25)\n",
            "Requirement already satisfied: gast!=0.5.0,!=0.5.1,!=0.5.2,>=0.2.1 in /usr/local/lib/python3.10/dist-packages (from tensorflow) (0.5.4)\n",
            "Requirement already satisfied: google-pasta>=0.1.1 in /usr/local/lib/python3.10/dist-packages (from tensorflow) (0.2.0)\n",
            "Requirement already satisfied: h5py>=2.9.0 in /usr/local/lib/python3.10/dist-packages (from tensorflow) (3.9.0)\n",
            "Requirement already satisfied: libclang>=13.0.0 in /usr/local/lib/python3.10/dist-packages (from tensorflow) (18.1.1)\n",
            "Requirement already satisfied: ml-dtypes~=0.2.0 in /usr/local/lib/python3.10/dist-packages (from tensorflow) (0.2.0)\n",
            "Requirement already satisfied: opt-einsum>=2.3.2 in /usr/local/lib/python3.10/dist-packages (from tensorflow) (3.3.0)\n",
            "Requirement already satisfied: packaging in /usr/local/lib/python3.10/dist-packages (from tensorflow) (24.0)\n",
            "Requirement already satisfied: protobuf!=4.21.0,!=4.21.1,!=4.21.2,!=4.21.3,!=4.21.4,!=4.21.5,<5.0.0dev,>=3.20.3 in /usr/local/lib/python3.10/dist-packages (from tensorflow) (3.20.3)\n",
            "Requirement already satisfied: setuptools in /usr/local/lib/python3.10/dist-packages (from tensorflow) (67.7.2)\n",
            "Requirement already satisfied: six>=1.12.0 in /usr/local/lib/python3.10/dist-packages (from tensorflow) (1.16.0)\n",
            "Requirement already satisfied: termcolor>=1.1.0 in /usr/local/lib/python3.10/dist-packages (from tensorflow) (2.4.0)\n",
            "Requirement already satisfied: typing-extensions>=3.6.6 in /usr/local/lib/python3.10/dist-packages (from tensorflow) (4.11.0)\n",
            "Requirement already satisfied: wrapt<1.15,>=1.11.0 in /usr/local/lib/python3.10/dist-packages (from tensorflow) (1.14.1)\n",
            "Requirement already satisfied: tensorflow-io-gcs-filesystem>=0.23.1 in /usr/local/lib/python3.10/dist-packages (from tensorflow) (0.37.0)\n",
            "Requirement already satisfied: grpcio<2.0,>=1.24.3 in /usr/local/lib/python3.10/dist-packages (from tensorflow) (1.64.0)\n",
            "Requirement already satisfied: tensorboard<2.16,>=2.15 in /usr/local/lib/python3.10/dist-packages (from tensorflow) (2.15.2)\n",
            "Requirement already satisfied: tensorflow-estimator<2.16,>=2.15.0 in /usr/local/lib/python3.10/dist-packages (from tensorflow) (2.15.0)\n",
            "Requirement already satisfied: keras<2.16,>=2.15.0 in /usr/local/lib/python3.10/dist-packages (from tensorflow) (2.15.0)\n",
            "Requirement already satisfied: py4j==0.10.9.7 in /usr/local/lib/python3.10/dist-packages (from pyspark) (0.10.9.7)\n",
            "Requirement already satisfied: PyYAML>=5.1 in /usr/local/lib/python3.10/dist-packages (from pyngrok) (6.0.1)\n",
            "Requirement already satisfied: wheel<1.0,>=0.23.0 in /usr/local/lib/python3.10/dist-packages (from astunparse>=1.6.0->tensorflow) (0.43.0)\n",
            "Requirement already satisfied: google-auth<3,>=1.6.3 in /usr/local/lib/python3.10/dist-packages (from tensorboard<2.16,>=2.15->tensorflow) (2.27.0)\n",
            "Requirement already satisfied: google-auth-oauthlib<2,>=0.5 in /usr/local/lib/python3.10/dist-packages (from tensorboard<2.16,>=2.15->tensorflow) (1.2.0)\n",
            "Requirement already satisfied: markdown>=2.6.8 in /usr/local/lib/python3.10/dist-packages (from tensorboard<2.16,>=2.15->tensorflow) (3.6)\n",
            "Requirement already satisfied: requests<3,>=2.21.0 in /usr/local/lib/python3.10/dist-packages (from tensorboard<2.16,>=2.15->tensorflow) (2.31.0)\n",
            "Requirement already satisfied: tensorboard-data-server<0.8.0,>=0.7.0 in /usr/local/lib/python3.10/dist-packages (from tensorboard<2.16,>=2.15->tensorflow) (0.7.2)\n",
            "Requirement already satisfied: werkzeug>=1.0.1 in /usr/local/lib/python3.10/dist-packages (from tensorboard<2.16,>=2.15->tensorflow) (3.0.3)\n",
            "Requirement already satisfied: cachetools<6.0,>=2.0.0 in /usr/local/lib/python3.10/dist-packages (from google-auth<3,>=1.6.3->tensorboard<2.16,>=2.15->tensorflow) (5.3.3)\n",
            "Requirement already satisfied: pyasn1-modules>=0.2.1 in /usr/local/lib/python3.10/dist-packages (from google-auth<3,>=1.6.3->tensorboard<2.16,>=2.15->tensorflow) (0.4.0)\n",
            "Requirement already satisfied: rsa<5,>=3.1.4 in /usr/local/lib/python3.10/dist-packages (from google-auth<3,>=1.6.3->tensorboard<2.16,>=2.15->tensorflow) (4.9)\n",
            "Requirement already satisfied: requests-oauthlib>=0.7.0 in /usr/local/lib/python3.10/dist-packages (from google-auth-oauthlib<2,>=0.5->tensorboard<2.16,>=2.15->tensorflow) (1.3.1)\n",
            "Requirement already satisfied: charset-normalizer<4,>=2 in /usr/local/lib/python3.10/dist-packages (from requests<3,>=2.21.0->tensorboard<2.16,>=2.15->tensorflow) (3.3.2)\n",
            "Requirement already satisfied: idna<4,>=2.5 in /usr/local/lib/python3.10/dist-packages (from requests<3,>=2.21.0->tensorboard<2.16,>=2.15->tensorflow) (3.7)\n",
            "Requirement already satisfied: urllib3<3,>=1.21.1 in /usr/local/lib/python3.10/dist-packages (from requests<3,>=2.21.0->tensorboard<2.16,>=2.15->tensorflow) (2.0.7)\n",
            "Requirement already satisfied: certifi>=2017.4.17 in /usr/local/lib/python3.10/dist-packages (from requests<3,>=2.21.0->tensorboard<2.16,>=2.15->tensorflow) (2024.2.2)\n",
            "Requirement already satisfied: MarkupSafe>=2.1.1 in /usr/local/lib/python3.10/dist-packages (from werkzeug>=1.0.1->tensorboard<2.16,>=2.15->tensorflow) (2.1.5)\n",
            "Requirement already satisfied: pyasn1<0.7.0,>=0.4.6 in /usr/local/lib/python3.10/dist-packages (from pyasn1-modules>=0.2.1->google-auth<3,>=1.6.3->tensorboard<2.16,>=2.15->tensorflow) (0.6.0)\n",
            "Requirement already satisfied: oauthlib>=3.0.0 in /usr/local/lib/python3.10/dist-packages (from requests-oauthlib>=0.7.0->google-auth-oauthlib<2,>=0.5->tensorboard<2.16,>=2.15->tensorflow) (3.2.2)\n",
            "Building wheels for collected packages: pyspark\n",
            "  Building wheel for pyspark (setup.py) ... \u001b[?25l\u001b[?25hdone\n",
            "  Created wheel for pyspark: filename=pyspark-3.5.1-py2.py3-none-any.whl size=317488491 sha256=b95a087f5c5d21797100843461272a9bf851422a78fb8b161ba990ba7c1583ac\n",
            "  Stored in directory: /root/.cache/pip/wheels/80/1d/60/2c256ed38dddce2fdd93be545214a63e02fbd8d74fb0b7f3a6\n",
            "Successfully built pyspark\n",
            "Installing collected packages: pyspark, pyngrok\n",
            "Successfully installed pyngrok-7.1.6 pyspark-3.5.1\n"
          ]
        }
      ],
      "source": [
        "!pip install Pandas pillow tensorflow pyspark pyarrow pyngrok"
      ]
    },
    {
      "cell_type": "code",
      "execution_count": 2,
      "metadata": {
        "colab": {
          "base_uri": "https://localhost:8080/"
        },
        "id": "-t6pB3_qOwbF",
        "outputId": "ea38eee4-40cf-40aa-dfae-79586c0b371b"
      },
      "outputs": [
        {
          "name": "stdout",
          "output_type": "stream",
          "text": [
            "Mounted at /content/drive\n",
            "\n",
            "Connecté à Google Drive\n",
            "\n",
            "Interpréteur python :\n",
            "Python        : 3.10.12 (main, Nov 20 2023, 15:14:05) [GCC 11.4.0]\n",
            "\n",
            "Version des librairies utilisées :\n",
            "Pyngrok       : 7.1.6\n",
            "Matplotlib    : 3.7.1\n",
            "NumPy         : 1.25.2\n",
            "Pandas        : 2.0.3\n",
            "Pillow (Image): 9.4.0\n",
            "Tensorflow    : 2.15.0\n"
          ]
        },
        {
          "name": "stderr",
          "output_type": "stream",
          "text": [
            "/usr/lib/python3.10/subprocess.py:1796: RuntimeWarning: os.fork() was called. os.fork() is incompatible with multithreaded code, and JAX is multithreaded, so this will likely lead to a deadlock.\n",
            "  self.pid = _posixsubprocess.fork_exec(\n"
          ]
        },
        {
          "name": "stdout",
          "output_type": "stream",
          "text": [
            "PySpark       : 3.5.1\n",
            "\n",
            "Code lance le : 2024-05-31T10:29:32.178200\n"
          ]
        }
      ],
      "source": [
        "# Librairies generales\n",
        "import os\n",
        "import os.path\n",
        "import sys\n",
        "import time\n",
        "from datetime import datetime\n",
        "import glob\n",
        "\n",
        "# Librairies data science\n",
        "import pandas as pd\n",
        "from PIL import Image\n",
        "import numpy as np\n",
        "import io\n",
        "import matplotlib as mpl\n",
        "import matplotlib.pyplot as plt\n",
        "\n",
        "# Librairies TensorFlow\n",
        "import tensorflow as tf\n",
        "from tensorflow.keras.applications.mobilenet_v2 import MobileNetV2, preprocess_input\n",
        "from tensorflow.keras.preprocessing.image import img_to_array\n",
        "from tensorflow.keras import Model\n",
        "\n",
        "# Librairies Spark\n",
        "from pyspark import SparkConf\n",
        "from pyspark.sql.functions import col, pandas_udf, PandasUDFType, element_at, split\n",
        "from pyspark.sql import SparkSession\n",
        "from pyspark.ml.feature import PCA\n",
        "from pyspark.sql.functions import udf\n",
        "from pyspark.ml.linalg import Vectors, VectorUDT\n",
        "\n",
        "# Pour Google Colab\n",
        "from google.colab import drive\n",
        "drive.mount('/content/drive')\n",
        "print(\"\\nConnecté à Google Drive\\n\")\n",
        "\n",
        "# pyngrok pour SparkUI\n",
        "import getpass\n",
        "import pyngrok\n",
        "from pyngrok import ngrok, conf\n",
        "\n",
        "# Versions\n",
        "print(\"Interpréteur python :\")\n",
        "print(\"Python        : \" + sys.version + \"\\n\")\n",
        "\n",
        "print(\"Version des librairies utilisées :\")\n",
        "print(\"Pyngrok       : \" + pyngrok.__version__)\n",
        "print(\"Matplotlib    : \" + mpl.__version__)\n",
        "print(\"NumPy         : \" + np.__version__)\n",
        "print(\"Pandas        : \" + pd.__version__)\n",
        "print(\"Pillow (Image): \" + Image.__version__)\n",
        "print(\"Tensorflow    : \" + tf.__version__)\n",
        "print(\"PySpark       : \" + SparkSession.builder.getOrCreate().version)\n",
        "\n",
        "# Afficher heure lancement\n",
        "maintenant = datetime.now().isoformat()\n",
        "print(\"\\nCode lance le : \" + maintenant)\n",
        "\n",
        "# Enregistrer l'heure de debut\n",
        "start_time = time.time()"
      ]
    },
    {
      "cell_type": "markdown",
      "metadata": {
        "id": "-8Np99AmOwbH"
      },
      "source": [
        "# <span style='background:red'>supprimer si Colab validé jusqu'au bout</span>\n",
        "\n",
        "\n",
        "J'ai également copié le fichier \"hadoop.dll\" dans le dossier \"*C:\\Windows\\System32*\" pour éviter une erreur lors de l'importation des données. Ce fichier est issue du git de winutils : [git winutils/hadoop-3.4.0-win10-x64/bin](https://github.com/kontext-tech/winutils/tree/master/hadoop-3.4.0-win10-x64/bin)\n",
        "\n",
        "Il faut ensuite définir la variable d'environnement \"HADOOP_HOME\" qui pointe vers le dossier contenant le fichier \"hadoop.dll\"."
      ]
    },
    {
      "cell_type": "code",
      "execution_count": 3,
      "metadata": {
        "id": "CRwRONMqOwbJ"
      },
      "outputs": [],
      "source": [
        "# os.environ['PYSPARK_PYTHON'] = sys.executable\n",
        "# os.environ['HADOOP_HOME'] = \"C:\\\\Program Files\\\\Hadoop\\\\\""
      ]
    },
    {
      "cell_type": "markdown",
      "metadata": {
        "id": "sv_-v1cTOwbJ"
      },
      "source": [
        "# <span style='background:grey'>Paramètres Spark UI</span>\n",
        "\n",
        "Pour pouvoir visualiser l'interface utilisateur de Spark, il faut définir les paramètres de ngrok."
      ]
    },
    {
      "cell_type": "code",
      "execution_count": 4,
      "metadata": {
        "id": "G3x9eZW9OwbJ"
      },
      "outputs": [],
      "source": [
        "get_ipython().system_raw('./ngrok http 4040 &')"
      ]
    },
    {
      "cell_type": "markdown",
      "metadata": {
        "id": "EPVEsZuqOwbK"
      },
      "source": [
        "# <span style='background:grey'>Fonctions</span>\n"
      ]
    },
    {
      "cell_type": "code",
      "execution_count": 5,
      "metadata": {
        "id": "qB5vTv0NOwbK"
      },
      "outputs": [],
      "source": [
        "def calculer_duree_notebook(start_time):\n",
        "    \"\"\"\n",
        "    Cette procédure calcule et affiche la durée d'éxécution du notebook.\n",
        "\n",
        "    Args:\n",
        "        start_time (float): Le temps de début en secondes depuis l'époque.\n",
        "\n",
        "    Returns:\n",
        "        None\n",
        "    \"\"\"\n",
        "    # Calculer la durée totale et convertir en minutes et secondes\n",
        "    minutes, seconds = divmod(time.time() - start_time, 60)\n",
        "\n",
        "    # Afficher la durée totale\n",
        "    print(f\"Durée execution notebook : {int(minutes)} min {int(seconds)} sec\")"
      ]
    },
    {
      "cell_type": "code",
      "execution_count": 6,
      "metadata": {
        "id": "W07uC5yTKslu"
      },
      "outputs": [],
      "source": [
        "def calculer_variance_expliquee(model_fitted, nbr_composante, modulo=20):\n",
        "    \"\"\"\n",
        "    Cette fonction calcule la variance totale et la variance cumulative\n",
        "    expliquée par chaque composante principale.\n",
        "    Elle imprime la variance expliquée pour chaque multiple de x composantes.\n",
        "\n",
        "    :param model_fitted: Le modèle PCA ajusté.\n",
        "    :param nbr_composante: Le nombre total de composantes principales.\n",
        "    :param modulo : le nombre du modulo pour print les variances expliquées\n",
        "    :return: Une liste de tuples, où chaque tuple contient le nombre de\n",
        "    composantes et la variance cumulative expliquée.\n",
        "    \"\"\"\n",
        "    # Calculer la variance totale\n",
        "    total_variance = sum(model_fitted.explainedVariance)\n",
        "    print(\"Variance Totale: \", round(total_variance, 3))\n",
        "\n",
        "    # Calculer la somme cumulative des variances expliquées\n",
        "    cumulative_variance = np.cumsum(model_fitted.explainedVariance)\n",
        "\n",
        "    # Créer table de la variance expliquée pour chaque ensemble de composantes\n",
        "    explained_variance_table = []\n",
        "    for i in range(1, nbr_composante, 1):\n",
        "        explained_variance = cumulative_variance[i] / total_variance\n",
        "        explained_variance_table.append((i, explained_variance))\n",
        "\n",
        "        # print que les multiples du modulo\n",
        "        if i % modulo == 0:\n",
        "            print(\n",
        "                f\"Variance expliquée avec {i} composantes: {explained_variance:.3f}\"\n",
        "            )\n",
        "\n",
        "    return explained_variance_table"
      ]
    },
    {
      "cell_type": "markdown",
      "metadata": {
        "id": "jq4Nx_F_OwbL"
      },
      "source": [
        "# <span style='background:blue'>Etape 1 : Déploiement de la solution en local</span>\n",
        "\n",
        "## <span style='background:green'>1/Importation des données</span>\n",
        "\n",
        "### <span style='background:black'>a/Images</span>\n",
        "\n",
        "Pour le développement du code, nous avons téléchargé un échantillon de 3 types de pommes pour un total de 1_400 images que nous avons regroupé dans un dossier \"dataset_sample\".\n",
        "\n",
        "Pour le comparatif de la solution entre la version locale et la version cloud, nous utiliserons l'ensemble des images de fruits du dossier \"Test\" du dataset initial pour un total de 22_688 images."
      ]
    },
    {
      "cell_type": "code",
      "execution_count": 7,
      "metadata": {
        "colab": {
          "base_uri": "https://localhost:8080/"
        },
        "id": "Z_nKQLelOwbL",
        "outputId": "215e5bdf-76ee-4778-d770-1b76ac86f2f9"
      },
      "outputs": [
        {
          "name": "stdout",
          "output_type": "stream",
          "text": [
            "Current directory avant chdir : /content\n",
            "Execution in Google Colab :  True \n",
            "\n",
            "Current directory apres chdir : /content/drive/MyDrive/Colab Notebooks/P9\n",
            "PATH:        /content/drive/MyDrive/Colab Notebooks/P9\n",
            "PATH_Data:   /content/drive/MyDrive/Colab Notebooks/P9/data/source/fruits-360_dataset/fruits-360/Test\n",
            "PATH_Result_features: /content/drive/MyDrive/Colab Notebooks/P9/results/features_parquet\n",
            "PATH_Result_pca_parquet: /content/drive/MyDrive/Colab Notebooks/P9/results/pca_parquet\n",
            "PATH_Result_pca_csv: /content/drive/MyDrive/Colab Notebooks/P9/results/pca_csv\n"
          ]
        }
      ],
      "source": [
        "# Déterminer si c'est le dossier d'image test (1_400) ou complet (22_688)\n",
        "is_dossier_image_test = False\n",
        "\n",
        "# Afficher le répertoire de travail actuel\n",
        "print(\"Current directory avant chdir :\", os.getcwd())\n",
        "\n",
        "# Vérifier si le code est exécuté dans Google Colab\n",
        "is_google_colab = 'COLAB_GPU' in os.environ\n",
        "print(\"Execution in Google Colab : \", is_google_colab, \"\\n\")\n",
        "\n",
        "# Definir le chemin d'import des fichiers sur Google Colab ou PC local\n",
        "if is_google_colab:\n",
        "\n",
        "    # Changer le répertoire courant\n",
        "    PATH = \"/content/drive/MyDrive/Colab Notebooks/P9\"\n",
        "    os.chdir(PATH)\n",
        "    print(\"Current directory apres chdir :\", os.getcwd())\n",
        "\n",
        "else:\n",
        "\n",
        "    # Conserver repertoire PC local\n",
        "    PATH = \".\"\n",
        "    print(\"Current directory ne doit pas avoir changé :\", os.getcwd(), '\\n')\n",
        "\n",
        "# Création des noms des répertoires\n",
        "if is_dossier_image_test:\n",
        "    PATH_Data = PATH + '/data/source/dataset_sample'\n",
        "else:\n",
        "    PATH_Data = PATH + '/data/source/fruits-360_dataset/fruits-360/Test'\n",
        "PATH_Result_features = PATH + '/results/features_parquet'\n",
        "PATH_Result_pca_parquet = PATH + '/results/pca_parquet'\n",
        "PATH_Result_pca_csv = PATH + '/results/pca_csv'\n",
        "\n",
        "# Liste des répertoires\n",
        "paths = [\n",
        "    PATH_Data,\n",
        "    PATH_Result_features,\n",
        "    PATH_Result_pca_parquet,\n",
        "    PATH_Result_pca_csv\n",
        "]\n",
        "\n",
        "# Création des répertoires s'ils n'existent pas\n",
        "for path in paths:\n",
        "    if not os.path.exists(path):\n",
        "        os.makedirs(path)\n",
        "\n",
        "# Afficher les répertoires créés\n",
        "print(\n",
        "    'PATH:        ' + PATH +\\\n",
        "    '\\nPATH_Data:   ' + PATH_Data +\\\n",
        "    '\\nPATH_Result_features: '+ PATH_Result_features +\\\n",
        "    '\\nPATH_Result_pca_parquet: '+ PATH_Result_pca_parquet +\\\n",
        "    '\\nPATH_Result_pca_csv: '+ PATH_Result_pca_csv\n",
        ")"
      ]
    },
    {
      "cell_type": "markdown",
      "metadata": {
        "id": "fsGXn_DjKslx"
      },
      "source": [
        "### <span style='background:black'>b/Features</span>\n",
        "\n",
        "Si les calculs des features ont déjà été effectués, on peut charger les données depuis des fichiers parquet."
      ]
    },
    {
      "cell_type": "code",
      "execution_count": 8,
      "metadata": {
        "colab": {
          "base_uri": "https://localhost:8080/"
        },
        "id": "9sBNeRohMBY0",
        "outputId": "007635d6-2a2b-421c-b9d3-03e14cf0a8ca"
      },
      "outputs": [
        {
          "name": "stdout",
          "output_type": "stream",
          "text": [
            "\n",
            "Les features n'ont pas encore été calculées\n"
          ]
        }
      ],
      "source": [
        "# Vérifier si le dossier contient des fichiers Parquet\n",
        "parquet_files = glob.glob(os.path.join(PATH_Result_features, \"*.parquet\"))\n",
        "if not parquet_files:\n",
        "    is_result_features_calculed = False\n",
        "    print(\"\\nLes features n'ont pas encore été calculées\")\n",
        "else:\n",
        "    is_result_features_calculed = True\n",
        "    print(\"\\nLes features ont déjà été calculées\")"
      ]
    },
    {
      "cell_type": "markdown",
      "metadata": {
        "id": "D5hsX0eXKsly"
      },
      "source": [
        "### <span style='background:black'>c/ACP</span>\n",
        "\n",
        "Si les calculs  de l'ACP ont déjà été effectués, on peut charger les données depuis des fichiers parquets."
      ]
    },
    {
      "cell_type": "code",
      "execution_count": 9,
      "metadata": {
        "colab": {
          "base_uri": "https://localhost:8080/"
        },
        "id": "PeYd2ABPMUl9",
        "outputId": "d2e66049-9c53-440e-9814-f2a912b8fd27"
      },
      "outputs": [
        {
          "name": "stdout",
          "output_type": "stream",
          "text": [
            "\n",
            "L'ACP n'a pas encore été calculée\n"
          ]
        }
      ],
      "source": [
        "# Vérifier si le dossier contient des fichiers Parquet\n",
        "parquet_files = glob.glob(os.path.join(PATH_Result_pca_parquet, \"*.parquet\"))\n",
        "if not parquet_files:\n",
        "    is_result_pca_calculed = False\n",
        "    print(\"\\nL'ACP n'a pas encore été calculée\")\n",
        "else:\n",
        "    is_result_pca_calculed = True\n",
        "    print(\"\\nL'ACP a déjà été calculée\")"
      ]
    },
    {
      "cell_type": "markdown",
      "metadata": {
        "id": "6b98uWgXOwbM"
      },
      "source": [
        "## <span style='background:green'>2/Création de la SparkSession</span>\n"
      ]
    },
    {
      "cell_type": "code",
      "execution_count": 10,
      "metadata": {
        "colab": {
          "base_uri": "https://localhost:8080/",
          "height": 221
        },
        "id": "HVX4GI5gOwbM",
        "outputId": "9f432b45-960b-45fc-88c5-09253e3ba686"
      },
      "outputs": [
        {
          "data": {
            "text/html": [
              "\n",
              "            <div>\n",
              "                <p><b>SparkSession - in-memory</b></p>\n",
              "                \n",
              "        <div>\n",
              "            <p><b>SparkContext</b></p>\n",
              "\n",
              "            <p><a href=\"http://000fb5a78a9f:4040\">Spark UI</a></p>\n",
              "\n",
              "            <dl>\n",
              "              <dt>Version</dt>\n",
              "                <dd><code>v3.5.1</code></dd>\n",
              "              <dt>Master</dt>\n",
              "                <dd><code>local</code></dd>\n",
              "              <dt>AppName</dt>\n",
              "                <dd><code>P9</code></dd>\n",
              "            </dl>\n",
              "        </div>\n",
              "        \n",
              "            </div>\n",
              "        "
            ],
            "text/plain": [
              "<pyspark.sql.session.SparkSession at 0x7c3b6420ab30>"
            ]
          },
          "execution_count": 10,
          "metadata": {},
          "output_type": "execute_result"
        }
      ],
      "source": [
        "# Arrêter la session Spark existante, si elle existe\n",
        "SparkSession.builder.getOrCreate().stop()\n",
        "\n",
        "# Créer une session Spark\n",
        "spark = (SparkSession\n",
        "                    .builder\n",
        "                    .appName('P9')\n",
        "                    .master('local')\n",
        "                    .config(\"spark.sql.parquet.writeLegacyFormat\", 'true')\n",
        "                    .getOrCreate()\n",
        ")\n",
        "\n",
        "# Création de la variable SparkContext\n",
        "sc = spark.sparkContext\n",
        "\n",
        "# Affichage infos de la Spark session en cours\n",
        "spark"
      ]
    },
    {
      "cell_type": "markdown",
      "metadata": {
        "id": "8tVWi-zGOwbO"
      },
      "source": [
        "## <span style='background:green'>3/Traitement des données</span>\n",
        "\n",
        "### <span style='background:black'>a/Chargement des données</span>\n",
        "\n",
        "Nous chargeons les données dans un DataFrame Spark. Nous ajoutons une colonne \"label\" qui correspond au nom de la classe du fruit (basé sur le nom du dossier)."
      ]
    },
    {
      "cell_type": "code",
      "execution_count": 11,
      "metadata": {
        "colab": {
          "base_uri": "https://localhost:8080/"
        },
        "id": "T6-6Gq-BOwbP",
        "outputId": "7b06447d-fa58-41f3-ace2-1f617bd2e825"
      },
      "outputs": [
        {
          "name": "stdout",
          "output_type": "stream",
          "text": [
            "Voici le schema du DataFrame :\n",
            "root\n",
            " |-- path: string (nullable = true)\n",
            " |-- modificationTime: timestamp (nullable = true)\n",
            " |-- length: long (nullable = true)\n",
            " |-- content: binary (nullable = true)\n",
            " |-- label: string (nullable = true)\n",
            "\n",
            "None\n",
            "Voici les 5 premières lignes du DataFrame :\n",
            "+--------------------+-------------------+------+--------------------+----------+\n",
            "|                path|   modificationTime|length|             content|     label|\n",
            "+--------------------+-------------------+------+--------------------+----------+\n",
            "|file:/content/dri...|2021-09-12 17:25:42|  7353|[FF D8 FF E0 00 1...|Watermelon|\n",
            "|file:/content/dri...|2021-09-12 17:25:42|  7350|[FF D8 FF E0 00 1...|Watermelon|\n",
            "|file:/content/dri...|2021-09-12 17:25:42|  7349|[FF D8 FF E0 00 1...|Watermelon|\n",
            "|file:/content/dri...|2021-09-12 17:25:42|  7348|[FF D8 FF E0 00 1...|Watermelon|\n",
            "|file:/content/dri...|2021-09-12 17:25:42|  7328|[FF D8 FF E0 00 1...|Watermelon|\n",
            "+--------------------+-------------------+------+--------------------+----------+\n",
            "only showing top 5 rows\n",
            "\n",
            "None\n",
            "Nombre de lignes/image dans le DataFrame :  22688\n"
          ]
        }
      ],
      "source": [
        "# Charger les images dans un DataFrame Spark\n",
        "images = spark.read.format(\"binaryFile\") \\\n",
        "    .option(\"pathGlobFilter\", \"*.jpg\") \\\n",
        "    .option(\"recursiveFileLookup\", \"true\") \\\n",
        "    .load(PATH_Data)\n",
        "\n",
        "# Ajout de la col label à partir du nom du dernier dossier contenant l'image\n",
        "images = images.withColumn('label', element_at(split(images['path'], '/'), -2))\n",
        "\n",
        "# Afficher le schema et les 5 premières lignes\n",
        "print(\"Voici le schema du DataFrame :\")\n",
        "print(images.printSchema())\n",
        "\n",
        "print(\"Voici les 5 premières lignes du DataFrame :\")\n",
        "print(images.show(5))\n",
        "\n",
        "print(\"Nombre de lignes/image dans le DataFrame : \", images.count())"
      ]
    },
    {
      "cell_type": "markdown",
      "metadata": {
        "id": "Rj_E7MvLOwbQ"
      },
      "source": [
        "### <span style='background:black'>b/Préparation du modèle</span>\n",
        "\n",
        "Nous utilisons le modèle MobileNetV2 pré-entrainé sur ImageNet."
      ]
    },
    {
      "cell_type": "code",
      "execution_count": 12,
      "metadata": {
        "colab": {
          "base_uri": "https://localhost:8080/"
        },
        "id": "NAwfklClOwbQ",
        "outputId": "f5cde9ce-4693-4651-a3ec-9825cac0c2c8"
      },
      "outputs": [
        {
          "name": "stdout",
          "output_type": "stream",
          "text": [
            "Downloading data from https://storage.googleapis.com/tensorflow/keras-applications/mobilenet_v2/mobilenet_v2_weights_tf_dim_ordering_tf_kernels_1.0_224.h5\n",
            "14536120/14536120 [==============================] - 0s 0us/step\n"
          ]
        }
      ],
      "source": [
        "model = MobileNetV2(\n",
        "    weights='imagenet',\n",
        "    include_top=True,\n",
        "    input_shape=(224, 224, 3)\n",
        ")"
      ]
    },
    {
      "cell_type": "markdown",
      "metadata": {
        "id": "1biDcnHjKsl7"
      },
      "source": [
        "Nous retirons la dernière couche du modèle."
      ]
    },
    {
      "cell_type": "code",
      "execution_count": 13,
      "metadata": {
        "id": "pmKROpisOwbR"
      },
      "outputs": [],
      "source": [
        "new_model = Model(\n",
        "    inputs=model.input,\n",
        "    outputs=model.layers[-2].output\n",
        ")"
      ]
    },
    {
      "cell_type": "code",
      "execution_count": 14,
      "metadata": {
        "colab": {
          "base_uri": "https://localhost:8080/"
        },
        "id": "9b9Br0bVOwbS",
        "outputId": "529ece13-3316-46e0-b65a-2078942068ae"
      },
      "outputs": [
        {
          "name": "stdout",
          "output_type": "stream",
          "text": [
            "Model: \"model\"\n",
            "__________________________________________________________________________________________________\n",
            " Layer (type)                Output Shape                 Param #   Connected to                  \n",
            "==================================================================================================\n",
            " input_1 (InputLayer)        [(None, 224, 224, 3)]        0         []                            \n",
            "                                                                                                  \n",
            " Conv1 (Conv2D)              (None, 112, 112, 32)         864       ['input_1[0][0]']             \n",
            "                                                                                                  \n",
            " bn_Conv1 (BatchNormalizati  (None, 112, 112, 32)         128       ['Conv1[0][0]']               \n",
            " on)                                                                                              \n",
            "                                                                                                  \n",
            " Conv1_relu (ReLU)           (None, 112, 112, 32)         0         ['bn_Conv1[0][0]']            \n",
            "                                                                                                  \n",
            " expanded_conv_depthwise (D  (None, 112, 112, 32)         288       ['Conv1_relu[0][0]']          \n",
            " epthwiseConv2D)                                                                                  \n",
            "                                                                                                  \n",
            " expanded_conv_depthwise_BN  (None, 112, 112, 32)         128       ['expanded_conv_depthwise[0][0\n",
            "  (BatchNormalization)                                              ]']                           \n",
            "                                                                                                  \n",
            " expanded_conv_depthwise_re  (None, 112, 112, 32)         0         ['expanded_conv_depthwise_BN[0\n",
            " lu (ReLU)                                                          ][0]']                        \n",
            "                                                                                                  \n",
            " expanded_conv_project (Con  (None, 112, 112, 16)         512       ['expanded_conv_depthwise_relu\n",
            " v2D)                                                               [0][0]']                      \n",
            "                                                                                                  \n",
            " expanded_conv_project_BN (  (None, 112, 112, 16)         64        ['expanded_conv_project[0][0]'\n",
            " BatchNormalization)                                                ]                             \n",
            "                                                                                                  \n",
            " block_1_expand (Conv2D)     (None, 112, 112, 96)         1536      ['expanded_conv_project_BN[0][\n",
            "                                                                    0]']                          \n",
            "                                                                                                  \n",
            " block_1_expand_BN (BatchNo  (None, 112, 112, 96)         384       ['block_1_expand[0][0]']      \n",
            " rmalization)                                                                                     \n",
            "                                                                                                  \n",
            " block_1_expand_relu (ReLU)  (None, 112, 112, 96)         0         ['block_1_expand_BN[0][0]']   \n",
            "                                                                                                  \n",
            " block_1_pad (ZeroPadding2D  (None, 113, 113, 96)         0         ['block_1_expand_relu[0][0]'] \n",
            " )                                                                                                \n",
            "                                                                                                  \n",
            " block_1_depthwise (Depthwi  (None, 56, 56, 96)           864       ['block_1_pad[0][0]']         \n",
            " seConv2D)                                                                                        \n",
            "                                                                                                  \n",
            " block_1_depthwise_BN (Batc  (None, 56, 56, 96)           384       ['block_1_depthwise[0][0]']   \n",
            " hNormalization)                                                                                  \n",
            "                                                                                                  \n",
            " block_1_depthwise_relu (Re  (None, 56, 56, 96)           0         ['block_1_depthwise_BN[0][0]']\n",
            " LU)                                                                                              \n",
            "                                                                                                  \n",
            " block_1_project (Conv2D)    (None, 56, 56, 24)           2304      ['block_1_depthwise_relu[0][0]\n",
            "                                                                    ']                            \n",
            "                                                                                                  \n",
            " block_1_project_BN (BatchN  (None, 56, 56, 24)           96        ['block_1_project[0][0]']     \n",
            " ormalization)                                                                                    \n",
            "                                                                                                  \n",
            " block_2_expand (Conv2D)     (None, 56, 56, 144)          3456      ['block_1_project_BN[0][0]']  \n",
            "                                                                                                  \n",
            " block_2_expand_BN (BatchNo  (None, 56, 56, 144)          576       ['block_2_expand[0][0]']      \n",
            " rmalization)                                                                                     \n",
            "                                                                                                  \n",
            " block_2_expand_relu (ReLU)  (None, 56, 56, 144)          0         ['block_2_expand_BN[0][0]']   \n",
            "                                                                                                  \n",
            " block_2_depthwise (Depthwi  (None, 56, 56, 144)          1296      ['block_2_expand_relu[0][0]'] \n",
            " seConv2D)                                                                                        \n",
            "                                                                                                  \n",
            " block_2_depthwise_BN (Batc  (None, 56, 56, 144)          576       ['block_2_depthwise[0][0]']   \n",
            " hNormalization)                                                                                  \n",
            "                                                                                                  \n",
            " block_2_depthwise_relu (Re  (None, 56, 56, 144)          0         ['block_2_depthwise_BN[0][0]']\n",
            " LU)                                                                                              \n",
            "                                                                                                  \n",
            " block_2_project (Conv2D)    (None, 56, 56, 24)           3456      ['block_2_depthwise_relu[0][0]\n",
            "                                                                    ']                            \n",
            "                                                                                                  \n",
            " block_2_project_BN (BatchN  (None, 56, 56, 24)           96        ['block_2_project[0][0]']     \n",
            " ormalization)                                                                                    \n",
            "                                                                                                  \n",
            " block_2_add (Add)           (None, 56, 56, 24)           0         ['block_1_project_BN[0][0]',  \n",
            "                                                                     'block_2_project_BN[0][0]']  \n",
            "                                                                                                  \n",
            " block_3_expand (Conv2D)     (None, 56, 56, 144)          3456      ['block_2_add[0][0]']         \n",
            "                                                                                                  \n",
            " block_3_expand_BN (BatchNo  (None, 56, 56, 144)          576       ['block_3_expand[0][0]']      \n",
            " rmalization)                                                                                     \n",
            "                                                                                                  \n",
            " block_3_expand_relu (ReLU)  (None, 56, 56, 144)          0         ['block_3_expand_BN[0][0]']   \n",
            "                                                                                                  \n",
            " block_3_pad (ZeroPadding2D  (None, 57, 57, 144)          0         ['block_3_expand_relu[0][0]'] \n",
            " )                                                                                                \n",
            "                                                                                                  \n",
            " block_3_depthwise (Depthwi  (None, 28, 28, 144)          1296      ['block_3_pad[0][0]']         \n",
            " seConv2D)                                                                                        \n",
            "                                                                                                  \n",
            " block_3_depthwise_BN (Batc  (None, 28, 28, 144)          576       ['block_3_depthwise[0][0]']   \n",
            " hNormalization)                                                                                  \n",
            "                                                                                                  \n",
            " block_3_depthwise_relu (Re  (None, 28, 28, 144)          0         ['block_3_depthwise_BN[0][0]']\n",
            " LU)                                                                                              \n",
            "                                                                                                  \n",
            " block_3_project (Conv2D)    (None, 28, 28, 32)           4608      ['block_3_depthwise_relu[0][0]\n",
            "                                                                    ']                            \n",
            "                                                                                                  \n",
            " block_3_project_BN (BatchN  (None, 28, 28, 32)           128       ['block_3_project[0][0]']     \n",
            " ormalization)                                                                                    \n",
            "                                                                                                  \n",
            " block_4_expand (Conv2D)     (None, 28, 28, 192)          6144      ['block_3_project_BN[0][0]']  \n",
            "                                                                                                  \n",
            " block_4_expand_BN (BatchNo  (None, 28, 28, 192)          768       ['block_4_expand[0][0]']      \n",
            " rmalization)                                                                                     \n",
            "                                                                                                  \n",
            " block_4_expand_relu (ReLU)  (None, 28, 28, 192)          0         ['block_4_expand_BN[0][0]']   \n",
            "                                                                                                  \n",
            " block_4_depthwise (Depthwi  (None, 28, 28, 192)          1728      ['block_4_expand_relu[0][0]'] \n",
            " seConv2D)                                                                                        \n",
            "                                                                                                  \n",
            " block_4_depthwise_BN (Batc  (None, 28, 28, 192)          768       ['block_4_depthwise[0][0]']   \n",
            " hNormalization)                                                                                  \n",
            "                                                                                                  \n",
            " block_4_depthwise_relu (Re  (None, 28, 28, 192)          0         ['block_4_depthwise_BN[0][0]']\n",
            " LU)                                                                                              \n",
            "                                                                                                  \n",
            " block_4_project (Conv2D)    (None, 28, 28, 32)           6144      ['block_4_depthwise_relu[0][0]\n",
            "                                                                    ']                            \n",
            "                                                                                                  \n",
            " block_4_project_BN (BatchN  (None, 28, 28, 32)           128       ['block_4_project[0][0]']     \n",
            " ormalization)                                                                                    \n",
            "                                                                                                  \n",
            " block_4_add (Add)           (None, 28, 28, 32)           0         ['block_3_project_BN[0][0]',  \n",
            "                                                                     'block_4_project_BN[0][0]']  \n",
            "                                                                                                  \n",
            " block_5_expand (Conv2D)     (None, 28, 28, 192)          6144      ['block_4_add[0][0]']         \n",
            "                                                                                                  \n",
            " block_5_expand_BN (BatchNo  (None, 28, 28, 192)          768       ['block_5_expand[0][0]']      \n",
            " rmalization)                                                                                     \n",
            "                                                                                                  \n",
            " block_5_expand_relu (ReLU)  (None, 28, 28, 192)          0         ['block_5_expand_BN[0][0]']   \n",
            "                                                                                                  \n",
            " block_5_depthwise (Depthwi  (None, 28, 28, 192)          1728      ['block_5_expand_relu[0][0]'] \n",
            " seConv2D)                                                                                        \n",
            "                                                                                                  \n",
            " block_5_depthwise_BN (Batc  (None, 28, 28, 192)          768       ['block_5_depthwise[0][0]']   \n",
            " hNormalization)                                                                                  \n",
            "                                                                                                  \n",
            " block_5_depthwise_relu (Re  (None, 28, 28, 192)          0         ['block_5_depthwise_BN[0][0]']\n",
            " LU)                                                                                              \n",
            "                                                                                                  \n",
            " block_5_project (Conv2D)    (None, 28, 28, 32)           6144      ['block_5_depthwise_relu[0][0]\n",
            "                                                                    ']                            \n",
            "                                                                                                  \n",
            " block_5_project_BN (BatchN  (None, 28, 28, 32)           128       ['block_5_project[0][0]']     \n",
            " ormalization)                                                                                    \n",
            "                                                                                                  \n",
            " block_5_add (Add)           (None, 28, 28, 32)           0         ['block_4_add[0][0]',         \n",
            "                                                                     'block_5_project_BN[0][0]']  \n",
            "                                                                                                  \n",
            " block_6_expand (Conv2D)     (None, 28, 28, 192)          6144      ['block_5_add[0][0]']         \n",
            "                                                                                                  \n",
            " block_6_expand_BN (BatchNo  (None, 28, 28, 192)          768       ['block_6_expand[0][0]']      \n",
            " rmalization)                                                                                     \n",
            "                                                                                                  \n",
            " block_6_expand_relu (ReLU)  (None, 28, 28, 192)          0         ['block_6_expand_BN[0][0]']   \n",
            "                                                                                                  \n",
            " block_6_pad (ZeroPadding2D  (None, 29, 29, 192)          0         ['block_6_expand_relu[0][0]'] \n",
            " )                                                                                                \n",
            "                                                                                                  \n",
            " block_6_depthwise (Depthwi  (None, 14, 14, 192)          1728      ['block_6_pad[0][0]']         \n",
            " seConv2D)                                                                                        \n",
            "                                                                                                  \n",
            " block_6_depthwise_BN (Batc  (None, 14, 14, 192)          768       ['block_6_depthwise[0][0]']   \n",
            " hNormalization)                                                                                  \n",
            "                                                                                                  \n",
            " block_6_depthwise_relu (Re  (None, 14, 14, 192)          0         ['block_6_depthwise_BN[0][0]']\n",
            " LU)                                                                                              \n",
            "                                                                                                  \n",
            " block_6_project (Conv2D)    (None, 14, 14, 64)           12288     ['block_6_depthwise_relu[0][0]\n",
            "                                                                    ']                            \n",
            "                                                                                                  \n",
            " block_6_project_BN (BatchN  (None, 14, 14, 64)           256       ['block_6_project[0][0]']     \n",
            " ormalization)                                                                                    \n",
            "                                                                                                  \n",
            " block_7_expand (Conv2D)     (None, 14, 14, 384)          24576     ['block_6_project_BN[0][0]']  \n",
            "                                                                                                  \n",
            " block_7_expand_BN (BatchNo  (None, 14, 14, 384)          1536      ['block_7_expand[0][0]']      \n",
            " rmalization)                                                                                     \n",
            "                                                                                                  \n",
            " block_7_expand_relu (ReLU)  (None, 14, 14, 384)          0         ['block_7_expand_BN[0][0]']   \n",
            "                                                                                                  \n",
            " block_7_depthwise (Depthwi  (None, 14, 14, 384)          3456      ['block_7_expand_relu[0][0]'] \n",
            " seConv2D)                                                                                        \n",
            "                                                                                                  \n",
            " block_7_depthwise_BN (Batc  (None, 14, 14, 384)          1536      ['block_7_depthwise[0][0]']   \n",
            " hNormalization)                                                                                  \n",
            "                                                                                                  \n",
            " block_7_depthwise_relu (Re  (None, 14, 14, 384)          0         ['block_7_depthwise_BN[0][0]']\n",
            " LU)                                                                                              \n",
            "                                                                                                  \n",
            " block_7_project (Conv2D)    (None, 14, 14, 64)           24576     ['block_7_depthwise_relu[0][0]\n",
            "                                                                    ']                            \n",
            "                                                                                                  \n",
            " block_7_project_BN (BatchN  (None, 14, 14, 64)           256       ['block_7_project[0][0]']     \n",
            " ormalization)                                                                                    \n",
            "                                                                                                  \n",
            " block_7_add (Add)           (None, 14, 14, 64)           0         ['block_6_project_BN[0][0]',  \n",
            "                                                                     'block_7_project_BN[0][0]']  \n",
            "                                                                                                  \n",
            " block_8_expand (Conv2D)     (None, 14, 14, 384)          24576     ['block_7_add[0][0]']         \n",
            "                                                                                                  \n",
            " block_8_expand_BN (BatchNo  (None, 14, 14, 384)          1536      ['block_8_expand[0][0]']      \n",
            " rmalization)                                                                                     \n",
            "                                                                                                  \n",
            " block_8_expand_relu (ReLU)  (None, 14, 14, 384)          0         ['block_8_expand_BN[0][0]']   \n",
            "                                                                                                  \n",
            " block_8_depthwise (Depthwi  (None, 14, 14, 384)          3456      ['block_8_expand_relu[0][0]'] \n",
            " seConv2D)                                                                                        \n",
            "                                                                                                  \n",
            " block_8_depthwise_BN (Batc  (None, 14, 14, 384)          1536      ['block_8_depthwise[0][0]']   \n",
            " hNormalization)                                                                                  \n",
            "                                                                                                  \n",
            " block_8_depthwise_relu (Re  (None, 14, 14, 384)          0         ['block_8_depthwise_BN[0][0]']\n",
            " LU)                                                                                              \n",
            "                                                                                                  \n",
            " block_8_project (Conv2D)    (None, 14, 14, 64)           24576     ['block_8_depthwise_relu[0][0]\n",
            "                                                                    ']                            \n",
            "                                                                                                  \n",
            " block_8_project_BN (BatchN  (None, 14, 14, 64)           256       ['block_8_project[0][0]']     \n",
            " ormalization)                                                                                    \n",
            "                                                                                                  \n",
            " block_8_add (Add)           (None, 14, 14, 64)           0         ['block_7_add[0][0]',         \n",
            "                                                                     'block_8_project_BN[0][0]']  \n",
            "                                                                                                  \n",
            " block_9_expand (Conv2D)     (None, 14, 14, 384)          24576     ['block_8_add[0][0]']         \n",
            "                                                                                                  \n",
            " block_9_expand_BN (BatchNo  (None, 14, 14, 384)          1536      ['block_9_expand[0][0]']      \n",
            " rmalization)                                                                                     \n",
            "                                                                                                  \n",
            " block_9_expand_relu (ReLU)  (None, 14, 14, 384)          0         ['block_9_expand_BN[0][0]']   \n",
            "                                                                                                  \n",
            " block_9_depthwise (Depthwi  (None, 14, 14, 384)          3456      ['block_9_expand_relu[0][0]'] \n",
            " seConv2D)                                                                                        \n",
            "                                                                                                  \n",
            " block_9_depthwise_BN (Batc  (None, 14, 14, 384)          1536      ['block_9_depthwise[0][0]']   \n",
            " hNormalization)                                                                                  \n",
            "                                                                                                  \n",
            " block_9_depthwise_relu (Re  (None, 14, 14, 384)          0         ['block_9_depthwise_BN[0][0]']\n",
            " LU)                                                                                              \n",
            "                                                                                                  \n",
            " block_9_project (Conv2D)    (None, 14, 14, 64)           24576     ['block_9_depthwise_relu[0][0]\n",
            "                                                                    ']                            \n",
            "                                                                                                  \n",
            " block_9_project_BN (BatchN  (None, 14, 14, 64)           256       ['block_9_project[0][0]']     \n",
            " ormalization)                                                                                    \n",
            "                                                                                                  \n",
            " block_9_add (Add)           (None, 14, 14, 64)           0         ['block_8_add[0][0]',         \n",
            "                                                                     'block_9_project_BN[0][0]']  \n",
            "                                                                                                  \n",
            " block_10_expand (Conv2D)    (None, 14, 14, 384)          24576     ['block_9_add[0][0]']         \n",
            "                                                                                                  \n",
            " block_10_expand_BN (BatchN  (None, 14, 14, 384)          1536      ['block_10_expand[0][0]']     \n",
            " ormalization)                                                                                    \n",
            "                                                                                                  \n",
            " block_10_expand_relu (ReLU  (None, 14, 14, 384)          0         ['block_10_expand_BN[0][0]']  \n",
            " )                                                                                                \n",
            "                                                                                                  \n",
            " block_10_depthwise (Depthw  (None, 14, 14, 384)          3456      ['block_10_expand_relu[0][0]']\n",
            " iseConv2D)                                                                                       \n",
            "                                                                                                  \n",
            " block_10_depthwise_BN (Bat  (None, 14, 14, 384)          1536      ['block_10_depthwise[0][0]']  \n",
            " chNormalization)                                                                                 \n",
            "                                                                                                  \n",
            " block_10_depthwise_relu (R  (None, 14, 14, 384)          0         ['block_10_depthwise_BN[0][0]'\n",
            " eLU)                                                               ]                             \n",
            "                                                                                                  \n",
            " block_10_project (Conv2D)   (None, 14, 14, 96)           36864     ['block_10_depthwise_relu[0][0\n",
            "                                                                    ]']                           \n",
            "                                                                                                  \n",
            " block_10_project_BN (Batch  (None, 14, 14, 96)           384       ['block_10_project[0][0]']    \n",
            " Normalization)                                                                                   \n",
            "                                                                                                  \n",
            " block_11_expand (Conv2D)    (None, 14, 14, 576)          55296     ['block_10_project_BN[0][0]'] \n",
            "                                                                                                  \n",
            " block_11_expand_BN (BatchN  (None, 14, 14, 576)          2304      ['block_11_expand[0][0]']     \n",
            " ormalization)                                                                                    \n",
            "                                                                                                  \n",
            " block_11_expand_relu (ReLU  (None, 14, 14, 576)          0         ['block_11_expand_BN[0][0]']  \n",
            " )                                                                                                \n",
            "                                                                                                  \n",
            " block_11_depthwise (Depthw  (None, 14, 14, 576)          5184      ['block_11_expand_relu[0][0]']\n",
            " iseConv2D)                                                                                       \n",
            "                                                                                                  \n",
            " block_11_depthwise_BN (Bat  (None, 14, 14, 576)          2304      ['block_11_depthwise[0][0]']  \n",
            " chNormalization)                                                                                 \n",
            "                                                                                                  \n",
            " block_11_depthwise_relu (R  (None, 14, 14, 576)          0         ['block_11_depthwise_BN[0][0]'\n",
            " eLU)                                                               ]                             \n",
            "                                                                                                  \n",
            " block_11_project (Conv2D)   (None, 14, 14, 96)           55296     ['block_11_depthwise_relu[0][0\n",
            "                                                                    ]']                           \n",
            "                                                                                                  \n",
            " block_11_project_BN (Batch  (None, 14, 14, 96)           384       ['block_11_project[0][0]']    \n",
            " Normalization)                                                                                   \n",
            "                                                                                                  \n",
            " block_11_add (Add)          (None, 14, 14, 96)           0         ['block_10_project_BN[0][0]', \n",
            "                                                                     'block_11_project_BN[0][0]'] \n",
            "                                                                                                  \n",
            " block_12_expand (Conv2D)    (None, 14, 14, 576)          55296     ['block_11_add[0][0]']        \n",
            "                                                                                                  \n",
            " block_12_expand_BN (BatchN  (None, 14, 14, 576)          2304      ['block_12_expand[0][0]']     \n",
            " ormalization)                                                                                    \n",
            "                                                                                                  \n",
            " block_12_expand_relu (ReLU  (None, 14, 14, 576)          0         ['block_12_expand_BN[0][0]']  \n",
            " )                                                                                                \n",
            "                                                                                                  \n",
            " block_12_depthwise (Depthw  (None, 14, 14, 576)          5184      ['block_12_expand_relu[0][0]']\n",
            " iseConv2D)                                                                                       \n",
            "                                                                                                  \n",
            " block_12_depthwise_BN (Bat  (None, 14, 14, 576)          2304      ['block_12_depthwise[0][0]']  \n",
            " chNormalization)                                                                                 \n",
            "                                                                                                  \n",
            " block_12_depthwise_relu (R  (None, 14, 14, 576)          0         ['block_12_depthwise_BN[0][0]'\n",
            " eLU)                                                               ]                             \n",
            "                                                                                                  \n",
            " block_12_project (Conv2D)   (None, 14, 14, 96)           55296     ['block_12_depthwise_relu[0][0\n",
            "                                                                    ]']                           \n",
            "                                                                                                  \n",
            " block_12_project_BN (Batch  (None, 14, 14, 96)           384       ['block_12_project[0][0]']    \n",
            " Normalization)                                                                                   \n",
            "                                                                                                  \n",
            " block_12_add (Add)          (None, 14, 14, 96)           0         ['block_11_add[0][0]',        \n",
            "                                                                     'block_12_project_BN[0][0]'] \n",
            "                                                                                                  \n",
            " block_13_expand (Conv2D)    (None, 14, 14, 576)          55296     ['block_12_add[0][0]']        \n",
            "                                                                                                  \n",
            " block_13_expand_BN (BatchN  (None, 14, 14, 576)          2304      ['block_13_expand[0][0]']     \n",
            " ormalization)                                                                                    \n",
            "                                                                                                  \n",
            " block_13_expand_relu (ReLU  (None, 14, 14, 576)          0         ['block_13_expand_BN[0][0]']  \n",
            " )                                                                                                \n",
            "                                                                                                  \n",
            " block_13_pad (ZeroPadding2  (None, 15, 15, 576)          0         ['block_13_expand_relu[0][0]']\n",
            " D)                                                                                               \n",
            "                                                                                                  \n",
            " block_13_depthwise (Depthw  (None, 7, 7, 576)            5184      ['block_13_pad[0][0]']        \n",
            " iseConv2D)                                                                                       \n",
            "                                                                                                  \n",
            " block_13_depthwise_BN (Bat  (None, 7, 7, 576)            2304      ['block_13_depthwise[0][0]']  \n",
            " chNormalization)                                                                                 \n",
            "                                                                                                  \n",
            " block_13_depthwise_relu (R  (None, 7, 7, 576)            0         ['block_13_depthwise_BN[0][0]'\n",
            " eLU)                                                               ]                             \n",
            "                                                                                                  \n",
            " block_13_project (Conv2D)   (None, 7, 7, 160)            92160     ['block_13_depthwise_relu[0][0\n",
            "                                                                    ]']                           \n",
            "                                                                                                  \n",
            " block_13_project_BN (Batch  (None, 7, 7, 160)            640       ['block_13_project[0][0]']    \n",
            " Normalization)                                                                                   \n",
            "                                                                                                  \n",
            " block_14_expand (Conv2D)    (None, 7, 7, 960)            153600    ['block_13_project_BN[0][0]'] \n",
            "                                                                                                  \n",
            " block_14_expand_BN (BatchN  (None, 7, 7, 960)            3840      ['block_14_expand[0][0]']     \n",
            " ormalization)                                                                                    \n",
            "                                                                                                  \n",
            " block_14_expand_relu (ReLU  (None, 7, 7, 960)            0         ['block_14_expand_BN[0][0]']  \n",
            " )                                                                                                \n",
            "                                                                                                  \n",
            " block_14_depthwise (Depthw  (None, 7, 7, 960)            8640      ['block_14_expand_relu[0][0]']\n",
            " iseConv2D)                                                                                       \n",
            "                                                                                                  \n",
            " block_14_depthwise_BN (Bat  (None, 7, 7, 960)            3840      ['block_14_depthwise[0][0]']  \n",
            " chNormalization)                                                                                 \n",
            "                                                                                                  \n",
            " block_14_depthwise_relu (R  (None, 7, 7, 960)            0         ['block_14_depthwise_BN[0][0]'\n",
            " eLU)                                                               ]                             \n",
            "                                                                                                  \n",
            " block_14_project (Conv2D)   (None, 7, 7, 160)            153600    ['block_14_depthwise_relu[0][0\n",
            "                                                                    ]']                           \n",
            "                                                                                                  \n",
            " block_14_project_BN (Batch  (None, 7, 7, 160)            640       ['block_14_project[0][0]']    \n",
            " Normalization)                                                                                   \n",
            "                                                                                                  \n",
            " block_14_add (Add)          (None, 7, 7, 160)            0         ['block_13_project_BN[0][0]', \n",
            "                                                                     'block_14_project_BN[0][0]'] \n",
            "                                                                                                  \n",
            " block_15_expand (Conv2D)    (None, 7, 7, 960)            153600    ['block_14_add[0][0]']        \n",
            "                                                                                                  \n",
            " block_15_expand_BN (BatchN  (None, 7, 7, 960)            3840      ['block_15_expand[0][0]']     \n",
            " ormalization)                                                                                    \n",
            "                                                                                                  \n",
            " block_15_expand_relu (ReLU  (None, 7, 7, 960)            0         ['block_15_expand_BN[0][0]']  \n",
            " )                                                                                                \n",
            "                                                                                                  \n",
            " block_15_depthwise (Depthw  (None, 7, 7, 960)            8640      ['block_15_expand_relu[0][0]']\n",
            " iseConv2D)                                                                                       \n",
            "                                                                                                  \n",
            " block_15_depthwise_BN (Bat  (None, 7, 7, 960)            3840      ['block_15_depthwise[0][0]']  \n",
            " chNormalization)                                                                                 \n",
            "                                                                                                  \n",
            " block_15_depthwise_relu (R  (None, 7, 7, 960)            0         ['block_15_depthwise_BN[0][0]'\n",
            " eLU)                                                               ]                             \n",
            "                                                                                                  \n",
            " block_15_project (Conv2D)   (None, 7, 7, 160)            153600    ['block_15_depthwise_relu[0][0\n",
            "                                                                    ]']                           \n",
            "                                                                                                  \n",
            " block_15_project_BN (Batch  (None, 7, 7, 160)            640       ['block_15_project[0][0]']    \n",
            " Normalization)                                                                                   \n",
            "                                                                                                  \n",
            " block_15_add (Add)          (None, 7, 7, 160)            0         ['block_14_add[0][0]',        \n",
            "                                                                     'block_15_project_BN[0][0]'] \n",
            "                                                                                                  \n",
            " block_16_expand (Conv2D)    (None, 7, 7, 960)            153600    ['block_15_add[0][0]']        \n",
            "                                                                                                  \n",
            " block_16_expand_BN (BatchN  (None, 7, 7, 960)            3840      ['block_16_expand[0][0]']     \n",
            " ormalization)                                                                                    \n",
            "                                                                                                  \n",
            " block_16_expand_relu (ReLU  (None, 7, 7, 960)            0         ['block_16_expand_BN[0][0]']  \n",
            " )                                                                                                \n",
            "                                                                                                  \n",
            " block_16_depthwise (Depthw  (None, 7, 7, 960)            8640      ['block_16_expand_relu[0][0]']\n",
            " iseConv2D)                                                                                       \n",
            "                                                                                                  \n",
            " block_16_depthwise_BN (Bat  (None, 7, 7, 960)            3840      ['block_16_depthwise[0][0]']  \n",
            " chNormalization)                                                                                 \n",
            "                                                                                                  \n",
            " block_16_depthwise_relu (R  (None, 7, 7, 960)            0         ['block_16_depthwise_BN[0][0]'\n",
            " eLU)                                                               ]                             \n",
            "                                                                                                  \n",
            " block_16_project (Conv2D)   (None, 7, 7, 320)            307200    ['block_16_depthwise_relu[0][0\n",
            "                                                                    ]']                           \n",
            "                                                                                                  \n",
            " block_16_project_BN (Batch  (None, 7, 7, 320)            1280      ['block_16_project[0][0]']    \n",
            " Normalization)                                                                                   \n",
            "                                                                                                  \n",
            " Conv_1 (Conv2D)             (None, 7, 7, 1280)           409600    ['block_16_project_BN[0][0]'] \n",
            "                                                                                                  \n",
            " Conv_1_bn (BatchNormalizat  (None, 7, 7, 1280)           5120      ['Conv_1[0][0]']              \n",
            " ion)                                                                                             \n",
            "                                                                                                  \n",
            " out_relu (ReLU)             (None, 7, 7, 1280)           0         ['Conv_1_bn[0][0]']           \n",
            "                                                                                                  \n",
            " global_average_pooling2d (  (None, 1280)                 0         ['out_relu[0][0]']            \n",
            " GlobalAveragePooling2D)                                                                          \n",
            "                                                                                                  \n",
            "==================================================================================================\n",
            "Total params: 2257984 (8.61 MB)\n",
            "Trainable params: 2223872 (8.48 MB)\n",
            "Non-trainable params: 34112 (133.25 KB)\n",
            "__________________________________________________________________________________________________\n"
          ]
        }
      ],
      "source": [
        "new_model.summary()"
      ]
    },
    {
      "cell_type": "markdown",
      "metadata": {
        "id": "1FL0eAQPKsl9"
      },
      "source": [
        "Nous diffusons les poids du modèle sur les clusters Spark dans la variable \"**broadcast_weights**\"."
      ]
    },
    {
      "cell_type": "code",
      "execution_count": 15,
      "metadata": {
        "id": "fNTjHkONOwbS"
      },
      "outputs": [],
      "source": [
        "broadcast_weights = sc.broadcast(new_model.get_weights())"
      ]
    },
    {
      "cell_type": "markdown",
      "metadata": {
        "id": "hRE0_Tj8Ksl-"
      },
      "source": [
        "Nous encapsulons la méthode de préparation du modèle dans une fonction \"model_fn\" pour pouvoir l'utiliser dans le script PySpark."
      ]
    },
    {
      "cell_type": "code",
      "execution_count": 16,
      "metadata": {
        "id": "Y1hQnDlzKsl_"
      },
      "outputs": [],
      "source": [
        "def model_fn():\n",
        "    \"\"\"\n",
        "    Cette fonction crée un modèle MobileNetV2 avec des poids pré-entraînés à partir d'ImageNet, retire la couche supérieure du modèle, rend toutes les couches non entraînables (c'est-à-dire, leurs poids ne seront pas mis à jour pendant l'entraînement), puis définit les poids du nouveau modèle à partir d'une valeur diffusée.\n",
        "\n",
        "    :return: Le nouveau modèle avec les poids pré-entraînés diffusés.\n",
        "    \"\"\"\n",
        "    # Créer modèle MobileNetV2 avec des poids pré-entraînés à partir d'ImageNet\n",
        "    model = MobileNetV2(\n",
        "        weights='imagenet',\n",
        "        include_top=True,\n",
        "        input_shape=(224, 224, 3)\n",
        "    )\n",
        "\n",
        "    # Rendre les couches non entraînables\n",
        "    for layer in model.layers:\n",
        "        layer.trainable = False\n",
        "\n",
        "    # création nouveau modèle sans la dernière couche\n",
        "    new_model = Model(\n",
        "        inputs=model.input,\n",
        "        outputs=model.layers[-2].output\n",
        "    )\n",
        "\n",
        "    # transmettre les poids du modèle\n",
        "    new_model.set_weights(broadcast_weights.value)\n",
        "    print(\"Broadcast des poids du modèle effectué\")\n",
        "\n",
        "    return new_model"
      ]
    },
    {
      "cell_type": "markdown",
      "metadata": {
        "id": "V_9lBGGZOwbT"
      },
      "source": [
        "### <span style='background:black'>c/Chargement des images et featurisation avec pandas UDF</span>\n",
        "\n",
        "Nous créons une fonction \"preprocess\" qui permet de charger les images, de les redimensionner et de les preprocesser pour les passer dans le modèle."
      ]
    },
    {
      "cell_type": "code",
      "execution_count": 17,
      "metadata": {
        "id": "Mf7mKunnOwbT"
      },
      "outputs": [],
      "source": [
        "def preprocess(content):\n",
        "    \"\"\"\n",
        "    Cette fonction charge une image à partir des données brutes, redimensionne\n",
        "    l'image à une taille de 224x224 pixels, la convertit en un tableau numpy,\n",
        "    puis applique la fonction de prétraitement de MobileNetV2.\n",
        "\n",
        "    :param content: Les données brutes de l'image à prétraiter.\n",
        "\n",
        "    :return: Le tableau numpy de l'image prétraitée.\n",
        "    \"\"\"\n",
        "    # Chargement de l'image et redimensionnement à 224x224\n",
        "    img = Image.open(io.BytesIO(content)).resize([224, 224])\n",
        "\n",
        "    # Conversion en tableau numpy\n",
        "    arr = img_to_array(img)\n",
        "\n",
        "    # Application de la fonction preprocess_input de MobileNetV2\n",
        "    return preprocess_input(arr)"
      ]
    },
    {
      "cell_type": "markdown",
      "metadata": {
        "id": "p95jfHBTKsmB"
      },
      "source": [
        "Nous créons une fonction \"featurize_series\" qui permet de passer les images dans le modèle et de récupérer les features."
      ]
    },
    {
      "cell_type": "code",
      "execution_count": 18,
      "metadata": {
        "id": "4rLmFp_OOwbU"
      },
      "outputs": [],
      "source": [
        "def featurize_series(model, content_series):\n",
        "    \"\"\"\n",
        "    Effectue une caractérisation (featurization) d'une pd.Series d'images\n",
        "    brutes en utilisant le modèle en entrée.\n",
        "\n",
        "    :param model: Un modèle de deep learning pré-entraîné pour la\n",
        "    caractérisation des images.\n",
        "    :param content_series: Une pd.Series contenant des images brutes à\n",
        "    caractériser.\n",
        "\n",
        "    :return: Une pd.Series où chaque élément est un vecteur unidimensionnel\n",
        "    de caractéristiques d'image.\n",
        "    \"\"\"\n",
        "    # Application prétraitement à chaque image brute et empilement dans array\n",
        "    input = np.stack(content_series.map(preprocess))\n",
        "\n",
        "    # Utilisation du modèle pour prédire les caractéristiques de l'image\n",
        "    preds = model.predict(input)\n",
        "\n",
        "    # Applatissement des caractéristiques en 1 vecteur 1D (besoin pour Spark)\n",
        "    output = [p.flatten() for p in preds]\n",
        "\n",
        "    # Conversion en pd.Series\n",
        "    return pd.Series(output)"
      ]
    },
    {
      "cell_type": "markdown",
      "metadata": {
        "id": "bedkS_WmKsmC"
      },
      "source": [
        "Nous créons une fonction \"featurize_udf\" qui encapsule la fonction \"featurize_series\" pour pouvoir l'utiliser dans un pandas UDF."
      ]
    },
    {
      "cell_type": "code",
      "execution_count": 19,
      "metadata": {
        "colab": {
          "base_uri": "https://localhost:8080/"
        },
        "id": "ubfDoshAOwbU",
        "outputId": "ab543785-a573-4707-bde0-3cc451719948"
      },
      "outputs": [
        {
          "name": "stderr",
          "output_type": "stream",
          "text": [
            "/usr/local/lib/python3.10/dist-packages/pyspark/sql/pandas/functions.py:407: UserWarning: In Python 3.6+ and Spark 3.0+, it is preferred to specify type hints for pandas UDF instead of specifying pandas UDF type which will be deprecated in the future releases. See SPARK-28264 for more details.\n",
            "  warnings.warn(\n"
          ]
        }
      ],
      "source": [
        "# Decorateur pour définir une UDF pandas de type Scalar Iterator\n",
        "@pandas_udf('array<float>', PandasUDFType.SCALAR_ITER)\n",
        "\n",
        "def featurize_udf(content_series_iter):\n",
        "    '''\n",
        "    Cette méthode est une UDF pandas de type Scalar Iterator qui enveloppe\n",
        "    notre fonction de featurisation. Le décorateur spécifie qu'elle renvoie\n",
        "    une colonne de DataFrame Spark de type ArrayType(FloatType).\n",
        "\n",
        "    :param content_series_iter: Cet argument est un itérateur sur des lots de\n",
        "    données, où chaque lot est une série pandas de données d'image.\n",
        "    '''\n",
        "    # Charger le modèle une fois  (réutiliser pour plusieurs lots de données)\n",
        "    model = model_fn()\n",
        "\n",
        "    # POUR chaque lot de données\n",
        "    for content_series in content_series_iter:\n",
        "        print(\"Lot de données de taille : \", content_series.shape)\n",
        "\n",
        "        # Application de la fonction de featurisation (du modele sur le lot)\n",
        "        yield featurize_series(model, content_series)"
      ]
    },
    {
      "cell_type": "markdown",
      "metadata": {
        "id": "dGavTZi0OwbV"
      },
      "source": [
        "### <span style='background:black'>d/Extraction de features</span>\n",
        "\n",
        "Nous appliquons la fonction \"featurize_udf\" sur le DataFrame pour extraire les features des images."
      ]
    },
    {
      "cell_type": "code",
      "execution_count": 20,
      "metadata": {
        "colab": {
          "base_uri": "https://localhost:8080/"
        },
        "id": "SYMUF2rLKsmE",
        "outputId": "05490877-fca0-4bc4-f522-645adacc7df8"
      },
      "outputs": [
        {
          "name": "stdout",
          "output_type": "stream",
          "text": [
            "\n",
            "Features calculées\n"
          ]
        }
      ],
      "source": [
        "# Si les parquets existent, ne rien faire SINON créer les features\n",
        "if is_result_features_calculed:\n",
        "    print(\"\\nLes features existent déjà\")\n",
        "\n",
        "else:\n",
        "    # 20 partitions + select col path & label + featurize & rename col content\n",
        "    features_df = images.repartition(20).select(\n",
        "        col(\"path\"),\n",
        "        col(\"label\"),\n",
        "        featurize_udf(\"content\").alias(\"features\")\n",
        "    )\n",
        "    print(\"\\nFeatures calculées\")"
      ]
    },
    {
      "cell_type": "markdown",
      "metadata": {
        "id": "zp9TXpoVKsmG"
      },
      "source": [
        "Nous enregistrons le DataFrame dans des fichiers Parquet pour pouvoir le réutiliser."
      ]
    },
    {
      "cell_type": "code",
      "execution_count": 21,
      "metadata": {
        "colab": {
          "base_uri": "https://localhost:8080/"
        },
        "id": "mcwm_KuEOwbY",
        "outputId": "ae21a352-7f93-47fd-ee4d-2a01a92965ef"
      },
      "outputs": [
        {
          "name": "stdout",
          "output_type": "stream",
          "text": [
            "Sauvegarde des features effectuée\n"
          ]
        }
      ],
      "source": [
        "# Si les parquets existent, les charger, SINON effectuer les calculs et save\n",
        "if is_result_features_calculed:\n",
        "    features_df = spark.read.parquet(PATH_Result_features)\n",
        "    print(\"Chargement des features effectué\")\n",
        "\n",
        "else:\n",
        "    features_df.write.mode(\"overwrite\").parquet(PATH_Result_features)\n",
        "    print(\"Sauvegarde des features effectuée\")"
      ]
    },
    {
      "cell_type": "markdown",
      "metadata": {
        "id": "N6nGPofTVZVM"
      },
      "source": [
        "Nous visualisons les features enregistrées sous forme de DataFrame de Pandas."
      ]
    },
    {
      "cell_type": "code",
      "execution_count": 22,
      "metadata": {
        "colab": {
          "base_uri": "https://localhost:8080/",
          "height": 424
        },
        "id": "NjTyD-gsVa_n",
        "outputId": "82952d80-c339-41c0-b0ff-d7bf7ec5b9f6"
      },
      "outputs": [
        {
          "data": {
            "application/vnd.google.colaboratory.intrinsic+json": {
              "summary": "{\n  \"name\": \"features_pandas_df\",\n  \"rows\": 22688,\n  \"fields\": [\n    {\n      \"column\": \"path\",\n      \"properties\": {\n        \"dtype\": \"string\",\n        \"num_unique_values\": 22688,\n        \"samples\": [\n          \"file:/content/drive/MyDrive/Colab Notebooks/P9/data/source/fruits-360_dataset/fruits-360/Test/Mango Red/235_100.jpg\",\n          \"file:/content/drive/MyDrive/Colab Notebooks/P9/data/source/fruits-360_dataset/fruits-360/Test/Potato Red/r_87_100.jpg\",\n          \"file:/content/drive/MyDrive/Colab Notebooks/P9/data/source/fruits-360_dataset/fruits-360/Test/Limes/r_56_100.jpg\"\n        ],\n        \"semantic_type\": \"\",\n        \"description\": \"\"\n      }\n    },\n    {\n      \"column\": \"label\",\n      \"properties\": {\n        \"dtype\": \"category\",\n        \"num_unique_values\": 131,\n        \"samples\": [\n          \"Pear\",\n          \"Strawberry Wedge\",\n          \"Ginger Root\"\n        ],\n        \"semantic_type\": \"\",\n        \"description\": \"\"\n      }\n    },\n    {\n      \"column\": \"features\",\n      \"properties\": {\n        \"dtype\": \"object\",\n        \"semantic_type\": \"\",\n        \"description\": \"\"\n      }\n    }\n  ]\n}",
              "type": "dataframe",
              "variable_name": "features_pandas_df"
            },
            "text/html": [
              "\n",
              "  <div id=\"df-e8311591-7659-4569-9318-39af3be55695\" class=\"colab-df-container\">\n",
              "    <div>\n",
              "<style scoped>\n",
              "    .dataframe tbody tr th:only-of-type {\n",
              "        vertical-align: middle;\n",
              "    }\n",
              "\n",
              "    .dataframe tbody tr th {\n",
              "        vertical-align: top;\n",
              "    }\n",
              "\n",
              "    .dataframe thead th {\n",
              "        text-align: right;\n",
              "    }\n",
              "</style>\n",
              "<table border=\"1\" class=\"dataframe\">\n",
              "  <thead>\n",
              "    <tr style=\"text-align: right;\">\n",
              "      <th></th>\n",
              "      <th>path</th>\n",
              "      <th>label</th>\n",
              "      <th>features</th>\n",
              "    </tr>\n",
              "  </thead>\n",
              "  <tbody>\n",
              "    <tr>\n",
              "      <th>0</th>\n",
              "      <td>file:/content/drive/MyDrive/Colab Notebooks/P9...</td>\n",
              "      <td>Watermelon</td>\n",
              "      <td>[0.65066075, 0.23024604, 0.0, 0.05094914, 0.87...</td>\n",
              "    </tr>\n",
              "    <tr>\n",
              "      <th>1</th>\n",
              "      <td>file:/content/drive/MyDrive/Colab Notebooks/P9...</td>\n",
              "      <td>Watermelon</td>\n",
              "      <td>[0.24856402, 0.37696627, 0.0, 0.04572735, 0.29...</td>\n",
              "    </tr>\n",
              "    <tr>\n",
              "      <th>2</th>\n",
              "      <td>file:/content/drive/MyDrive/Colab Notebooks/P9...</td>\n",
              "      <td>Watermelon</td>\n",
              "      <td>[0.0, 0.6704583, 0.021871379, 0.0, 1.8521793, ...</td>\n",
              "    </tr>\n",
              "    <tr>\n",
              "      <th>3</th>\n",
              "      <td>file:/content/drive/MyDrive/Colab Notebooks/P9...</td>\n",
              "      <td>Pineapple Mini</td>\n",
              "      <td>[0.0, 4.5386014, 0.031729814, 0.0, 0.0, 0.0, 0...</td>\n",
              "    </tr>\n",
              "    <tr>\n",
              "      <th>4</th>\n",
              "      <td>file:/content/drive/MyDrive/Colab Notebooks/P9...</td>\n",
              "      <td>Pineapple Mini</td>\n",
              "      <td>[0.0, 4.4780746, 0.0, 0.0, 0.0, 0.0, 0.0870465...</td>\n",
              "    </tr>\n",
              "    <tr>\n",
              "      <th>...</th>\n",
              "      <td>...</td>\n",
              "      <td>...</td>\n",
              "      <td>...</td>\n",
              "    </tr>\n",
              "    <tr>\n",
              "      <th>22683</th>\n",
              "      <td>file:/content/drive/MyDrive/Colab Notebooks/P9...</td>\n",
              "      <td>Banana</td>\n",
              "      <td>[0.98529184, 0.1931581, 0.0, 0.01833081, 0.441...</td>\n",
              "    </tr>\n",
              "    <tr>\n",
              "      <th>22684</th>\n",
              "      <td>file:/content/drive/MyDrive/Colab Notebooks/P9...</td>\n",
              "      <td>Banana</td>\n",
              "      <td>[0.18908948, 0.005229066, 0.0, 0.0, 0.7256444,...</td>\n",
              "    </tr>\n",
              "    <tr>\n",
              "      <th>22685</th>\n",
              "      <td>file:/content/drive/MyDrive/Colab Notebooks/P9...</td>\n",
              "      <td>Banana</td>\n",
              "      <td>[0.8487571, 0.04046593, 0.0, 0.0147414245, 0.6...</td>\n",
              "    </tr>\n",
              "    <tr>\n",
              "      <th>22686</th>\n",
              "      <td>file:/content/drive/MyDrive/Colab Notebooks/P9...</td>\n",
              "      <td>Banana</td>\n",
              "      <td>[0.029798746, 0.080043375, 0.0, 0.0, 0.4014784...</td>\n",
              "    </tr>\n",
              "    <tr>\n",
              "      <th>22687</th>\n",
              "      <td>file:/content/drive/MyDrive/Colab Notebooks/P9...</td>\n",
              "      <td>Banana</td>\n",
              "      <td>[0.058148745, 0.08083881, 0.0, 0.0055446927, 0...</td>\n",
              "    </tr>\n",
              "  </tbody>\n",
              "</table>\n",
              "<p>22688 rows × 3 columns</p>\n",
              "</div>\n",
              "    <div class=\"colab-df-buttons\">\n",
              "\n",
              "  <div class=\"colab-df-container\">\n",
              "    <button class=\"colab-df-convert\" onclick=\"convertToInteractive('df-e8311591-7659-4569-9318-39af3be55695')\"\n",
              "            title=\"Convert this dataframe to an interactive table.\"\n",
              "            style=\"display:none;\">\n",
              "\n",
              "  <svg xmlns=\"http://www.w3.org/2000/svg\" height=\"24px\" viewBox=\"0 -960 960 960\">\n",
              "    <path d=\"M120-120v-720h720v720H120Zm60-500h600v-160H180v160Zm220 220h160v-160H400v160Zm0 220h160v-160H400v160ZM180-400h160v-160H180v160Zm440 0h160v-160H620v160ZM180-180h160v-160H180v160Zm440 0h160v-160H620v160Z\"/>\n",
              "  </svg>\n",
              "    </button>\n",
              "\n",
              "  <style>\n",
              "    .colab-df-container {\n",
              "      display:flex;\n",
              "      gap: 12px;\n",
              "    }\n",
              "\n",
              "    .colab-df-convert {\n",
              "      background-color: #E8F0FE;\n",
              "      border: none;\n",
              "      border-radius: 50%;\n",
              "      cursor: pointer;\n",
              "      display: none;\n",
              "      fill: #1967D2;\n",
              "      height: 32px;\n",
              "      padding: 0 0 0 0;\n",
              "      width: 32px;\n",
              "    }\n",
              "\n",
              "    .colab-df-convert:hover {\n",
              "      background-color: #E2EBFA;\n",
              "      box-shadow: 0px 1px 2px rgba(60, 64, 67, 0.3), 0px 1px 3px 1px rgba(60, 64, 67, 0.15);\n",
              "      fill: #174EA6;\n",
              "    }\n",
              "\n",
              "    .colab-df-buttons div {\n",
              "      margin-bottom: 4px;\n",
              "    }\n",
              "\n",
              "    [theme=dark] .colab-df-convert {\n",
              "      background-color: #3B4455;\n",
              "      fill: #D2E3FC;\n",
              "    }\n",
              "\n",
              "    [theme=dark] .colab-df-convert:hover {\n",
              "      background-color: #434B5C;\n",
              "      box-shadow: 0px 1px 3px 1px rgba(0, 0, 0, 0.15);\n",
              "      filter: drop-shadow(0px 1px 2px rgba(0, 0, 0, 0.3));\n",
              "      fill: #FFFFFF;\n",
              "    }\n",
              "  </style>\n",
              "\n",
              "    <script>\n",
              "      const buttonEl =\n",
              "        document.querySelector('#df-e8311591-7659-4569-9318-39af3be55695 button.colab-df-convert');\n",
              "      buttonEl.style.display =\n",
              "        google.colab.kernel.accessAllowed ? 'block' : 'none';\n",
              "\n",
              "      async function convertToInteractive(key) {\n",
              "        const element = document.querySelector('#df-e8311591-7659-4569-9318-39af3be55695');\n",
              "        const dataTable =\n",
              "          await google.colab.kernel.invokeFunction('convertToInteractive',\n",
              "                                                    [key], {});\n",
              "        if (!dataTable) return;\n",
              "\n",
              "        const docLinkHtml = 'Like what you see? Visit the ' +\n",
              "          '<a target=\"_blank\" href=https://colab.research.google.com/notebooks/data_table.ipynb>data table notebook</a>'\n",
              "          + ' to learn more about interactive tables.';\n",
              "        element.innerHTML = '';\n",
              "        dataTable['output_type'] = 'display_data';\n",
              "        await google.colab.output.renderOutput(dataTable, element);\n",
              "        const docLink = document.createElement('div');\n",
              "        docLink.innerHTML = docLinkHtml;\n",
              "        element.appendChild(docLink);\n",
              "      }\n",
              "    </script>\n",
              "  </div>\n",
              "\n",
              "\n",
              "<div id=\"df-eab6c010-df96-4b56-9d15-fc37a6247c11\">\n",
              "  <button class=\"colab-df-quickchart\" onclick=\"quickchart('df-eab6c010-df96-4b56-9d15-fc37a6247c11')\"\n",
              "            title=\"Suggest charts\"\n",
              "            style=\"display:none;\">\n",
              "\n",
              "<svg xmlns=\"http://www.w3.org/2000/svg\" height=\"24px\"viewBox=\"0 0 24 24\"\n",
              "     width=\"24px\">\n",
              "    <g>\n",
              "        <path d=\"M19 3H5c-1.1 0-2 .9-2 2v14c0 1.1.9 2 2 2h14c1.1 0 2-.9 2-2V5c0-1.1-.9-2-2-2zM9 17H7v-7h2v7zm4 0h-2V7h2v10zm4 0h-2v-4h2v4z\"/>\n",
              "    </g>\n",
              "</svg>\n",
              "  </button>\n",
              "\n",
              "<style>\n",
              "  .colab-df-quickchart {\n",
              "      --bg-color: #E8F0FE;\n",
              "      --fill-color: #1967D2;\n",
              "      --hover-bg-color: #E2EBFA;\n",
              "      --hover-fill-color: #174EA6;\n",
              "      --disabled-fill-color: #AAA;\n",
              "      --disabled-bg-color: #DDD;\n",
              "  }\n",
              "\n",
              "  [theme=dark] .colab-df-quickchart {\n",
              "      --bg-color: #3B4455;\n",
              "      --fill-color: #D2E3FC;\n",
              "      --hover-bg-color: #434B5C;\n",
              "      --hover-fill-color: #FFFFFF;\n",
              "      --disabled-bg-color: #3B4455;\n",
              "      --disabled-fill-color: #666;\n",
              "  }\n",
              "\n",
              "  .colab-df-quickchart {\n",
              "    background-color: var(--bg-color);\n",
              "    border: none;\n",
              "    border-radius: 50%;\n",
              "    cursor: pointer;\n",
              "    display: none;\n",
              "    fill: var(--fill-color);\n",
              "    height: 32px;\n",
              "    padding: 0;\n",
              "    width: 32px;\n",
              "  }\n",
              "\n",
              "  .colab-df-quickchart:hover {\n",
              "    background-color: var(--hover-bg-color);\n",
              "    box-shadow: 0 1px 2px rgba(60, 64, 67, 0.3), 0 1px 3px 1px rgba(60, 64, 67, 0.15);\n",
              "    fill: var(--button-hover-fill-color);\n",
              "  }\n",
              "\n",
              "  .colab-df-quickchart-complete:disabled,\n",
              "  .colab-df-quickchart-complete:disabled:hover {\n",
              "    background-color: var(--disabled-bg-color);\n",
              "    fill: var(--disabled-fill-color);\n",
              "    box-shadow: none;\n",
              "  }\n",
              "\n",
              "  .colab-df-spinner {\n",
              "    border: 2px solid var(--fill-color);\n",
              "    border-color: transparent;\n",
              "    border-bottom-color: var(--fill-color);\n",
              "    animation:\n",
              "      spin 1s steps(1) infinite;\n",
              "  }\n",
              "\n",
              "  @keyframes spin {\n",
              "    0% {\n",
              "      border-color: transparent;\n",
              "      border-bottom-color: var(--fill-color);\n",
              "      border-left-color: var(--fill-color);\n",
              "    }\n",
              "    20% {\n",
              "      border-color: transparent;\n",
              "      border-left-color: var(--fill-color);\n",
              "      border-top-color: var(--fill-color);\n",
              "    }\n",
              "    30% {\n",
              "      border-color: transparent;\n",
              "      border-left-color: var(--fill-color);\n",
              "      border-top-color: var(--fill-color);\n",
              "      border-right-color: var(--fill-color);\n",
              "    }\n",
              "    40% {\n",
              "      border-color: transparent;\n",
              "      border-right-color: var(--fill-color);\n",
              "      border-top-color: var(--fill-color);\n",
              "    }\n",
              "    60% {\n",
              "      border-color: transparent;\n",
              "      border-right-color: var(--fill-color);\n",
              "    }\n",
              "    80% {\n",
              "      border-color: transparent;\n",
              "      border-right-color: var(--fill-color);\n",
              "      border-bottom-color: var(--fill-color);\n",
              "    }\n",
              "    90% {\n",
              "      border-color: transparent;\n",
              "      border-bottom-color: var(--fill-color);\n",
              "    }\n",
              "  }\n",
              "</style>\n",
              "\n",
              "  <script>\n",
              "    async function quickchart(key) {\n",
              "      const quickchartButtonEl =\n",
              "        document.querySelector('#' + key + ' button');\n",
              "      quickchartButtonEl.disabled = true;  // To prevent multiple clicks.\n",
              "      quickchartButtonEl.classList.add('colab-df-spinner');\n",
              "      try {\n",
              "        const charts = await google.colab.kernel.invokeFunction(\n",
              "            'suggestCharts', [key], {});\n",
              "      } catch (error) {\n",
              "        console.error('Error during call to suggestCharts:', error);\n",
              "      }\n",
              "      quickchartButtonEl.classList.remove('colab-df-spinner');\n",
              "      quickchartButtonEl.classList.add('colab-df-quickchart-complete');\n",
              "    }\n",
              "    (() => {\n",
              "      let quickchartButtonEl =\n",
              "        document.querySelector('#df-eab6c010-df96-4b56-9d15-fc37a6247c11 button');\n",
              "      quickchartButtonEl.style.display =\n",
              "        google.colab.kernel.accessAllowed ? 'block' : 'none';\n",
              "    })();\n",
              "  </script>\n",
              "</div>\n",
              "    </div>\n",
              "  </div>\n"
            ],
            "text/plain": [
              "                                                    path           label  \\\n",
              "0      file:/content/drive/MyDrive/Colab Notebooks/P9...      Watermelon   \n",
              "1      file:/content/drive/MyDrive/Colab Notebooks/P9...      Watermelon   \n",
              "2      file:/content/drive/MyDrive/Colab Notebooks/P9...      Watermelon   \n",
              "3      file:/content/drive/MyDrive/Colab Notebooks/P9...  Pineapple Mini   \n",
              "4      file:/content/drive/MyDrive/Colab Notebooks/P9...  Pineapple Mini   \n",
              "...                                                  ...             ...   \n",
              "22683  file:/content/drive/MyDrive/Colab Notebooks/P9...          Banana   \n",
              "22684  file:/content/drive/MyDrive/Colab Notebooks/P9...          Banana   \n",
              "22685  file:/content/drive/MyDrive/Colab Notebooks/P9...          Banana   \n",
              "22686  file:/content/drive/MyDrive/Colab Notebooks/P9...          Banana   \n",
              "22687  file:/content/drive/MyDrive/Colab Notebooks/P9...          Banana   \n",
              "\n",
              "                                                features  \n",
              "0      [0.65066075, 0.23024604, 0.0, 0.05094914, 0.87...  \n",
              "1      [0.24856402, 0.37696627, 0.0, 0.04572735, 0.29...  \n",
              "2      [0.0, 0.6704583, 0.021871379, 0.0, 1.8521793, ...  \n",
              "3      [0.0, 4.5386014, 0.031729814, 0.0, 0.0, 0.0, 0...  \n",
              "4      [0.0, 4.4780746, 0.0, 0.0, 0.0, 0.0, 0.0870465...  \n",
              "...                                                  ...  \n",
              "22683  [0.98529184, 0.1931581, 0.0, 0.01833081, 0.441...  \n",
              "22684  [0.18908948, 0.005229066, 0.0, 0.0, 0.7256444,...  \n",
              "22685  [0.8487571, 0.04046593, 0.0, 0.0147414245, 0.6...  \n",
              "22686  [0.029798746, 0.080043375, 0.0, 0.0, 0.4014784...  \n",
              "22687  [0.058148745, 0.08083881, 0.0, 0.0055446927, 0...  \n",
              "\n",
              "[22688 rows x 3 columns]"
            ]
          },
          "metadata": {},
          "output_type": "display_data"
        }
      ],
      "source": [
        "features_pandas_df = pd.read_parquet(PATH_Result_features, engine='pyarrow')\n",
        "display(features_pandas_df)"
      ]
    },
    {
      "cell_type": "markdown",
      "metadata": {
        "id": "LKiMMUO1KsmI"
      },
      "source": [
        "Nous vérifions qu'il a a bien 1_280 features pour chaque image (output de la dernière couche du modèle)."
      ]
    },
    {
      "cell_type": "code",
      "execution_count": 23,
      "metadata": {
        "colab": {
          "base_uri": "https://localhost:8080/"
        },
        "id": "OR6ArE6aViAd",
        "outputId": "056282d7-4ab2-41b7-a2d4-25cce240c208"
      },
      "outputs": [
        {
          "data": {
            "text/plain": [
              "(1280,)"
            ]
          },
          "execution_count": 23,
          "metadata": {},
          "output_type": "execute_result"
        }
      ],
      "source": [
        "features_pandas_df.loc[0,'features'].shape"
      ]
    },
    {
      "cell_type": "markdown",
      "metadata": {
        "id": "smCtpoNnlS4a"
      },
      "source": [
        "### <span style='background:black'>e/Réduction de dimension ACP</span>\n",
        "\n",
        "#### <span style='background:purple'>Encapsulation des features dans un array</span>\n",
        "\n",
        "Nous ajoutons une colonne \"features_array\" qui encapsule les valeurs de la colonne \"features\" dans un array."
      ]
    },
    {
      "cell_type": "code",
      "execution_count": 24,
      "metadata": {
        "colab": {
          "base_uri": "https://localhost:8080/"
        },
        "id": "DTQ2lkWAr_8a",
        "outputId": "e8d7877e-0267-404b-a4a7-acca0be80253"
      },
      "outputs": [
        {
          "name": "stdout",
          "output_type": "stream",
          "text": [
            "+--------------------+--------------+--------------------+--------------------+\n",
            "|                path|         label|            features|      features_array|\n",
            "+--------------------+--------------+--------------------+--------------------+\n",
            "|file:/content/dri...|    Watermelon|[0.65066075, 0.23...|[0.65066075325012...|\n",
            "|file:/content/dri...|    Watermelon|[0.24856402, 0.37...|[0.24856401979923...|\n",
            "|file:/content/dri...|    Watermelon|[0.0, 0.6704583, ...|[0.0,0.6704583168...|\n",
            "|file:/content/dri...|Pineapple Mini|[0.0, 4.5386014, ...|[0.0,4.5386013984...|\n",
            "|file:/content/dri...|Pineapple Mini|[0.0, 4.4780746, ...|[0.0,4.4780745506...|\n",
            "|file:/content/dri...|Pineapple Mini|[0.0079946155, 4....|[0.00799461547285...|\n",
            "|file:/content/dri...|    Watermelon|[0.0, 0.7224129, ...|[0.0,0.7224128842...|\n",
            "|file:/content/dri...|    Watermelon|[0.0, 0.8305109, ...|[0.0,0.8305109143...|\n",
            "|file:/content/dri...|    Watermelon|[0.010156452, 0.1...|[0.01015645172446...|\n",
            "|file:/content/dri...| Cucumber Ripe|[1.7044771, 0.015...|[1.70447707176208...|\n",
            "|file:/content/dri...|    Watermelon|[0.029868748, 0.3...|[0.02986874803900...|\n",
            "|file:/content/dri...|    Watermelon|[0.050821993, 0.0...|[0.05082199349999...|\n",
            "|file:/content/dri...|     Raspberry|[0.079945765, 0.5...|[0.07994576543569...|\n",
            "|file:/content/dri...|   Cauliflower|[0.0, 0.9068753, ...|[0.0,0.9068753123...|\n",
            "|file:/content/dri...|     Raspberry|[0.2486503, 0.388...|[0.24865029752254...|\n",
            "|file:/content/dri...|   Cauliflower|[0.0, 1.3004287, ...|[0.0,1.3004287481...|\n",
            "|file:/content/dri...|     Raspberry|[0.10566614, 0.92...|[0.10566613823175...|\n",
            "|file:/content/dri...|   Cauliflower|[0.0, 0.5576007, ...|[0.0,0.5576006770...|\n",
            "|file:/content/dri...|   Cauliflower|[0.015465549, 1.6...|[0.01546554919332...|\n",
            "|file:/content/dri...|     Pineapple|[0.0, 4.606504, 0...|[0.0,4.6065039634...|\n",
            "+--------------------+--------------+--------------------+--------------------+\n",
            "only showing top 20 rows\n",
            "\n"
          ]
        }
      ],
      "source": [
        "# Fonction udf pour transformer un array en VectorUDT\n",
        "array_to_vector_udf = udf(lambda arr: Vectors.dense(arr), VectorUDT())\n",
        "\n",
        "# Ajouter une colonne de features_array\n",
        "features_df = features_df.withColumn(\n",
        "    \"features_array\", array_to_vector_udf(col(\"features\"))\n",
        ")\n",
        "\n",
        "# Afficher le dataframe\n",
        "features_df.show()"
      ]
    },
    {
      "cell_type": "markdown",
      "metadata": {
        "id": "KVIfSlj8KsmM"
      },
      "source": [
        "#### <span style='background:purple'>ACP</span>\n",
        "\n",
        "Nous réalisons une Analyse en Composantes Principales (ACP) sur les features pour réduire la dimension. Nous conservons les **200** premières composantes principales."
      ]
    },
    {
      "cell_type": "code",
      "execution_count": 25,
      "metadata": {
        "colab": {
          "base_uri": "https://localhost:8080/"
        },
        "id": "U7yZl-92le83",
        "outputId": "455277e6-d9d9-49dd-93b9-be4a7a3471d5"
      },
      "outputs": [
        {
          "name": "stdout",
          "output_type": "stream",
          "text": [
            "Variance Totale:  0.907\n",
            "Variance expliquée avec 20 composantes: 0.645\n",
            "Variance expliquée avec 40 composantes: 0.772\n",
            "Variance expliquée avec 60 composantes: 0.840\n",
            "Variance expliquée avec 80 composantes: 0.885\n",
            "Variance expliquée avec 100 composantes: 0.917\n",
            "Variance expliquée avec 120 composantes: 0.942\n",
            "Variance expliquée avec 140 composantes: 0.961\n",
            "Variance expliquée avec 160 composantes: 0.977\n",
            "Variance expliquée avec 180 composantes: 0.990\n",
            "\n",
            "Les résultats de l'ACP ont été sauvegardés\n",
            "Number of rows:  22688\n",
            "Number of columns:  5\n",
            "['path', 'label', 'features', 'features_array', 'pca_features']\n"
          ]
        }
      ],
      "source": [
        "# Nombre de composantes de l'ACP\n",
        "nbr_composante = 200\n",
        "\n",
        "# Si les parquets existent, les charger SINON réaliser l'ACP et save\n",
        "if is_result_pca_calculed:\n",
        "    pca_result_df = spark.read.parquet(PATH_Result_pca_parquet)\n",
        "    print(\"\\nLes résultats de l'ACP existent déjà\")\n",
        "\n",
        "else:\n",
        "    # Créer un objet PCA, entrainement et transformation\n",
        "    pca = PCA(\n",
        "        k=nbr_composante,\n",
        "        inputCol=\"features_array\",\n",
        "        outputCol=\"pca_features\"\n",
        "    )\n",
        "    model_fitted = pca.fit(features_df)\n",
        "    pca_result_df = model_fitted.transform(features_df)\n",
        "\n",
        "    # Calculer la variance totale et la variance cumulative expliquée\n",
        "    explained_variance_table = calculer_variance_expliquee(\n",
        "        model_fitted,\n",
        "        nbr_composante\n",
        "    )\n",
        "\n",
        "    # Enregistrer les résultats de l'ACP en format parquet\n",
        "    pca_result_df.write.mode('overwrite').parquet(PATH_Result_pca_parquet)\n",
        "    print(\"\\nLes résultats de l'ACP ont été sauvegardés\")\n",
        "\n",
        "# Afficher les dimensions du dataframe des résultats de l'ACP\n",
        "print(\"Number of rows: \", pca_result_df.count())\n",
        "print(\"Number of columns: \", len(pca_result_df.columns))\n",
        "print(pca_result_df.columns)"
      ]
    },
    {
      "cell_type": "markdown",
      "metadata": {
        "id": "9uWxerJ8MCyY"
      },
      "source": [
        "Plus de 90% de la variance est expliquée par ces 200 composantes."
      ]
    },
    {
      "cell_type": "markdown",
      "metadata": {
        "id": "BiZCpMbXKsmN"
      },
      "source": [
        "#### <span style='background:purple'>Plot évolution de la variance selon le nombre de composantes</span>\n",
        "\n",
        "Nous affichons le pourcentage de variance expliquée par le nombre de composantes."
      ]
    },
    {
      "cell_type": "code",
      "execution_count": 26,
      "metadata": {
        "colab": {
          "base_uri": "https://localhost:8080/",
          "height": 565
        },
        "id": "0AKjWZikI7wm",
        "outputId": "5960fbe2-c65b-46aa-8238-f675e72e42fb"
      },
      "outputs": [
        {
          "data": {
            "image/png": "[encoded data removed]",
            "text/plain": [
              "<Figure size 1000x600 with 1 Axes>"
            ]
          },
          "metadata": {},
          "output_type": "display_data"
        }
      ],
      "source": [
        "# Création tuple (composantes, variances) selon la table de variance expliquée\n",
        "components, variances = zip(*explained_variance_table)\n",
        "\n",
        "# Création du graphique de la variance expliquée\n",
        "plt.figure(figsize=(10, 6))\n",
        "plt.plot(components, variances, marker='o')\n",
        "\n",
        "# Titres et labels\n",
        "plt.xlabel('Nombre de composantes principales')\n",
        "plt.ylabel('Variance expliquée (%)')\n",
        "plt.title('Evolution de la variance expliquée par composante principale')\n",
        "plt.show()"
      ]
    },
    {
      "cell_type": "markdown",
      "metadata": {
        "id": "SpktspCLKsmR"
      },
      "source": [
        "### <span style='background:black'>d/Création du fichier csv</span>\n",
        "\n",
        "Nous chargeons les données dans un DataFrame Pandas pour la visualiser plus facilement."
      ]
    },
    {
      "cell_type": "code",
      "execution_count": 27,
      "metadata": {
        "colab": {
          "base_uri": "https://localhost:8080/",
          "height": 207
        },
        "id": "fTcszd4wKsmR",
        "outputId": "0050a3b4-6fa8-4e7d-b075-f295e2aa0f21"
      },
      "outputs": [
        {
          "data": {
            "application/vnd.google.colaboratory.intrinsic+json": {
              "summary": "{\n  \"name\": \"display(df_result_pca\",\n  \"rows\": 5,\n  \"fields\": [\n    {\n      \"column\": \"path\",\n      \"properties\": {\n        \"dtype\": \"string\",\n        \"num_unique_values\": 5,\n        \"samples\": [\n          \"file:/content/drive/MyDrive/Colab Notebooks/P9/data/source/fruits-360_dataset/fruits-360/Test/Watermelon/r_83_100.jpg\",\n          \"file:/content/drive/MyDrive/Colab Notebooks/P9/data/source/fruits-360_dataset/fruits-360/Test/Pineapple Mini/73_100.jpg\",\n          \"file:/content/drive/MyDrive/Colab Notebooks/P9/data/source/fruits-360_dataset/fruits-360/Test/Watermelon/r_111_100.jpg\"\n        ],\n        \"semantic_type\": \"\",\n        \"description\": \"\"\n      }\n    },\n    {\n      \"column\": \"label\",\n      \"properties\": {\n        \"dtype\": \"category\",\n        \"num_unique_values\": 2,\n        \"samples\": [\n          \"Pineapple Mini\",\n          \"Watermelon\"\n        ],\n        \"semantic_type\": \"\",\n        \"description\": \"\"\n      }\n    },\n    {\n      \"column\": \"features\",\n      \"properties\": {\n        \"dtype\": \"object\",\n        \"semantic_type\": \"\",\n        \"description\": \"\"\n      }\n    },\n    {\n      \"column\": \"features_array\",\n      \"properties\": {\n        \"dtype\": \"object\",\n        \"semantic_type\": \"\",\n        \"description\": \"\"\n      }\n    },\n    {\n      \"column\": \"pca_features\",\n      \"properties\": {\n        \"dtype\": \"object\",\n        \"semantic_type\": \"\",\n        \"description\": \"\"\n      }\n    }\n  ]\n}",
              "type": "dataframe"
            },
            "text/html": [
              "\n",
              "  <div id=\"df-a4f504a4-6d12-4423-82da-4cb2a3a76585\" class=\"colab-df-container\">\n",
              "    <div>\n",
              "<style scoped>\n",
              "    .dataframe tbody tr th:only-of-type {\n",
              "        vertical-align: middle;\n",
              "    }\n",
              "\n",
              "    .dataframe tbody tr th {\n",
              "        vertical-align: top;\n",
              "    }\n",
              "\n",
              "    .dataframe thead th {\n",
              "        text-align: right;\n",
              "    }\n",
              "</style>\n",
              "<table border=\"1\" class=\"dataframe\">\n",
              "  <thead>\n",
              "    <tr style=\"text-align: right;\">\n",
              "      <th></th>\n",
              "      <th>path</th>\n",
              "      <th>label</th>\n",
              "      <th>features</th>\n",
              "      <th>features_array</th>\n",
              "      <th>pca_features</th>\n",
              "    </tr>\n",
              "  </thead>\n",
              "  <tbody>\n",
              "    <tr>\n",
              "      <th>0</th>\n",
              "      <td>file:/content/drive/MyDrive/Colab Notebooks/P9...</td>\n",
              "      <td>Watermelon</td>\n",
              "      <td>[0.65066075, 0.23024604, 0.0, 0.05094914, 0.87...</td>\n",
              "      <td>{'type': 1, 'size': None, 'indices': None, 'va...</td>\n",
              "      <td>{'type': 1, 'size': None, 'indices': None, 'va...</td>\n",
              "    </tr>\n",
              "    <tr>\n",
              "      <th>1</th>\n",
              "      <td>file:/content/drive/MyDrive/Colab Notebooks/P9...</td>\n",
              "      <td>Watermelon</td>\n",
              "      <td>[0.24856402, 0.37696627, 0.0, 0.04572735, 0.29...</td>\n",
              "      <td>{'type': 1, 'size': None, 'indices': None, 'va...</td>\n",
              "      <td>{'type': 1, 'size': None, 'indices': None, 'va...</td>\n",
              "    </tr>\n",
              "    <tr>\n",
              "      <th>2</th>\n",
              "      <td>file:/content/drive/MyDrive/Colab Notebooks/P9...</td>\n",
              "      <td>Watermelon</td>\n",
              "      <td>[0.0, 0.6704583, 0.021871379, 0.0, 1.8521793, ...</td>\n",
              "      <td>{'type': 1, 'size': None, 'indices': None, 'va...</td>\n",
              "      <td>{'type': 1, 'size': None, 'indices': None, 'va...</td>\n",
              "    </tr>\n",
              "    <tr>\n",
              "      <th>3</th>\n",
              "      <td>file:/content/drive/MyDrive/Colab Notebooks/P9...</td>\n",
              "      <td>Pineapple Mini</td>\n",
              "      <td>[0.0, 4.5386014, 0.031729814, 0.0, 0.0, 0.0, 0...</td>\n",
              "      <td>{'type': 1, 'size': None, 'indices': None, 'va...</td>\n",
              "      <td>{'type': 1, 'size': None, 'indices': None, 'va...</td>\n",
              "    </tr>\n",
              "    <tr>\n",
              "      <th>4</th>\n",
              "      <td>file:/content/drive/MyDrive/Colab Notebooks/P9...</td>\n",
              "      <td>Pineapple Mini</td>\n",
              "      <td>[0.0, 4.4780746, 0.0, 0.0, 0.0, 0.0, 0.0870465...</td>\n",
              "      <td>{'type': 1, 'size': None, 'indices': None, 'va...</td>\n",
              "      <td>{'type': 1, 'size': None, 'indices': None, 'va...</td>\n",
              "    </tr>\n",
              "  </tbody>\n",
              "</table>\n",
              "</div>\n",
              "    <div class=\"colab-df-buttons\">\n",
              "\n",
              "  <div class=\"colab-df-container\">\n",
              "    <button class=\"colab-df-convert\" onclick=\"convertToInteractive('df-a4f504a4-6d12-4423-82da-4cb2a3a76585')\"\n",
              "            title=\"Convert this dataframe to an interactive table.\"\n",
              "            style=\"display:none;\">\n",
              "\n",
              "  <svg xmlns=\"http://www.w3.org/2000/svg\" height=\"24px\" viewBox=\"0 -960 960 960\">\n",
              "    <path d=\"M120-120v-720h720v720H120Zm60-500h600v-160H180v160Zm220 220h160v-160H400v160Zm0 220h160v-160H400v160ZM180-400h160v-160H180v160Zm440 0h160v-160H620v160ZM180-180h160v-160H180v160Zm440 0h160v-160H620v160Z\"/>\n",
              "  </svg>\n",
              "    </button>\n",
              "\n",
              "  <style>\n",
              "    .colab-df-container {\n",
              "      display:flex;\n",
              "      gap: 12px;\n",
              "    }\n",
              "\n",
              "    .colab-df-convert {\n",
              "      background-color: #E8F0FE;\n",
              "      border: none;\n",
              "      border-radius: 50%;\n",
              "      cursor: pointer;\n",
              "      display: none;\n",
              "      fill: #1967D2;\n",
              "      height: 32px;\n",
              "      padding: 0 0 0 0;\n",
              "      width: 32px;\n",
              "    }\n",
              "\n",
              "    .colab-df-convert:hover {\n",
              "      background-color: #E2EBFA;\n",
              "      box-shadow: 0px 1px 2px rgba(60, 64, 67, 0.3), 0px 1px 3px 1px rgba(60, 64, 67, 0.15);\n",
              "      fill: #174EA6;\n",
              "    }\n",
              "\n",
              "    .colab-df-buttons div {\n",
              "      margin-bottom: 4px;\n",
              "    }\n",
              "\n",
              "    [theme=dark] .colab-df-convert {\n",
              "      background-color: #3B4455;\n",
              "      fill: #D2E3FC;\n",
              "    }\n",
              "\n",
              "    [theme=dark] .colab-df-convert:hover {\n",
              "      background-color: #434B5C;\n",
              "      box-shadow: 0px 1px 3px 1px rgba(0, 0, 0, 0.15);\n",
              "      filter: drop-shadow(0px 1px 2px rgba(0, 0, 0, 0.3));\n",
              "      fill: #FFFFFF;\n",
              "    }\n",
              "  </style>\n",
              "\n",
              "    <script>\n",
              "      const buttonEl =\n",
              "        document.querySelector('#df-a4f504a4-6d12-4423-82da-4cb2a3a76585 button.colab-df-convert');\n",
              "      buttonEl.style.display =\n",
              "        google.colab.kernel.accessAllowed ? 'block' : 'none';\n",
              "\n",
              "      async function convertToInteractive(key) {\n",
              "        const element = document.querySelector('#df-a4f504a4-6d12-4423-82da-4cb2a3a76585');\n",
              "        const dataTable =\n",
              "          await google.colab.kernel.invokeFunction('convertToInteractive',\n",
              "                                                    [key], {});\n",
              "        if (!dataTable) return;\n",
              "\n",
              "        const docLinkHtml = 'Like what you see? Visit the ' +\n",
              "          '<a target=\"_blank\" href=https://colab.research.google.com/notebooks/data_table.ipynb>data table notebook</a>'\n",
              "          + ' to learn more about interactive tables.';\n",
              "        element.innerHTML = '';\n",
              "        dataTable['output_type'] = 'display_data';\n",
              "        await google.colab.output.renderOutput(dataTable, element);\n",
              "        const docLink = document.createElement('div');\n",
              "        docLink.innerHTML = docLinkHtml;\n",
              "        element.appendChild(docLink);\n",
              "      }\n",
              "    </script>\n",
              "  </div>\n",
              "\n",
              "\n",
              "<div id=\"df-5cbe1345-8a11-4f8f-85a6-f9e043fb150a\">\n",
              "  <button class=\"colab-df-quickchart\" onclick=\"quickchart('df-5cbe1345-8a11-4f8f-85a6-f9e043fb150a')\"\n",
              "            title=\"Suggest charts\"\n",
              "            style=\"display:none;\">\n",
              "\n",
              "<svg xmlns=\"http://www.w3.org/2000/svg\" height=\"24px\"viewBox=\"0 0 24 24\"\n",
              "     width=\"24px\">\n",
              "    <g>\n",
              "        <path d=\"M19 3H5c-1.1 0-2 .9-2 2v14c0 1.1.9 2 2 2h14c1.1 0 2-.9 2-2V5c0-1.1-.9-2-2-2zM9 17H7v-7h2v7zm4 0h-2V7h2v10zm4 0h-2v-4h2v4z\"/>\n",
              "    </g>\n",
              "</svg>\n",
              "  </button>\n",
              "\n",
              "<style>\n",
              "  .colab-df-quickchart {\n",
              "      --bg-color: #E8F0FE;\n",
              "      --fill-color: #1967D2;\n",
              "      --hover-bg-color: #E2EBFA;\n",
              "      --hover-fill-color: #174EA6;\n",
              "      --disabled-fill-color: #AAA;\n",
              "      --disabled-bg-color: #DDD;\n",
              "  }\n",
              "\n",
              "  [theme=dark] .colab-df-quickchart {\n",
              "      --bg-color: #3B4455;\n",
              "      --fill-color: #D2E3FC;\n",
              "      --hover-bg-color: #434B5C;\n",
              "      --hover-fill-color: #FFFFFF;\n",
              "      --disabled-bg-color: #3B4455;\n",
              "      --disabled-fill-color: #666;\n",
              "  }\n",
              "\n",
              "  .colab-df-quickchart {\n",
              "    background-color: var(--bg-color);\n",
              "    border: none;\n",
              "    border-radius: 50%;\n",
              "    cursor: pointer;\n",
              "    display: none;\n",
              "    fill: var(--fill-color);\n",
              "    height: 32px;\n",
              "    padding: 0;\n",
              "    width: 32px;\n",
              "  }\n",
              "\n",
              "  .colab-df-quickchart:hover {\n",
              "    background-color: var(--hover-bg-color);\n",
              "    box-shadow: 0 1px 2px rgba(60, 64, 67, 0.3), 0 1px 3px 1px rgba(60, 64, 67, 0.15);\n",
              "    fill: var(--button-hover-fill-color);\n",
              "  }\n",
              "\n",
              "  .colab-df-quickchart-complete:disabled,\n",
              "  .colab-df-quickchart-complete:disabled:hover {\n",
              "    background-color: var(--disabled-bg-color);\n",
              "    fill: var(--disabled-fill-color);\n",
              "    box-shadow: none;\n",
              "  }\n",
              "\n",
              "  .colab-df-spinner {\n",
              "    border: 2px solid var(--fill-color);\n",
              "    border-color: transparent;\n",
              "    border-bottom-color: var(--fill-color);\n",
              "    animation:\n",
              "      spin 1s steps(1) infinite;\n",
              "  }\n",
              "\n",
              "  @keyframes spin {\n",
              "    0% {\n",
              "      border-color: transparent;\n",
              "      border-bottom-color: var(--fill-color);\n",
              "      border-left-color: var(--fill-color);\n",
              "    }\n",
              "    20% {\n",
              "      border-color: transparent;\n",
              "      border-left-color: var(--fill-color);\n",
              "      border-top-color: var(--fill-color);\n",
              "    }\n",
              "    30% {\n",
              "      border-color: transparent;\n",
              "      border-left-color: var(--fill-color);\n",
              "      border-top-color: var(--fill-color);\n",
              "      border-right-color: var(--fill-color);\n",
              "    }\n",
              "    40% {\n",
              "      border-color: transparent;\n",
              "      border-right-color: var(--fill-color);\n",
              "      border-top-color: var(--fill-color);\n",
              "    }\n",
              "    60% {\n",
              "      border-color: transparent;\n",
              "      border-right-color: var(--fill-color);\n",
              "    }\n",
              "    80% {\n",
              "      border-color: transparent;\n",
              "      border-right-color: var(--fill-color);\n",
              "      border-bottom-color: var(--fill-color);\n",
              "    }\n",
              "    90% {\n",
              "      border-color: transparent;\n",
              "      border-bottom-color: var(--fill-color);\n",
              "    }\n",
              "  }\n",
              "</style>\n",
              "\n",
              "  <script>\n",
              "    async function quickchart(key) {\n",
              "      const quickchartButtonEl =\n",
              "        document.querySelector('#' + key + ' button');\n",
              "      quickchartButtonEl.disabled = true;  // To prevent multiple clicks.\n",
              "      quickchartButtonEl.classList.add('colab-df-spinner');\n",
              "      try {\n",
              "        const charts = await google.colab.kernel.invokeFunction(\n",
              "            'suggestCharts', [key], {});\n",
              "      } catch (error) {\n",
              "        console.error('Error during call to suggestCharts:', error);\n",
              "      }\n",
              "      quickchartButtonEl.classList.remove('colab-df-spinner');\n",
              "      quickchartButtonEl.classList.add('colab-df-quickchart-complete');\n",
              "    }\n",
              "    (() => {\n",
              "      let quickchartButtonEl =\n",
              "        document.querySelector('#df-5cbe1345-8a11-4f8f-85a6-f9e043fb150a button');\n",
              "      quickchartButtonEl.style.display =\n",
              "        google.colab.kernel.accessAllowed ? 'block' : 'none';\n",
              "    })();\n",
              "  </script>\n",
              "</div>\n",
              "    </div>\n",
              "  </div>\n"
            ],
            "text/plain": [
              "                                                path           label  \\\n",
              "0  file:/content/drive/MyDrive/Colab Notebooks/P9...      Watermelon   \n",
              "1  file:/content/drive/MyDrive/Colab Notebooks/P9...      Watermelon   \n",
              "2  file:/content/drive/MyDrive/Colab Notebooks/P9...      Watermelon   \n",
              "3  file:/content/drive/MyDrive/Colab Notebooks/P9...  Pineapple Mini   \n",
              "4  file:/content/drive/MyDrive/Colab Notebooks/P9...  Pineapple Mini   \n",
              "\n",
              "                                            features  \\\n",
              "0  [0.65066075, 0.23024604, 0.0, 0.05094914, 0.87...   \n",
              "1  [0.24856402, 0.37696627, 0.0, 0.04572735, 0.29...   \n",
              "2  [0.0, 0.6704583, 0.021871379, 0.0, 1.8521793, ...   \n",
              "3  [0.0, 4.5386014, 0.031729814, 0.0, 0.0, 0.0, 0...   \n",
              "4  [0.0, 4.4780746, 0.0, 0.0, 0.0, 0.0, 0.0870465...   \n",
              "\n",
              "                                      features_array  \\\n",
              "0  {'type': 1, 'size': None, 'indices': None, 'va...   \n",
              "1  {'type': 1, 'size': None, 'indices': None, 'va...   \n",
              "2  {'type': 1, 'size': None, 'indices': None, 'va...   \n",
              "3  {'type': 1, 'size': None, 'indices': None, 'va...   \n",
              "4  {'type': 1, 'size': None, 'indices': None, 'va...   \n",
              "\n",
              "                                        pca_features  \n",
              "0  {'type': 1, 'size': None, 'indices': None, 'va...  \n",
              "1  {'type': 1, 'size': None, 'indices': None, 'va...  \n",
              "2  {'type': 1, 'size': None, 'indices': None, 'va...  \n",
              "3  {'type': 1, 'size': None, 'indices': None, 'va...  \n",
              "4  {'type': 1, 'size': None, 'indices': None, 'va...  "
            ]
          },
          "metadata": {},
          "output_type": "display_data"
        }
      ],
      "source": [
        "# Charger les résultats de l'ACP dans un DataFrame Pandas\n",
        "df_result_pca = pd.read_parquet(PATH_Result_pca_parquet, engine='pyarrow')\n",
        "display(df_result_pca.head())"
      ]
    },
    {
      "cell_type": "markdown",
      "metadata": {
        "id": "YBewqhc5KsmS"
      },
      "source": [
        "Nous remarquons que les valeurs issues de l'ACP sont présentes dans un array qui est lui-même au sein du dictionnaire de la colonne 'pca_features'."
      ]
    },
    {
      "cell_type": "code",
      "execution_count": 28,
      "metadata": {
        "colab": {
          "base_uri": "https://localhost:8080/"
        },
        "id": "nJPnPLXMKsmS",
        "outputId": "d25612ca-b528-4244-d1b0-d928503b2c3e"
      },
      "outputs": [
        {
          "data": {
            "text/plain": [
              "array([-4.20479074e+00,  6.18196791e+00, -5.15582059e+00, -5.11439813e+00,\n",
              "        6.08911714e+00,  5.47268166e+00,  2.38312730e+00,  9.57785800e-02,\n",
              "       -1.09007255e+01,  1.10285340e-01, -1.69326107e+00,  2.67128324e+00,\n",
              "       -2.36723587e+00,  7.04681448e+00, -2.74378769e-01, -8.31314200e-02,\n",
              "       -5.66372065e+00,  1.33284852e+00, -8.87806478e-02,  4.82977017e+00,\n",
              "        6.74413244e-01, -8.84147824e-01,  6.75482633e+00, -1.57993882e+00,\n",
              "        1.31356150e+00,  1.35207317e+00,  1.10545075e+00, -2.86858321e+00,\n",
              "        1.59264552e+00,  1.92563755e+00,  3.12754633e+00,  4.96037311e-01,\n",
              "        1.52641220e+00, -6.67847436e-01, -1.02833835e+00, -3.53536249e+00,\n",
              "       -7.25089106e-01, -1.13632539e+00, -9.63586862e-01, -3.09775101e+00,\n",
              "       -6.11073900e-01,  2.25468081e+00, -7.59919736e-01,  5.57387120e-04,\n",
              "       -3.40121589e+00,  5.62012559e-01,  1.14015873e+00, -2.20926175e+00,\n",
              "       -1.12179327e+00, -2.50858017e+00,  3.73218001e-01, -5.42057853e+00,\n",
              "        5.15562908e-01, -1.33876545e+00,  7.47373506e-01, -8.71981718e-01,\n",
              "        1.52254383e+00,  9.45564538e-01,  2.94499031e+00, -8.89076869e-01,\n",
              "       -6.68751031e-01,  3.56122016e-01, -2.26061205e+00, -1.47372292e-01,\n",
              "        2.63591699e+00,  1.83000502e+00,  2.23256432e-01,  1.91739827e+00,\n",
              "       -2.14494739e+00,  4.39638845e-01,  8.75142644e-01,  1.73062281e+00,\n",
              "        1.03314565e+00,  1.13744796e+00, -4.76758016e-01,  2.30071089e-01,\n",
              "        8.46207753e-01, -8.82400528e-01, -9.21461891e-02,  8.42154815e-02,\n",
              "       -1.88843856e+00, -3.08026022e-02,  1.94208770e+00,  1.11750845e-01,\n",
              "        5.07445933e-01, -1.55634222e-02,  2.14598865e+00, -1.27434076e+00,\n",
              "       -1.21088642e-02, -2.20874947e+00,  7.25000748e-01,  5.88328316e-02,\n",
              "       -6.07925240e-01,  2.49690021e-01, -4.30750826e-01,  7.80680538e-01,\n",
              "       -2.98911739e-01, -2.52291286e+00,  1.10220490e+00, -3.74689764e-01,\n",
              "       -2.49422586e+00, -1.06589874e+00,  3.71396529e-01,  4.51477306e-02,\n",
              "       -4.32830505e-03, -7.82994013e-01,  1.51243434e+00,  1.78420155e+00,\n",
              "        1.20730243e-01, -6.06822820e-01, -2.48967771e+00,  1.08669847e+00,\n",
              "        5.40462008e-01,  1.77496588e+00, -1.04435893e+00, -4.24758275e-01,\n",
              "       -8.36000263e-01, -9.23337966e-01, -7.01526881e-01, -9.98917063e-01,\n",
              "       -2.82698271e-01, -5.96716992e-01, -2.39934739e+00,  8.53838329e-01,\n",
              "        4.57660824e-01,  8.43087336e-02,  1.95220692e-01, -2.26649401e-01,\n",
              "       -9.14715860e-01,  2.70164133e-01, -1.15424958e-02,  8.47942776e-01,\n",
              "        4.17697038e-01, -4.37313195e-01,  1.82096704e+00, -1.53592697e-02,\n",
              "        1.22357308e+00, -4.75093327e-01, -9.39945591e-01,  1.17357159e-01,\n",
              "       -4.71129846e-01, -1.44326228e+00,  1.38467340e+00,  1.44818954e+00,\n",
              "        4.71582256e-01,  1.45987894e+00,  1.81509644e-01, -1.64959534e-01,\n",
              "        1.42603873e+00, -2.14157785e+00,  9.34021924e-01, -8.31835319e-03,\n",
              "        9.89145646e-02,  1.51141601e+00, -8.95410374e-01,  1.03127652e-01,\n",
              "       -4.18488703e-01,  2.31880685e-01, -4.81114649e-01, -5.25834552e-01,\n",
              "        5.05431530e-01,  5.05328531e-01, -1.58940030e-01, -1.45574481e+00,\n",
              "       -3.00217938e-01,  1.17310470e+00,  2.07130299e-01, -2.90399674e-02,\n",
              "       -6.57477322e-01,  5.31687768e-01, -2.44303059e-01, -9.30355013e-01,\n",
              "        4.74772567e-01,  8.05281501e-01, -2.62827511e-01, -6.30155060e-01,\n",
              "        6.08394946e-01, -6.66244389e-01, -2.76390054e-01,  1.72217670e-01,\n",
              "        2.28966303e-01, -3.45217091e-01, -6.26369799e-02,  1.34982178e+00,\n",
              "       -5.46562703e-01, -1.01052342e+00,  1.63950757e-02,  5.68260921e-01,\n",
              "        6.34707399e-01, -7.86559247e-01,  6.54571678e-01,  8.85732138e-01,\n",
              "       -4.78536737e-01,  4.68531751e-02,  3.88703817e-01, -8.38370281e-02,\n",
              "        2.94343816e-01, -9.46779830e-01, -9.76645564e-01,  9.19791097e-01])"
            ]
          },
          "execution_count": 28,
          "metadata": {},
          "output_type": "execute_result"
        }
      ],
      "source": [
        "# Afficher les valeurs de la première ligne de la colonne pca_features\n",
        "df_result_pca.loc[0, 'pca_features']['values']"
      ]
    },
    {
      "cell_type": "markdown",
      "metadata": {
        "id": "jdmZCUy4KsmT"
      },
      "source": [
        "Nous créons une nouvelle colonne \"values\" qui contient ces valeurs et nous exportons le DataFrame en fichier csv."
      ]
    },
    {
      "cell_type": "code",
      "execution_count": 29,
      "metadata": {
        "colab": {
          "base_uri": "https://localhost:8080/"
        },
        "id": "f0J9aiHnkUkD",
        "outputId": "a5b972b1-2870-446f-e1d3-ab0628b5f218"
      },
      "outputs": [
        {
          "name": "stdout",
          "output_type": "stream",
          "text": [
            "Le DataFrame a été exporté avec succès en fichier CSV à l'emplacement suivant : /content/drive/MyDrive/Colab Notebooks/P9/results/pca_csv/values_pca.csv\n"
          ]
        }
      ],
      "source": [
        "# Creation d'une colonne 'values' contenant les valeurs des composantes\n",
        "df_result_pca['values'] = df_result_pca['pca_features'].apply(\n",
        "    lambda x: x['values']\n",
        ")\n",
        "\n",
        "# Convertion de la colonne 'values' en Series\n",
        "values_df = df_result_pca['values'].apply(pd.Series)\n",
        "\n",
        "# Création du chemin du fichier CSV\n",
        "csv_path = os.path.join(PATH_Result_pca_csv, 'values_pca.csv')\n",
        "\n",
        "# Export du dataframe en fichier CSV\n",
        "values_df.to_csv(csv_path, index=False)\n",
        "\n",
        "# Afficher un message de confirmation\n",
        "print(f\"Le DataFrame a été exporté avec succès en fichier CSV à l'emplacement suivant : {csv_path}\")"
      ]
    },
    {
      "cell_type": "markdown",
      "metadata": {
        "id": "MhbQ7uH9KsmT"
      },
      "source": [
        "Nous importons le fichier csv pour vérifier son contenu."
      ]
    },
    {
      "cell_type": "code",
      "execution_count": 31,
      "metadata": {
        "colab": {
          "base_uri": "https://localhost:8080/",
          "height": 425
        },
        "id": "Zrl7kdV_kbyA",
        "outputId": "beb05352-9b4a-48e7-b856-79d6ec92c74c"
      },
      "outputs": [
        {
          "data": {
            "application/vnd.google.colaboratory.intrinsic+json": {
              "type": "dataframe",
              "variable_name": "values_pca_df"
            },
            "text/html": [
              "\n",
              "  <div id=\"df-ed230340-6d8b-4bec-9d34-c9ee812a45b2\" class=\"colab-df-container\">\n",
              "    <div>\n",
              "<style scoped>\n",
              "    .dataframe tbody tr th:only-of-type {\n",
              "        vertical-align: middle;\n",
              "    }\n",
              "\n",
              "    .dataframe tbody tr th {\n",
              "        vertical-align: top;\n",
              "    }\n",
              "\n",
              "    .dataframe thead th {\n",
              "        text-align: right;\n",
              "    }\n",
              "</style>\n",
              "<table border=\"1\" class=\"dataframe\">\n",
              "  <thead>\n",
              "    <tr style=\"text-align: right;\">\n",
              "      <th></th>\n",
              "      <th>0</th>\n",
              "      <th>1</th>\n",
              "      <th>2</th>\n",
              "      <th>3</th>\n",
              "      <th>4</th>\n",
              "      <th>5</th>\n",
              "      <th>6</th>\n",
              "      <th>7</th>\n",
              "      <th>8</th>\n",
              "      <th>9</th>\n",
              "      <th>...</th>\n",
              "      <th>190</th>\n",
              "      <th>191</th>\n",
              "      <th>192</th>\n",
              "      <th>193</th>\n",
              "      <th>194</th>\n",
              "      <th>195</th>\n",
              "      <th>196</th>\n",
              "      <th>197</th>\n",
              "      <th>198</th>\n",
              "      <th>199</th>\n",
              "    </tr>\n",
              "  </thead>\n",
              "  <tbody>\n",
              "    <tr>\n",
              "      <th>0</th>\n",
              "      <td>-4.204791</td>\n",
              "      <td>6.181968</td>\n",
              "      <td>-5.155821</td>\n",
              "      <td>-5.114398</td>\n",
              "      <td>6.089117</td>\n",
              "      <td>5.472682</td>\n",
              "      <td>2.383127</td>\n",
              "      <td>0.095779</td>\n",
              "      <td>-10.900725</td>\n",
              "      <td>0.110285</td>\n",
              "      <td>...</td>\n",
              "      <td>0.654572</td>\n",
              "      <td>0.885732</td>\n",
              "      <td>-0.478537</td>\n",
              "      <td>0.046853</td>\n",
              "      <td>0.388704</td>\n",
              "      <td>-0.083837</td>\n",
              "      <td>0.294344</td>\n",
              "      <td>-0.946780</td>\n",
              "      <td>-0.976646</td>\n",
              "      <td>0.919791</td>\n",
              "    </tr>\n",
              "    <tr>\n",
              "      <th>1</th>\n",
              "      <td>-3.663692</td>\n",
              "      <td>6.330463</td>\n",
              "      <td>-6.248617</td>\n",
              "      <td>-4.080247</td>\n",
              "      <td>7.485053</td>\n",
              "      <td>5.560991</td>\n",
              "      <td>3.617663</td>\n",
              "      <td>-0.322532</td>\n",
              "      <td>-10.761028</td>\n",
              "      <td>0.365428</td>\n",
              "      <td>...</td>\n",
              "      <td>0.093943</td>\n",
              "      <td>0.753781</td>\n",
              "      <td>-0.819266</td>\n",
              "      <td>0.506064</td>\n",
              "      <td>1.020127</td>\n",
              "      <td>0.201369</td>\n",
              "      <td>0.362198</td>\n",
              "      <td>-0.818250</td>\n",
              "      <td>-1.535274</td>\n",
              "      <td>0.816132</td>\n",
              "    </tr>\n",
              "    <tr>\n",
              "      <th>2</th>\n",
              "      <td>-2.491212</td>\n",
              "      <td>3.266510</td>\n",
              "      <td>-5.938666</td>\n",
              "      <td>-3.445161</td>\n",
              "      <td>7.723916</td>\n",
              "      <td>3.918648</td>\n",
              "      <td>1.135607</td>\n",
              "      <td>1.523782</td>\n",
              "      <td>-8.653508</td>\n",
              "      <td>2.031577</td>\n",
              "      <td>...</td>\n",
              "      <td>-0.701289</td>\n",
              "      <td>0.261790</td>\n",
              "      <td>-0.345888</td>\n",
              "      <td>-0.456845</td>\n",
              "      <td>-0.388874</td>\n",
              "      <td>-0.508598</td>\n",
              "      <td>-0.064272</td>\n",
              "      <td>0.487496</td>\n",
              "      <td>-0.543527</td>\n",
              "      <td>-0.223941</td>\n",
              "    </tr>\n",
              "    <tr>\n",
              "      <th>3</th>\n",
              "      <td>-5.631362</td>\n",
              "      <td>2.990737</td>\n",
              "      <td>1.553999</td>\n",
              "      <td>-3.779140</td>\n",
              "      <td>-2.838921</td>\n",
              "      <td>2.977169</td>\n",
              "      <td>2.621686</td>\n",
              "      <td>-1.073149</td>\n",
              "      <td>-7.816886</td>\n",
              "      <td>3.759225</td>\n",
              "      <td>...</td>\n",
              "      <td>0.481800</td>\n",
              "      <td>-0.315351</td>\n",
              "      <td>-0.126470</td>\n",
              "      <td>-0.792609</td>\n",
              "      <td>0.060668</td>\n",
              "      <td>-0.653322</td>\n",
              "      <td>0.648751</td>\n",
              "      <td>0.430089</td>\n",
              "      <td>0.324327</td>\n",
              "      <td>0.039035</td>\n",
              "    </tr>\n",
              "    <tr>\n",
              "      <th>4</th>\n",
              "      <td>-5.393278</td>\n",
              "      <td>2.954397</td>\n",
              "      <td>1.782132</td>\n",
              "      <td>-3.242723</td>\n",
              "      <td>-2.503852</td>\n",
              "      <td>3.088435</td>\n",
              "      <td>2.290253</td>\n",
              "      <td>-0.584902</td>\n",
              "      <td>-7.858036</td>\n",
              "      <td>3.934111</td>\n",
              "      <td>...</td>\n",
              "      <td>-0.088408</td>\n",
              "      <td>0.176858</td>\n",
              "      <td>-0.096107</td>\n",
              "      <td>-1.050131</td>\n",
              "      <td>0.081515</td>\n",
              "      <td>-0.370256</td>\n",
              "      <td>0.114027</td>\n",
              "      <td>-0.019889</td>\n",
              "      <td>0.388177</td>\n",
              "      <td>0.289315</td>\n",
              "    </tr>\n",
              "    <tr>\n",
              "      <th>...</th>\n",
              "      <td>...</td>\n",
              "      <td>...</td>\n",
              "      <td>...</td>\n",
              "      <td>...</td>\n",
              "      <td>...</td>\n",
              "      <td>...</td>\n",
              "      <td>...</td>\n",
              "      <td>...</td>\n",
              "      <td>...</td>\n",
              "      <td>...</td>\n",
              "      <td>...</td>\n",
              "      <td>...</td>\n",
              "      <td>...</td>\n",
              "      <td>...</td>\n",
              "      <td>...</td>\n",
              "      <td>...</td>\n",
              "      <td>...</td>\n",
              "      <td>...</td>\n",
              "      <td>...</td>\n",
              "      <td>...</td>\n",
              "      <td>...</td>\n",
              "    </tr>\n",
              "    <tr>\n",
              "      <th>22683</th>\n",
              "      <td>-2.815377</td>\n",
              "      <td>3.067010</td>\n",
              "      <td>3.305632</td>\n",
              "      <td>0.548596</td>\n",
              "      <td>9.621864</td>\n",
              "      <td>8.771424</td>\n",
              "      <td>-10.484763</td>\n",
              "      <td>-3.020959</td>\n",
              "      <td>-7.118159</td>\n",
              "      <td>1.539258</td>\n",
              "      <td>...</td>\n",
              "      <td>-0.243356</td>\n",
              "      <td>0.602638</td>\n",
              "      <td>-0.107170</td>\n",
              "      <td>-0.236045</td>\n",
              "      <td>0.023870</td>\n",
              "      <td>-0.790055</td>\n",
              "      <td>-0.469417</td>\n",
              "      <td>0.162072</td>\n",
              "      <td>-0.100390</td>\n",
              "      <td>0.473491</td>\n",
              "    </tr>\n",
              "    <tr>\n",
              "      <th>22684</th>\n",
              "      <td>-2.985720</td>\n",
              "      <td>2.715655</td>\n",
              "      <td>3.420787</td>\n",
              "      <td>0.503811</td>\n",
              "      <td>8.938873</td>\n",
              "      <td>7.507933</td>\n",
              "      <td>-9.484536</td>\n",
              "      <td>-3.010786</td>\n",
              "      <td>-5.549042</td>\n",
              "      <td>0.893640</td>\n",
              "      <td>...</td>\n",
              "      <td>-0.061053</td>\n",
              "      <td>0.483247</td>\n",
              "      <td>-0.101998</td>\n",
              "      <td>-0.959717</td>\n",
              "      <td>-0.515109</td>\n",
              "      <td>-0.236890</td>\n",
              "      <td>-0.433723</td>\n",
              "      <td>-0.172314</td>\n",
              "      <td>0.047865</td>\n",
              "      <td>0.181078</td>\n",
              "    </tr>\n",
              "    <tr>\n",
              "      <th>22685</th>\n",
              "      <td>-2.890599</td>\n",
              "      <td>2.309423</td>\n",
              "      <td>3.530141</td>\n",
              "      <td>0.420328</td>\n",
              "      <td>8.796627</td>\n",
              "      <td>7.805373</td>\n",
              "      <td>-9.335062</td>\n",
              "      <td>-2.589783</td>\n",
              "      <td>-5.695679</td>\n",
              "      <td>-0.081620</td>\n",
              "      <td>...</td>\n",
              "      <td>-0.183764</td>\n",
              "      <td>0.651636</td>\n",
              "      <td>-0.258191</td>\n",
              "      <td>-1.000126</td>\n",
              "      <td>-0.158352</td>\n",
              "      <td>-0.494094</td>\n",
              "      <td>-0.784941</td>\n",
              "      <td>0.287721</td>\n",
              "      <td>0.212660</td>\n",
              "      <td>0.032027</td>\n",
              "    </tr>\n",
              "    <tr>\n",
              "      <th>22686</th>\n",
              "      <td>-2.493955</td>\n",
              "      <td>0.772735</td>\n",
              "      <td>3.786070</td>\n",
              "      <td>1.890969</td>\n",
              "      <td>8.590364</td>\n",
              "      <td>8.726796</td>\n",
              "      <td>-9.219190</td>\n",
              "      <td>-2.737748</td>\n",
              "      <td>-4.678600</td>\n",
              "      <td>-0.031350</td>\n",
              "      <td>...</td>\n",
              "      <td>0.669909</td>\n",
              "      <td>-0.001915</td>\n",
              "      <td>-0.157843</td>\n",
              "      <td>-0.442890</td>\n",
              "      <td>-0.701590</td>\n",
              "      <td>-0.628655</td>\n",
              "      <td>-0.063071</td>\n",
              "      <td>-0.127091</td>\n",
              "      <td>-0.048061</td>\n",
              "      <td>0.345492</td>\n",
              "    </tr>\n",
              "    <tr>\n",
              "      <th>22687</th>\n",
              "      <td>-2.125348</td>\n",
              "      <td>2.457658</td>\n",
              "      <td>4.650459</td>\n",
              "      <td>1.063975</td>\n",
              "      <td>8.173662</td>\n",
              "      <td>10.315222</td>\n",
              "      <td>-9.380345</td>\n",
              "      <td>-2.673870</td>\n",
              "      <td>-4.690063</td>\n",
              "      <td>-0.190380</td>\n",
              "      <td>...</td>\n",
              "      <td>0.367420</td>\n",
              "      <td>0.013932</td>\n",
              "      <td>-0.046794</td>\n",
              "      <td>-0.522383</td>\n",
              "      <td>-0.359278</td>\n",
              "      <td>-0.543089</td>\n",
              "      <td>-0.172655</td>\n",
              "      <td>-0.305975</td>\n",
              "      <td>0.372394</td>\n",
              "      <td>0.901235</td>\n",
              "    </tr>\n",
              "  </tbody>\n",
              "</table>\n",
              "<p>22688 rows × 200 columns</p>\n",
              "</div>\n",
              "    <div class=\"colab-df-buttons\">\n",
              "\n",
              "  <div class=\"colab-df-container\">\n",
              "    <button class=\"colab-df-convert\" onclick=\"convertToInteractive('df-ed230340-6d8b-4bec-9d34-c9ee812a45b2')\"\n",
              "            title=\"Convert this dataframe to an interactive table.\"\n",
              "            style=\"display:none;\">\n",
              "\n",
              "  <svg xmlns=\"http://www.w3.org/2000/svg\" height=\"24px\" viewBox=\"0 -960 960 960\">\n",
              "    <path d=\"M120-120v-720h720v720H120Zm60-500h600v-160H180v160Zm220 220h160v-160H400v160Zm0 220h160v-160H400v160ZM180-400h160v-160H180v160Zm440 0h160v-160H620v160ZM180-180h160v-160H180v160Zm440 0h160v-160H620v160Z\"/>\n",
              "  </svg>\n",
              "    </button>\n",
              "\n",
              "  <style>\n",
              "    .colab-df-container {\n",
              "      display:flex;\n",
              "      gap: 12px;\n",
              "    }\n",
              "\n",
              "    .colab-df-convert {\n",
              "      background-color: #E8F0FE;\n",
              "      border: none;\n",
              "      border-radius: 50%;\n",
              "      cursor: pointer;\n",
              "      display: none;\n",
              "      fill: #1967D2;\n",
              "      height: 32px;\n",
              "      padding: 0 0 0 0;\n",
              "      width: 32px;\n",
              "    }\n",
              "\n",
              "    .colab-df-convert:hover {\n",
              "      background-color: #E2EBFA;\n",
              "      box-shadow: 0px 1px 2px rgba(60, 64, 67, 0.3), 0px 1px 3px 1px rgba(60, 64, 67, 0.15);\n",
              "      fill: #174EA6;\n",
              "    }\n",
              "\n",
              "    .colab-df-buttons div {\n",
              "      margin-bottom: 4px;\n",
              "    }\n",
              "\n",
              "    [theme=dark] .colab-df-convert {\n",
              "      background-color: #3B4455;\n",
              "      fill: #D2E3FC;\n",
              "    }\n",
              "\n",
              "    [theme=dark] .colab-df-convert:hover {\n",
              "      background-color: #434B5C;\n",
              "      box-shadow: 0px 1px 3px 1px rgba(0, 0, 0, 0.15);\n",
              "      filter: drop-shadow(0px 1px 2px rgba(0, 0, 0, 0.3));\n",
              "      fill: #FFFFFF;\n",
              "    }\n",
              "  </style>\n",
              "\n",
              "    <script>\n",
              "      const buttonEl =\n",
              "        document.querySelector('#df-ed230340-6d8b-4bec-9d34-c9ee812a45b2 button.colab-df-convert');\n",
              "      buttonEl.style.display =\n",
              "        google.colab.kernel.accessAllowed ? 'block' : 'none';\n",
              "\n",
              "      async function convertToInteractive(key) {\n",
              "        const element = document.querySelector('#df-ed230340-6d8b-4bec-9d34-c9ee812a45b2');\n",
              "        const dataTable =\n",
              "          await google.colab.kernel.invokeFunction('convertToInteractive',\n",
              "                                                    [key], {});\n",
              "        if (!dataTable) return;\n",
              "\n",
              "        const docLinkHtml = 'Like what you see? Visit the ' +\n",
              "          '<a target=\"_blank\" href=https://colab.research.google.com/notebooks/data_table.ipynb>data table notebook</a>'\n",
              "          + ' to learn more about interactive tables.';\n",
              "        element.innerHTML = '';\n",
              "        dataTable['output_type'] = 'display_data';\n",
              "        await google.colab.output.renderOutput(dataTable, element);\n",
              "        const docLink = document.createElement('div');\n",
              "        docLink.innerHTML = docLinkHtml;\n",
              "        element.appendChild(docLink);\n",
              "      }\n",
              "    </script>\n",
              "  </div>\n",
              "\n",
              "\n",
              "<div id=\"df-ee4664a1-14c5-4258-9a29-2eed36857575\">\n",
              "  <button class=\"colab-df-quickchart\" onclick=\"quickchart('df-ee4664a1-14c5-4258-9a29-2eed36857575')\"\n",
              "            title=\"Suggest charts\"\n",
              "            style=\"display:none;\">\n",
              "\n",
              "<svg xmlns=\"http://www.w3.org/2000/svg\" height=\"24px\"viewBox=\"0 0 24 24\"\n",
              "     width=\"24px\">\n",
              "    <g>\n",
              "        <path d=\"M19 3H5c-1.1 0-2 .9-2 2v14c0 1.1.9 2 2 2h14c1.1 0 2-.9 2-2V5c0-1.1-.9-2-2-2zM9 17H7v-7h2v7zm4 0h-2V7h2v10zm4 0h-2v-4h2v4z\"/>\n",
              "    </g>\n",
              "</svg>\n",
              "  </button>\n",
              "\n",
              "<style>\n",
              "  .colab-df-quickchart {\n",
              "      --bg-color: #E8F0FE;\n",
              "      --fill-color: #1967D2;\n",
              "      --hover-bg-color: #E2EBFA;\n",
              "      --hover-fill-color: #174EA6;\n",
              "      --disabled-fill-color: #AAA;\n",
              "      --disabled-bg-color: #DDD;\n",
              "  }\n",
              "\n",
              "  [theme=dark] .colab-df-quickchart {\n",
              "      --bg-color: #3B4455;\n",
              "      --fill-color: #D2E3FC;\n",
              "      --hover-bg-color: #434B5C;\n",
              "      --hover-fill-color: #FFFFFF;\n",
              "      --disabled-bg-color: #3B4455;\n",
              "      --disabled-fill-color: #666;\n",
              "  }\n",
              "\n",
              "  .colab-df-quickchart {\n",
              "    background-color: var(--bg-color);\n",
              "    border: none;\n",
              "    border-radius: 50%;\n",
              "    cursor: pointer;\n",
              "    display: none;\n",
              "    fill: var(--fill-color);\n",
              "    height: 32px;\n",
              "    padding: 0;\n",
              "    width: 32px;\n",
              "  }\n",
              "\n",
              "  .colab-df-quickchart:hover {\n",
              "    background-color: var(--hover-bg-color);\n",
              "    box-shadow: 0 1px 2px rgba(60, 64, 67, 0.3), 0 1px 3px 1px rgba(60, 64, 67, 0.15);\n",
              "    fill: var(--button-hover-fill-color);\n",
              "  }\n",
              "\n",
              "  .colab-df-quickchart-complete:disabled,\n",
              "  .colab-df-quickchart-complete:disabled:hover {\n",
              "    background-color: var(--disabled-bg-color);\n",
              "    fill: var(--disabled-fill-color);\n",
              "    box-shadow: none;\n",
              "  }\n",
              "\n",
              "  .colab-df-spinner {\n",
              "    border: 2px solid var(--fill-color);\n",
              "    border-color: transparent;\n",
              "    border-bottom-color: var(--fill-color);\n",
              "    animation:\n",
              "      spin 1s steps(1) infinite;\n",
              "  }\n",
              "\n",
              "  @keyframes spin {\n",
              "    0% {\n",
              "      border-color: transparent;\n",
              "      border-bottom-color: var(--fill-color);\n",
              "      border-left-color: var(--fill-color);\n",
              "    }\n",
              "    20% {\n",
              "      border-color: transparent;\n",
              "      border-left-color: var(--fill-color);\n",
              "      border-top-color: var(--fill-color);\n",
              "    }\n",
              "    30% {\n",
              "      border-color: transparent;\n",
              "      border-left-color: var(--fill-color);\n",
              "      border-top-color: var(--fill-color);\n",
              "      border-right-color: var(--fill-color);\n",
              "    }\n",
              "    40% {\n",
              "      border-color: transparent;\n",
              "      border-right-color: var(--fill-color);\n",
              "      border-top-color: var(--fill-color);\n",
              "    }\n",
              "    60% {\n",
              "      border-color: transparent;\n",
              "      border-right-color: var(--fill-color);\n",
              "    }\n",
              "    80% {\n",
              "      border-color: transparent;\n",
              "      border-right-color: var(--fill-color);\n",
              "      border-bottom-color: var(--fill-color);\n",
              "    }\n",
              "    90% {\n",
              "      border-color: transparent;\n",
              "      border-bottom-color: var(--fill-color);\n",
              "    }\n",
              "  }\n",
              "</style>\n",
              "\n",
              "  <script>\n",
              "    async function quickchart(key) {\n",
              "      const quickchartButtonEl =\n",
              "        document.querySelector('#' + key + ' button');\n",
              "      quickchartButtonEl.disabled = true;  // To prevent multiple clicks.\n",
              "      quickchartButtonEl.classList.add('colab-df-spinner');\n",
              "      try {\n",
              "        const charts = await google.colab.kernel.invokeFunction(\n",
              "            'suggestCharts', [key], {});\n",
              "      } catch (error) {\n",
              "        console.error('Error during call to suggestCharts:', error);\n",
              "      }\n",
              "      quickchartButtonEl.classList.remove('colab-df-spinner');\n",
              "      quickchartButtonEl.classList.add('colab-df-quickchart-complete');\n",
              "    }\n",
              "    (() => {\n",
              "      let quickchartButtonEl =\n",
              "        document.querySelector('#df-ee4664a1-14c5-4258-9a29-2eed36857575 button');\n",
              "      quickchartButtonEl.style.display =\n",
              "        google.colab.kernel.accessAllowed ? 'block' : 'none';\n",
              "    })();\n",
              "  </script>\n",
              "</div>\n",
              "    </div>\n",
              "  </div>\n"
            ],
            "text/plain": [
              "              0         1         2         3         4          5          6  \\\n",
              "0     -4.204791  6.181968 -5.155821 -5.114398  6.089117   5.472682   2.383127   \n",
              "1     -3.663692  6.330463 -6.248617 -4.080247  7.485053   5.560991   3.617663   \n",
              "2     -2.491212  3.266510 -5.938666 -3.445161  7.723916   3.918648   1.135607   \n",
              "3     -5.631362  2.990737  1.553999 -3.779140 -2.838921   2.977169   2.621686   \n",
              "4     -5.393278  2.954397  1.782132 -3.242723 -2.503852   3.088435   2.290253   \n",
              "...         ...       ...       ...       ...       ...        ...        ...   \n",
              "22683 -2.815377  3.067010  3.305632  0.548596  9.621864   8.771424 -10.484763   \n",
              "22684 -2.985720  2.715655  3.420787  0.503811  8.938873   7.507933  -9.484536   \n",
              "22685 -2.890599  2.309423  3.530141  0.420328  8.796627   7.805373  -9.335062   \n",
              "22686 -2.493955  0.772735  3.786070  1.890969  8.590364   8.726796  -9.219190   \n",
              "22687 -2.125348  2.457658  4.650459  1.063975  8.173662  10.315222  -9.380345   \n",
              "\n",
              "              7          8         9  ...       190       191       192  \\\n",
              "0      0.095779 -10.900725  0.110285  ...  0.654572  0.885732 -0.478537   \n",
              "1     -0.322532 -10.761028  0.365428  ...  0.093943  0.753781 -0.819266   \n",
              "2      1.523782  -8.653508  2.031577  ... -0.701289  0.261790 -0.345888   \n",
              "3     -1.073149  -7.816886  3.759225  ...  0.481800 -0.315351 -0.126470   \n",
              "4     -0.584902  -7.858036  3.934111  ... -0.088408  0.176858 -0.096107   \n",
              "...         ...        ...       ...  ...       ...       ...       ...   \n",
              "22683 -3.020959  -7.118159  1.539258  ... -0.243356  0.602638 -0.107170   \n",
              "22684 -3.010786  -5.549042  0.893640  ... -0.061053  0.483247 -0.101998   \n",
              "22685 -2.589783  -5.695679 -0.081620  ... -0.183764  0.651636 -0.258191   \n",
              "22686 -2.737748  -4.678600 -0.031350  ...  0.669909 -0.001915 -0.157843   \n",
              "22687 -2.673870  -4.690063 -0.190380  ...  0.367420  0.013932 -0.046794   \n",
              "\n",
              "            193       194       195       196       197       198       199  \n",
              "0      0.046853  0.388704 -0.083837  0.294344 -0.946780 -0.976646  0.919791  \n",
              "1      0.506064  1.020127  0.201369  0.362198 -0.818250 -1.535274  0.816132  \n",
              "2     -0.456845 -0.388874 -0.508598 -0.064272  0.487496 -0.543527 -0.223941  \n",
              "3     -0.792609  0.060668 -0.653322  0.648751  0.430089  0.324327  0.039035  \n",
              "4     -1.050131  0.081515 -0.370256  0.114027 -0.019889  0.388177  0.289315  \n",
              "...         ...       ...       ...       ...       ...       ...       ...  \n",
              "22683 -0.236045  0.023870 -0.790055 -0.469417  0.162072 -0.100390  0.473491  \n",
              "22684 -0.959717 -0.515109 -0.236890 -0.433723 -0.172314  0.047865  0.181078  \n",
              "22685 -1.000126 -0.158352 -0.494094 -0.784941  0.287721  0.212660  0.032027  \n",
              "22686 -0.442890 -0.701590 -0.628655 -0.063071 -0.127091 -0.048061  0.345492  \n",
              "22687 -0.522383 -0.359278 -0.543089 -0.172655 -0.305975  0.372394  0.901235  \n",
              "\n",
              "[22688 rows x 200 columns]"
            ]
          },
          "metadata": {},
          "output_type": "display_data"
        }
      ],
      "source": [
        "values_pca_df = pd.read_csv(csv_path)\n",
        "display(values_pca_df)"
      ]
    },
    {
      "cell_type": "markdown",
      "metadata": {
        "id": "rZ3NUIXMMCyb"
      },
      "source": [
        "Ce fichier contient bien les valeurs des 200 premières composantes principales pour chacunes des 22_688 images."
      ]
    },
    {
      "cell_type": "code",
      "execution_count": 32,
      "metadata": {
        "colab": {
          "base_uri": "https://localhost:8080/"
        },
        "id": "MnMcJEGtMqMp",
        "outputId": "2e32bbb1-1c06-4938-e325-1599fc560eec"
      },
      "outputs": [
        {
          "name": "stdout",
          "output_type": "stream",
          "text": [
            "Durée execution notebook : 118 min 58 sec\n"
          ]
        }
      ],
      "source": [
        "# Afficher temps d'exécution du notebook\n",
        "calculer_duree_notebook(start_time)"
      ]
    },
    {
      "cell_type": "markdown",
      "metadata": {
        "id": "bVRXs5gXr0QK"
      },
      "source": [
        "## <span style='background:green'>4/Visualisation SparkUI</span>\n",
        "\n",
        "Nous visualisons l'interface utilisateur de SparkUI pour vérifier les différentes étapes du traitement. Pour cela, nous utilisons la librairie \"ngrok\" pour exposer l'interface utilisateur de SparkUI sur un serveur distant."
      ]
    },
    {
      "cell_type": "code",
      "execution_count": 33,
      "metadata": {
        "colab": {
          "base_uri": "https://localhost:8080/"
        },
        "id": "y8_-LNvir5Lh",
        "outputId": "477d2336-01ef-4762-c2aa-81257e8e97bb"
      },
      "outputs": [
        {
          "name": "stdout",
          "output_type": "stream",
          "text": [
            "Enter your authtoken, which can be copied from https://dashboard.ngrok.com/auth\n",
            "··········\n"
          ]
        },
        {
          "name": "stderr",
          "output_type": "stream",
          "text": [
            "WARNING:pyngrok.process.ngrok:t=2024-05-31T12:30:27+0000 lvl=warn msg=\"can't bind default web address, trying alternatives\" obj=web addr=127.0.0.1:4040\n"
          ]
        },
        {
          "name": "stdout",
          "output_type": "stream",
          "text": [
            " * ngrok tunnel \"https://73a6-34-66-116-8.ngrok-free.app\" -> \"http://888955ff62c5:4040\"\n"
          ]
        }
      ],
      "source": [
        "print(\"Enter your authtoken, which can be copied from https://dashboard.ngrok.com/auth\")\n",
        "conf.get_default().auth_token = getpass.getpass()\n",
        "port=4040\n",
        "public_url = ngrok.connect(port).public_url\n",
        "print(f' * ngrok tunnel \\\"{public_url}\\\" -> \\\"http://888955ff62c5:{port}\\\"')"
      ]
    },
    {
      "cell_type": "markdown",
      "metadata": {
        "id": "x-2rctABOwbZ"
      },
      "source": [
        "<div class=\"alert alert-block alert-success\"><b>Bilan: </b>\n",
        "\n",
        "Le fichier....<br>"
      ]
    },
    {
      "cell_type": "markdown",
      "metadata": {
        "id": "Ecv1W1HlMCyb"
      },
      "source": [
        "# <span style='background:blue'>Etape 2 : Déploiement de la solution sur le cloud</span>\n",
        "\n",
        "## <span style='background:green'>1/Choix du prestataire cloud : AWS</span>\n",
        "\n",
        "Le prestataire le plus connu et qui offre à ce jour l'offre la plus large dans le cloud computing est **Amazon Web Services** (AWS).\n",
        "\n",
        "Certaines de leurs offres sont parfaitement adaptées à notre problématique et c'est la raison pour laquelle nous utiliserons leurs services.\n",
        "\n",
        "L'objectif premier est de pouvoir, grâce à AWS, <u>louer de la puissance de calcul à la demande</u>.\n",
        "L'idée étant de pouvoir, quel que soit la charge de travail, obtenir suffisamment de puissance de calcul pour pouvoir traiter nos images, même si le volume de données venait à fortement augmenter.\n",
        "\n",
        "De plus, la capacité d'utiliser cette puissance de calcul à la demande permet de diminuer drastiquement les coûts si l'on compare les coûts d'une location de serveur complet sur une durée fixe (1 mois, 1 année par exemple).\n",
        "\n",
        "<img src=\"https://appmaster.io/api/_files/rr4hnsHMxxD3zRBqozjqSC/download/\" width=\"500\" height=\"250\">"
      ]
    },
    {
      "cell_type": "markdown",
      "metadata": {
        "id": "Gkm1yiAgMCyb"
      },
      "source": [
        "\n",
        "## <span style='background:green'>2/Choix de la solution technique : EMR</span>\n",
        "\n",
        "<u>Plusieurs solutions s'offre à nous</u> :\n",
        "1. Solution **IAAS** (Infrastructure AS A Service)\n",
        " - Dans cette configuration **AWS** met à notre disposition des serveurs vierges sur lequel nous avons un accès en administrateur, ils sont nommés **instance EC2**.<br />\n",
        "\n",
        "   Nous pouvons avec cette solution reproduire pratiquement à l'identique la solution mis en œuvre en local sur notre machine.<br />\n",
        "   <u>Nous installons nous-même l'intégralité des outils puis nous exécutons notre script</u> :\n",
        "  - Installation de **Spark**, **Java** etc.\n",
        "  - Installation de **Python** (via Anaconda par exemple)\n",
        "  - Installation de **Jupyter Notebook**\n",
        "  - Installation des **librairies complémentaires**\n",
        "  - Il faudra bien évidement veiller à **implémenter les librairies nécessaires à toutes les machines (workers) du cluster**\n",
        "\n",
        "  - <u>Avantages</u> :\n",
        "      - Liberté totale de mise en œuvre de la solution\n",
        "      - Facilité de mise en œuvre à partir d'un modèle qui s'exécute en local sur une machine Linux\n",
        "\n",
        "  - <u>Inconvénients</u> :\n",
        "      - Chronophage : nécessité d'installer et de configurer toute la solution\n",
        "      - Possible problèmes techniques à l'installation des outils (propre aux serveurs EC2)\n",
        "      - Mise à jour des outils et possible réinstallation de Spark, Java etc.\n",
        "\n",
        "2. Solution **PAAS** (Plateforme As A Service)\n",
        " - **AWS** Cette offre permet de louer des **instances EC2**  avec des applications préinstallées et configurées : il s'agit du **service EMR**.\n",
        " - **Spark** y sera déjà installé\n",
        " - Possibilité de demander l'installation de **Tensorflow** ainsi que **JupyterHub**\n",
        " - Possibilité d'indiquer des **packages complémentaires** à installer à l'initialisation du serveur **sur l'ensemble des machines du cluster**.\n",
        "\n",
        " - <u>Avantages</u> :\n",
        "     - Facilité de mise en œuvre : configuration simple pour obtenir un environnement parfaitement fonctionnel\n",
        "     - Rapidité de mise en œuvre : Possibilité de recréer des clusters à l'identique disponibles presque instantanément (Intanciation en 15/20 minutes)\n",
        "     - Solutions matérielles et logiciels optimisées par les ingénieurs d'AWS : versions installées fonctionnelles et architecture déjà optimisée\n",
        "     - Stabilité de la solution\n",
        "    - Solution évolutive : version à jour de chaque package à chaque nouvelle instanciation, compatibilité avec le reste de l’environnement garanti.\n",
        "  - Plus sécurisé\n",
        "\t- Patchs de sécurité mis à jour à chaque nouvelle instanciation du cluster EMR.\n",
        "\n",
        " - <u>Inconvénients</u> :\n",
        "     - Manque de liberté sur la version des packages disponibles\n",
        "   \n",
        "\n",
        "Nous utilisons la solution **PAAS** avec le service **EMR** d'Amazon Web Services qui permet une mise en oeuvre plus rapide et plus efficace que la solution IAAS pour notre problématique.\n",
        "\n",
        "<img src=\"https://datascientest.com/wp-content/uploads/2023/05/amazon-amr-datascientest-1024x512.png\" width=\"500\" height=\"250\">"
      ]
    },
    {
      "cell_type": "markdown",
      "metadata": {
        "id": "WwW4-36kMCyc"
      },
      "source": [
        "## <span style='background:green'>3/Choix de la solution de stockage des données : Amazon S3</span>\n",
        "\n",
        "### <span style='background:red'>MAJ a faire avec info de mon bucket</span>\n",
        "\n",
        "<u>Amazon propose une solution très efficace pour la gestion du stockage des données</u> : **Amazon S3** (Simple Storage Service).\n",
        "\n",
        "Les données stockées sur le serveur **EC2** <u>seront perdues</u> lorsque le serveur sera résilié pour limiter les coûts (si aucune sauvegarde n'est effectuée avant). Sans compter les problèmes de fonctionnement du serveur qui peuvent survenir si nous saturons son espace disque.\n",
        "\n",
        "<u>Utiliser **Amazon S3** permet de s'affranchir de toutes ces problématiques</u>. L'espace disque disponible est **illimité**, et il est **indépendant de nos serveurs EC2**. L'accès aux données est **très rapide** car nous restons dans l'environnement d'AWS et nous prenons soin de <u>choisir la même région pour nos serveurs **EC2** et **S3**</u>.\n",
        "\n",
        "De plus, <u>il est possible d'accéder aux données sur **S3** de la même manière que l'on **accède aux données sur un disque local**</u>. Nous utiliserons simplement un **PATH au format s3://...** .\n",
        "\n",
        "<img src=\"https://miro.medium.com/v2/resize:fit:1400/0*aJ6BpnaRXbf01pEB.png\" width=\"700\" height=\"300\">"
      ]
    },
    {
      "cell_type": "markdown",
      "metadata": {
        "id": "nWNYwvF2MCyc"
      },
      "source": [
        "## <span style='background:green'>4/Configuration de l'environnement de travail</span>\n",
        "\n",
        "### <span style='background:black'>a/Création configuration IAM</span>\n",
        "\n",
        "<u>La gestion des utilisateurs et de leurs droits s'effectue via le service **AMI**</u> d'AWS.\n",
        "\n",
        "Nous y créons un utilisateur 'Pierrick' avec les droits administrateur (*AdministratorAccess*). Les autorisations minimales à donner sont :\n",
        "- EC2FullAccess\n",
        "- S3FullAccess\n",
        "- EMRFullAccess"
      ]
    },
    {
      "cell_type": "markdown",
      "metadata": {
        "id": "_P66aRcdMCyc"
      },
      "source": [
        "### <span style='background:black'>b/Configuration awscli</span>\n",
        "\n",
        "La première étape est d'installer et de configurer [**AWS Cli**](https://aws.amazon.com/fr/cli/), il s'agit de l'**interface en ligne de commande d'AWS**.<br />\n",
        "Elle nous permet d'**interagir avec les différents services d'AWS**, comme **S3** par exemple.\n",
        "\n",
        "Une fois l'utilisateur créé et ses autorisations configurées nous créons une **paire de clés** qui nous permettra de nous **connecter sans à avoir à devoir saisir systématiquement notre login/mot de passe**.\n",
        "\n",
        "Il faut également configurer l'**accès SSH** à nos futurs serveurs EC2. Ici aussi, via un système de clés qui nous dispense de devoir nous authentifier \"à la main\" à chaque connexion.\n",
        "\n",
        "### <span style='background:black'>c/Choix zone géographique des serveurs</span>\n",
        "\n",
        "Nous choississons la zone géographique de nos serveurs **EC2** et **S3**. Il est important de choisir la même zone pour les deux services pour garantir une **communication rapide et efficace** entre les deux.\n",
        "\n",
        "Nous choisissons la zone **eu-west-3** qui correspond à **Paris** pour être en conformité avec les **règles RGPD**."
      ]
    },
    {
      "cell_type": "markdown",
      "metadata": {
        "id": "g5FqLlQbMCyc"
      },
      "source": [
        "## <span style='background:green'>5/Upload de nos données sur S3</span>\n",
        "\n",
        "Nous n'utilisons que les données contenues dans le dossier **Test** du [jeu de données du projet](https://www.kaggle.com/moltean/fruits/download). Pour cela, nous isolons ce dossier dans un dossier \"dossier_sync_AWS_S3\" sur notre machine locale.\n",
        "\n",
        "La première étape consiste à **créer un bucket sur S3** :\n",
        "- **aws s3 mb s3://pb-ocr-p9**\n",
        "\n",
        "Nous copions ensuite le contenu du dossier \"**dossier_sync_AWS_S3**\" sur notre bucket \"**pb-ocr-p9**\":\n",
        "1. On se place à l'intérieur du répertoire **dossier_sync_AWS_S3**\n",
        "2. **aws sync . s3://pb-ocr-p9**\n",
        "\n",
        "La commande **sync** est utile pour synchroniser deux répertoires. Ainsi, le dossier \"dossier_sync_AWS_S3\" est copié dans le bucket \"pb-ocr-p9\". Nous y trouvons un dossier \"Test\" avec les 22_688 images de fruits.\n",
        "\n",
        "<u>Nos données du projet sont maintenant disponibles sur Amazon S3</u>.\n"
      ]
    },
    {
      "cell_type": "markdown",
      "metadata": {
        "id": "UEjF4aDaMCyd"
      },
      "source": [
        "## <span style='background:green'>6/Configuration du serveur EMR</span>\n",
        "\n",
        "### <span style='background:black'>a/Configuration framework et logiciels</span>\n",
        "\n",
        "<u>Paramétrez la persistance des notebooks créés et ouvert via JupyterHub</u> :\n",
        "- On peut à cette étape effectuer des demandes de paramétrage particulières sur nos applications. L'objectif est, comme pour le reste de nos données de travail, d'éviter toutes les problématiques évoquées précédemment. C'est l'objectif à cette étape, <u>nous allons enregistrer et ouvrir les notebooks</u> non pas sur l'espace disque de  l'instance EC2 (comme ce serait le cas dans la configuration par défaut de JupyterHub) mais <u>directement sur **Amazon S3**</u>. deux solutions sont possibles pour réaliser cela :\n",
        " 1. Créer un **fichier de configuration JSON** que l'on **upload sur S3** et on indique ensuite le chemin d’accès au fichier JSON\n",
        " 2. Rentrez directement la configuration au format JSON\n",
        "\n",
        "Nous optons pour la création d'un fichier JSON lors de la création de notre première instance EMR, puis lorsque nous clonerons notre serveur pour en recréer un facilement à l'identique, la configuration du fichier JSON sera directement copié.\n",
        "\n",
        "<u>Voici le contenu de mon fichier JSON</u> :  [{\"classification\":\"jupyter-s3-conf\",\"properties\":{\"s3.persistence.bucket\":\"pb-ocr-p9\",\"s3.persistence.enabled\":\"true\"}}]"
      ]
    },
    {
      "cell_type": "markdown",
      "metadata": {
        "id": "wVr5rDiEMCyd"
      },
      "source": [
        "### <span style='background:black'>b/Matériel</span>\n",
        "\n",
        "A cette étape, laissez les choix par défaut. <u>L'important ici est la sélection de nos instances</u> :\n",
        "\n",
        "1. je choisi les instances de type **M5** qui sont des **instances de type équilibrés**\n",
        "2. je choisi le type **xlarge** qui est l'instance la **moins onéreuse disponible**\n",
        "3. Je sélectionne **1 instance Maître** (le driver) et **2 instances Principales** (les workeurs) soit **un total de 3 instance EC2**."
      ]
    },
    {
      "cell_type": "markdown",
      "metadata": {
        "id": "mfKiH4AxMCyd"
      },
      "source": [
        "### <span style='background:black'>c/Paramètres de cluster généraux</span>\n",
        "\n",
        "#### <u>Options générales</u>\n",
        "La première chose à faire est de donner un nom au cluster : <u>P9_fruits</u>\n",
        "\n",
        "*Nous avons également décoché \"Protection de la résiliation\" pour des raisons pratiques.*\n",
        "\n",
        "#### <u>Actions d'amorçage</u>\n",
        "\n",
        "Nous allons à cette étape **choisir les packages manquants à installer** et qui\n",
        "nous serons utiles dans l'exécution de notre notebook.<u>L'avantage de réaliser cette étape maintenant est que les packages installés le seront sur l'ensemble des machines du cluster</u>.\n",
        "\n",
        "Nous créons donc un fichier nommé \"**bootstrap-emr.sh**\" que nous <u>uploadons\n",
        "sur S3</u> (à la racine de mon **bucket \"pb-ocr-p9\"**) et nous l'ajoutons à la liste des actions d'amorçage.\n",
        "\n",
        "Voici le contenu du fichier **bootstrap-emr.sh**\n",
        "\n",
        "```bash\n",
        "sudo python3 -m pip install -U setuptools\n",
        "sudo python3 -m pip install -U pip\n",
        "sudo python3 -m pip install wheel pillow pandas tensorflow pyarrow boto3 s3fs fsspec\n",
        "```"
      ]
    },
    {
      "cell_type": "markdown",
      "metadata": {
        "id": "QroA3d7JMCyd"
      },
      "source": [
        "### <span style='background:black'>d/Sécurité</span>\n",
        "\n",
        "A cette étape nous sélectionnons la **paire de clés EC2** créé précédemment. Elle nous permettra de se connecter en **ssh** à nos **instances EC2** sans avoir à entrer nos login/mot de passe.Nous laissons les autres paramètres par défaut.\n"
      ]
    },
    {
      "cell_type": "markdown",
      "metadata": {
        "id": "kie5QMnMMCyd"
      },
      "source": [
        "## <span style='background:green'>7/Intanciation du serveur</span>\n",
        "\n",
        "Il ne nous reste plus qu'à attendre que le serveur soit prêt. Cette étape peut prendre entre **15 et 20 minutes**."
      ]
    },
    {
      "cell_type": "markdown",
      "metadata": {
        "id": "1lie9eO_MCye"
      },
      "source": [
        "## <span style='background:green'>8/Création du tunnel SSH à l'instance EC2 (Maître)</span>\n",
        "\n",
        "### <span style='background:black'>a/Création des autorisations sur les connexions entrantes</span>\n",
        "\n",
        "<u>Nous souhaitons maintenant pouvoir accéder à nos applications</u> :\n",
        " - **JupyterHub** pour l'exécution de notre notebook\n",
        " - **Serveur d'historique Spark** pour le suivi de l'exécution des tâches de notre script lorsqu'il sera lancé\n",
        "\n",
        "Cependant, <u>ces applications ne sont accessibles que depuis le réseau local du driver</u>, et pour y accéder nous devons **créer un tunnel SSH vers le driver**.\n",
        "\n",
        "Par défaut, ce driver se situe derrière un firewall qui bloque l'accès en SSH. <u>Pour ouvrir le port 22 qui correspond au port sur lequel écoute le serveur SSH, il faut modifier le **groupe de sécurité EC2 du driver**</u>."
      ]
    },
    {
      "cell_type": "markdown",
      "metadata": {
        "id": "j-pv6kNjMCye"
      },
      "source": [
        "### <span style='background:black'>b/Création du tunnel ssh vers le Driver</span>\n",
        "\n",
        "Nous pouvons désormais établir le **tunnel SSH** vers le **Driver**. Pour cela nous récupèrons les informations de connexion fournis par Amazon depuis la page du service EMR / Cluster / onglet Récapitulatif en cliquant sur \"**Activer la connexion Web**\"\n",
        "\n",
        "### <span style='background:red'>MAJ a faire</span>\n",
        "\n",
        "Nous choisissons d'utiliser le port **5555** au lieu du **8157**, même si le choix n'est pas très important.    j'ai également rencontré un <u>problème de compatibilité</u> avec l'argument \"**-N**\". Nous le supprimons.\n",
        "\n",
        "<u>Finalement, j'utilise la commande suivante dans un terminal pour établir mon tunnel ssh (seul l'URL change d'une instance à une autre)</u> : \"**ssh -i ~/.ssh/p8-ec2.pem -D 5555 hadoop@ec2-35-180-91-39.eu-west-3.compute.amazonaws.com**\"\n",
        "\n",
        "<u>On inscrit \"**yes**\" pour valider la connexion et si la connexion est établit on obtient le résultat suivant</u> :\n",
        "\n",
        "Nous avons **correctement établi le tunnel ssh avec le driver** sur le port \"5555\"."
      ]
    },
    {
      "cell_type": "markdown",
      "metadata": {
        "id": "SkSHjcnqMCye"
      },
      "source": [
        "### <span style='background:black'>c/Configuration de FoxyProxy</span>\n",
        "\n",
        "Une dernière étape est nécessaire pour accéder à nos applications, en demandant à notre navigateur d'emprunter le tunnel ssh. J'utilise pour cela **FoxyProxy**.\n",
        "\n",
        "Sinon, ouvrez la configuration de **FoxyProxy** et <u>cliquez sur **Ajouter**</u> en haut à gauche puis renseigner les éléments comme dans la capture ci-dessous :"
      ]
    },
    {
      "cell_type": "markdown",
      "metadata": {
        "id": "qHOZ6zxFMCye"
      },
      "source": [
        "### <span style='background:black'>d/Accès aux applications du serveur EMR via le tunnel ssh</span>\n",
        "\n",
        "Nous activons le **tunnel ssh** comme vu précédemment puis nous demandons à notre navigateur de l'utiliser avec **FoxyProxy**. Nous pouvons désormais accéder à plusieurs applications."
      ]
    },
    {
      "cell_type": "markdown",
      "metadata": {
        "id": "ax1IF48pMCye"
      },
      "source": [
        "## <span style='background:green'>9/Connexion au notebook JupyterHub</span>\n",
        "\n",
        "Pour se connecter à **JupyterHub** en vue d'exécuter notre **notebook**, il faut commencer par <u>cliquer sur l'application **JupyterHub**</u> apparu depuis que nous avons configuré le **tunnel ssh** et **foxyproxy** sur notre navigateur (actualisez la page si ce n’est pas le cas).\n",
        "\n",
        "### <span style='background:red'>MAJ a faire</span>\n",
        "\n",
        "Nous nous connectons avec les informations par défaut :\n",
        " - <u>login</u>: **jovyan**\n",
        " - <u>password</u>: **jupyter**\n",
        "\n",
        "Grace à la **persistance** paramétrée à l'instanciation du cluster nous sommes actuellement dans l'arborescence de notre **bucket S3**\n",
        "\n",
        "Je décide d'**importer un notebook déjà rédigé en local directement sur S3** et je l'ouvre depuis **l'interface JupyterHub**."
      ]
    },
    {
      "cell_type": "markdown",
      "metadata": {
        "id": "M8Bg7Qd2MCyf"
      },
      "source": [
        "## <span style='background:green'>10/Exécution du code</span>\n",
        "\n",
        "Nous décidons d'exécuter cette partie du code depuis **JupyterHub hébergé sur notre cluster EMR**. Pour ne pas alourdir inutilement les explications du **notebook**, nous ne réexpliquerons pas les étapes communes que nous avons déjà vues dans la première partie lors de l'éxécution locale.\n",
        "\n",
        "<u>Avant de commencer</u>, il faut s'assurer d'utiliser le **kernel pyspark**.\n",
        "\n",
        "**En utilisant ce kernel, une session spark est créé à l'exécution de la première cellule**. Il n'est donc **plus nécessaire d'exécuter le code \"spark = (SparkSession ...\"** comme lors de l'exécution de notre notebook en local sur notre VM Ubuntu."
      ]
    },
    {
      "cell_type": "code",
      "execution_count": null,
      "metadata": {
        "id": "73zlCpGaMCyf"
      },
      "outputs": [],
      "source": [
        "# L'exécution de cette cellule démarre l'application Spark"
      ]
    },
    {
      "cell_type": "markdown",
      "metadata": {
        "id": "w-lNcfB8MCyf"
      },
      "source": [
        "<u>Affichage des informations sur la session en cours et liens vers Spark UI</u> :"
      ]
    },
    {
      "cell_type": "code",
      "execution_count": null,
      "metadata": {
        "id": "MCWzPAI7MCyf"
      },
      "outputs": [],
      "source": [
        "%%info"
      ]
    },
    {
      "cell_type": "markdown",
      "metadata": {
        "id": "oNwXILK2MCyf"
      },
      "source": [
        "<u>Installation des packages</u>\n",
        "\n",
        "Les packages nécessaires ont été installé via l'étape de **bootstrap** à l'instanciation du serveur.\n",
        "\n",
        "<u>Import des librairies</u>"
      ]
    },
    {
      "cell_type": "code",
      "execution_count": 1,
      "metadata": {
        "id": "3Pe3lOG2MCyf"
      },
      "outputs": [
        {
          "ename": "ModuleNotFoundError",
          "evalue": "No module named 'matplotlib'",
          "output_type": "error",
          "traceback": [
            "\u001b[1;31m---------------------------------------------------------------------------\u001b[0m",
            "\u001b[1;31mModuleNotFoundError\u001b[0m                       Traceback (most recent call last)",
            "Cell \u001b[1;32mIn[1], line 13\u001b[0m\n\u001b[0;32m     11\u001b[0m \u001b[38;5;28;01mimport\u001b[39;00m \u001b[38;5;21;01mnumpy\u001b[39;00m \u001b[38;5;28;01mas\u001b[39;00m \u001b[38;5;21;01mnp\u001b[39;00m\n\u001b[0;32m     12\u001b[0m \u001b[38;5;28;01mimport\u001b[39;00m \u001b[38;5;21;01mio\u001b[39;00m\n\u001b[1;32m---> 13\u001b[0m \u001b[38;5;28;01mimport\u001b[39;00m \u001b[38;5;21;01mmatplotlib\u001b[39;00m \u001b[38;5;28;01mas\u001b[39;00m \u001b[38;5;21;01mmpl\u001b[39;00m\n\u001b[0;32m     14\u001b[0m \u001b[38;5;28;01mimport\u001b[39;00m \u001b[38;5;21;01mmatplotlib\u001b[39;00m\u001b[38;5;21;01m.\u001b[39;00m\u001b[38;5;21;01mpyplot\u001b[39;00m \u001b[38;5;28;01mas\u001b[39;00m \u001b[38;5;21;01mplt\u001b[39;00m\n\u001b[0;32m     16\u001b[0m \u001b[38;5;66;03m# Librairies TensorFlow\u001b[39;00m\n",
            "\u001b[1;31mModuleNotFoundError\u001b[0m: No module named 'matplotlib'"
          ]
        }
      ],
      "source": [
        "# Librairies generales\n",
        "import os\n",
        "import os.path\n",
        "import sys\n",
        "import time\n",
        "from datetime import datetime\n",
        "from IPython.display import display\n",
        "\n",
        "# Librairies data science\n",
        "import pandas as pd\n",
        "from PIL import Image\n",
        "import numpy as np\n",
        "import io\n",
        "import matplotlib as mpl\n",
        "import matplotlib.pyplot as plt\n",
        "\n",
        "# Librairies TensorFlow\n",
        "import tensorflow as tf\n",
        "from tensorflow.keras.applications.mobilenet_v2 import MobileNetV2, preprocess_input\n",
        "from tensorflow.keras.preprocessing.image import img_to_array\n",
        "from tensorflow.keras import Model\n",
        "\n",
        "# Librairies Spark\n",
        "from pyspark.sql.functions import col, pandas_udf, PandasUDFType, element_at, split\n",
        "from pyspark.ml.feature import PCA\n",
        "from pyspark.sql.functions import udf\n",
        "from pyspark.ml.linalg import Vectors, VectorUDT\n",
        "\n",
        "# AWS S3\n",
        "import boto3\n",
        "\n",
        "# Versions\n",
        "print(\"Interpréteur python :\")\n",
        "print(\"Python        : \" + sys.version + \"\\n\")\n",
        "\n",
        "print(\"Version des librairies utilisées :\")\n",
        "print(\"Boto3         : \" + boto3.__version__)\n",
        "print(\"Matplotlib    : \" + mpl.__version__)\n",
        "print(\"NumPy         : \" + np.__version__)\n",
        "print(\"Pandas        : \" + pd.__version__)\n",
        "print(\"Pillow (Image): \" + Image.__version__)\n",
        "print(\"Tensorflow    : \" + tf.__version__)\n",
        "\n",
        "# Afficher heure lancement\n",
        "maintenant = datetime.now().isoformat()\n",
        "print(\"\\nCode lance le : \" + maintenant)\n",
        "\n",
        "# Enregistrer l'heure de debut\n",
        "start_time = time.time()"
      ]
    },
    {
      "cell_type": "markdown",
      "metadata": {
        "id": "vJyWqCpdMCyg"
      },
      "source": [
        "<u>Fonction</u>"
      ]
    },
    {
      "cell_type": "code",
      "execution_count": null,
      "metadata": {
        "id": "6hGIn9YaMCyg"
      },
      "outputs": [],
      "source": [
        "def calculer_duree_notebook(start_time):\n",
        "    \"\"\"\n",
        "    Cette procédure calcule et affiche la durée d'éxécution du notebook.\n",
        "\n",
        "    Args:\n",
        "        start_time (float): Le temps de début en secondes depuis l'époque.\n",
        "\n",
        "    Returns:\n",
        "        None\n",
        "    \"\"\"\n",
        "    # Calculer la durée totale et convertir en minutes et secondes\n",
        "    minutes, seconds = divmod(time.time() - start_time, 60)\n",
        "\n",
        "    # Afficher la durée totale\n",
        "    print(f\"Durée execution notebook : {int(minutes)} min {int(seconds)} sec\")"
      ]
    },
    {
      "cell_type": "code",
      "execution_count": null,
      "metadata": {
        "id": "2jzLF4XxMCyg"
      },
      "outputs": [],
      "source": [
        "def calculer_variance_expliquee(model_fitted, nbr_composante, modulo=20):\n",
        "    \"\"\"\n",
        "    Cette fonction calcule la variance totale et la variance cumulative\n",
        "    expliquée par chaque composante principale.\n",
        "    Elle imprime la variance expliquée pour chaque multiple de x composantes.\n",
        "\n",
        "    :param model_fitted: Le modèle PCA ajusté.\n",
        "    :param nbr_composante: Le nombre total de composantes principales.\n",
        "    :param modulo : le nombre du modulo pour print les variances expliquées\n",
        "    :return: Une liste de tuples, où chaque tuple contient le nombre de\n",
        "    composantes et la variance cumulative expliquée.\n",
        "    \"\"\"\n",
        "    # Calculer la variance totale\n",
        "    total_variance = sum(model_fitted.explainedVariance)\n",
        "    print(\"Variance Totale: \", round(total_variance, 3))\n",
        "\n",
        "    # Calculer la somme cumulative des variances expliquées\n",
        "    cumulative_variance = np.cumsum(model_fitted.explainedVariance)\n",
        "\n",
        "    # Créer table de la variance expliquée pour chaque ensemble de composantes\n",
        "    explained_variance_table = []\n",
        "    for i in range(1, nbr_composante, 1):\n",
        "        explained_variance = cumulative_variance[i] / total_variance\n",
        "        explained_variance_table.append((i, explained_variance))\n",
        "\n",
        "        # print que les multiples du modulo\n",
        "        if i % modulo == 0:\n",
        "            print(\n",
        "                f\"Variance expliquée avec {i} composantes: {explained_variance:.3f}\"\n",
        "            )\n",
        "\n",
        "    return explained_variance_table"
      ]
    },
    {
      "cell_type": "markdown",
      "metadata": {
        "id": "nz4dFFrkMCyg"
      },
      "source": [
        "<u>Définition des PATH pour charger les images et enregistrer les résultats</u>\n",
        "\n",
        "Nous accédons directement à nos **données sur S3** comme si elles étaient **stockées localement**."
      ]
    },
    {
      "cell_type": "code",
      "execution_count": null,
      "metadata": {
        "id": "cgf-6cRRMCyg"
      },
      "outputs": [],
      "source": [
        "# Afficher le répertoire de travail actuel\n",
        "print(\"Current directory :\", os.getcwd())\n",
        "\n",
        "# Définir le répertoire de travail\n",
        "PATH = 's3://pb-ocr-p9'\n",
        "\n",
        "# Création des noms des répertoires\n",
        "PATH_Data = PATH + '/Test'\n",
        "PATH_Result = PATH + '/Results'\n",
        "PATH_Result_features = PATH_Result + '/features_parquet'\n",
        "PATH_Result_pca_parquet = PATH_Result + '/pca_parquet'\n",
        "PATH_Result_pca_csv = PATH_Result + '/pca_csv'\n",
        "\n",
        "# Liste des répertoires\n",
        "paths = [\n",
        "    PATH_Data,\n",
        "    PATH_Result,\n",
        "    PATH_Result_features,\n",
        "    PATH_Result_pca_parquet,\n",
        "    PATH_Result_pca_csv\n",
        "]\n",
        "\n",
        "# Afficher les répertoires\n",
        "print(\n",
        "    'PATH:        ' + PATH +\\\n",
        "    '\\nPATH_Data:   ' + PATH_Data +\\\n",
        "    '\\nPATH_Result:   ' + PATH_Result +\\\n",
        "    '\\nPATH_Result_features: '+ PATH_Result_features +\\\n",
        "    '\\nPATH_Result_pca_parquet: '+ PATH_Result_pca_parquet +\\\n",
        "    '\\nPATH_Result_pca_csv: '+ PATH_Result_pca_csv\n",
        ")"
      ]
    },
    {
      "cell_type": "markdown",
      "metadata": {
        "id": "sH_MXmXjMCyg"
      },
      "source": [
        "<u>Chargement des données</u>"
      ]
    },
    {
      "cell_type": "code",
      "execution_count": null,
      "metadata": {
        "id": "JxCTdRLEMCyh"
      },
      "outputs": [],
      "source": [
        "# Charger les images dans un DataFrame Spark\n",
        "images = spark.read.format(\"binaryFile\") \\\n",
        "    .option(\"pathGlobFilter\", \"*.jpg\") \\\n",
        "    .option(\"recursiveFileLookup\", \"true\") \\\n",
        "    .load(PATH_Data)\n",
        "\n",
        "# Ajout de la col label à partir du nom du dernier dossier contenant l'image\n",
        "images = images.withColumn('label', element_at(split(images['path'], '/'), -2))\n",
        "\n",
        "# Afficher le schema et les 5 premières lignes\n",
        "print(\"Voici le schema du DataFrame :\")\n",
        "print(images.printSchema())\n",
        "\n",
        "print(\"Voici les 5 premières lignes du DataFrame :\")\n",
        "print(images.show(5))\n",
        "\n",
        "print(\"Nombre de lignes/image dans le DataFrame : \", images.count())"
      ]
    },
    {
      "cell_type": "markdown",
      "metadata": {
        "id": "dZ4uziOnMCyh"
      },
      "source": [
        "<u>Préparation du modèle</u>"
      ]
    },
    {
      "cell_type": "code",
      "execution_count": null,
      "metadata": {
        "id": "pZAN8z7uMCyh"
      },
      "outputs": [],
      "source": [
        "model = MobileNetV2(\n",
        "    weights='imagenet',\n",
        "    include_top=True,\n",
        "    input_shape=(224, 224, 3)\n",
        ")"
      ]
    },
    {
      "cell_type": "code",
      "execution_count": null,
      "metadata": {
        "id": "PY6np9JxMCyi"
      },
      "outputs": [],
      "source": [
        "new_model = Model(\n",
        "    inputs=model.input,\n",
        "    outputs=model.layers[-2].output\n",
        ")"
      ]
    },
    {
      "cell_type": "code",
      "execution_count": null,
      "metadata": {
        "id": "l-eWcTvJMCyi"
      },
      "outputs": [],
      "source": [
        "broadcast_weights = sc.broadcast(new_model.get_weights())"
      ]
    },
    {
      "cell_type": "code",
      "execution_count": null,
      "metadata": {
        "id": "rZhfuJkuMCyi"
      },
      "outputs": [],
      "source": [
        "new_model.summary()"
      ]
    },
    {
      "cell_type": "markdown",
      "metadata": {
        "id": "vArcIwpfMCyj"
      },
      "source": [
        "<u>Fonctions pour traitement des données</u>"
      ]
    },
    {
      "cell_type": "code",
      "execution_count": null,
      "metadata": {
        "id": "JoTFaeWwMCyj"
      },
      "outputs": [],
      "source": [
        "def model_fn():\n",
        "    \"\"\"\n",
        "    Cette fonction crée un modèle MobileNetV2 avec des poids pré-entraînés à partir d'ImageNet, retire la couche supérieure du modèle, rend toutes les couches non entraînables (c'est-à-dire, leurs poids ne seront pas mis à jour pendant l'entraînement), puis définit les poids du nouveau modèle à partir d'une valeur diffusée.\n",
        "\n",
        "    :return: Le nouveau modèle avec les poids pré-entraînés diffusés.\n",
        "    \"\"\"\n",
        "    # Créer modèle MobileNetV2 avec des poids pré-entraînés à partir d'ImageNet\n",
        "    model = MobileNetV2(\n",
        "        weights='imagenet',\n",
        "        include_top=True,\n",
        "        input_shape=(224, 224, 3)\n",
        "    )\n",
        "\n",
        "    # Rendre les couches non entraînables\n",
        "    for layer in model.layers:\n",
        "        layer.trainable = False\n",
        "\n",
        "    # création nouveau modèle sans la dernière couche\n",
        "    new_model = Model(\n",
        "        inputs=model.input,\n",
        "        outputs=model.layers[-2].output\n",
        "    )\n",
        "\n",
        "    # transmettre les poids du modèle\n",
        "    new_model.set_weights(broadcast_weights.value)\n",
        "    print(\"Broadcast des poids du modèle effectué\")\n",
        "\n",
        "    return new_model"
      ]
    },
    {
      "cell_type": "code",
      "execution_count": null,
      "metadata": {
        "id": "368zot8pMCyj"
      },
      "outputs": [],
      "source": [
        "def preprocess(content):\n",
        "    \"\"\"\n",
        "    Cette fonction charge une image à partir des données brutes, redimensionne\n",
        "    l'image à une taille de 224x224 pixels, la convertit en un tableau numpy,\n",
        "    puis applique la fonction de prétraitement de MobileNetV2.\n",
        "\n",
        "    :param content: Les données brutes de l'image à prétraiter.\n",
        "\n",
        "    :return: Le tableau numpy de l'image prétraitée.\n",
        "    \"\"\"\n",
        "    # Chargement de l'image et redimensionnement à 224x224\n",
        "    img = Image.open(io.BytesIO(content)).resize([224, 224])\n",
        "\n",
        "    # Conversion en tableau numpy\n",
        "    arr = img_to_array(img)\n",
        "\n",
        "    # Application de la fonction preprocess_input de MobileNetV2\n",
        "    return preprocess_input(arr)"
      ]
    },
    {
      "cell_type": "code",
      "execution_count": null,
      "metadata": {
        "id": "XRyK5N0sMCyj"
      },
      "outputs": [],
      "source": [
        "def featurize_series(model, content_series):\n",
        "    \"\"\"\n",
        "    Effectue une caractérisation (featurization) d'une pd.Series d'images\n",
        "    brutes en utilisant le modèle en entrée.\n",
        "\n",
        "    :param model: Un modèle de deep learning pré-entraîné pour la\n",
        "    caractérisation des images.\n",
        "    :param content_series: Une pd.Series contenant des images brutes à\n",
        "    caractériser.\n",
        "\n",
        "    :return: Une pd.Series où chaque élément est un vecteur unidimensionnel\n",
        "    de caractéristiques d'image.\n",
        "    \"\"\"\n",
        "    # Application prétraitement à chaque image brute et empilement dans array\n",
        "    input = np.stack(content_series.map(preprocess))\n",
        "\n",
        "    # Utilisation du modèle pour prédire les caractéristiques de l'image\n",
        "    preds = model.predict(input)\n",
        "\n",
        "    # Applatissement des caractéristiques en 1 vecteur 1D (besoin pour Spark)\n",
        "    output = [p.flatten() for p in preds]\n",
        "\n",
        "    # Conversion en pd.Series\n",
        "    return pd.Series(output)"
      ]
    },
    {
      "cell_type": "code",
      "execution_count": null,
      "metadata": {
        "id": "XZ6B5oZuMCyj"
      },
      "outputs": [],
      "source": [
        "# Decorateur pour définir une UDF pandas de type Scalar Iterator\n",
        "@pandas_udf('array<float>', PandasUDFType.SCALAR_ITER)\n",
        "\n",
        "def featurize_udf(content_series_iter):\n",
        "    '''\n",
        "    Cette méthode est une UDF pandas de type Scalar Iterator qui enveloppe\n",
        "    notre fonction de featurisation. Le décorateur spécifie qu'elle renvoie\n",
        "    une colonne de DataFrame Spark de type ArrayType(FloatType).\n",
        "\n",
        "    :param content_series_iter: Cet argument est un itérateur sur des lots de\n",
        "    données, où chaque lot est une série pandas de données d'image.\n",
        "    '''\n",
        "    # Charger le modèle une fois  (réutiliser pour plusieurs lots de données)\n",
        "    model = model_fn()\n",
        "\n",
        "    # POUR chaque lot de données\n",
        "    for content_series in content_series_iter:\n",
        "        print(\"Lot de données de taille : \", content_series.shape)\n",
        "\n",
        "        # Application de la fonction de featurisation (du modele sur le lot)\n",
        "        yield featurize_series(model, content_series)"
      ]
    },
    {
      "cell_type": "markdown",
      "metadata": {
        "id": "FtuCYgXFMCyj"
      },
      "source": [
        "<u>Extraction des features</u>"
      ]
    },
    {
      "cell_type": "code",
      "execution_count": null,
      "metadata": {
        "id": "kS2QndU3MCyk"
      },
      "outputs": [],
      "source": [
        "# 20 partitions + select col path & label + featurize & rename col content\n",
        "features_df = images.repartition(20).select(\n",
        "    col(\"path\"),\n",
        "    col(\"label\"),\n",
        "    featurize_udf(\"content\").alias(\"features\")\n",
        ")\n",
        "print(\"\\nFeatures calculées\")"
      ]
    },
    {
      "cell_type": "markdown",
      "metadata": {
        "id": "3C0iVxW8MCyk"
      },
      "source": [
        "<u>Sauvegarde des features</u>"
      ]
    },
    {
      "cell_type": "code",
      "execution_count": null,
      "metadata": {
        "id": "pbGiMUuFMCyk"
      },
      "outputs": [],
      "source": [
        "# Sauvegarde des features en format Parquet\n",
        "features_df.write.mode(\"overwrite\").parquet(PATH_Result_features)\n",
        "print(\n",
        "    f\"Save des features effectuée dans le chemin : {PATH_Result_features}\"\n",
        ")"
      ]
    },
    {
      "cell_type": "markdown",
      "metadata": {
        "id": "PupgyYkDMCyl"
      },
      "source": [
        "<u>Chargement des données enregistrées et validation des résultats</u>"
      ]
    },
    {
      "cell_type": "code",
      "execution_count": null,
      "metadata": {
        "id": "IXw1k0y0MCyl"
      },
      "outputs": [],
      "source": [
        "features_pandas_df = pd.read_parquet(PATH_Result_features, engine='pyarrow')\n",
        "display(features_pandas_df)"
      ]
    },
    {
      "cell_type": "markdown",
      "metadata": {
        "id": "0wBd2FRPMCyl"
      },
      "source": [
        "Nous vérifions qu'il a a bien 1_280 features pour chaque image (output de la dernière couche du modèle)."
      ]
    },
    {
      "cell_type": "code",
      "execution_count": null,
      "metadata": {
        "id": "dEgVnf45MCyl"
      },
      "outputs": [],
      "source": [
        "features_pandas_df.loc[0,'features'].shape"
      ]
    },
    {
      "cell_type": "code",
      "execution_count": null,
      "metadata": {
        "id": "s5h7obEyMCyl"
      },
      "outputs": [],
      "source": [
        "features_pandas_df.shape"
      ]
    },
    {
      "cell_type": "markdown",
      "metadata": {
        "id": "AOW1OoKmMCyl"
      },
      "source": [
        "<u>Encapsulation des features dans un array</u>"
      ]
    },
    {
      "cell_type": "code",
      "execution_count": null,
      "metadata": {
        "id": "ollowh_4MCym"
      },
      "outputs": [],
      "source": [
        "# Fonction udf pour transformer un array en VectorUDT\n",
        "array_to_vector_udf = udf(lambda arr: Vectors.dense(arr), VectorUDT())\n",
        "\n",
        "# Ajouter une colonne de features_array\n",
        "features_df = features_df.withColumn(\n",
        "    \"features_array\", array_to_vector_udf(col(\"features\"))\n",
        ")\n",
        "\n",
        "# Afficher le dataframe\n",
        "features_df.show()"
      ]
    },
    {
      "cell_type": "markdown",
      "metadata": {
        "id": "FiL35aO-MCym"
      },
      "source": [
        "<u>Réduction de dimension ACP</u>"
      ]
    },
    {
      "cell_type": "code",
      "execution_count": null,
      "metadata": {
        "id": "ni8HD5yTMCym"
      },
      "outputs": [],
      "source": [
        "# Nombre de composantes de l'ACP\n",
        "nbr_composante = 200\n",
        "\n",
        "# Créer un objet PCA, entrainement et transformation\n",
        "pca = PCA(\n",
        "    k=nbr_composante,\n",
        "    inputCol=\"features_array\",\n",
        "    outputCol=\"pca_features\"\n",
        ")\n",
        "model_fitted = pca.fit(features_df)\n",
        "pca_result_df = model_fitted.transform(features_df)\n",
        "\n",
        "# Calculer la variance totale et la variance cumulative expliquée\n",
        "explained_variance_table = calculer_variance_expliquee(\n",
        "    model_fitted,\n",
        "    nbr_composante\n",
        ")\n",
        "\n",
        "# Enregistrer les résultats de l'ACP en format parquet\n",
        "pca_result_df.write.mode('overwrite').parquet(PATH_Result_pca_parquet)\n",
        "print(\"\\nLes résultats de l'ACP ont été sauvegardés\")\n",
        "\n",
        "# Afficher les dimensions du dataframe des résultats de l'ACP\n",
        "print(\"Number of rows: \", pca_result_df.count())\n",
        "print(\"Number of columns: \", len(pca_result_df.columns))\n",
        "print(pca_result_df.columns)"
      ]
    },
    {
      "cell_type": "markdown",
      "metadata": {
        "id": "zUK-vsv5MCym"
      },
      "source": [
        "<u>Création fichier csv</u>"
      ]
    },
    {
      "cell_type": "code",
      "execution_count": null,
      "metadata": {
        "id": "e9ZjMlcnMCym"
      },
      "outputs": [],
      "source": [
        "# Charger les résultats de l'ACP dans un DataFrame Pandas\n",
        "df_result_pca = pd.read_parquet(PATH_Result_pca_parquet, engine='pyarrow')\n",
        "display(df_result_pca.head())"
      ]
    },
    {
      "cell_type": "code",
      "execution_count": null,
      "metadata": {
        "id": "_S91GGD2MCyn"
      },
      "outputs": [],
      "source": [
        "# Afficher les valeurs de la première ligne de la colonne pca_features\n",
        "df_result_pca.loc[0, 'pca_features']['values']"
      ]
    },
    {
      "cell_type": "code",
      "execution_count": null,
      "metadata": {
        "id": "EkvJL2UzMCyn"
      },
      "outputs": [],
      "source": [
        "# Creation d'une colonne 'values' contenant les valeurs des composantes\n",
        "df_result_pca['values'] = df_result_pca['pca_features'].apply(\n",
        "    lambda x: x['values']\n",
        ")\n",
        "\n",
        "# Convertion de la colonne 'values' en Series\n",
        "values_df = df_result_pca['values'].apply(pd.Series)\n",
        "\n",
        "# Création du chemin du fichier CSV\n",
        "csv_path = os.path.join(PATH_Result_pca_csv, 'values_pca.csv')\n",
        "\n",
        "# Export du dataframe en fichier CSV\n",
        "values_df.to_csv(csv_path, index=False)\n",
        "\n",
        "# Afficher un message de confirmation\n",
        "print(\n",
        "    f\"Le df a été exporté en fichier CSV à l'emplacement suivant : {csv_path}\"\n",
        ")"
      ]
    },
    {
      "cell_type": "markdown",
      "metadata": {
        "id": "tJCYsBtFMCyn"
      },
      "source": [
        "<u>Vérification fichier csv</u>"
      ]
    },
    {
      "cell_type": "code",
      "execution_count": null,
      "metadata": {
        "id": "eiht09gXMCyn"
      },
      "outputs": [],
      "source": [
        "values_pca_df = pd.read_csv(csv_path)\n",
        "display(values_pca_df)"
      ]
    },
    {
      "cell_type": "markdown",
      "metadata": {
        "id": "FP3wyBUiMCyn"
      },
      "source": [
        "## <span style='background:green'>11/Suivi de l'avancement des tâches avec le Serveur d'Historique Spark</span>\n",
        "\n",
        "Grâce au **tunnel ssh** et à **FoxyProxy**, nous pouvons accéder au **Serveur d'Historique Spark**. Nous pouvons ainsi suivre l'avancement des tâches lancées par notre script.\n",
        "\n",
        "#### <span style='background:red'>MAJ à faire</span>\n",
        "\n",
        "Nous constatons que notre cluster de calcul a mis  **moins de 8 minutes** pour traiter les **22_688 images**."
      ]
    },
    {
      "cell_type": "markdown",
      "metadata": {
        "id": "iBC9FRWpMCyn"
      },
      "source": [
        "## <span style='background:green'>12/Résiliation de l'instance EMR</span>\n",
        "\n",
        "Notre travail est maintenant terminé.\n",
        "\n",
        "Le cluster de machines EMR est **facturé à la demande**, et nous continuons d'être facturé même lorsque <br />\n",
        "les machines sont au repos. Pour **optimiser la facturation**, il nous faut maintenant **résilier le cluster**."
      ]
    },
    {
      "cell_type": "markdown",
      "metadata": {
        "id": "pRgqvEGLMCyo"
      },
      "source": [
        "## <span style='background:green'>13/Cloner le serveur EMR (si besoin)</span>\n",
        "\n",
        "Si nous devons de nouveau exécuter notre notebook dans les mêmes conditions, il nous suffit de **cloner notre cluster** et ainsi en obtenir une copie fonctionnelle sous 15/20 minutes, le temps de son instanciation."
      ]
    },
    {
      "cell_type": "markdown",
      "metadata": {
        "id": "8couqP_UMCyo"
      },
      "source": [
        "## <span style='background:green'>14/Arborescence du serveur S3 à la fin du projet</span>\n",
        "\n",
        "<u>Pour information, voici **l'arborescence complète de mon bucket S3 pb-ocr-p9** à la fin du projet</u> : <br />\n",
        "*Par soucis de lisibilité, nous ne listons le dossier \"Test\" et\n",
        "\"elasticmapreduce_logs/\" et leurs sous-dossiers*"
      ]
    },
    {
      "cell_type": "code",
      "execution_count": null,
      "metadata": {},
      "outputs": [],
      "source": [
        "# Création d'une connexion à S3\n",
        "s3 = boto3.resource('s3')\n",
        "\n",
        "# Extraire le nom du bucket à partir du chemin\n",
        "bucket_name = PATH.split('//')[1]\n",
        "\n",
        "# Définir le bucket S3 à analyser\n",
        "bucket = s3.Bucket(bucket_name)\n",
        "\n",
        "# POUR chaque objet dans le bucket, afficher le nom de l'objet\n",
        "for obj in bucket.objects.all():\n",
        "    print(obj.key)"
      ]
    },
    {
      "cell_type": "markdown",
      "metadata": {
        "id": "LGaU0dnBOwbZ"
      },
      "source": [
        "# <span style='background:blue'>Conclusion</span>\n",
        "\n",
        "Ici"
      ]
    },
    {
      "cell_type": "code",
      "execution_count": 30,
      "metadata": {
        "colab": {
          "base_uri": "https://localhost:8080/"
        },
        "id": "iVaGNJktOwbZ",
        "outputId": "4b6f4e3f-23b0-4a6b-c96b-218cc208e50e"
      },
      "outputs": [
        {
          "name": "stdout",
          "output_type": "stream",
          "text": [
            "Durée execution notebook : 118 min 56 sec\n"
          ]
        }
      ],
      "source": [
        "# Afficher temps d'exécution du notebook\n",
        "calculer_duree_notebook(start_time)"
      ]
    },
    {
      "cell_type": "markdown",
      "metadata": {
        "id": "w1Obr3HAMCyo"
      },
      "source": [
        "**Sélectionner les outils du Cloud permettant de traiter et stocker les données d'un projet Big Data conforme aux normes RGPD en vigueur afin de concevoir une application de qualité supportant le traitement de données massives.**\n",
        "- ~~CE1 Le candidat a identifié les différentes briques d'architecture nécessaires pour la mise en place\n",
        "d'un environnement Big Data.~~\n",
        "- ~~CE2 Le candidat a identifié les outils du cloud permettant de mettre en place l'environnement Big Data\n",
        "conforme aux normes RGPD en vigueur.~~"
      ]
    },
    {
      "cell_type": "markdown",
      "metadata": {
        "id": "xQOy7gNJMCyo"
      },
      "source": [
        "**Prétraiter, analyser et modéliser des données (en veillant à leur conformité RGPD) dans un environnement Big Data et en utilisant les outils du Cloud afin de concevoir une application sécurisée de qualité supportant le traitement de données massives.**\n",
        "- ~~CE1 Le candidat a chargé les fichiers de départ et ceux après transformation dans un espace de stockage cloud conforme à la réglementation RGPD.~~\n",
        "- CE2 Le candidat a exécuté les scripts en utilisant des machines dans le cloud.\n",
        "- CE3 Le candidat a réalisé un script qui permet d'écrire les sorties du programme directement dans l'espace de stockage cloud."
      ]
    },
    {
      "cell_type": "markdown",
      "metadata": {
        "id": "12G5NTRMMCyo"
      },
      "source": [
        "**Réaliser des calculs distribués sur des données massives en utilisant les outils adaptés et en prenant en compte le RGPD afin de permettre la mise en oeuvre d’applications à l’échelle.**\n",
        "- CE1 Le candidat a identifié les traitements critiques lors d'un passage à l'échelle en termes de volume de données.\n",
        "- ~~CE2 Le candidat veille à ce que l’exploitation des données soit conforme au RGPD. Dans le cadre de ce projet :~~\n",
        "    - ~~les données sont stockées, et les traitements sont réalisés, sur des serveurs situés sur le territoire européen~~\n",
        "- ~~CE3 Le candidat a développé les scripts s’appuyant sur Spark.~~\n",
        "- CE4 Le candidat s'est assuré que toute la chaîne de traitement est exécutée dans le cloud."
      ]
    }
  ],
  "metadata": {
    "accelerator": "GPU",
    "colab": {
      "gpuType": "T4",
      "include_colab_link": true,
      "provenance": []
    },
    "kernelspec": {
      "display_name": "Python 3",
      "name": "python3"
    },
    "language_info": {
      "codemirror_mode": {
        "name": "ipython",
        "version": 3
      },
      "file_extension": ".py",
      "mimetype": "text/x-python",
      "name": "python",
      "nbconvert_exporter": "python",
      "pygments_lexer": "ipython3",
      "version": "3.11.5"
    }
  },
  "nbformat": 4,
  "nbformat_minor": 0
}
